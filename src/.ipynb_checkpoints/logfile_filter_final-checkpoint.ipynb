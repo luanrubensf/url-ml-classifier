{
 "cells": [
  {
   "cell_type": "code",
   "execution_count": null,
   "metadata": {
    "collapsed": true
   },
   "outputs": [],
   "source": [
    "import os\n",
    "import re\n",
    "\n",
    "from pymongo import MongoClient"
   ]
  },
  {
   "cell_type": "code",
   "execution_count": null,
   "metadata": {
    "collapsed": true
   },
   "outputs": [],
   "source": [
    "#Configuração para o mongo db\n",
    "client = MongoClient()\n",
    "#inicia a conexão\n",
    "client = MongoClient('localhost', 27800)\n",
    "\n",
    "#busca o db chamado network_logs\n",
    "db = client.network_logs\n",
    "\n",
    "#coleção chamada log_lines, do db network_logs\n",
    "db_log_lines = db.log_lines"
   ]
  },
  {
   "cell_type": "code",
   "execution_count": null,
   "metadata": {
    "collapsed": true
   },
   "outputs": [],
   "source": [
    "def insert_item_mongo(item):\n",
    "    db_log_lines.insert_one(item)"
   ]
  },
  {
   "cell_type": "code",
   "execution_count": null,
   "metadata": {
    "collapsed": false
   },
   "outputs": [],
   "source": [
    "'''\n",
    "Busca todos os arquivos .log em determinado diretório\n",
    "'''\n",
    "\n",
    "filepath = '../nlogs'\n",
    "filelist = []\n",
    "for filename in os.listdir(filepath):\n",
    "    if '.log' in filename and '.gz' not in filename:\n",
    "        filelist.append(filename)\n",
    "filelist"
   ]
  },
  {
   "cell_type": "code",
   "execution_count": null,
   "metadata": {
    "collapsed": true
   },
   "outputs": [],
   "source": [
    "splits = ['\"hostname=\"\"', '\"service=\"\"', '\"url=\"\"', '\"catdesc=\"\"']"
   ]
  },
  {
   "cell_type": "code",
   "execution_count": null,
   "metadata": {
    "collapsed": false,
    "scrolled": false
   },
   "outputs": [],
   "source": [
    "logsList = []\n",
    "contador = 0\n",
    "for filename in filelist:\n",
    "    with open(os.path.join(filepath,filename), 'r', encoding='latin-1') as f: ##Abre arquivo em modo de leitura\n",
    "        try:\n",
    "            for txtline in f:\n",
    "                contador += 1\n",
    "                if '\"hostname=\"' and '\"catdesc=\"' in txtline: ## Verifica se a linha tem hostname e catdesc\n",
    "                    obj = {}\n",
    "                    for sp in splits:\n",
    "                        prop = txtline.split(sp)[-1].split('\"')[0]\n",
    "                        prop_name = sp.replace('\"', '').replace('=', '')\n",
    "                        obj[prop_name] = prop\n",
    "\n",
    "                    logsList.insert(len(logsList), obj)\n",
    "                    insert_item_mongo(obj)\n",
    "        except ValueError:\n",
    "            print('============ Erro =============')\n",
    "            print(ValueError)\n",
    "            print(f)\n",
    "            print(contador)\n",
    "            break\n"
   ]
  },
  {
   "cell_type": "code",
   "execution_count": null,
   "metadata": {
    "collapsed": false
   },
   "outputs": [],
   "source": [
    "#649849\n",
    "#641807\n",
    "#655300\n",
    "#461217\n",
    "#2408173\n",
    "print(649849 + 641807 + 655300 + 461217)"
   ]
  },
  {
   "cell_type": "code",
   "execution_count": null,
   "metadata": {
    "collapsed": true
   },
   "outputs": [],
   "source": []
  }
 ],
 "metadata": {
  "kernelspec": {
   "display_name": "Python 3",
   "language": "python",
   "name": "python3"
  },
  "language_info": {
   "codemirror_mode": {
    "name": "ipython",
    "version": 3
   },
   "file_extension": ".py",
   "mimetype": "text/x-python",
   "name": "python",
   "nbconvert_exporter": "python",
   "pygments_lexer": "ipython3",
   "version": "3.6.0"
  }
 },
 "nbformat": 4,
 "nbformat_minor": 2
}

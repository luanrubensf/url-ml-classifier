{
 "cells": [
  {
   "cell_type": "code",
   "execution_count": null,
   "metadata": {
    "collapsed": false
   },
   "outputs": [],
   "source": [
    "import re\n",
    "\n",
    "splitPattern = re.compile('([a-z])+(?=[=])')"
   ]
  },
  {
   "cell_type": "code",
   "execution_count": 2,
   "metadata": {
    "collapsed": false
   },
   "outputs": [],
   "source": [
    "#Arquivo original de log, será trabalho com um exemplo por enquanto, para ter um procesamento mais rápido\n",
    "logFile = open(\"../../FGTADOM3_tlog_from_2017-01-01_00-01-05_to_2017-06-30_23-59-05.txt.log\")"
   ]
  },
  {
   "cell_type": "code",
   "execution_count": 4,
   "metadata": {
    "collapsed": false
   },
   "outputs": [
    {
     "name": "stdout",
     "output_type": "stream",
     "text": [
      "date=2017-07-01 time=00:06:37 bid=15052397 itime=1498877945 logver=54 logid=0000000013 type=traffic subtype=forward level=notice vd=root devid=FGT6HD3915800033 action=close trandisp=dnat srcport=56622 dstport=80 tranport=80 srcip=66.249.64.146 dstip=177.54.50.207 tranip=10.1.1.232 service=HTTP proto=6 duration=5 policyid=2 sentbyte=947 rcvdbyte=8976 sentpkt=11 rcvdpkt=10 srcintf=port15 dstintf=port9 sessionid=288168040 wanin=8448 wanout=367 lanin=367 lanout=8448 app=HTTP appcat=unscanned dstcountry=Brazil srccountry=\"United States\" policytype=policy\n",
      "\n"
     ]
    }
   ],
   "source": [
    "#Ler o arquivo do disco\n",
    "#logFile = open(\"Firewall.log\")\n",
    "\n",
    "#lines=logFile.readlines()\n",
    "#print(lines[12898])\n",
    "\n",
    "\n",
    "for line in logFile:\n",
    "    print(line)\n",
    "    break"
   ]
  },
  {
   "cell_type": "markdown",
   "metadata": {},
   "source": [
    "Será efetuada a leitura de todas as propriedades distintas dos dados, visando obter quais são as propriedades disponíveis. Com isso, temos um array com todas as propriedades que aparecem no log de dados."
   ]
  },
  {
   "cell_type": "code",
   "execution_count": 4,
   "metadata": {
    "collapsed": true
   },
   "outputs": [],
   "source": [
    "def get_distinct_properties(fileToScan):\n",
    "    propertiesList = []\n",
    "    for line in fileToScan:\n",
    "        properties = re.finditer(splitPattern, line)\n",
    "        for prop in properties:\n",
    "            name_prop = prop.group().split('=')[0].replace('\"', '')\n",
    "            if name_prop != '' and not name_prop.isspace() and name_prop not in propertiesList:\n",
    "                propertiesList.insert(len(propertiesList), name_prop)\n",
    "    return propertiesList"
   ]
  },
  {
   "cell_type": "code",
   "execution_count": 5,
   "metadata": {
    "collapsed": false
   },
   "outputs": [],
   "source": [
    "logProperties = get_distinct_properties(logFile)"
   ]
  },
  {
   "cell_type": "code",
   "execution_count": 6,
   "metadata": {
    "collapsed": false
   },
   "outputs": [
    {
     "data": {
      "text/plain": [
       "['date',\n",
       " 'time',\n",
       " 'bid',\n",
       " 'itime',\n",
       " 'logver',\n",
       " 'logid',\n",
       " 'type',\n",
       " 'subtype',\n",
       " 'level',\n",
       " 'vd',\n",
       " 'devid',\n",
       " 'action',\n",
       " 'trandisp',\n",
       " 'srcport',\n",
       " 'dstport',\n",
       " 'srcip',\n",
       " 'dstip',\n",
       " 'service',\n",
       " 'proto',\n",
       " 'duration',\n",
       " 'policyid',\n",
       " 'sentbyte',\n",
       " 'rcvdbyte',\n",
       " 'sentpkt',\n",
       " 'srcintf',\n",
       " 'dstintf',\n",
       " 'sessionid',\n",
       " 'app',\n",
       " 'appcat',\n",
       " 'dstcountry',\n",
       " 'devtype',\n",
       " 'mastersrcmac',\n",
       " 'srcmac',\n",
       " 'srccountry',\n",
       " 'crscore',\n",
       " 'craction',\n",
       " 'threats',\n",
       " 'threatlvls',\n",
       " 'threattyps',\n",
       " 'threatcnts',\n",
       " 'threatwgts',\n",
       " 'crlevel',\n",
       " 'policytype',\n",
       " 'tranport',\n",
       " 'tranip',\n",
       " 'rcvdpkt',\n",
       " 'wanin',\n",
       " 'wanout',\n",
       " 'lanin',\n",
       " 'lanout',\n",
       " 'dstname',\n",
       " 'transip',\n",
       " 'transport',\n",
       " 'applist',\n",
       " 'appid',\n",
       " 'utmaction',\n",
       " 'apprisk',\n",
       " 'countapp',\n",
       " 'apps',\n",
       " 'saasinfo',\n",
       " 'utmref',\n",
       " 'user',\n",
       " 'countweb',\n",
       " 'hostname',\n",
       " 'catdesc',\n",
       " 'ebtime',\n",
       " 'k',\n",
       " 'shaperdropsentbyte',\n",
       " 'shapersentname',\n",
       " 'shaperdroprcvdbyte',\n",
       " 'shaperrcvdname',\n",
       " 'shapingpolicyid',\n",
       " 'appact',\n",
       " 'sslexempt',\n",
       " 'lk',\n",
       " 'group',\n",
       " 'countips']"
      ]
     },
     "execution_count": 6,
     "metadata": {},
     "output_type": "execute_result"
    }
   ],
   "source": [
    "logProperties"
   ]
  },
  {
   "cell_type": "code",
   "execution_count": null,
   "metadata": {
    "collapsed": true
   },
   "outputs": [],
   "source": [
    ""
   ]
  }
 ],
 "metadata": {
  "kernelspec": {
   "display_name": "Python 3",
   "language": "python",
   "name": "python3"
  },
  "language_info": {
   "codemirror_mode": {
    "name": "ipython",
    "version": 3.0
   },
   "file_extension": ".py",
   "mimetype": "text/x-python",
   "name": "python",
   "nbconvert_exporter": "python",
   "pygments_lexer": "ipython3",
   "version": "3.6.0"
  }
 },
 "nbformat": 4,
 "nbformat_minor": 0
}
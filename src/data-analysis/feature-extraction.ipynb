{
 "cells": [
  {
   "cell_type": "markdown",
   "metadata": {},
   "source": [
    "### Analisando diferentes características no data set\n",
    "\n",
    "Analisando diferentes características no data set, como trigrams, tamanho da URL, quantidade de números, etc.\n",
    "Todas as caracterísitcas são unidas em uma única matriz. \n",
    "Embora sejam analisadas várias características, foi optado por utilizar somente os trigrams das URLs."
   ]
  },
  {
   "cell_type": "code",
   "execution_count": 1,
   "metadata": {
    "collapsed": false
   },
   "outputs": [],
   "source": [
    "import pandas as pd\n",
    "import matplotlib.pyplot as plt\n",
    "import numpy as np\n",
    "import re\n",
    "import nltk\n",
    "\n",
    "%matplotlib inline"
   ]
  },
  {
   "cell_type": "code",
   "execution_count": 2,
   "metadata": {
    "collapsed": true
   },
   "outputs": [],
   "source": [
    "random_state = 47\n",
    "np.random.seed(seed=random_state)"
   ]
  },
  {
   "cell_type": "code",
   "execution_count": 3,
   "metadata": {
    "collapsed": false
   },
   "outputs": [
    {
     "name": "stdout",
     "output_type": "stream",
     "text": [
      "Data set len:  1562975\n",
      "                                                 url category\n",
      "1                   http://www.liquidgeneration.com/    Adult\n",
      "2                        http://www.onlineanime.org/    Adult\n",
      "3  http://www.ceres.dti.ne.jp/~nekoi/senno/senfir...    Adult\n",
      "4                         http://www.galeon.com/kmh/    Adult\n",
      "5                        http://www.fanworkrecs.com/    Adult\n"
     ]
    }
   ],
   "source": [
    "df = pd.read_csv('./dmoz.csv', header=None, names=['url', 'category'])\n",
    "\n",
    "df = df.dropna()\n",
    "\n",
    "print('Data set len: ', len(df))\n",
    "\n",
    "print(df.head())"
   ]
  },
  {
   "cell_type": "code",
   "execution_count": 4,
   "metadata": {
    "collapsed": true
   },
   "outputs": [],
   "source": [
    "dict_cat = {\n",
    "    'Adult': 0,\n",
    "    'Arts': 1,\n",
    "    'Business': 2,\n",
    "    'Computers': 3,\n",
    "    'Games': 4,\n",
    "    'Health': 5,\n",
    "    'Home': 6,\n",
    "    'Kids': 7,\n",
    "    'News': 8,\n",
    "    'Recreation': 9,\n",
    "    'Reference': 10,\n",
    "    'Science': 11,\n",
    "    'Shopping': 12,\n",
    "    'Society': 13,\n",
    "    'Sports': 14\n",
    "}\n",
    "\n",
    "def to_category_id(item):\n",
    "    return dict_cat[item]"
   ]
  },
  {
   "cell_type": "code",
   "execution_count": 5,
   "metadata": {
    "collapsed": false
   },
   "outputs": [
    {
     "name": "stdout",
     "output_type": "stream",
     "text": [
      "                                                 url category  cat_id\n",
      "1                   http://www.liquidgeneration.com/    Adult       0\n",
      "2                        http://www.onlineanime.org/    Adult       0\n",
      "3  http://www.ceres.dti.ne.jp/~nekoi/senno/senfir...    Adult       0\n",
      "4                         http://www.galeon.com/kmh/    Adult       0\n",
      "5                        http://www.fanworkrecs.com/    Adult       0\n"
     ]
    }
   ],
   "source": [
    "df['cat_id'] = df['category'].apply(to_category_id)\n",
    "print(df.head())"
   ]
  },
  {
   "cell_type": "markdown",
   "metadata": {
    "collapsed": false
   },
   "source": [
    "### Funções auxiliares"
   ]
  },
  {
   "cell_type": "code",
   "execution_count": 6,
   "metadata": {
    "collapsed": true
   },
   "outputs": [],
   "source": [
    "def length_char(item):\n",
    "    return len(remove_special_char(item))"
   ]
  },
  {
   "cell_type": "code",
   "execution_count": 7,
   "metadata": {
    "collapsed": true
   },
   "outputs": [],
   "source": [
    "def remove_special_char(item):\n",
    "    return re.sub(r'\\W+', '', item)"
   ]
  },
  {
   "cell_type": "code",
   "execution_count": 8,
   "metadata": {
    "collapsed": false
   },
   "outputs": [],
   "source": [
    "regex_replace_http = r'(www[0-9][.])'\n",
    "def replace_http(item):\n",
    "    item_r = item.replace('http://', '').replace('https://', '').replace('www.', '')\n",
    "    return re.sub(regex_replace_http, '', item_r)"
   ]
  },
  {
   "cell_type": "code",
   "execution_count": 9,
   "metadata": {
    "collapsed": true
   },
   "outputs": [],
   "source": [
    "def qt_number(item):\n",
    "    return len(''.join(re.findall(r'[0-9]+', item)))"
   ]
  },
  {
   "cell_type": "code",
   "execution_count": 10,
   "metadata": {
    "collapsed": true
   },
   "outputs": [],
   "source": [
    "regex_split = r'[./=~?&+\\'\\\"_;-]+(?=[\\w])+'\n",
    "def qt_tokens(item):\n",
    "    return len(re.split(regex_split,item))"
   ]
  },
  {
   "cell_type": "code",
   "execution_count": 11,
   "metadata": {
    "collapsed": true
   },
   "outputs": [],
   "source": [
    "regex_split = r'[./=~?&+\\'\\\"_;-]+(?=[\\w])+'\n",
    "def average_len_tokens(item):\n",
    "    tokens = re.split(regex_split,item)\n",
    "    return sum(len(remove_special_char(token)) for token in tokens) / len(tokens)"
   ]
  },
  {
   "cell_type": "code",
   "execution_count": 12,
   "metadata": {
    "collapsed": true
   },
   "outputs": [],
   "source": [
    "def get_hostname_len(item):\n",
    "    return len(remove_special_char(item.split('/')[0]))"
   ]
  },
  {
   "cell_type": "code",
   "execution_count": 13,
   "metadata": {
    "collapsed": true
   },
   "outputs": [],
   "source": [
    "def only_char(item):\n",
    "    return re.sub('[^A-Za-z]+', '', item)"
   ]
  },
  {
   "cell_type": "code",
   "execution_count": 14,
   "metadata": {
    "collapsed": false
   },
   "outputs": [],
   "source": [
    "df['n_url'] = df['url'].apply(replace_http)"
   ]
  },
  {
   "cell_type": "code",
   "execution_count": 15,
   "metadata": {
    "collapsed": false
   },
   "outputs": [
    {
     "data": {
      "text/html": [
       "<div>\n",
       "<table border=\"1\" class=\"dataframe\">\n",
       "  <thead>\n",
       "    <tr style=\"text-align: right;\">\n",
       "      <th></th>\n",
       "      <th>url</th>\n",
       "      <th>category</th>\n",
       "      <th>cat_id</th>\n",
       "      <th>n_url</th>\n",
       "      <th>norm_url</th>\n",
       "    </tr>\n",
       "  </thead>\n",
       "  <tbody>\n",
       "    <tr>\n",
       "      <th>1</th>\n",
       "      <td>http://www.liquidgeneration.com/</td>\n",
       "      <td>Adult</td>\n",
       "      <td>0</td>\n",
       "      <td>liquidgeneration.com/</td>\n",
       "      <td>liquidgenerationcom</td>\n",
       "    </tr>\n",
       "    <tr>\n",
       "      <th>2</th>\n",
       "      <td>http://www.onlineanime.org/</td>\n",
       "      <td>Adult</td>\n",
       "      <td>0</td>\n",
       "      <td>onlineanime.org/</td>\n",
       "      <td>onlineanimeorg</td>\n",
       "    </tr>\n",
       "    <tr>\n",
       "      <th>3</th>\n",
       "      <td>http://www.ceres.dti.ne.jp/~nekoi/senno/senfir...</td>\n",
       "      <td>Adult</td>\n",
       "      <td>0</td>\n",
       "      <td>ceres.dti.ne.jp/~nekoi/senno/senfirst.html</td>\n",
       "      <td>ceresdtinejpnekoisennosenfirsthtml</td>\n",
       "    </tr>\n",
       "    <tr>\n",
       "      <th>4</th>\n",
       "      <td>http://www.galeon.com/kmh/</td>\n",
       "      <td>Adult</td>\n",
       "      <td>0</td>\n",
       "      <td>galeon.com/kmh/</td>\n",
       "      <td>galeoncomkmh</td>\n",
       "    </tr>\n",
       "    <tr>\n",
       "      <th>5</th>\n",
       "      <td>http://www.fanworkrecs.com/</td>\n",
       "      <td>Adult</td>\n",
       "      <td>0</td>\n",
       "      <td>fanworkrecs.com/</td>\n",
       "      <td>fanworkrecscom</td>\n",
       "    </tr>\n",
       "  </tbody>\n",
       "</table>\n",
       "</div>"
      ],
      "text/plain": [
       "                                                 url category  cat_id  \\\n",
       "1                   http://www.liquidgeneration.com/    Adult       0   \n",
       "2                        http://www.onlineanime.org/    Adult       0   \n",
       "3  http://www.ceres.dti.ne.jp/~nekoi/senno/senfir...    Adult       0   \n",
       "4                         http://www.galeon.com/kmh/    Adult       0   \n",
       "5                        http://www.fanworkrecs.com/    Adult       0   \n",
       "\n",
       "                                        n_url  \\\n",
       "1                       liquidgeneration.com/   \n",
       "2                            onlineanime.org/   \n",
       "3  ceres.dti.ne.jp/~nekoi/senno/senfirst.html   \n",
       "4                             galeon.com/kmh/   \n",
       "5                            fanworkrecs.com/   \n",
       "\n",
       "                             norm_url  \n",
       "1                 liquidgenerationcom  \n",
       "2                      onlineanimeorg  \n",
       "3  ceresdtinejpnekoisennosenfirsthtml  \n",
       "4                        galeoncomkmh  \n",
       "5                      fanworkrecscom  "
      ]
     },
     "execution_count": 15,
     "metadata": {},
     "output_type": "execute_result"
    }
   ],
   "source": [
    "df['norm_url'] = df['n_url'].apply(remove_special_char)\n",
    "df.head()"
   ]
  },
  {
   "cell_type": "code",
   "execution_count": 16,
   "metadata": {
    "collapsed": true
   },
   "outputs": [],
   "source": [
    "df['url_text'] = df['n_url'].apply(only_char)"
   ]
  },
  {
   "cell_type": "code",
   "execution_count": 17,
   "metadata": {
    "collapsed": false
   },
   "outputs": [
    {
     "data": {
      "text/html": [
       "<div>\n",
       "<table border=\"1\" class=\"dataframe\">\n",
       "  <thead>\n",
       "    <tr style=\"text-align: right;\">\n",
       "      <th></th>\n",
       "      <th>url</th>\n",
       "      <th>category</th>\n",
       "      <th>cat_id</th>\n",
       "      <th>n_url</th>\n",
       "      <th>norm_url</th>\n",
       "      <th>url_text</th>\n",
       "    </tr>\n",
       "  </thead>\n",
       "  <tbody>\n",
       "    <tr>\n",
       "      <th>1</th>\n",
       "      <td>http://www.liquidgeneration.com/</td>\n",
       "      <td>Adult</td>\n",
       "      <td>0</td>\n",
       "      <td>liquidgeneration.com/</td>\n",
       "      <td>liquidgenerationcom</td>\n",
       "      <td>liquidgenerationcom</td>\n",
       "    </tr>\n",
       "    <tr>\n",
       "      <th>2</th>\n",
       "      <td>http://www.onlineanime.org/</td>\n",
       "      <td>Adult</td>\n",
       "      <td>0</td>\n",
       "      <td>onlineanime.org/</td>\n",
       "      <td>onlineanimeorg</td>\n",
       "      <td>onlineanimeorg</td>\n",
       "    </tr>\n",
       "    <tr>\n",
       "      <th>3</th>\n",
       "      <td>http://www.ceres.dti.ne.jp/~nekoi/senno/senfir...</td>\n",
       "      <td>Adult</td>\n",
       "      <td>0</td>\n",
       "      <td>ceres.dti.ne.jp/~nekoi/senno/senfirst.html</td>\n",
       "      <td>ceresdtinejpnekoisennosenfirsthtml</td>\n",
       "      <td>ceresdtinejpnekoisennosenfirsthtml</td>\n",
       "    </tr>\n",
       "    <tr>\n",
       "      <th>4</th>\n",
       "      <td>http://www.galeon.com/kmh/</td>\n",
       "      <td>Adult</td>\n",
       "      <td>0</td>\n",
       "      <td>galeon.com/kmh/</td>\n",
       "      <td>galeoncomkmh</td>\n",
       "      <td>galeoncomkmh</td>\n",
       "    </tr>\n",
       "    <tr>\n",
       "      <th>5</th>\n",
       "      <td>http://www.fanworkrecs.com/</td>\n",
       "      <td>Adult</td>\n",
       "      <td>0</td>\n",
       "      <td>fanworkrecs.com/</td>\n",
       "      <td>fanworkrecscom</td>\n",
       "      <td>fanworkrecscom</td>\n",
       "    </tr>\n",
       "  </tbody>\n",
       "</table>\n",
       "</div>"
      ],
      "text/plain": [
       "                                                 url category  cat_id  \\\n",
       "1                   http://www.liquidgeneration.com/    Adult       0   \n",
       "2                        http://www.onlineanime.org/    Adult       0   \n",
       "3  http://www.ceres.dti.ne.jp/~nekoi/senno/senfir...    Adult       0   \n",
       "4                         http://www.galeon.com/kmh/    Adult       0   \n",
       "5                        http://www.fanworkrecs.com/    Adult       0   \n",
       "\n",
       "                                        n_url  \\\n",
       "1                       liquidgeneration.com/   \n",
       "2                            onlineanime.org/   \n",
       "3  ceres.dti.ne.jp/~nekoi/senno/senfirst.html   \n",
       "4                             galeon.com/kmh/   \n",
       "5                            fanworkrecs.com/   \n",
       "\n",
       "                             norm_url                            url_text  \n",
       "1                 liquidgenerationcom                 liquidgenerationcom  \n",
       "2                      onlineanimeorg                      onlineanimeorg  \n",
       "3  ceresdtinejpnekoisennosenfirsthtml  ceresdtinejpnekoisennosenfirsthtml  \n",
       "4                        galeoncomkmh                        galeoncomkmh  \n",
       "5                      fanworkrecscom                      fanworkrecscom  "
      ]
     },
     "execution_count": 17,
     "metadata": {},
     "output_type": "execute_result"
    }
   ],
   "source": [
    "df.head()"
   ]
  },
  {
   "cell_type": "markdown",
   "metadata": {},
   "source": [
    "### Tamanho das urls sem caracteres especiais"
   ]
  },
  {
   "cell_type": "code",
   "execution_count": 18,
   "metadata": {
    "collapsed": false
   },
   "outputs": [],
   "source": [
    "df['length'] = df['n_url'].apply(length_char)"
   ]
  },
  {
   "cell_type": "markdown",
   "metadata": {},
   "source": [
    "### Quantidade de números na URL"
   ]
  },
  {
   "cell_type": "code",
   "execution_count": 19,
   "metadata": {
    "collapsed": false
   },
   "outputs": [],
   "source": [
    "df['qt_number'] = df['n_url'].apply(qt_number)"
   ]
  },
  {
   "cell_type": "markdown",
   "metadata": {
    "collapsed": true
   },
   "source": [
    "### Quantidade de tokens"
   ]
  },
  {
   "cell_type": "code",
   "execution_count": 20,
   "metadata": {
    "collapsed": false
   },
   "outputs": [],
   "source": [
    "df['qt_tokens'] = df['n_url'].apply(qt_tokens)"
   ]
  },
  {
   "cell_type": "markdown",
   "metadata": {},
   "source": [
    "### Tamanho médio dos tokens"
   ]
  },
  {
   "cell_type": "code",
   "execution_count": 21,
   "metadata": {
    "collapsed": false
   },
   "outputs": [],
   "source": [
    "df['a_tokens'] = df['n_url'].apply(average_len_tokens)"
   ]
  },
  {
   "cell_type": "markdown",
   "metadata": {},
   "source": [
    "### Tamanho do hostna"
   ]
  },
  {
   "cell_type": "code",
   "execution_count": 22,
   "metadata": {
    "collapsed": false
   },
   "outputs": [],
   "source": [
    "df['hostname_len'] = df['n_url'].apply(get_hostname_len)"
   ]
  },
  {
   "cell_type": "code",
   "execution_count": 23,
   "metadata": {
    "collapsed": false
   },
   "outputs": [
    {
     "name": "stdout",
     "output_type": "stream",
     "text": [
      "                                                  url category  cat_id  \\\n",
      "1                    http://www.liquidgeneration.com/    Adult       0   \n",
      "2                         http://www.onlineanime.org/    Adult       0   \n",
      "3   http://www.ceres.dti.ne.jp/~nekoi/senno/senfir...    Adult       0   \n",
      "4                          http://www.galeon.com/kmh/    Adult       0   \n",
      "5                         http://www.fanworkrecs.com/    Adult       0   \n",
      "6                          http://www.animehouse.com/    Adult       0   \n",
      "7          http://www2.117.ne.jp/~mb1996ax/enadc.html    Adult       0   \n",
      "8     http://archive.rhps.org/fritters/yui/index.html    Adult       0   \n",
      "9                      http://www.freecartoonsex.com/    Adult       0   \n",
      "10                            http://www.cutepet.org/    Adult       0   \n",
      "\n",
      "                                         n_url  \\\n",
      "1                        liquidgeneration.com/   \n",
      "2                             onlineanime.org/   \n",
      "3   ceres.dti.ne.jp/~nekoi/senno/senfirst.html   \n",
      "4                              galeon.com/kmh/   \n",
      "5                             fanworkrecs.com/   \n",
      "6                              animehouse.com/   \n",
      "7               117.ne.jp/~mb1996ax/enadc.html   \n",
      "8     archive.rhps.org/fritters/yui/index.html   \n",
      "9                          freecartoonsex.com/   \n",
      "10                                cutepet.org/   \n",
      "\n",
      "                              norm_url                            url_text  \\\n",
      "1                  liquidgenerationcom                 liquidgenerationcom   \n",
      "2                       onlineanimeorg                      onlineanimeorg   \n",
      "3   ceresdtinejpnekoisennosenfirsthtml  ceresdtinejpnekoisennosenfirsthtml   \n",
      "4                         galeoncomkmh                        galeoncomkmh   \n",
      "5                       fanworkrecscom                      fanworkrecscom   \n",
      "6                        animehousecom                       animehousecom   \n",
      "7             117nejpmb1996axenadchtml                   nejpmbaxenadchtml   \n",
      "8   archiverhpsorgfrittersyuiindexhtml  archiverhpsorgfrittersyuiindexhtml   \n",
      "9                    freecartoonsexcom                   freecartoonsexcom   \n",
      "10                          cutepetorg                          cutepetorg   \n",
      "\n",
      "    length  qt_number  qt_tokens  a_tokens  hostname_len  \n",
      "1       19          0          2  9.500000            19  \n",
      "2       14          0          2  7.000000            14  \n",
      "3       34          0          8  4.250000            12  \n",
      "4       12          0          3  4.000000             9  \n",
      "5       14          0          2  7.000000            14  \n",
      "6       13          0          2  6.500000            13  \n",
      "7       24          7          6  4.000000             7  \n",
      "8       34          0          7  4.857143            14  \n",
      "9       17          0          2  8.500000            17  \n",
      "10      10          0          2  5.000000            10  \n"
     ]
    }
   ],
   "source": [
    "print(df.head(10))"
   ]
  },
  {
   "cell_type": "code",
   "execution_count": 24,
   "metadata": {
    "collapsed": true
   },
   "outputs": [],
   "source": [
    "from sklearn.feature_extraction.text import CountVectorizer\n",
    "\n",
    "from sklearn.feature_extraction.text import TfidfTransformer"
   ]
  },
  {
   "cell_type": "code",
   "execution_count": 25,
   "metadata": {
    "collapsed": false
   },
   "outputs": [],
   "source": [
    "count_vectorizer = CountVectorizer(analyzer='char', ngram_range=(2,2)).fit(df['norm_url'])\n",
    "words_vector = count_vectorizer.transform(df['norm_url'])\n",
    "tf_transformer = TfidfTransformer(norm=None,use_idf=False).fit(words_vector)\n",
    "urls_tf = tf_transformer.transform(words_vector)"
   ]
  },
  {
   "cell_type": "code",
   "execution_count": 26,
   "metadata": {
    "collapsed": false
   },
   "outputs": [
    {
     "name": "stdout",
     "output_type": "stream",
     "text": [
      "TF shape:  (1562975, 1375)\n"
     ]
    }
   ],
   "source": [
    "print('TF shape: ', urls_tf.shape)"
   ]
  },
  {
   "cell_type": "code",
   "execution_count": 27,
   "metadata": {
    "collapsed": false
   },
   "outputs": [
    {
     "name": "stdout",
     "output_type": "stream",
     "text": [
      "New features shape:  (1562975, 5)\n",
      "Data set with new features:  [[ 19.      0.      2.      9.5    19.   ]\n",
      " [ 14.      0.      2.      7.     14.   ]\n",
      " [ 34.      0.      8.      4.25   12.   ]\n",
      " ..., \n",
      " [ 33.      0.      4.      8.25   23.   ]\n",
      " [ 34.      0.      8.      4.125   9.   ]\n",
      " [ 22.      0.      4.      5.5    11.   ]]\n"
     ]
    }
   ],
   "source": [
    "data_set = df.ix[:,6:].as_matrix()\n",
    "print('New features shape: ', data_set.shape)\n",
    "print('Data set with new features: ', data_set)"
   ]
  },
  {
   "cell_type": "code",
   "execution_count": 28,
   "metadata": {
    "collapsed": true
   },
   "outputs": [],
   "source": [
    "import scipy as sp"
   ]
  },
  {
   "cell_type": "code",
   "execution_count": 29,
   "metadata": {
    "collapsed": false
   },
   "outputs": [],
   "source": [
    "urls_tf = sp.sparse.hstack((urls_tf, data_set[:,:]))"
   ]
  },
  {
   "cell_type": "code",
   "execution_count": 30,
   "metadata": {
    "collapsed": false
   },
   "outputs": [
    {
     "name": "stdout",
     "output_type": "stream",
     "text": [
      "Data set shape:  (1562975, 1380)\n",
      "First item:  [[  0.    0.    0.  ...,   2.    9.5  19. ]]\n"
     ]
    }
   ],
   "source": [
    "print('Data set shape: ', urls_tf.shape)\n",
    "print('First item: ', urls_tf.getrow(0).toarray())"
   ]
  },
  {
   "cell_type": "code",
   "execution_count": null,
   "metadata": {
    "collapsed": true
   },
   "outputs": [],
   "source": []
  }
 ],
 "metadata": {
  "kernelspec": {
   "display_name": "Python 3",
   "language": "python",
   "name": "python3"
  },
  "language_info": {
   "codemirror_mode": {
    "name": "ipython",
    "version": 3
   },
   "file_extension": ".py",
   "mimetype": "text/x-python",
   "name": "python",
   "nbconvert_exporter": "python",
   "pygments_lexer": "ipython3",
   "version": "3.6.0"
  }
 },
 "nbformat": 4,
 "nbformat_minor": 2
}

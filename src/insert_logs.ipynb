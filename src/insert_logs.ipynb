{
 "cells": [
  {
   "cell_type": "code",
   "execution_count": 1,
   "metadata": {
    "collapsed": true
   },
   "outputs": [],
   "source": [
    "import os\n",
    "import re\n",
    "\n",
    "from pymongo import MongoClient"
   ]
  },
  {
   "cell_type": "code",
   "execution_count": 2,
   "metadata": {
    "collapsed": true
   },
   "outputs": [],
   "source": [
    "'''\n",
    "Configura a conexão com a base de dados mongoDB\n",
    "'''\n",
    "client = MongoClient()\n",
    "#inicia a conexão\n",
    "client = MongoClient('localhost', 27800)\n",
    "\n",
    "#busca o db chamado network_logs\n",
    "db = client.network_logs\n",
    "\n",
    "#coleção chamada log_lines, do db network_logs\n",
    "db_log_lines = db.log_lines\n",
    "unique_hotnames = db.unique_hostnames\n",
    "unique_host_urls = db.unique_host_urls"
   ]
  },
  {
   "cell_type": "code",
   "execution_count": 3,
   "metadata": {
    "collapsed": false
   },
   "outputs": [],
   "source": [
    "'''\n",
    "Le as palavras a serem excluídas dos registros de log da rede\n",
    "'''\n",
    "web_words_content = []\n",
    "with open('./res/web_words.txt') as wwf:\n",
    "    for ww in wwf:\n",
    "        web_words_content.insert(len(web_words_content), ww.strip())"
   ]
  },
  {
   "cell_type": "code",
   "execution_count": 4,
   "metadata": {
    "collapsed": true
   },
   "outputs": [],
   "source": [
    "'''\n",
    "Função criada para remover todos as caracteres que não sejam as letras do alfabeto\n",
    "'''\n",
    "def remove_special_characters(pstr):\n",
    "    return re.sub('[^A-Za-z]+', '', pstr)"
   ]
  },
  {
   "cell_type": "code",
   "execution_count": 5,
   "metadata": {
    "collapsed": true
   },
   "outputs": [],
   "source": [
    "'''\n",
    "Normaliza a parte do hostname, efetuando a split por ponto, removendo as palavras comuns (www, com, br, net, etc) \n",
    "e depois removendo números e caracteres especiais\n",
    "'''\n",
    "def normalize_hostname(hostname):\n",
    "    final_result = ''\n",
    "    hostname_split = hostname.split('.')\n",
    "    for hs in hostname_split:\n",
    "        if len(hs) > 2 and hs not in web_words_content:\n",
    "            final_result += remove_special_characters(hs)\n",
    "    return final_result\n"
   ]
  },
  {
   "cell_type": "code",
   "execution_count": 6,
   "metadata": {
    "collapsed": false
   },
   "outputs": [],
   "source": [
    "'''\n",
    "Normaliza a parte final da URL do recurso, efetuando split por / e removendo números e caracteres especiais\n",
    "Necessário verificar qual a melhor abordagem, pode-se:\n",
    "- Somente remover os caracteres especiais, formando uma palavra final\n",
    "- Split por /, aplicar regras para cada parte e concatenar\n",
    "'''\n",
    "def normalize_url(url):\n",
    "    return remove_special_characters(url)"
   ]
  },
  {
   "cell_type": "code",
   "execution_count": 7,
   "metadata": {
    "collapsed": false
   },
   "outputs": [
    {
     "data": {
      "text/plain": [
       "['FGT6HD3915800033.tlog.1502101413.csv.log',\n",
       " 'FGT6HD3915800033.tlog.1502104952.csv.log',\n",
       " 'FGT6HD3915800033.tlog.1502108346.csv.log',\n",
       " 'FGT6HD3915800033.tlog.1502111834.csv.log',\n",
       " 'FGT6HD3915800033.tlog.1502115058.csv.log',\n",
       " 'FGT6HD3915800033.tlog.1502119013.csv.log',\n",
       " 'FGT6HD3915800033.tlog.1502123036.csv.log',\n",
       " 'FGT6HD3915800033.tlog.1502125120.csv.log',\n",
       " 'FGT6HD3915800033.tlog.1502127375.csv.log',\n",
       " 'FGT6HD3915800033.tlog.1502129625.csv.log',\n",
       " 'FGT6HD3915800033.tlog.1502131996.csv.log',\n",
       " 'FGT6HD3915800033.tlog.1502134461.csv.log',\n",
       " 'FGT6HD3915800033.tlog.1502136816.csv.log',\n",
       " 'FGT6HD3915800033.tlog.1502140108.csv.log',\n",
       " 'FGT6HD3915800033.tlog.1502143641.csv.log',\n",
       " 'FGT6HD3915800033.tlog.1502146099.csv.log',\n",
       " 'FGT6HD3915800033.tlog.1502148405.csv.log',\n",
       " 'FGT6HD3915800033.tlog.1502150751.csv.log',\n",
       " 'FGT6HD3915800033.tlog.1502153739.csv.log']"
      ]
     },
     "execution_count": 7,
     "metadata": {},
     "output_type": "execute_result"
    }
   ],
   "source": [
    "'''\n",
    "Busca todos os arquivos .log em determinado diretório\n",
    "'''\n",
    "\n",
    "filepath = '../../Logs/SATC'\n",
    "filelist = []\n",
    "for filename in os.listdir(filepath):\n",
    "    if '.log' in filename and '.gz' not in filename:\n",
    "        filelist.append(filename)\n",
    "filelist"
   ]
  },
  {
   "cell_type": "code",
   "execution_count": 8,
   "metadata": {
    "collapsed": true
   },
   "outputs": [],
   "source": [
    "''' \n",
    "Variáveis para controlar registros repetidos em memória, assim não precisam verificar na \n",
    "base a cada registro inserido\n",
    "'''\n",
    "hn_rep = []\n",
    "hn_ins = []\n",
    "hnu_rep = []\n",
    "hnu_ins = []"
   ]
  },
  {
   "cell_type": "code",
   "execution_count": 9,
   "metadata": {
    "collapsed": true
   },
   "outputs": [],
   "source": [
    "'''\n",
    "Insere as linhas necessárias nas coleções da base\n",
    "'''\n",
    "def insert_lines(obj):\n",
    "    \n",
    "    n_hostname = obj['normalized_hostname']\n",
    "    n_host_url = obj['normalized_hostname_url']\n",
    "    \n",
    "    if n_hostname:\n",
    "        #insere na coleção de todos os registros\n",
    "        db_log_lines.insert_one(obj)\n",
    "        \n",
    "        if n_hostname in hn_ins:\n",
    "            #adiciona na coleção de repetidos\n",
    "            hn_rep.insert(len(hn_rep),n_hostname)\n",
    "        else:\n",
    "            #Insere na base e na lista de inseridos em memória\n",
    "            unique_hotnames.insert_one(obj)\n",
    "            hn_ins.insert(len(hn_ins), n_hostname)\n",
    "\n",
    "        if n_host_url in hnu_ins:\n",
    "            #verifica se já existe nos inseridos e adiciona nos repetidos\n",
    "            hnu_rep.insert(len(hnu_rep), n_host_url)\n",
    "        else:\n",
    "            #Adiciona na base e na lista de inseridos em memória\n",
    "            unique_host_urls.insert_one(obj)\n",
    "            hnu_ins.insert(len(hnu_ins), n_host_url)\n",
    "    "
   ]
  },
  {
   "cell_type": "code",
   "execution_count": 10,
   "metadata": {
    "collapsed": true
   },
   "outputs": [],
   "source": [
    "splits = ['\"hostname=\"\"', '\"service=\"\"', '\"url=\"\"', '\"catdesc=\"\"']"
   ]
  },
  {
   "cell_type": "code",
   "execution_count": 11,
   "metadata": {
    "collapsed": false,
    "scrolled": false
   },
   "outputs": [],
   "source": [
    "for filename in filelist:\n",
    "    with open(os.path.join(filepath,filename), 'r', encoding='latin-1') as f: ##Abre arquivo em modo de leitura\n",
    "        try:\n",
    "            for txtline in f:\n",
    "                if '\"hostname=\"' and '\"catdesc=\"' in txtline: ## Verifica se a linha tem hostname e catdesc\n",
    "                    obj = {}\n",
    "\n",
    "                    for sp in splits:\n",
    "                        prop = txtline.split(sp)[-1].split('\"')[0]\n",
    "                        prop_name = sp.replace('\"', '').replace('=', '')\n",
    "                        obj[prop_name] = prop\n",
    "                        \n",
    "                    obj['normalized_hostname'] = normalize_hostname(obj['hostname'])\n",
    "                    obj['normalized_url'] = normalize_url(obj['url'])\n",
    "                    obj['normalized_hostname_url'] = obj['normalized_hostname'] + obj['normalized_url']\n",
    "\n",
    "                    insert_lines(obj)\n",
    "                    \n",
    "        except ValueError:\n",
    "            print('============ Erro =============')\n",
    "            print(ValueError)\n",
    "            print(f)\n",
    "            break"
   ]
  },
  {
   "cell_type": "code",
   "execution_count": 12,
   "metadata": {
    "collapsed": false
   },
   "outputs": [
    {
     "name": "stdout",
     "output_type": "stream",
     "text": [
      "2408173\n"
     ]
    }
   ],
   "source": [
    "#649849\n",
    "#641807\n",
    "#655300\n",
    "#461217\n",
    "#2408173\n",
    "print(649849 + 641807 + 655300 + 461217)"
   ]
  },
  {
   "cell_type": "code",
   "execution_count": 13,
   "metadata": {
    "collapsed": false
   },
   "outputs": [
    {
     "name": "stdout",
     "output_type": "stream",
     "text": [
      "2387481\n",
      "2387481\n"
     ]
    }
   ],
   "source": [
    "#hostnames unicos em 141033 foi de \n",
    "# 4846 hostnames distintos\n",
    "# 31048 hostnames+urls\n",
    "print(len(hn_rep) + len(hn_ins))\n",
    "print(len(hnu_rep) + len(hnu_ins))"
   ]
  },
  {
   "cell_type": "code",
   "execution_count": 14,
   "metadata": {
    "collapsed": false
   },
   "outputs": [
    {
     "name": "stdout",
     "output_type": "stream",
     "text": [
      "2363273\n",
      "24208\n",
      "1999348\n",
      "388133\n"
     ]
    }
   ],
   "source": [
    "print(len(hn_rep)) #136187\n",
    "print(len(hn_ins)) #4846\n",
    "print(len(hnu_rep)) #109985\n",
    "print(len(hnu_ins)) #31048"
   ]
  },
  {
   "cell_type": "code",
   "execution_count": null,
   "metadata": {
    "collapsed": true
   },
   "outputs": [],
   "source": []
  }
 ],
 "metadata": {
  "kernelspec": {
   "display_name": "Python 3",
   "language": "python",
   "name": "python3"
  },
  "language_info": {
   "codemirror_mode": {
    "name": "ipython",
    "version": 3
   },
   "file_extension": ".py",
   "mimetype": "text/x-python",
   "name": "python",
   "nbconvert_exporter": "python",
   "pygments_lexer": "ipython3",
   "version": "3.6.0"
  }
 },
 "nbformat": 4,
 "nbformat_minor": 2
}

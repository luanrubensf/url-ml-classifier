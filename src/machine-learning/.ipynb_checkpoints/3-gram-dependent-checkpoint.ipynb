{
 "cells": [
  {
   "cell_type": "markdown",
   "metadata": {},
   "source": [
    "Arquivo criado para vetorizar as URL's com base nos 3-grams das URL's do dataset. Isto cria um vocabulário dependente do dataset. Ou seja, toda vez que forem adicionados elementos no dataset, deve ser criado o voculário novamente."
   ]
  },
  {
   "cell_type": "code",
   "execution_count": null,
   "metadata": {
    "collapsed": false
   },
   "outputs": [],
   "source": [
    "import nltk\n",
    "from sklearn.feature_extraction.text import CountVectorizer"
   ]
  },
  {
   "cell_type": "code",
   "execution_count": null,
   "metadata": {
    "collapsed": false
   },
   "outputs": [],
   "source": [
    "my_array = ['facebook', 'youtube', 'portalsatc', 'whatsapp', 'twitter', 'globo']\n",
    "my_array_lb = ['Social Media', 'Social Media', 'Noticia', 'Social Media', 'Social Media', 'Noticia'];"
   ]
  },
  {
   "cell_type": "code",
   "execution_count": null,
   "metadata": {
    "collapsed": false
   },
   "outputs": [],
   "source": [
    "count_vectorizer = CountVectorizer(analyzer=nltk.trigrams,ngram_range=(3,3)).fit(my_array)\n",
    "len(count_vectorizer.vocabulary_)\n",
    "#vector.vocabulary_"
   ]
  },
  {
   "cell_type": "code",
   "execution_count": null,
   "metadata": {
    "collapsed": false
   },
   "outputs": [],
   "source": [
    "trigram_model = count_vectorizer.transform(['facebook'])\n",
    "print(trigram_model.shape)\n",
    "#print(trigram_model)\n",
    "#print(trigram_model.toarray())"
   ]
  },
  {
   "cell_type": "code",
   "execution_count": null,
   "metadata": {
    "collapsed": false
   },
   "outputs": [],
   "source": [
    "sparsity = (100.0 * trigram_model.nnz / (trigram_model.shape[0] * trigram_model.shape[1]))\n",
    "print('sparsity: {}'.format(sparsity))"
   ]
  },
  {
   "cell_type": "code",
   "execution_count": null,
   "metadata": {
    "collapsed": true
   },
   "outputs": [],
   "source": []
  }
 ],
 "metadata": {
  "kernelspec": {
   "display_name": "Python 3",
   "language": "python",
   "name": "python3"
  },
  "language_info": {
   "codemirror_mode": {
    "name": "ipython",
    "version": 3
   },
   "file_extension": ".py",
   "mimetype": "text/x-python",
   "name": "python",
   "nbconvert_exporter": "python",
   "pygments_lexer": "ipython3",
   "version": "3.6.0"
  }
 },
 "nbformat": 4,
 "nbformat_minor": 2
}

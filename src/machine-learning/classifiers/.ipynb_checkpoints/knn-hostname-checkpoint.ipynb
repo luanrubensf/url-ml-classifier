{
 "cells": [
  {
   "cell_type": "markdown",
   "metadata": {},
   "source": [
    "### KNN\n",
    "\n",
    "Implemantação do classificador utilizando KNN."
   ]
  },
  {
   "cell_type": "code",
   "execution_count": 1,
   "metadata": {
    "collapsed": false
   },
   "outputs": [],
   "source": [
    "import nltk\n",
    "import itertools\n",
    "\n",
    "import pandas as pd\n",
    "import matplotlib.pyplot as plt\n",
    "import numpy as np\n",
    "\n",
    "from sklearn.feature_extraction.text import CountVectorizer\n",
    "from string import ascii_lowercase\n",
    "\n",
    "from sklearn.feature_extraction.text import TfidfTransformer\n",
    "\n",
    "from sklearn.neighbors import KNeighborsClassifier\n",
    "\n",
    "from sklearn.model_selection import train_test_split\n",
    "\n",
    "from sklearn.pipeline import Pipeline\n",
    "\n",
    "from sklearn.metrics import classification_report\n",
    "\n",
    "from pymongo import MongoClient\n",
    "\n",
    "%matplotlib inline"
   ]
  },
  {
   "cell_type": "code",
   "execution_count": 2,
   "metadata": {
    "collapsed": false
   },
   "outputs": [
    {
     "name": "stdout",
     "output_type": "stream",
     "text": [
      "24208\n"
     ]
    },
    {
     "data": {
      "text/html": [
       "<div>\n",
       "<table border=\"1\" class=\"dataframe\">\n",
       "  <thead>\n",
       "    <tr style=\"text-align: right;\">\n",
       "      <th></th>\n",
       "      <th>_id</th>\n",
       "      <th>catdesc</th>\n",
       "      <th>category</th>\n",
       "      <th>hostname</th>\n",
       "      <th>normalized_hostname</th>\n",
       "      <th>normalized_hostname_url</th>\n",
       "      <th>normalized_url</th>\n",
       "      <th>service</th>\n",
       "      <th>url</th>\n",
       "    </tr>\n",
       "  </thead>\n",
       "  <tbody>\n",
       "    <tr>\n",
       "      <th>0</th>\n",
       "      <td>59a1e31988b032071ef8c495</td>\n",
       "      <td>Information Technology</td>\n",
       "      <td>Information Technology</td>\n",
       "      <td>sb.scorecardresearch.com</td>\n",
       "      <td>scorecardresearch</td>\n",
       "      <td>scorecardresearch</td>\n",
       "      <td></td>\n",
       "      <td>HTTPS</td>\n",
       "      <td>/</td>\n",
       "    </tr>\n",
       "    <tr>\n",
       "      <th>1</th>\n",
       "      <td>59a1e31a88b032071ef8c496</td>\n",
       "      <td>Information Technology</td>\n",
       "      <td>Information Technology</td>\n",
       "      <td>test.com</td>\n",
       "      <td>test</td>\n",
       "      <td>testpartneruidUPcbedebee</td>\n",
       "      <td>partneruidUPcbedebee</td>\n",
       "      <td>HTTP</td>\n",
       "      <td>/?partner_uid=UP47c5b905-0e1d-11e7-b092-00163e...</td>\n",
       "    </tr>\n",
       "    <tr>\n",
       "      <th>2</th>\n",
       "      <td>59a1e31a88b032071ef8c497</td>\n",
       "      <td>Information Technology</td>\n",
       "      <td>Information Technology</td>\n",
       "      <td>nexus-websocket-b.intercom.io</td>\n",
       "      <td>nexuswebsocketbintercom</td>\n",
       "      <td>nexuswebsocketbintercom</td>\n",
       "      <td></td>\n",
       "      <td>HTTPS</td>\n",
       "      <td>/</td>\n",
       "    </tr>\n",
       "    <tr>\n",
       "      <th>3</th>\n",
       "      <td>59a1e31a88b032071ef8c498</td>\n",
       "      <td>Malicious Websites</td>\n",
       "      <td>Malicious or Illegal</td>\n",
       "      <td>aorta.clickagy.com</td>\n",
       "      <td>aortaclickagy</td>\n",
       "      <td>aortaclickagypixelgifadvertiseridgtqxdqpglista...</td>\n",
       "      <td>pixelgifadvertiseridgtqxdqpglistaedjpnobncchcm...</td>\n",
       "      <td>HTTP</td>\n",
       "      <td>/pixel.gif?advertiser_id=1gt8qx97dqpg&amp;list=11a...</td>\n",
       "    </tr>\n",
       "    <tr>\n",
       "      <th>4</th>\n",
       "      <td>59a1e31a88b032071ef8c499</td>\n",
       "      <td>Information Technology</td>\n",
       "      <td>Information Technology</td>\n",
       "      <td>usersync.videoamp.com</td>\n",
       "      <td>usersyncvideoamp</td>\n",
       "      <td>usersyncvideoampusersyncpartneridpartneruserid...</td>\n",
       "      <td>usersyncpartneridpartneruseridredirecthttpsync...</td>\n",
       "      <td>HTTP</td>\n",
       "      <td>/usersync?partner_id=5797361&amp;partner_user_id=4...</td>\n",
       "    </tr>\n",
       "  </tbody>\n",
       "</table>\n",
       "</div>"
      ],
      "text/plain": [
       "                        _id                 catdesc                category  \\\n",
       "0  59a1e31988b032071ef8c495  Information Technology  Information Technology   \n",
       "1  59a1e31a88b032071ef8c496  Information Technology  Information Technology   \n",
       "2  59a1e31a88b032071ef8c497  Information Technology  Information Technology   \n",
       "3  59a1e31a88b032071ef8c498      Malicious Websites    Malicious or Illegal   \n",
       "4  59a1e31a88b032071ef8c499  Information Technology  Information Technology   \n",
       "\n",
       "                        hostname      normalized_hostname  \\\n",
       "0       sb.scorecardresearch.com        scorecardresearch   \n",
       "1                       test.com                     test   \n",
       "2  nexus-websocket-b.intercom.io  nexuswebsocketbintercom   \n",
       "3             aorta.clickagy.com            aortaclickagy   \n",
       "4          usersync.videoamp.com         usersyncvideoamp   \n",
       "\n",
       "                             normalized_hostname_url  \\\n",
       "0                                  scorecardresearch   \n",
       "1                           testpartneruidUPcbedebee   \n",
       "2                            nexuswebsocketbintercom   \n",
       "3  aortaclickagypixelgifadvertiseridgtqxdqpglista...   \n",
       "4  usersyncvideoampusersyncpartneridpartneruserid...   \n",
       "\n",
       "                                      normalized_url service  \\\n",
       "0                                                      HTTPS   \n",
       "1                               partneruidUPcbedebee    HTTP   \n",
       "2                                                      HTTPS   \n",
       "3  pixelgifadvertiseridgtqxdqpglistaedjpnobncchcm...    HTTP   \n",
       "4  usersyncpartneridpartneruseridredirecthttpsync...    HTTP   \n",
       "\n",
       "                                                 url  \n",
       "0                                                  /  \n",
       "1  /?partner_uid=UP47c5b905-0e1d-11e7-b092-00163e...  \n",
       "2                                                  /  \n",
       "3  /pixel.gif?advertiser_id=1gt8qx97dqpg&list=11a...  \n",
       "4  /usersync?partner_id=5797361&partner_user_id=4...  "
      ]
     },
     "execution_count": 2,
     "metadata": {},
     "output_type": "execute_result"
    }
   ],
   "source": [
    "'''\n",
    "Importação dos dados da base\n",
    "'''\n",
    "client = MongoClient()\n",
    "client = MongoClient('localhost', 27800)\n",
    "db = client.network_logs\n",
    "db_unique_hostnames = db.unique_hostnames\n",
    "\n",
    "df_hostnames = pd.DataFrame(list(db_unique_hostnames.find({})))\n",
    "\n",
    "print(len(df_hostnames))\n",
    "df_hostnames.head()"
   ]
  },
  {
   "cell_type": "code",
   "execution_count": 3,
   "metadata": {
    "collapsed": false
   },
   "outputs": [
    {
     "data": {
      "text/plain": [
       "17576"
      ]
     },
     "execution_count": 3,
     "metadata": {},
     "output_type": "execute_result"
    }
   ],
   "source": [
    "'''\n",
    "Criação do vocabulário\n",
    "'''\n",
    "keywords = [''.join(trig) for trig in itertools.product(ascii_lowercase, repeat = 3)]\n",
    "len(keywords)"
   ]
  },
  {
   "cell_type": "markdown",
   "metadata": {},
   "source": [
    "### Separação do conjunto"
   ]
  },
  {
   "cell_type": "code",
   "execution_count": 4,
   "metadata": {
    "collapsed": true
   },
   "outputs": [],
   "source": [
    "'''\n",
    "Separação do conjunto de treinamento e validação\n",
    "'''\n",
    "url_train,url_test,label_train,label_test = train_test_split(df_hostnames['normalized_hostname'], df_hostnames['category'], test_size=0.3)"
   ]
  },
  {
   "cell_type": "markdown",
   "metadata": {},
   "source": [
    "### Criação do pipeline"
   ]
  },
  {
   "cell_type": "code",
   "execution_count": 5,
   "metadata": {
    "collapsed": false
   },
   "outputs": [],
   "source": [
    "pipeline = Pipeline([\n",
    "    ('wordsVector', CountVectorizer(analyzer='char', ngram_range=(3,3), vocabulary=keywords)),\n",
    "    ('tf', TfidfTransformer(use_idf=False)),\n",
    "    ('classifier', KNeighborsClassifier(n_neighbors=1))\n",
    "])"
   ]
  },
  {
   "cell_type": "code",
   "execution_count": 6,
   "metadata": {
    "collapsed": false
   },
   "outputs": [
    {
     "data": {
      "text/plain": [
       "Pipeline(memory=None,\n",
       "     steps=[('wordsVector', CountVectorizer(analyzer='char', binary=False, decode_error='strict',\n",
       "        dtype=<class 'numpy.int64'>, encoding='utf-8', input='content',\n",
       "        lowercase=True, max_df=1.0, max_features=None, min_df=1,\n",
       "        ngram_range=(3, 3), preprocessor=None, stop_words=None,\n",
       "      ...owski',\n",
       "           metric_params=None, n_jobs=1, n_neighbors=1, p=2,\n",
       "           weights='uniform'))])"
      ]
     },
     "execution_count": 6,
     "metadata": {},
     "output_type": "execute_result"
    }
   ],
   "source": [
    "pipeline.fit(url_train, label_train)"
   ]
  },
  {
   "cell_type": "code",
   "execution_count": 7,
   "metadata": {
    "collapsed": true
   },
   "outputs": [],
   "source": [
    "predictions = pipeline.predict(url_test)"
   ]
  },
  {
   "cell_type": "markdown",
   "metadata": {},
   "source": [
    "### Relatório da classificação"
   ]
  },
  {
   "cell_type": "code",
   "execution_count": 8,
   "metadata": {
    "collapsed": false
   },
   "outputs": [
    {
     "name": "stdout",
     "output_type": "stream",
     "text": [
      "                                 precision    recall  f1-score   support\n",
      "\n",
      "                          Adult       0.13      0.11      0.12        18\n",
      "                    Advertising       0.59      0.53      0.56       290\n",
      "               Arts and Culture       0.44      0.20      0.28        40\n",
      "                       Business       0.55      0.32      0.40       739\n",
      "                Content Servers       0.75      0.70      0.72       360\n",
      "                 Domain Parking       0.25      0.11      0.15        18\n",
      "                      Education       0.56      0.36      0.44       226\n",
      "                  Entertainment       0.42      0.24      0.31       127\n",
      "       File Sharing and Storage       0.87      0.82      0.85       153\n",
      "            Finance and Banking       0.55      0.38      0.45        58\n",
      "Freeware and Software Downloads       0.69      0.38      0.49        63\n",
      "                          Games       0.70      0.63      0.66       179\n",
      "            Health and Wellness       0.41      0.35      0.38        48\n",
      "         Information Technology       0.75      0.53      0.62      1939\n",
      "          Internet Radio and TV       0.28      0.33      0.30        30\n",
      "                     Job Search       0.20      0.08      0.12        12\n",
      "           Malicious or Illegal       0.32      0.11      0.16        85\n",
      "            Meaningless Content       0.57      0.39      0.46       199\n",
      "                 News and Media       0.07      0.66      0.12       204\n",
      "  Newsgroups and Message Boards       0.25      0.11      0.15        18\n",
      "                  Organizations       0.62      0.38      0.47        87\n",
      "              Personal Vehicles       0.36      0.24      0.29        41\n",
      "    Personal Websites and Blogs       0.66      0.55      0.60       172\n",
      "                    Real Estate       0.40      0.22      0.29        18\n",
      "                      Reference       0.40      0.27      0.32        71\n",
      "          Restaurant and Dining       0.50      0.31      0.38        13\n",
      "     Search Engines and Portals       0.78      0.65      0.71       787\n",
      "                       Security       0.33      0.43      0.38        21\n",
      "                       Shopping       0.65      0.48      0.55       283\n",
      "              Social Networking       0.83      0.91      0.87       161\n",
      "         Society and Lifestyles       0.31      0.17      0.22        65\n",
      "                         Sports       0.43      0.42      0.43        45\n",
      "   Streaming Media and Download       0.90      0.87      0.88       310\n",
      "                         Travel       0.43      0.26      0.33        57\n",
      "                        Unrated       0.07      0.06      0.07        97\n",
      "                    Web Hosting       0.25      0.14      0.18       159\n",
      "              Web communication       0.51      0.57      0.54        47\n",
      "         Web-based Applications       0.44      0.30      0.36        23\n",
      "\n",
      "                    avg / total       0.63      0.50      0.55      7263\n",
      "\n"
     ]
    }
   ],
   "source": [
    "print(classification_report(label_test, predictions))"
   ]
  },
  {
   "cell_type": "code",
   "execution_count": null,
   "metadata": {
    "collapsed": true
   },
   "outputs": [],
   "source": []
  }
 ],
 "metadata": {
  "kernelspec": {
   "display_name": "Python 3",
   "language": "python",
   "name": "python3"
  },
  "language_info": {
   "codemirror_mode": {
    "name": "ipython",
    "version": 3
   },
   "file_extension": ".py",
   "mimetype": "text/x-python",
   "name": "python",
   "nbconvert_exporter": "python",
   "pygments_lexer": "ipython3",
   "version": "3.6.0"
  }
 },
 "nbformat": 4,
 "nbformat_minor": 2
}

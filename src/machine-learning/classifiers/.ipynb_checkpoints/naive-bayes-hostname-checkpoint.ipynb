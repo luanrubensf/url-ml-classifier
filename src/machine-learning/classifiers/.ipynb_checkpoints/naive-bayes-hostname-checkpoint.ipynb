{
 "cells": [
  {
   "cell_type": "markdown",
   "metadata": {},
   "source": [
    "### Naive bayes\n",
    "\n",
    "Implemantação do classificador utilizando Naive Bayes."
   ]
  },
  {
   "cell_type": "code",
   "execution_count": 1,
   "metadata": {
    "collapsed": false
   },
   "outputs": [],
   "source": [
    "import nltk\n",
    "import itertools\n",
    "import pandas as pd\n",
    "\n",
    "from sklearn.feature_extraction.text import CountVectorizer\n",
    "from string import ascii_lowercase\n",
    "\n",
    "from sklearn.feature_extraction.text import TfidfTransformer\n",
    "\n",
    "from sklearn.naive_bayes import MultinomialNB\n",
    "\n",
    "from sklearn.model_selection import train_test_split\n",
    "\n",
    "from sklearn.pipeline import Pipeline\n",
    "\n",
    "from sklearn.metrics import classification_report\n",
    "\n",
    "from pymongo import MongoClient"
   ]
  },
  {
   "cell_type": "code",
   "execution_count": 2,
   "metadata": {
    "collapsed": false
   },
   "outputs": [
    {
     "name": "stdout",
     "output_type": "stream",
     "text": [
      "24208\n"
     ]
    },
    {
     "data": {
      "text/html": [
       "<div>\n",
       "<table border=\"1\" class=\"dataframe\">\n",
       "  <thead>\n",
       "    <tr style=\"text-align: right;\">\n",
       "      <th></th>\n",
       "      <th>_id</th>\n",
       "      <th>catdesc</th>\n",
       "      <th>category</th>\n",
       "      <th>hostname</th>\n",
       "      <th>normalized_hostname</th>\n",
       "      <th>normalized_hostname_url</th>\n",
       "      <th>normalized_url</th>\n",
       "      <th>service</th>\n",
       "      <th>url</th>\n",
       "    </tr>\n",
       "  </thead>\n",
       "  <tbody>\n",
       "    <tr>\n",
       "      <th>0</th>\n",
       "      <td>59a1e31988b032071ef8c495</td>\n",
       "      <td>Information Technology</td>\n",
       "      <td>Information Technology</td>\n",
       "      <td>sb.scorecardresearch.com</td>\n",
       "      <td>scorecardresearch</td>\n",
       "      <td>scorecardresearch</td>\n",
       "      <td></td>\n",
       "      <td>HTTPS</td>\n",
       "      <td>/</td>\n",
       "    </tr>\n",
       "    <tr>\n",
       "      <th>1</th>\n",
       "      <td>59a1e31a88b032071ef8c496</td>\n",
       "      <td>Information Technology</td>\n",
       "      <td>Information Technology</td>\n",
       "      <td>test.com</td>\n",
       "      <td>test</td>\n",
       "      <td>testpartneruidUPcbedebee</td>\n",
       "      <td>partneruidUPcbedebee</td>\n",
       "      <td>HTTP</td>\n",
       "      <td>/?partner_uid=UP47c5b905-0e1d-11e7-b092-00163e...</td>\n",
       "    </tr>\n",
       "    <tr>\n",
       "      <th>2</th>\n",
       "      <td>59a1e31a88b032071ef8c497</td>\n",
       "      <td>Information Technology</td>\n",
       "      <td>Information Technology</td>\n",
       "      <td>nexus-websocket-b.intercom.io</td>\n",
       "      <td>nexuswebsocketbintercom</td>\n",
       "      <td>nexuswebsocketbintercom</td>\n",
       "      <td></td>\n",
       "      <td>HTTPS</td>\n",
       "      <td>/</td>\n",
       "    </tr>\n",
       "    <tr>\n",
       "      <th>3</th>\n",
       "      <td>59a1e31a88b032071ef8c498</td>\n",
       "      <td>Malicious Websites</td>\n",
       "      <td>Malicious or Illegal</td>\n",
       "      <td>aorta.clickagy.com</td>\n",
       "      <td>aortaclickagy</td>\n",
       "      <td>aortaclickagypixelgifadvertiseridgtqxdqpglista...</td>\n",
       "      <td>pixelgifadvertiseridgtqxdqpglistaedjpnobncchcm...</td>\n",
       "      <td>HTTP</td>\n",
       "      <td>/pixel.gif?advertiser_id=1gt8qx97dqpg&amp;list=11a...</td>\n",
       "    </tr>\n",
       "    <tr>\n",
       "      <th>4</th>\n",
       "      <td>59a1e31a88b032071ef8c499</td>\n",
       "      <td>Information Technology</td>\n",
       "      <td>Information Technology</td>\n",
       "      <td>usersync.videoamp.com</td>\n",
       "      <td>usersyncvideoamp</td>\n",
       "      <td>usersyncvideoampusersyncpartneridpartneruserid...</td>\n",
       "      <td>usersyncpartneridpartneruseridredirecthttpsync...</td>\n",
       "      <td>HTTP</td>\n",
       "      <td>/usersync?partner_id=5797361&amp;partner_user_id=4...</td>\n",
       "    </tr>\n",
       "  </tbody>\n",
       "</table>\n",
       "</div>"
      ],
      "text/plain": [
       "                        _id                 catdesc                category  \\\n",
       "0  59a1e31988b032071ef8c495  Information Technology  Information Technology   \n",
       "1  59a1e31a88b032071ef8c496  Information Technology  Information Technology   \n",
       "2  59a1e31a88b032071ef8c497  Information Technology  Information Technology   \n",
       "3  59a1e31a88b032071ef8c498      Malicious Websites    Malicious or Illegal   \n",
       "4  59a1e31a88b032071ef8c499  Information Technology  Information Technology   \n",
       "\n",
       "                        hostname      normalized_hostname  \\\n",
       "0       sb.scorecardresearch.com        scorecardresearch   \n",
       "1                       test.com                     test   \n",
       "2  nexus-websocket-b.intercom.io  nexuswebsocketbintercom   \n",
       "3             aorta.clickagy.com            aortaclickagy   \n",
       "4          usersync.videoamp.com         usersyncvideoamp   \n",
       "\n",
       "                             normalized_hostname_url  \\\n",
       "0                                  scorecardresearch   \n",
       "1                           testpartneruidUPcbedebee   \n",
       "2                            nexuswebsocketbintercom   \n",
       "3  aortaclickagypixelgifadvertiseridgtqxdqpglista...   \n",
       "4  usersyncvideoampusersyncpartneridpartneruserid...   \n",
       "\n",
       "                                      normalized_url service  \\\n",
       "0                                                      HTTPS   \n",
       "1                               partneruidUPcbedebee    HTTP   \n",
       "2                                                      HTTPS   \n",
       "3  pixelgifadvertiseridgtqxdqpglistaedjpnobncchcm...    HTTP   \n",
       "4  usersyncpartneridpartneruseridredirecthttpsync...    HTTP   \n",
       "\n",
       "                                                 url  \n",
       "0                                                  /  \n",
       "1  /?partner_uid=UP47c5b905-0e1d-11e7-b092-00163e...  \n",
       "2                                                  /  \n",
       "3  /pixel.gif?advertiser_id=1gt8qx97dqpg&list=11a...  \n",
       "4  /usersync?partner_id=5797361&partner_user_id=4...  "
      ]
     },
     "execution_count": 2,
     "metadata": {},
     "output_type": "execute_result"
    }
   ],
   "source": [
    "'''\n",
    "Importação dos dados da base\n",
    "'''\n",
    "client = MongoClient()\n",
    "client = MongoClient('localhost', 27800)\n",
    "db = client.network_logs\n",
    "db_unique_hostnames = db.unique_hostnames\n",
    "\n",
    "df_hostnames = pd.DataFrame(list(db_unique_hostnames.find({})))\n",
    "\n",
    "print(len(df_hostnames))\n",
    "df_hostnames.head()"
   ]
  },
  {
   "cell_type": "code",
   "execution_count": 3,
   "metadata": {
    "collapsed": false
   },
   "outputs": [
    {
     "data": {
      "text/plain": [
       "17576"
      ]
     },
     "execution_count": 3,
     "metadata": {},
     "output_type": "execute_result"
    }
   ],
   "source": [
    "'''\n",
    "Criação do vocabulário\n",
    "'''\n",
    "keywords = [''.join(trig) for trig in itertools.product(ascii_lowercase, repeat = 3)]\n",
    "len(keywords)"
   ]
  },
  {
   "cell_type": "markdown",
   "metadata": {},
   "source": [
    "### Separação do conjunto"
   ]
  },
  {
   "cell_type": "code",
   "execution_count": 4,
   "metadata": {
    "collapsed": true
   },
   "outputs": [],
   "source": [
    "'''\n",
    "Separação do conjunto de treinamento e validação\n",
    "'''\n",
    "url_train,url_test,label_train,label_test = train_test_split(df_hostnames['normalized_hostname'], df_hostnames['category'], test_size=0.3)"
   ]
  },
  {
   "cell_type": "markdown",
   "metadata": {},
   "source": [
    "### Criação do pipeline"
   ]
  },
  {
   "cell_type": "code",
   "execution_count": 5,
   "metadata": {
    "collapsed": true
   },
   "outputs": [],
   "source": [
    "pipeline = Pipeline([\n",
    "    ('wordsVector', CountVectorizer(analyzer='char', ngram_range=(3,3), vocabulary=keywords)),\n",
    "    ('tf', TfidfTransformer(use_idf=False)),\n",
    "    ('classifier', MultinomialNB())\n",
    "])"
   ]
  },
  {
   "cell_type": "code",
   "execution_count": 6,
   "metadata": {
    "collapsed": false
   },
   "outputs": [
    {
     "data": {
      "text/plain": [
       "Pipeline(memory=None,\n",
       "     steps=[('wordsVector', CountVectorizer(analyzer='char', binary=False, decode_error='strict',\n",
       "        dtype=<class 'numpy.int64'>, encoding='utf-8', input='content',\n",
       "        lowercase=True, max_df=1.0, max_features=None, min_df=1,\n",
       "        ngram_range=(3, 3), preprocessor=None, stop_words=None,\n",
       "      ...        use_idf=False)), ('classifier', MultinomialNB(alpha=1.0, class_prior=None, fit_prior=True))])"
      ]
     },
     "execution_count": 6,
     "metadata": {},
     "output_type": "execute_result"
    }
   ],
   "source": [
    "pipeline.fit(url_train, label_train)"
   ]
  },
  {
   "cell_type": "code",
   "execution_count": 7,
   "metadata": {
    "collapsed": true
   },
   "outputs": [],
   "source": [
    "predictions = pipeline.predict(url_test)"
   ]
  },
  {
   "cell_type": "code",
   "execution_count": 8,
   "metadata": {
    "collapsed": false
   },
   "outputs": [],
   "source": [
    "#print(predictions)\n",
    "#print(label_test)"
   ]
  },
  {
   "cell_type": "markdown",
   "metadata": {},
   "source": [
    "### Relatório da classificação"
   ]
  },
  {
   "cell_type": "code",
   "execution_count": 9,
   "metadata": {
    "collapsed": false
   },
   "outputs": [
    {
     "name": "stdout",
     "output_type": "stream",
     "text": [
      "                                 precision    recall  f1-score   support\n",
      "\n",
      "                          Adult       0.00      0.00      0.00        29\n",
      "                    Advertising       0.71      0.02      0.03       292\n",
      "               Arts and Culture       0.00      0.00      0.00        45\n",
      "                       Business       0.45      0.03      0.06       725\n",
      "                Content Servers       0.96      0.50      0.66       379\n",
      "                 Domain Parking       0.00      0.00      0.00        18\n",
      "                      Education       0.92      0.05      0.10       232\n",
      "                  Entertainment       0.00      0.00      0.00       106\n",
      "       File Sharing and Storage       1.00      0.51      0.68       121\n",
      "            Finance and Banking       0.00      0.00      0.00        87\n",
      "Freeware and Software Downloads       0.00      0.00      0.00        64\n",
      "                          Games       1.00      0.02      0.04       166\n",
      "            Health and Wellness       0.00      0.00      0.00        49\n",
      "         Information Technology       0.32      0.97      0.48      1928\n",
      "          Internet Radio and TV       0.00      0.00      0.00        22\n",
      "                     Job Search       0.00      0.00      0.00        14\n",
      "           Malicious or Illegal       0.00      0.00      0.00        67\n",
      "            Meaningless Content       0.97      0.16      0.27       196\n",
      "                 News and Media       1.00      0.01      0.02       184\n",
      "  Newsgroups and Message Boards       0.00      0.00      0.00        21\n",
      "                  Organizations       0.67      0.02      0.04        99\n",
      "              Personal Vehicles       0.00      0.00      0.00        38\n",
      "    Personal Websites and Blogs       1.00      0.28      0.43       196\n",
      "                    Real Estate       0.00      0.00      0.00        19\n",
      "                      Reference       0.00      0.00      0.00        78\n",
      "          Restaurant and Dining       0.00      0.00      0.00        14\n",
      "     Search Engines and Portals       0.82      0.61      0.70       805\n",
      "                       Security       0.00      0.00      0.00        21\n",
      "                       Shopping       0.89      0.03      0.06       258\n",
      "              Social Networking       0.99      0.69      0.81       168\n",
      "         Society and Lifestyles       0.00      0.00      0.00        60\n",
      "                         Sports       0.00      0.00      0.00        40\n",
      "   Streaming Media and Download       0.84      0.74      0.79       343\n",
      "                         Travel       0.00      0.00      0.00        64\n",
      "                        Unrated       0.00      0.00      0.00        96\n",
      "                    Web Hosting       0.00      0.00      0.00       145\n",
      "              Web communication       0.00      0.00      0.00        52\n",
      "         Web-based Applications       0.00      0.00      0.00        22\n",
      "\n",
      "                    avg / total       0.55      0.43      0.34      7263\n",
      "\n"
     ]
    },
    {
     "name": "stderr",
     "output_type": "stream",
     "text": [
      "/Users/luanrubensf/anaconda/lib/python3.6/site-packages/sklearn/metrics/classification.py:1135: UndefinedMetricWarning: Precision and F-score are ill-defined and being set to 0.0 in labels with no predicted samples.\n",
      "  'precision', 'predicted', average, warn_for)\n"
     ]
    }
   ],
   "source": [
    "print(classification_report(label_test, predictions))"
   ]
  },
  {
   "cell_type": "code",
   "execution_count": null,
   "metadata": {
    "collapsed": true
   },
   "outputs": [],
   "source": []
  }
 ],
 "metadata": {
  "kernelspec": {
   "display_name": "Python 3",
   "language": "python",
   "name": "python3"
  },
  "language_info": {
   "codemirror_mode": {
    "name": "ipython",
    "version": 3
   },
   "file_extension": ".py",
   "mimetype": "text/x-python",
   "name": "python",
   "nbconvert_exporter": "python",
   "pygments_lexer": "ipython3",
   "version": "3.6.0"
  }
 },
 "nbformat": 4,
 "nbformat_minor": 2
}

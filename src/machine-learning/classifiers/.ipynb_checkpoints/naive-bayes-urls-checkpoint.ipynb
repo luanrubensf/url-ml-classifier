{
 "cells": [
  {
   "cell_type": "markdown",
   "metadata": {},
   "source": [
    "### Naive bayes\n",
    "\n",
    "Implemantação do classificador utilizando Naive Bayes."
   ]
  },
  {
   "cell_type": "code",
   "execution_count": 1,
   "metadata": {
    "collapsed": false
   },
   "outputs": [],
   "source": [
    "import nltk\n",
    "import itertools\n",
    "import pandas as pd\n",
    "\n",
    "from sklearn.feature_extraction.text import CountVectorizer\n",
    "from string import ascii_lowercase\n",
    "\n",
    "from sklearn.feature_extraction.text import TfidfTransformer\n",
    "\n",
    "from sklearn.naive_bayes import MultinomialNB\n",
    "\n",
    "from sklearn.model_selection import train_test_split\n",
    "\n",
    "from sklearn.pipeline import Pipeline\n",
    "\n",
    "from sklearn.metrics import classification_report\n",
    "\n",
    "from pymongo import MongoClient"
   ]
  },
  {
   "cell_type": "code",
   "execution_count": 2,
   "metadata": {
    "collapsed": false
   },
   "outputs": [
    {
     "name": "stdout",
     "output_type": "stream",
     "text": [
      "388133\n"
     ]
    },
    {
     "data": {
      "text/html": [
       "<div>\n",
       "<table border=\"1\" class=\"dataframe\">\n",
       "  <thead>\n",
       "    <tr style=\"text-align: right;\">\n",
       "      <th></th>\n",
       "      <th>_id</th>\n",
       "      <th>catdesc</th>\n",
       "      <th>category</th>\n",
       "      <th>hostname</th>\n",
       "      <th>normalized_hostname</th>\n",
       "      <th>normalized_hostname_url</th>\n",
       "      <th>normalized_url</th>\n",
       "      <th>service</th>\n",
       "      <th>url</th>\n",
       "    </tr>\n",
       "  </thead>\n",
       "  <tbody>\n",
       "    <tr>\n",
       "      <th>0</th>\n",
       "      <td>59a1e31988b032071ef8c495</td>\n",
       "      <td>Information Technology</td>\n",
       "      <td>Information Technology</td>\n",
       "      <td>sb.scorecardresearch.com</td>\n",
       "      <td>scorecardresearch</td>\n",
       "      <td>scorecardresearch</td>\n",
       "      <td></td>\n",
       "      <td>HTTPS</td>\n",
       "      <td>/</td>\n",
       "    </tr>\n",
       "    <tr>\n",
       "      <th>1</th>\n",
       "      <td>59a1e31a88b032071ef8c496</td>\n",
       "      <td>Information Technology</td>\n",
       "      <td>Information Technology</td>\n",
       "      <td>test.com</td>\n",
       "      <td>test</td>\n",
       "      <td>testpartneruidUPcbedebee</td>\n",
       "      <td>partneruidUPcbedebee</td>\n",
       "      <td>HTTP</td>\n",
       "      <td>/?partner_uid=UP47c5b905-0e1d-11e7-b092-00163e...</td>\n",
       "    </tr>\n",
       "    <tr>\n",
       "      <th>2</th>\n",
       "      <td>59a1e31a88b032071ef8c497</td>\n",
       "      <td>Information Technology</td>\n",
       "      <td>Information Technology</td>\n",
       "      <td>nexus-websocket-b.intercom.io</td>\n",
       "      <td>nexuswebsocketbintercom</td>\n",
       "      <td>nexuswebsocketbintercom</td>\n",
       "      <td></td>\n",
       "      <td>HTTPS</td>\n",
       "      <td>/</td>\n",
       "    </tr>\n",
       "    <tr>\n",
       "      <th>3</th>\n",
       "      <td>59a1e31a88b032071ef8c498</td>\n",
       "      <td>Malicious Websites</td>\n",
       "      <td>Malicious or Illegal</td>\n",
       "      <td>aorta.clickagy.com</td>\n",
       "      <td>aortaclickagy</td>\n",
       "      <td>aortaclickagypixelgifadvertiseridgtqxdqpglista...</td>\n",
       "      <td>pixelgifadvertiseridgtqxdqpglistaedjpnobncchcm...</td>\n",
       "      <td>HTTP</td>\n",
       "      <td>/pixel.gif?advertiser_id=1gt8qx97dqpg&amp;list=11a...</td>\n",
       "    </tr>\n",
       "    <tr>\n",
       "      <th>4</th>\n",
       "      <td>59a1e31a88b032071ef8c499</td>\n",
       "      <td>Information Technology</td>\n",
       "      <td>Information Technology</td>\n",
       "      <td>usersync.videoamp.com</td>\n",
       "      <td>usersyncvideoamp</td>\n",
       "      <td>usersyncvideoampusersyncpartneridpartneruserid...</td>\n",
       "      <td>usersyncpartneridpartneruseridredirecthttpsync...</td>\n",
       "      <td>HTTP</td>\n",
       "      <td>/usersync?partner_id=5797361&amp;partner_user_id=4...</td>\n",
       "    </tr>\n",
       "  </tbody>\n",
       "</table>\n",
       "</div>"
      ],
      "text/plain": [
       "                        _id                 catdesc                category  \\\n",
       "0  59a1e31988b032071ef8c495  Information Technology  Information Technology   \n",
       "1  59a1e31a88b032071ef8c496  Information Technology  Information Technology   \n",
       "2  59a1e31a88b032071ef8c497  Information Technology  Information Technology   \n",
       "3  59a1e31a88b032071ef8c498      Malicious Websites    Malicious or Illegal   \n",
       "4  59a1e31a88b032071ef8c499  Information Technology  Information Technology   \n",
       "\n",
       "                        hostname      normalized_hostname  \\\n",
       "0       sb.scorecardresearch.com        scorecardresearch   \n",
       "1                       test.com                     test   \n",
       "2  nexus-websocket-b.intercom.io  nexuswebsocketbintercom   \n",
       "3             aorta.clickagy.com            aortaclickagy   \n",
       "4          usersync.videoamp.com         usersyncvideoamp   \n",
       "\n",
       "                             normalized_hostname_url  \\\n",
       "0                                  scorecardresearch   \n",
       "1                           testpartneruidUPcbedebee   \n",
       "2                            nexuswebsocketbintercom   \n",
       "3  aortaclickagypixelgifadvertiseridgtqxdqpglista...   \n",
       "4  usersyncvideoampusersyncpartneridpartneruserid...   \n",
       "\n",
       "                                      normalized_url service  \\\n",
       "0                                                      HTTPS   \n",
       "1                               partneruidUPcbedebee    HTTP   \n",
       "2                                                      HTTPS   \n",
       "3  pixelgifadvertiseridgtqxdqpglistaedjpnobncchcm...    HTTP   \n",
       "4  usersyncpartneridpartneruseridredirecthttpsync...    HTTP   \n",
       "\n",
       "                                                 url  \n",
       "0                                                  /  \n",
       "1  /?partner_uid=UP47c5b905-0e1d-11e7-b092-00163e...  \n",
       "2                                                  /  \n",
       "3  /pixel.gif?advertiser_id=1gt8qx97dqpg&list=11a...  \n",
       "4  /usersync?partner_id=5797361&partner_user_id=4...  "
      ]
     },
     "execution_count": 2,
     "metadata": {},
     "output_type": "execute_result"
    }
   ],
   "source": [
    "'''\n",
    "Importação dos dados da base\n",
    "'''\n",
    "client = MongoClient()\n",
    "client = MongoClient('localhost', 27800)\n",
    "db = client.network_logs\n",
    "db_unique_urls = db.unique_host_urls\n",
    "\n",
    "df_urls = pd.DataFrame(list(db_unique_urls.find({})))\n",
    "\n",
    "print(len(df_urls))\n",
    "df_urls.head()"
   ]
  },
  {
   "cell_type": "code",
   "execution_count": 3,
   "metadata": {
    "collapsed": false
   },
   "outputs": [
    {
     "data": {
      "text/plain": [
       "17576"
      ]
     },
     "execution_count": 3,
     "metadata": {},
     "output_type": "execute_result"
    }
   ],
   "source": [
    "'''\n",
    "Criação do vocabulário\n",
    "'''\n",
    "keywords = [''.join(trig) for trig in itertools.product(ascii_lowercase, repeat = 3)]\n",
    "len(keywords)"
   ]
  },
  {
   "cell_type": "markdown",
   "metadata": {},
   "source": [
    "### Separação do conjunto"
   ]
  },
  {
   "cell_type": "code",
   "execution_count": 4,
   "metadata": {
    "collapsed": false
   },
   "outputs": [],
   "source": [
    "'''\n",
    "Separação do conjunto de treinamento e validação\n",
    "'''\n",
    "url_train,url_test,label_train,label_test = train_test_split(df_urls['normalized_hostname_url'], df_urls['category'], test_size=0.2)"
   ]
  },
  {
   "cell_type": "markdown",
   "metadata": {},
   "source": [
    "### Criação do pipeline"
   ]
  },
  {
   "cell_type": "code",
   "execution_count": 5,
   "metadata": {
    "collapsed": true
   },
   "outputs": [],
   "source": [
    "pipeline = Pipeline([\n",
    "    ('wordsVector', CountVectorizer(analyzer='char', ngram_range=(3,3), vocabulary=keywords)),\n",
    "    ('tf', TfidfTransformer(use_idf=False)),\n",
    "    ('classifier', MultinomialNB())\n",
    "])"
   ]
  },
  {
   "cell_type": "code",
   "execution_count": 6,
   "metadata": {
    "collapsed": false
   },
   "outputs": [
    {
     "data": {
      "text/plain": [
       "Pipeline(memory=None,\n",
       "     steps=[('wordsVector', CountVectorizer(analyzer='char', binary=False, decode_error='strict',\n",
       "        dtype=<class 'numpy.int64'>, encoding='utf-8', input='content',\n",
       "        lowercase=True, max_df=1.0, max_features=None, min_df=1,\n",
       "        ngram_range=(3, 3), preprocessor=None, stop_words=None,\n",
       "      ...        use_idf=False)), ('classifier', MultinomialNB(alpha=1.0, class_prior=None, fit_prior=True))])"
      ]
     },
     "execution_count": 6,
     "metadata": {},
     "output_type": "execute_result"
    }
   ],
   "source": [
    "pipeline.fit(url_train, label_train)"
   ]
  },
  {
   "cell_type": "code",
   "execution_count": 7,
   "metadata": {
    "collapsed": true
   },
   "outputs": [],
   "source": [
    "predictions = pipeline.predict(url_test)"
   ]
  },
  {
   "cell_type": "markdown",
   "metadata": {},
   "source": [
    "### Relatório da classificação"
   ]
  },
  {
   "cell_type": "code",
   "execution_count": 8,
   "metadata": {
    "collapsed": false
   },
   "outputs": [
    {
     "name": "stdout",
     "output_type": "stream",
     "text": [
      "                                 precision    recall  f1-score   support\n",
      "\n",
      "                          Adult       0.00      0.00      0.00        36\n",
      "                    Advertising       0.88      0.82      0.85     15627\n",
      "               Arts and Culture       0.53      0.12      0.20       334\n",
      "                       Business       0.46      0.78      0.58      8183\n",
      "                Content Servers       0.86      0.77      0.81      4304\n",
      "                 Domain Parking       0.01      0.05      0.02        61\n",
      "                      Education       0.55      0.66      0.60      1728\n",
      "                  Entertainment       0.58      0.54      0.56      1129\n",
      "       File Sharing and Storage       0.75      0.55      0.64       378\n",
      "            Finance and Banking       0.45      0.13      0.21       231\n",
      "Freeware and Software Downloads       0.99      0.76      0.86       993\n",
      "                          Games       0.83      0.67      0.74      1945\n",
      "            Health and Wellness       0.56      0.09      0.16       536\n",
      "         Information Technology       0.76      0.75      0.75     19941\n",
      "          Internet Radio and TV       0.76      0.68      0.72       373\n",
      "                     Job Search       0.00      0.00      0.00        76\n",
      "           Malicious or Illegal       0.29      0.59      0.39       387\n",
      "            Meaningless Content       0.63      0.43      0.51      1117\n",
      "                 News and Media       0.44      0.67      0.53      1876\n",
      "  Newsgroups and Message Boards       0.03      0.02      0.02       128\n",
      "                  Organizations       0.77      0.81      0.79      1380\n",
      "              Personal Vehicles       0.95      0.36      0.53       526\n",
      "    Personal Websites and Blogs       0.66      0.60      0.63      1046\n",
      "                    Real Estate       0.51      0.30      0.38       182\n",
      "                      Reference       0.93      0.39      0.55       574\n",
      "          Restaurant and Dining       0.20      0.01      0.02       104\n",
      "     Search Engines and Portals       0.78      0.57      0.66      5614\n",
      "                       Security       0.31      0.75      0.44       291\n",
      "                       Shopping       0.78      0.74      0.76      3416\n",
      "              Social Networking       0.99      0.75      0.85       714\n",
      "         Society and Lifestyles       0.80      0.32      0.46       501\n",
      "                         Sports       0.91      0.27      0.42       645\n",
      "   Streaming Media and Download       0.51      0.61      0.56       692\n",
      "                         Travel       0.95      0.30      0.46       481\n",
      "                        Unrated       0.16      0.06      0.08       359\n",
      "                    Web Hosting       0.40      0.31      0.35      1539\n",
      "              Web communication       0.06      0.13      0.08        93\n",
      "         Web-based Applications       0.11      0.34      0.17        87\n",
      "\n",
      "                    avg / total       0.73      0.69      0.70     77627\n",
      "\n"
     ]
    }
   ],
   "source": [
    "print(classification_report(label_test, predictions))"
   ]
  },
  {
   "cell_type": "code",
   "execution_count": null,
   "metadata": {
    "collapsed": true
   },
   "outputs": [],
   "source": []
  }
 ],
 "metadata": {
  "kernelspec": {
   "display_name": "Python 3",
   "language": "python",
   "name": "python3"
  },
  "language_info": {
   "codemirror_mode": {
    "name": "ipython",
    "version": 3
   },
   "file_extension": ".py",
   "mimetype": "text/x-python",
   "name": "python",
   "nbconvert_exporter": "python",
   "pygments_lexer": "ipython3",
   "version": "3.6.0"
  }
 },
 "nbformat": 4,
 "nbformat_minor": 2
}

{
 "cells": [
  {
   "cell_type": "markdown",
   "metadata": {},
   "source": [
    "### Naive bayes (ODP data set)\n",
    "\n",
    "Implemantação do classificador utilizando Naive Bayes."
   ]
  },
  {
   "cell_type": "code",
   "execution_count": 1,
   "metadata": {
    "collapsed": false
   },
   "outputs": [],
   "source": [
    "import nltk\n",
    "import itertools\n",
    "import pandas as pd\n",
    "\n",
    "from sklearn.feature_extraction.text import CountVectorizer\n",
    "from string import ascii_lowercase\n",
    "\n",
    "from sklearn.feature_extraction.text import TfidfTransformer\n",
    "\n",
    "from sklearn.naive_bayes import MultinomialNB\n",
    "\n",
    "from sklearn.model_selection import train_test_split\n",
    "\n",
    "from sklearn.pipeline import Pipeline\n",
    "\n",
    "from sklearn.metrics import classification_report\n",
    "\n",
    "from pymongo import MongoClient"
   ]
  },
  {
   "cell_type": "code",
   "execution_count": 2,
   "metadata": {
    "collapsed": false
   },
   "outputs": [
    {
     "name": "stdout",
     "output_type": "stream",
     "text": [
      "1562978\n"
     ]
    },
    {
     "data": {
      "text/html": [
       "<div>\n",
       "<table border=\"1\" class=\"dataframe\">\n",
       "  <thead>\n",
       "    <tr style=\"text-align: right;\">\n",
       "      <th></th>\n",
       "      <th>_id</th>\n",
       "      <th>category</th>\n",
       "      <th>normalized_url</th>\n",
       "      <th>url</th>\n",
       "    </tr>\n",
       "  </thead>\n",
       "  <tbody>\n",
       "    <tr>\n",
       "      <th>0</th>\n",
       "      <td>59a2ed3d88b03213aca8fcd4</td>\n",
       "      <td>Adult</td>\n",
       "      <td>liquidgeneration</td>\n",
       "      <td>http://www.liquidgeneration.com/</td>\n",
       "    </tr>\n",
       "    <tr>\n",
       "      <th>1</th>\n",
       "      <td>59a2ed3e88b03213aca8fcd5</td>\n",
       "      <td>Adult</td>\n",
       "      <td>onlineanimeorg</td>\n",
       "      <td>http://www.onlineanime.org/</td>\n",
       "    </tr>\n",
       "    <tr>\n",
       "      <th>2</th>\n",
       "      <td>59a2ed3e88b03213aca8fcd6</td>\n",
       "      <td>Adult</td>\n",
       "      <td>ceresdtinekoisennosenfirst</td>\n",
       "      <td>http://www.ceres.dti.ne.jp/~nekoi/senno/senfir...</td>\n",
       "    </tr>\n",
       "    <tr>\n",
       "      <th>3</th>\n",
       "      <td>59a2ed3e88b03213aca8fcd7</td>\n",
       "      <td>Adult</td>\n",
       "      <td>galeonkmh</td>\n",
       "      <td>http://www.galeon.com/kmh/</td>\n",
       "    </tr>\n",
       "    <tr>\n",
       "      <th>4</th>\n",
       "      <td>59a2ed3e88b03213aca8fcd8</td>\n",
       "      <td>Adult</td>\n",
       "      <td>fanworkrecs</td>\n",
       "      <td>http://www.fanworkrecs.com/</td>\n",
       "    </tr>\n",
       "  </tbody>\n",
       "</table>\n",
       "</div>"
      ],
      "text/plain": [
       "                        _id category              normalized_url  \\\n",
       "0  59a2ed3d88b03213aca8fcd4    Adult            liquidgeneration   \n",
       "1  59a2ed3e88b03213aca8fcd5    Adult              onlineanimeorg   \n",
       "2  59a2ed3e88b03213aca8fcd6    Adult  ceresdtinekoisennosenfirst   \n",
       "3  59a2ed3e88b03213aca8fcd7    Adult                   galeonkmh   \n",
       "4  59a2ed3e88b03213aca8fcd8    Adult                 fanworkrecs   \n",
       "\n",
       "                                                 url  \n",
       "0                   http://www.liquidgeneration.com/  \n",
       "1                        http://www.onlineanime.org/  \n",
       "2  http://www.ceres.dti.ne.jp/~nekoi/senno/senfir...  \n",
       "3                         http://www.galeon.com/kmh/  \n",
       "4                        http://www.fanworkrecs.com/  "
      ]
     },
     "execution_count": 2,
     "metadata": {},
     "output_type": "execute_result"
    }
   ],
   "source": [
    "'''\n",
    "Importação dos dados da base\n",
    "'''\n",
    "client = MongoClient()\n",
    "client = MongoClient('localhost', 27800)\n",
    "db = client.odp_logs\n",
    "db_log_lines = db.log_lines\n",
    "\n",
    "df_urls = pd.DataFrame(list(db_log_lines.find({})))\n",
    "\n",
    "print(len(df_urls))\n",
    "df_urls.head()"
   ]
  },
  {
   "cell_type": "code",
   "execution_count": 3,
   "metadata": {
    "collapsed": false
   },
   "outputs": [
    {
     "data": {
      "text/plain": [
       "17576"
      ]
     },
     "execution_count": 3,
     "metadata": {},
     "output_type": "execute_result"
    }
   ],
   "source": [
    "'''\n",
    "Criação do vocabulário\n",
    "'''\n",
    "keywords = [''.join(trig) for trig in itertools.product(ascii_lowercase, repeat = 3)]\n",
    "len(keywords)"
   ]
  },
  {
   "cell_type": "markdown",
   "metadata": {},
   "source": [
    "### Separação do conjunto"
   ]
  },
  {
   "cell_type": "code",
   "execution_count": 4,
   "metadata": {
    "collapsed": true
   },
   "outputs": [],
   "source": [
    "'''\n",
    "Separação do conjunto de treinamento e validação\n",
    "'''\n",
    "data = df_urls['normalized_url']\n",
    "labels = df_urls['category']\n",
    "\n",
    "url_train,url_test,label_train,label_test = train_test_split(data, labels, test_size=0.3)"
   ]
  },
  {
   "cell_type": "markdown",
   "metadata": {},
   "source": [
    "### Criação do pipeline"
   ]
  },
  {
   "cell_type": "code",
   "execution_count": 5,
   "metadata": {
    "collapsed": true
   },
   "outputs": [],
   "source": [
    "pipeline = Pipeline([\n",
    "    ('wordsVector', CountVectorizer(analyzer='char', ngram_range=(3,3), vocabulary=keywords)),\n",
    "    ('tf', TfidfTransformer(use_idf=False)),\n",
    "    ('classifier', MultinomialNB())\n",
    "])"
   ]
  },
  {
   "cell_type": "code",
   "execution_count": 6,
   "metadata": {
    "collapsed": false
   },
   "outputs": [
    {
     "data": {
      "text/plain": [
       "Pipeline(memory=None,\n",
       "     steps=[('wordsVector', CountVectorizer(analyzer='char', binary=False, decode_error='strict',\n",
       "        dtype=<class 'numpy.int64'>, encoding='utf-8', input='content',\n",
       "        lowercase=True, max_df=1.0, max_features=None, min_df=1,\n",
       "        ngram_range=(3, 3), preprocessor=None, stop_words=None,\n",
       "      ...        use_idf=False)), ('classifier', MultinomialNB(alpha=1.0, class_prior=None, fit_prior=True))])"
      ]
     },
     "execution_count": 6,
     "metadata": {},
     "output_type": "execute_result"
    }
   ],
   "source": [
    "pipeline.fit(url_train, label_train)"
   ]
  },
  {
   "cell_type": "code",
   "execution_count": 7,
   "metadata": {
    "collapsed": true
   },
   "outputs": [],
   "source": [
    "predictions = pipeline.predict(url_test)"
   ]
  },
  {
   "cell_type": "markdown",
   "metadata": {},
   "source": [
    "### Relatório da classificação"
   ]
  },
  {
   "cell_type": "code",
   "execution_count": 8,
   "metadata": {
    "collapsed": false
   },
   "outputs": [
    {
     "name": "stdout",
     "output_type": "stream",
     "text": [
      "             precision    recall  f1-score   support\n",
      "\n",
      "      Adult       0.85      0.36      0.50     10635\n",
      "       Arts       0.40      0.59      0.48     76136\n",
      "   Business       0.34      0.64      0.44     72281\n",
      "  Computers       0.53      0.28      0.37     35412\n",
      "      Games       0.70      0.42      0.52     16881\n",
      "     Health       0.67      0.20      0.31     17845\n",
      "       Home       0.89      0.29      0.44      8479\n",
      "       Kids       0.60      0.10      0.17     13803\n",
      "       News       0.33      0.02      0.03      2621\n",
      " Recreation       0.47      0.22      0.29     32054\n",
      "  Reference       0.46      0.36      0.40     17532\n",
      "    Science       0.52      0.34      0.41     33139\n",
      "   Shopping       0.42      0.14      0.21     28564\n",
      "    Society       0.42      0.55      0.48     73151\n",
      "     Sports       0.65      0.43      0.52     30361\n",
      "\n",
      "avg / total       0.48      0.43      0.41    468894\n",
      "\n"
     ]
    }
   ],
   "source": [
    "print(classification_report(label_test, predictions))"
   ]
  },
  {
   "cell_type": "code",
   "execution_count": null,
   "metadata": {
    "collapsed": true
   },
   "outputs": [],
   "source": []
  }
 ],
 "metadata": {
  "kernelspec": {
   "display_name": "Python 3",
   "language": "python",
   "name": "python3"
  },
  "language_info": {
   "codemirror_mode": {
    "name": "ipython",
    "version": 3
   },
   "file_extension": ".py",
   "mimetype": "text/x-python",
   "name": "python",
   "nbconvert_exporter": "python",
   "pygments_lexer": "ipython3",
   "version": "3.6.0"
  }
 },
 "nbformat": 4,
 "nbformat_minor": 2
}

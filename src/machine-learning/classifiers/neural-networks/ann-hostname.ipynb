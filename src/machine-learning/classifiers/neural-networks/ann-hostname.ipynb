{
 "cells": [
  {
   "cell_type": "markdown",
   "metadata": {},
   "source": [
    "### Redes neurais\n",
    "\n",
    "Implemantação do classificador utilizando redes neurais."
   ]
  },
  {
   "cell_type": "code",
   "execution_count": 1,
   "metadata": {
    "collapsed": false
   },
   "outputs": [],
   "source": [
    "import nltk\n",
    "import itertools\n",
    "\n",
    "import pandas as pd\n",
    "import matplotlib.pyplot as plt\n",
    "import numpy as np\n",
    "\n",
    "from sklearn.feature_extraction.text import CountVectorizer\n",
    "from string import ascii_lowercase\n",
    "\n",
    "from sklearn.feature_extraction.text import TfidfTransformer\n",
    "\n",
    "from sklearn.neural_network import MLPClassifier\n",
    "from sklearn.ensemble import BaggingClassifier\n",
    "from sklearn.model_selection import train_test_split\n",
    "\n",
    "from sklearn.metrics import classification_report,accuracy_score\n",
    "\n",
    "from pymongo import MongoClient\n",
    "\n",
    "%matplotlib inline"
   ]
  },
  {
   "cell_type": "code",
   "execution_count": 2,
   "metadata": {
    "collapsed": false
   },
   "outputs": [
    {
     "name": "stdout",
     "output_type": "stream",
     "text": [
      "24208\n"
     ]
    },
    {
     "data": {
      "text/html": [
       "<div>\n",
       "<table border=\"1\" class=\"dataframe\">\n",
       "  <thead>\n",
       "    <tr style=\"text-align: right;\">\n",
       "      <th></th>\n",
       "      <th>_id</th>\n",
       "      <th>catdesc</th>\n",
       "      <th>category</th>\n",
       "      <th>hostname</th>\n",
       "      <th>normalized_hostname</th>\n",
       "      <th>normalized_hostname_url</th>\n",
       "      <th>normalized_url</th>\n",
       "      <th>service</th>\n",
       "      <th>url</th>\n",
       "    </tr>\n",
       "  </thead>\n",
       "  <tbody>\n",
       "    <tr>\n",
       "      <th>0</th>\n",
       "      <td>59a1e31988b032071ef8c495</td>\n",
       "      <td>Information Technology</td>\n",
       "      <td>Information Technology</td>\n",
       "      <td>sb.scorecardresearch.com</td>\n",
       "      <td>scorecardresearch</td>\n",
       "      <td>scorecardresearch</td>\n",
       "      <td></td>\n",
       "      <td>HTTPS</td>\n",
       "      <td>/</td>\n",
       "    </tr>\n",
       "    <tr>\n",
       "      <th>1</th>\n",
       "      <td>59a1e31a88b032071ef8c496</td>\n",
       "      <td>Information Technology</td>\n",
       "      <td>Information Technology</td>\n",
       "      <td>test.com</td>\n",
       "      <td>test</td>\n",
       "      <td>testpartneruidUPcbedebee</td>\n",
       "      <td>partneruidUPcbedebee</td>\n",
       "      <td>HTTP</td>\n",
       "      <td>/?partner_uid=UP47c5b905-0e1d-11e7-b092-00163e...</td>\n",
       "    </tr>\n",
       "    <tr>\n",
       "      <th>2</th>\n",
       "      <td>59a1e31a88b032071ef8c497</td>\n",
       "      <td>Information Technology</td>\n",
       "      <td>Information Technology</td>\n",
       "      <td>nexus-websocket-b.intercom.io</td>\n",
       "      <td>nexuswebsocketbintercom</td>\n",
       "      <td>nexuswebsocketbintercom</td>\n",
       "      <td></td>\n",
       "      <td>HTTPS</td>\n",
       "      <td>/</td>\n",
       "    </tr>\n",
       "    <tr>\n",
       "      <th>3</th>\n",
       "      <td>59a1e31a88b032071ef8c498</td>\n",
       "      <td>Malicious Websites</td>\n",
       "      <td>Malicious or Illegal</td>\n",
       "      <td>aorta.clickagy.com</td>\n",
       "      <td>aortaclickagy</td>\n",
       "      <td>aortaclickagypixelgifadvertiseridgtqxdqpglista...</td>\n",
       "      <td>pixelgifadvertiseridgtqxdqpglistaedjpnobncchcm...</td>\n",
       "      <td>HTTP</td>\n",
       "      <td>/pixel.gif?advertiser_id=1gt8qx97dqpg&amp;list=11a...</td>\n",
       "    </tr>\n",
       "    <tr>\n",
       "      <th>4</th>\n",
       "      <td>59a1e31a88b032071ef8c499</td>\n",
       "      <td>Information Technology</td>\n",
       "      <td>Information Technology</td>\n",
       "      <td>usersync.videoamp.com</td>\n",
       "      <td>usersyncvideoamp</td>\n",
       "      <td>usersyncvideoampusersyncpartneridpartneruserid...</td>\n",
       "      <td>usersyncpartneridpartneruseridredirecthttpsync...</td>\n",
       "      <td>HTTP</td>\n",
       "      <td>/usersync?partner_id=5797361&amp;partner_user_id=4...</td>\n",
       "    </tr>\n",
       "  </tbody>\n",
       "</table>\n",
       "</div>"
      ],
      "text/plain": [
       "                        _id                 catdesc                category  \\\n",
       "0  59a1e31988b032071ef8c495  Information Technology  Information Technology   \n",
       "1  59a1e31a88b032071ef8c496  Information Technology  Information Technology   \n",
       "2  59a1e31a88b032071ef8c497  Information Technology  Information Technology   \n",
       "3  59a1e31a88b032071ef8c498      Malicious Websites    Malicious or Illegal   \n",
       "4  59a1e31a88b032071ef8c499  Information Technology  Information Technology   \n",
       "\n",
       "                        hostname      normalized_hostname  \\\n",
       "0       sb.scorecardresearch.com        scorecardresearch   \n",
       "1                       test.com                     test   \n",
       "2  nexus-websocket-b.intercom.io  nexuswebsocketbintercom   \n",
       "3             aorta.clickagy.com            aortaclickagy   \n",
       "4          usersync.videoamp.com         usersyncvideoamp   \n",
       "\n",
       "                             normalized_hostname_url  \\\n",
       "0                                  scorecardresearch   \n",
       "1                           testpartneruidUPcbedebee   \n",
       "2                            nexuswebsocketbintercom   \n",
       "3  aortaclickagypixelgifadvertiseridgtqxdqpglista...   \n",
       "4  usersyncvideoampusersyncpartneridpartneruserid...   \n",
       "\n",
       "                                      normalized_url service  \\\n",
       "0                                                      HTTPS   \n",
       "1                               partneruidUPcbedebee    HTTP   \n",
       "2                                                      HTTPS   \n",
       "3  pixelgifadvertiseridgtqxdqpglistaedjpnobncchcm...    HTTP   \n",
       "4  usersyncpartneridpartneruseridredirecthttpsync...    HTTP   \n",
       "\n",
       "                                                 url  \n",
       "0                                                  /  \n",
       "1  /?partner_uid=UP47c5b905-0e1d-11e7-b092-00163e...  \n",
       "2                                                  /  \n",
       "3  /pixel.gif?advertiser_id=1gt8qx97dqpg&list=11a...  \n",
       "4  /usersync?partner_id=5797361&partner_user_id=4...  "
      ]
     },
     "execution_count": 2,
     "metadata": {},
     "output_type": "execute_result"
    }
   ],
   "source": [
    "'''\n",
    "Importação dos dados da base\n",
    "'''\n",
    "client = MongoClient()\n",
    "client = MongoClient('localhost', 27800)\n",
    "db = client.network_logs\n",
    "db_unique_hostnames = db.unique_hostnames\n",
    "\n",
    "df_hostnames = pd.DataFrame(list(db_unique_hostnames.find({})))\n",
    "\n",
    "print(len(df_hostnames))\n",
    "df_hostnames.head()"
   ]
  },
  {
   "cell_type": "code",
   "execution_count": 3,
   "metadata": {
    "collapsed": false
   },
   "outputs": [
    {
     "data": {
      "text/plain": [
       "17576"
      ]
     },
     "execution_count": 3,
     "metadata": {},
     "output_type": "execute_result"
    }
   ],
   "source": [
    "'''\n",
    "Criação do vocabulário\n",
    "'''\n",
    "keywords = [''.join(trig) for trig in itertools.product(ascii_lowercase, repeat = 3)]\n",
    "len(keywords)"
   ]
  },
  {
   "cell_type": "markdown",
   "metadata": {},
   "source": [
    "### Vetorização e frequência dos termos"
   ]
  },
  {
   "cell_type": "code",
   "execution_count": 4,
   "metadata": {
    "collapsed": true
   },
   "outputs": [],
   "source": [
    "count_vectorizer = CountVectorizer(analyzer='char', ngram_range=(3,3), vocabulary=keywords)\n",
    "words_vector = count_vectorizer.transform(df_hostnames['normalized_hostname'])\n",
    "tf_transformer = TfidfTransformer(use_idf=False).fit(words_vector)\n",
    "urls_tf = tf_transformer.transform(words_vector)\n",
    "urls_tf = urls_tf.toarray()"
   ]
  },
  {
   "cell_type": "code",
   "execution_count": 5,
   "metadata": {
    "collapsed": false
   },
   "outputs": [
    {
     "name": "stdout",
     "output_type": "stream",
     "text": [
      "(24208, 17576)\n"
     ]
    },
    {
     "data": {
      "text/plain": [
       "array([ 0.,  0.,  0., ...,  0.,  0.,  0.])"
      ]
     },
     "execution_count": 5,
     "metadata": {},
     "output_type": "execute_result"
    }
   ],
   "source": [
    "print(urls_tf.shape)\n",
    "urls_tf[0]"
   ]
  },
  {
   "cell_type": "markdown",
   "metadata": {},
   "source": [
    "### Separação do conjunto"
   ]
  },
  {
   "cell_type": "code",
   "execution_count": 6,
   "metadata": {
    "collapsed": true
   },
   "outputs": [],
   "source": [
    "labels = df_hostnames['category']\n",
    "url_train,url_test,label_train,label_test = train_test_split(urls_tf, labels, test_size=0.2)"
   ]
  },
  {
   "cell_type": "markdown",
   "metadata": {},
   "source": [
    "### Classificação e teste"
   ]
  },
  {
   "cell_type": "code",
   "execution_count": 7,
   "metadata": {
    "collapsed": false
   },
   "outputs": [],
   "source": [
    "#classifier_model = MLPClassifier(hidden_layer_sizes=(200, ),max_iter=600)\n",
    "#bagging = BaggingClassifier(classifier_model,n_estimators=30, max_features=0.9,max_samples=0.7)\n",
    "#bagging.fit(url_train,label_train)"
   ]
  },
  {
   "cell_type": "code",
   "execution_count": null,
   "metadata": {
    "collapsed": true
   },
   "outputs": [],
   "source": [
    "#predictions = classifier_model.predict(url_test)"
   ]
  },
  {
   "cell_type": "code",
   "execution_count": null,
   "metadata": {
    "collapsed": false
   },
   "outputs": [],
   "source": [
    "#0.52375051631557212\n",
    "#0.53283767038413876\n",
    "#0.4607600165220983\n",
    "#0.56278397356464271\n",
    "classifier_model_f = MLPClassifier(hidden_layer_sizes=(500,500,600),max_iter=650, activation='logistic')\n",
    "classifier_model_f.fit(url_train,label_train)"
   ]
  },
  {
   "cell_type": "code",
   "execution_count": null,
   "metadata": {
    "collapsed": true
   },
   "outputs": [],
   "source": [
    "predictions = classifier_model_f.predict(url_test)"
   ]
  },
  {
   "cell_type": "markdown",
   "metadata": {},
   "source": [
    "### Relatório de classificação"
   ]
  },
  {
   "cell_type": "code",
   "execution_count": null,
   "metadata": {
    "collapsed": false
   },
   "outputs": [],
   "source": [
    "print(classification_report(label_test, predictions))"
   ]
  },
  {
   "cell_type": "code",
   "execution_count": null,
   "metadata": {
    "collapsed": false
   },
   "outputs": [],
   "source": [
    "model_accuracy = accuracy_score(label_test, predictions)\n",
    "model_accuracy"
   ]
  },
  {
   "cell_type": "code",
   "execution_count": null,
   "metadata": {
    "collapsed": true
   },
   "outputs": [],
   "source": []
  }
 ],
 "metadata": {
  "kernelspec": {
   "display_name": "Python 3",
   "language": "python",
   "name": "python3"
  },
  "language_info": {
   "codemirror_mode": {
    "name": "ipython",
    "version": 3
   },
   "file_extension": ".py",
   "mimetype": "text/x-python",
   "name": "python",
   "nbconvert_exporter": "python",
   "pygments_lexer": "ipython3",
   "version": "3.6.0"
  }
 },
 "nbformat": 4,
 "nbformat_minor": 2
}

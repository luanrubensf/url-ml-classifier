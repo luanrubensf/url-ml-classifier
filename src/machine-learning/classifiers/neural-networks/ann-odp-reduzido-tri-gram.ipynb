{
 "cells": [
  {
   "cell_type": "markdown",
   "metadata": {},
   "source": [
    "### Redes neurais\n",
    "\n",
    "Implemantação do classificador utilizando redes neurais."
   ]
  },
  {
   "cell_type": "code",
   "execution_count": 1,
   "metadata": {
    "collapsed": false
   },
   "outputs": [],
   "source": [
    "import pandas as pd\n",
    "import matplotlib.pyplot as plt\n",
    "import numpy as np\n",
    "\n",
    "from sklearn.feature_extraction.text import CountVectorizer\n",
    "from string import ascii_lowercase\n",
    "\n",
    "from sklearn.feature_extraction.text import TfidfTransformer\n",
    "\n",
    "from sklearn.neural_network import MLPClassifier\n",
    "from sklearn.model_selection import train_test_split\n",
    "\n",
    "from sklearn.metrics import classification_report,accuracy_score\n",
    "\n",
    "%matplotlib inline"
   ]
  },
  {
   "cell_type": "code",
   "execution_count": 2,
   "metadata": {
    "collapsed": true
   },
   "outputs": [],
   "source": [
    "random_state = 47\n",
    "np.random.seed(seed=random_state)"
   ]
  },
  {
   "cell_type": "code",
   "execution_count": 3,
   "metadata": {
    "collapsed": false
   },
   "outputs": [
    {
     "name": "stdout",
     "output_type": "stream",
     "text": [
      "15000\n",
      "15000\n"
     ]
    },
    {
     "data": {
      "text/html": [
       "<div>\n",
       "<table border=\"1\" class=\"dataframe\">\n",
       "  <thead>\n",
       "    <tr style=\"text-align: right;\">\n",
       "      <th></th>\n",
       "      <th>_id</th>\n",
       "      <th>category</th>\n",
       "      <th>normalized_url</th>\n",
       "      <th>url</th>\n",
       "    </tr>\n",
       "  </thead>\n",
       "  <tbody>\n",
       "    <tr>\n",
       "      <th>0</th>\n",
       "      <td>59a2ed6388b03213aca967aa</td>\n",
       "      <td>Adult</td>\n",
       "      <td>heisseeisen</td>\n",
       "      <td>http://www.heisse-eisen.de/</td>\n",
       "    </tr>\n",
       "    <tr>\n",
       "      <th>1</th>\n",
       "      <td>59a2ed4788b03213aca91a2d</td>\n",
       "      <td>Adult</td>\n",
       "      <td>nakedsportsmen</td>\n",
       "      <td>http://www.nakedsportsmen.com/</td>\n",
       "    </tr>\n",
       "    <tr>\n",
       "      <th>2</th>\n",
       "      <td>59a2ed4c88b03213aca9294e</td>\n",
       "      <td>Adult</td>\n",
       "      <td>daddyswap</td>\n",
       "      <td>http://www.daddyswap.com/</td>\n",
       "    </tr>\n",
       "    <tr>\n",
       "      <th>3</th>\n",
       "      <td>59a2ed6588b03213aca96b47</td>\n",
       "      <td>Adult</td>\n",
       "      <td>sexpalastgelsenkirchen</td>\n",
       "      <td>http://www.sexpalast-gelsenkirchen.de/</td>\n",
       "    </tr>\n",
       "    <tr>\n",
       "      <th>4</th>\n",
       "      <td>59a2ed6e88b03213aca9848b</td>\n",
       "      <td>Adult</td>\n",
       "      <td>geocitiesruoskanet</td>\n",
       "      <td>http://www.geocities.com/ruoskanet/</td>\n",
       "    </tr>\n",
       "  </tbody>\n",
       "</table>\n",
       "</div>"
      ],
      "text/plain": [
       "                        _id category          normalized_url  \\\n",
       "0  59a2ed6388b03213aca967aa    Adult             heisseeisen   \n",
       "1  59a2ed4788b03213aca91a2d    Adult          nakedsportsmen   \n",
       "2  59a2ed4c88b03213aca9294e    Adult               daddyswap   \n",
       "3  59a2ed6588b03213aca96b47    Adult  sexpalastgelsenkirchen   \n",
       "4  59a2ed6e88b03213aca9848b    Adult      geocitiesruoskanet   \n",
       "\n",
       "                                      url  \n",
       "0             http://www.heisse-eisen.de/  \n",
       "1          http://www.nakedsportsmen.com/  \n",
       "2               http://www.daddyswap.com/  \n",
       "3  http://www.sexpalast-gelsenkirchen.de/  \n",
       "4     http://www.geocities.com/ruoskanet/  "
      ]
     },
     "execution_count": 3,
     "metadata": {},
     "output_type": "execute_result"
    }
   ],
   "source": [
    "'''\n",
    "Importação dos dados da base\n",
    "'''\n",
    "\n",
    "df_hostnames = pd.read_csv('../../../data/odp_reduzido_15.csv')\n",
    "\n",
    "print(len(df_hostnames))\n",
    "\n",
    "df_hostnames = df_hostnames.dropna()\n",
    "\n",
    "print(len(df_hostnames))\n",
    "df_hostnames.head()"
   ]
  },
  {
   "cell_type": "code",
   "execution_count": 4,
   "metadata": {
    "collapsed": true
   },
   "outputs": [],
   "source": [
    "dict_cat = {\n",
    "    'Adult': 0,\n",
    "    'Arts': 1,\n",
    "    'Business': 2,\n",
    "    'Computers': 3,\n",
    "    'Games': 4,\n",
    "    'Health': 5,\n",
    "    'Home': 6,\n",
    "    'Kids': 7,\n",
    "    'News': 8,\n",
    "    'Recreation': 9,\n",
    "    'Reference': 10,\n",
    "    'Science': 11,\n",
    "    'Shopping': 12,\n",
    "    'Society': 13,\n",
    "    'Sports': 14\n",
    "}\n",
    "\n",
    "def to_category_id(item):\n",
    "    return dict_cat[item]"
   ]
  },
  {
   "cell_type": "code",
   "execution_count": 5,
   "metadata": {
    "collapsed": false
   },
   "outputs": [
    {
     "data": {
      "text/html": [
       "<div>\n",
       "<table border=\"1\" class=\"dataframe\">\n",
       "  <thead>\n",
       "    <tr style=\"text-align: right;\">\n",
       "      <th></th>\n",
       "      <th>_id</th>\n",
       "      <th>category</th>\n",
       "      <th>normalized_url</th>\n",
       "      <th>url</th>\n",
       "      <th>cat_id</th>\n",
       "    </tr>\n",
       "  </thead>\n",
       "  <tbody>\n",
       "    <tr>\n",
       "      <th>0</th>\n",
       "      <td>59a2ed6388b03213aca967aa</td>\n",
       "      <td>Adult</td>\n",
       "      <td>heisseeisen</td>\n",
       "      <td>http://www.heisse-eisen.de/</td>\n",
       "      <td>0</td>\n",
       "    </tr>\n",
       "    <tr>\n",
       "      <th>1</th>\n",
       "      <td>59a2ed4788b03213aca91a2d</td>\n",
       "      <td>Adult</td>\n",
       "      <td>nakedsportsmen</td>\n",
       "      <td>http://www.nakedsportsmen.com/</td>\n",
       "      <td>0</td>\n",
       "    </tr>\n",
       "    <tr>\n",
       "      <th>2</th>\n",
       "      <td>59a2ed4c88b03213aca9294e</td>\n",
       "      <td>Adult</td>\n",
       "      <td>daddyswap</td>\n",
       "      <td>http://www.daddyswap.com/</td>\n",
       "      <td>0</td>\n",
       "    </tr>\n",
       "    <tr>\n",
       "      <th>3</th>\n",
       "      <td>59a2ed6588b03213aca96b47</td>\n",
       "      <td>Adult</td>\n",
       "      <td>sexpalastgelsenkirchen</td>\n",
       "      <td>http://www.sexpalast-gelsenkirchen.de/</td>\n",
       "      <td>0</td>\n",
       "    </tr>\n",
       "    <tr>\n",
       "      <th>4</th>\n",
       "      <td>59a2ed6e88b03213aca9848b</td>\n",
       "      <td>Adult</td>\n",
       "      <td>geocitiesruoskanet</td>\n",
       "      <td>http://www.geocities.com/ruoskanet/</td>\n",
       "      <td>0</td>\n",
       "    </tr>\n",
       "  </tbody>\n",
       "</table>\n",
       "</div>"
      ],
      "text/plain": [
       "                        _id category          normalized_url  \\\n",
       "0  59a2ed6388b03213aca967aa    Adult             heisseeisen   \n",
       "1  59a2ed4788b03213aca91a2d    Adult          nakedsportsmen   \n",
       "2  59a2ed4c88b03213aca9294e    Adult               daddyswap   \n",
       "3  59a2ed6588b03213aca96b47    Adult  sexpalastgelsenkirchen   \n",
       "4  59a2ed6e88b03213aca9848b    Adult      geocitiesruoskanet   \n",
       "\n",
       "                                      url  cat_id  \n",
       "0             http://www.heisse-eisen.de/       0  \n",
       "1          http://www.nakedsportsmen.com/       0  \n",
       "2               http://www.daddyswap.com/       0  \n",
       "3  http://www.sexpalast-gelsenkirchen.de/       0  \n",
       "4     http://www.geocities.com/ruoskanet/       0  "
      ]
     },
     "execution_count": 5,
     "metadata": {},
     "output_type": "execute_result"
    }
   ],
   "source": [
    "df_hostnames['cat_id'] = df_hostnames['category'].apply(to_category_id)\n",
    "df_hostnames.head()"
   ]
  },
  {
   "cell_type": "markdown",
   "metadata": {},
   "source": [
    "### Vetorização e frequência dos termos"
   ]
  },
  {
   "cell_type": "code",
   "execution_count": 6,
   "metadata": {
    "collapsed": true
   },
   "outputs": [],
   "source": [
    "X = df_hostnames['normalized_url']\n",
    "Y = df_hostnames['cat_id']"
   ]
  },
  {
   "cell_type": "code",
   "execution_count": 7,
   "metadata": {
    "collapsed": false
   },
   "outputs": [
    {
     "data": {
      "text/plain": [
       "669"
      ]
     },
     "execution_count": 7,
     "metadata": {},
     "output_type": "execute_result"
    }
   ],
   "source": [
    "count_vectorizer = CountVectorizer(analyzer='char', ngram_range=(2,2))\n",
    "count_vectorizer.fit(X)\n",
    "len(count_vectorizer.vocabulary_)"
   ]
  },
  {
   "cell_type": "code",
   "execution_count": 8,
   "metadata": {
    "collapsed": false
   },
   "outputs": [],
   "source": [
    "words_vector = count_vectorizer.transform(X)"
   ]
  },
  {
   "cell_type": "code",
   "execution_count": 9,
   "metadata": {
    "collapsed": false
   },
   "outputs": [],
   "source": [
    "tf_transformer = TfidfTransformer(use_idf=True).fit(words_vector)\n",
    "urls_tf = tf_transformer.transform(words_vector)"
   ]
  },
  {
   "cell_type": "code",
   "execution_count": 10,
   "metadata": {
    "collapsed": false
   },
   "outputs": [
    {
     "name": "stdout",
     "output_type": "stream",
     "text": [
      "(15000, 669)\n"
     ]
    },
    {
     "data": {
      "text/plain": [
       "<1x669 sparse matrix of type '<class 'numpy.float64'>'\n",
       "\twith 7 stored elements in Compressed Sparse Row format>"
      ]
     },
     "execution_count": 10,
     "metadata": {},
     "output_type": "execute_result"
    }
   ],
   "source": [
    "print(urls_tf.shape)\n",
    "urls_tf[0]"
   ]
  },
  {
   "cell_type": "code",
   "execution_count": 11,
   "metadata": {
    "collapsed": false,
    "scrolled": true
   },
   "outputs": [
    {
     "name": "stdout",
     "output_type": "stream",
     "text": [
      "pos:  108\n",
      "0.246577972182\n",
      "feature:  ee\n",
      "pos:  112\n",
      "0.615883247282\n",
      "feature:  ei\n",
      "pos:  117\n",
      "0.20076543503\n",
      "feature:  en\n",
      "pos:  185\n",
      "0.223115937393\n",
      "feature:  he\n",
      "pos:  225\n",
      "0.466021155975\n",
      "feature:  is\n",
      "pos:  465\n",
      "0.442199990089\n",
      "feature:  se\n",
      "pos:  479\n",
      "0.238920695794\n",
      "feature:  ss\n"
     ]
    }
   ],
   "source": [
    "for i in urls_tf[0].toarray().nonzero()[1]:\n",
    "    print('pos: ', i)\n",
    "    print(urls_tf[0].toarray()[0,i])\n",
    "    print('feature: ', count_vectorizer.get_feature_names()[i])"
   ]
  },
  {
   "cell_type": "markdown",
   "metadata": {},
   "source": [
    "### Separação do conjunto"
   ]
  },
  {
   "cell_type": "code",
   "execution_count": 12,
   "metadata": {
    "collapsed": true
   },
   "outputs": [],
   "source": [
    "url_train,url_test,label_train,label_test = train_test_split(urls_tf, Y, test_size=0.3,random_state=random_state)"
   ]
  },
  {
   "cell_type": "code",
   "execution_count": 13,
   "metadata": {
    "collapsed": false
   },
   "outputs": [
    {
     "name": "stdout",
     "output_type": "stream",
     "text": [
      "(10500, 669)\n",
      "(10500,)\n"
     ]
    }
   ],
   "source": [
    "print(url_train.shape)\n",
    "print(label_train.shape) "
   ]
  },
  {
   "cell_type": "markdown",
   "metadata": {},
   "source": [
    "### Classificação e teste"
   ]
  },
  {
   "cell_type": "code",
   "execution_count": 18,
   "metadata": {
    "collapsed": false,
    "scrolled": true
   },
   "outputs": [
    {
     "name": "stdout",
     "output_type": "stream",
     "text": [
      "Iteration 1, loss = 2.61749268\n",
      "Iteration 2, loss = 2.24068715\n",
      "Iteration 3, loss = 1.98215002\n",
      "Iteration 4, loss = 1.79279393\n",
      "Iteration 5, loss = 1.61009712\n",
      "Iteration 6, loss = 1.41474257\n",
      "Iteration 7, loss = 1.20005614\n",
      "Iteration 8, loss = 0.98763563\n",
      "Iteration 9, loss = 0.76546656\n",
      "Iteration 10, loss = 0.56160537\n",
      "Iteration 11, loss = 0.39303473\n",
      "Iteration 12, loss = 0.26658730\n",
      "Iteration 13, loss = 0.17908690\n",
      "Iteration 14, loss = 0.12432034\n",
      "Iteration 15, loss = 0.09283290\n",
      "Iteration 16, loss = 0.07501108\n",
      "Iteration 17, loss = 0.06058769\n",
      "Iteration 18, loss = 0.05522856\n",
      "Iteration 19, loss = 0.05227157\n",
      "Iteration 20, loss = 0.04374613\n",
      "Iteration 21, loss = 0.04527689\n",
      "Iteration 22, loss = 0.04101056\n",
      "Iteration 23, loss = 0.04127641\n",
      "Iteration 24, loss = 0.04037064\n",
      "Iteration 25, loss = 0.03704045\n",
      "Iteration 26, loss = 0.03605104\n",
      "Iteration 27, loss = 0.03838018\n",
      "Iteration 28, loss = 0.03495877\n",
      "Iteration 29, loss = 0.03574258\n",
      "Iteration 30, loss = 0.03527287\n",
      "Iteration 31, loss = 0.03426514\n",
      "Iteration 32, loss = 0.03425227\n",
      "Iteration 33, loss = 0.03358882\n",
      "Iteration 34, loss = 0.02940741\n",
      "Iteration 35, loss = 0.03030344\n",
      "Iteration 36, loss = 0.02932555\n",
      "Iteration 37, loss = 0.03061158\n",
      "Training loss did not improve more than tol=0.000100 for two consecutive epochs. Stopping.\n"
     ]
    },
    {
     "data": {
      "text/plain": [
       "MLPClassifier(activation='relu', alpha=0.0001, batch_size='auto', beta_1=0.9,\n",
       "       beta_2=0.999, early_stopping=False, epsilon=1e-08,\n",
       "       hidden_layer_sizes=(600, 600), learning_rate='constant',\n",
       "       learning_rate_init=0.001, max_iter=400, momentum=0.9,\n",
       "       nesterovs_momentum=True, power_t=0.5, random_state=47, shuffle=True,\n",
       "       solver='adam', tol=0.0001, validation_fraction=0.1, verbose=True,\n",
       "       warm_start=False)"
      ]
     },
     "execution_count": 18,
     "metadata": {},
     "output_type": "execute_result"
    }
   ],
   "source": [
    "#0.38471380471380473 - 4000 sem batch size\n",
    "classifier_model_f = MLPClassifier(hidden_layer_sizes=(600,),max_iter=400, verbose=True, random_state=random_state\n",
    "                                    )\n",
    "classifier_model_f.fit(url_train,label_train)"
   ]
  },
  {
   "cell_type": "code",
   "execution_count": 19,
   "metadata": {
    "collapsed": true
   },
   "outputs": [],
   "source": [
    "predictions = classifier_model_f.predict(url_test)"
   ]
  },
  {
   "cell_type": "markdown",
   "metadata": {},
   "source": [
    "### Relatório de classificação"
   ]
  },
  {
   "cell_type": "code",
   "execution_count": 20,
   "metadata": {
    "collapsed": false
   },
   "outputs": [
    {
     "name": "stdout",
     "output_type": "stream",
     "text": [
      "             precision    recall  f1-score   support\n",
      "\n",
      "          0       0.42      0.39      0.41       314\n",
      "          1       0.22      0.20      0.21       295\n",
      "          2       0.18      0.17      0.17       283\n",
      "          3       0.27      0.24      0.26       294\n",
      "          4       0.38      0.38      0.38       309\n",
      "          5       0.27      0.33      0.30       315\n",
      "          6       0.43      0.39      0.40       301\n",
      "          7       0.19      0.25      0.21       273\n",
      "          8       0.33      0.38      0.36       341\n",
      "          9       0.17      0.17      0.17       290\n",
      "         10       0.42      0.38      0.40       307\n",
      "         11       0.27      0.23      0.25       308\n",
      "         12       0.22      0.24      0.23       303\n",
      "         13       0.25      0.16      0.20       294\n",
      "         14       0.36      0.43      0.39       273\n",
      "\n",
      "avg / total       0.29      0.29      0.29      4500\n",
      "\n"
     ]
    }
   ],
   "source": [
    "print(classification_report(label_test, predictions))"
   ]
  },
  {
   "cell_type": "code",
   "execution_count": 21,
   "metadata": {
    "collapsed": false
   },
   "outputs": [
    {
     "data": {
      "text/plain": [
       "0.29133333333333333"
      ]
     },
     "execution_count": 21,
     "metadata": {},
     "output_type": "execute_result"
    }
   ],
   "source": [
    "model_accuracy = accuracy_score(label_test, predictions)\n",
    "model_accuracy"
   ]
  },
  {
   "cell_type": "code",
   "execution_count": null,
   "metadata": {
    "collapsed": true
   },
   "outputs": [],
   "source": []
  }
 ],
 "metadata": {
  "kernelspec": {
   "display_name": "Python 3",
   "language": "python",
   "name": "python3"
  },
  "language_info": {
   "codemirror_mode": {
    "name": "ipython",
    "version": 3
   },
   "file_extension": ".py",
   "mimetype": "text/x-python",
   "name": "python",
   "nbconvert_exporter": "python",
   "pygments_lexer": "ipython3",
   "version": "3.6.0"
  }
 },
 "nbformat": 4,
 "nbformat_minor": 2
}

{
 "cells": [
  {
   "cell_type": "markdown",
   "metadata": {},
   "source": [
    "### Redes neurais\n",
    "\n",
    "Implemantação do classificador utilizando redes neurais."
   ]
  },
  {
   "cell_type": "code",
   "execution_count": 1,
   "metadata": {
    "collapsed": false
   },
   "outputs": [],
   "source": [
    "import pandas as pd\n",
    "import matplotlib.pyplot as plt\n",
    "import numpy as np\n",
    "\n",
    "#from sklearn.feature_extraction.text import CountVectorizer\n",
    "from sklearn.feature_extraction.text import HashingVectorizer\n",
    "\n",
    "from string import ascii_lowercase\n",
    "\n",
    "from sklearn.feature_extraction.text import TfidfTransformer\n",
    "\n",
    "from sklearn.neural_network import MLPClassifier\n",
    "from sklearn.ensemble import RandomForestClassifier\n",
    "from sklearn.model_selection import train_test_split\n",
    "\n",
    "from sklearn.metrics import classification_report,accuracy_score\n",
    "\n",
    "%matplotlib inline"
   ]
  },
  {
   "cell_type": "code",
   "execution_count": 2,
   "metadata": {
    "collapsed": true
   },
   "outputs": [],
   "source": [
    "random_state = 47\n",
    "np.random.seed(seed=random_state)"
   ]
  },
  {
   "cell_type": "code",
   "execution_count": 3,
   "metadata": {
    "collapsed": false
   },
   "outputs": [
    {
     "name": "stdout",
     "output_type": "stream",
     "text": [
      "218972\n",
      "218972\n"
     ]
    },
    {
     "data": {
      "text/html": [
       "<div>\n",
       "<table border=\"1\" class=\"dataframe\">\n",
       "  <thead>\n",
       "    <tr style=\"text-align: right;\">\n",
       "      <th></th>\n",
       "      <th>_id</th>\n",
       "      <th>category</th>\n",
       "      <th>normalized_url</th>\n",
       "      <th>url</th>\n",
       "    </tr>\n",
       "  </thead>\n",
       "  <tbody>\n",
       "    <tr>\n",
       "      <th>0</th>\n",
       "      <td>59a2ed6888b03213aca97499</td>\n",
       "      <td>Adult</td>\n",
       "      <td>gayprogrammes</td>\n",
       "      <td>http://www.gay-programmes.com/</td>\n",
       "    </tr>\n",
       "    <tr>\n",
       "      <th>1</th>\n",
       "      <td>59a2ed4e88b03213aca92efe</td>\n",
       "      <td>Adult</td>\n",
       "      <td>watchsomepornsiteskinkylesbianpornoindex</td>\n",
       "      <td>http://www.watchsomeporn.com/sites8/kinkylesbi...</td>\n",
       "    </tr>\n",
       "    <tr>\n",
       "      <th>2</th>\n",
       "      <td>59a2ed4588b03213aca914d1</td>\n",
       "      <td>Adult</td>\n",
       "      <td>mmsitescarnindex</td>\n",
       "      <td>http://www.mmsites.com/carn/2index.htm</td>\n",
       "    </tr>\n",
       "    <tr>\n",
       "      <th>3</th>\n",
       "      <td>59a2ed5588b03213aca93f14</td>\n",
       "      <td>Adult</td>\n",
       "      <td>clubnikkidevon</td>\n",
       "      <td>http://www.club-nikki.com/devon/</td>\n",
       "    </tr>\n",
       "    <tr>\n",
       "      <th>4</th>\n",
       "      <td>59a2ed6b88b03213aca97d86</td>\n",
       "      <td>Adult</td>\n",
       "      <td>hotelvenusbayside</td>\n",
       "      <td>http://www.hotelvenus.co.jp/bayside/</td>\n",
       "    </tr>\n",
       "  </tbody>\n",
       "</table>\n",
       "</div>"
      ],
      "text/plain": [
       "                        _id category  \\\n",
       "0  59a2ed6888b03213aca97499    Adult   \n",
       "1  59a2ed4e88b03213aca92efe    Adult   \n",
       "2  59a2ed4588b03213aca914d1    Adult   \n",
       "3  59a2ed5588b03213aca93f14    Adult   \n",
       "4  59a2ed6b88b03213aca97d86    Adult   \n",
       "\n",
       "                             normalized_url  \\\n",
       "0                             gayprogrammes   \n",
       "1  watchsomepornsiteskinkylesbianpornoindex   \n",
       "2                          mmsitescarnindex   \n",
       "3                            clubnikkidevon   \n",
       "4                         hotelvenusbayside   \n",
       "\n",
       "                                                 url  \n",
       "0                     http://www.gay-programmes.com/  \n",
       "1  http://www.watchsomeporn.com/sites8/kinkylesbi...  \n",
       "2             http://www.mmsites.com/carn/2index.htm  \n",
       "3                   http://www.club-nikki.com/devon/  \n",
       "4               http://www.hotelvenus.co.jp/bayside/  "
      ]
     },
     "execution_count": 3,
     "metadata": {},
     "output_type": "execute_result"
    }
   ],
   "source": [
    "'''\n",
    "Importação dos dados da base\n",
    "'''\n",
    "\n",
    "df_hostnames = pd.read_csv('../../../data/odp_reduzido_218.csv')\n",
    "\n",
    "print(len(df_hostnames))\n",
    "\n",
    "df_hostnames = df_hostnames.dropna()\n",
    "\n",
    "print(len(df_hostnames))\n",
    "df_hostnames.head()"
   ]
  },
  {
   "cell_type": "code",
   "execution_count": 4,
   "metadata": {
    "collapsed": true
   },
   "outputs": [],
   "source": [
    "dict_cat = {\n",
    "    'Adult': 0,\n",
    "    'Arts': 1,\n",
    "    'Business': 2,\n",
    "    'Computers': 3,\n",
    "    'Games': 4,\n",
    "    'Health': 5,\n",
    "    'Home': 6,\n",
    "    'Kids': 7,\n",
    "    'News': 8,\n",
    "    'Recreation': 9,\n",
    "    'Reference': 10,\n",
    "    'Science': 11,\n",
    "    'Shopping': 12,\n",
    "    'Society': 13,\n",
    "    'Sports': 14\n",
    "}\n",
    "\n",
    "def to_category_id(item):\n",
    "    return dict_cat[item]"
   ]
  },
  {
   "cell_type": "code",
   "execution_count": 5,
   "metadata": {
    "collapsed": false
   },
   "outputs": [
    {
     "data": {
      "text/html": [
       "<div>\n",
       "<table border=\"1\" class=\"dataframe\">\n",
       "  <thead>\n",
       "    <tr style=\"text-align: right;\">\n",
       "      <th></th>\n",
       "      <th>_id</th>\n",
       "      <th>category</th>\n",
       "      <th>normalized_url</th>\n",
       "      <th>url</th>\n",
       "      <th>cat_id</th>\n",
       "    </tr>\n",
       "  </thead>\n",
       "  <tbody>\n",
       "    <tr>\n",
       "      <th>0</th>\n",
       "      <td>59a2ed6888b03213aca97499</td>\n",
       "      <td>Adult</td>\n",
       "      <td>gayprogrammes</td>\n",
       "      <td>http://www.gay-programmes.com/</td>\n",
       "      <td>0</td>\n",
       "    </tr>\n",
       "    <tr>\n",
       "      <th>1</th>\n",
       "      <td>59a2ed4e88b03213aca92efe</td>\n",
       "      <td>Adult</td>\n",
       "      <td>watchsomepornsiteskinkylesbianpornoindex</td>\n",
       "      <td>http://www.watchsomeporn.com/sites8/kinkylesbi...</td>\n",
       "      <td>0</td>\n",
       "    </tr>\n",
       "    <tr>\n",
       "      <th>2</th>\n",
       "      <td>59a2ed4588b03213aca914d1</td>\n",
       "      <td>Adult</td>\n",
       "      <td>mmsitescarnindex</td>\n",
       "      <td>http://www.mmsites.com/carn/2index.htm</td>\n",
       "      <td>0</td>\n",
       "    </tr>\n",
       "    <tr>\n",
       "      <th>3</th>\n",
       "      <td>59a2ed5588b03213aca93f14</td>\n",
       "      <td>Adult</td>\n",
       "      <td>clubnikkidevon</td>\n",
       "      <td>http://www.club-nikki.com/devon/</td>\n",
       "      <td>0</td>\n",
       "    </tr>\n",
       "    <tr>\n",
       "      <th>4</th>\n",
       "      <td>59a2ed6b88b03213aca97d86</td>\n",
       "      <td>Adult</td>\n",
       "      <td>hotelvenusbayside</td>\n",
       "      <td>http://www.hotelvenus.co.jp/bayside/</td>\n",
       "      <td>0</td>\n",
       "    </tr>\n",
       "  </tbody>\n",
       "</table>\n",
       "</div>"
      ],
      "text/plain": [
       "                        _id category  \\\n",
       "0  59a2ed6888b03213aca97499    Adult   \n",
       "1  59a2ed4e88b03213aca92efe    Adult   \n",
       "2  59a2ed4588b03213aca914d1    Adult   \n",
       "3  59a2ed5588b03213aca93f14    Adult   \n",
       "4  59a2ed6b88b03213aca97d86    Adult   \n",
       "\n",
       "                             normalized_url  \\\n",
       "0                             gayprogrammes   \n",
       "1  watchsomepornsiteskinkylesbianpornoindex   \n",
       "2                          mmsitescarnindex   \n",
       "3                            clubnikkidevon   \n",
       "4                         hotelvenusbayside   \n",
       "\n",
       "                                                 url  cat_id  \n",
       "0                     http://www.gay-programmes.com/       0  \n",
       "1  http://www.watchsomeporn.com/sites8/kinkylesbi...       0  \n",
       "2             http://www.mmsites.com/carn/2index.htm       0  \n",
       "3                   http://www.club-nikki.com/devon/       0  \n",
       "4               http://www.hotelvenus.co.jp/bayside/       0  "
      ]
     },
     "execution_count": 5,
     "metadata": {},
     "output_type": "execute_result"
    }
   ],
   "source": [
    "df_hostnames['cat_id'] = df_hostnames['category'].apply(to_category_id)\n",
    "df_hostnames.head()"
   ]
  },
  {
   "cell_type": "markdown",
   "metadata": {},
   "source": [
    "### Vetorização e frequência dos termos"
   ]
  },
  {
   "cell_type": "code",
   "execution_count": 6,
   "metadata": {
    "collapsed": true
   },
   "outputs": [],
   "source": [
    "X = df_hostnames['normalized_url']\n",
    "Y = df_hostnames['cat_id']"
   ]
  },
  {
   "cell_type": "code",
   "execution_count": 7,
   "metadata": {
    "collapsed": false
   },
   "outputs": [
    {
     "data": {
      "text/plain": [
       "HashingVectorizer(alternate_sign=True, analyzer='char', binary=False,\n",
       "         decode_error='strict', dtype=<class 'numpy.float64'>,\n",
       "         encoding='utf-8', input='content', lowercase=True, n_features=800,\n",
       "         ngram_range=(3, 3), non_negative=False, norm='l2',\n",
       "         preprocessor=None, stop_words=None, strip_accents=None,\n",
       "         token_pattern='(?u)\\\\b\\\\w\\\\w+\\\\b', tokenizer=None)"
      ]
     },
     "execution_count": 7,
     "metadata": {},
     "output_type": "execute_result"
    }
   ],
   "source": [
    "count_vectorizer = HashingVectorizer(analyzer='char', ngram_range=(3,3), n_features=800)\n",
    "count_vectorizer.fit(X)\n",
    "#len(count_vectorizer)"
   ]
  },
  {
   "cell_type": "code",
   "execution_count": 8,
   "metadata": {
    "collapsed": false
   },
   "outputs": [],
   "source": [
    "words_vector = count_vectorizer.transform(X)"
   ]
  },
  {
   "cell_type": "code",
   "execution_count": 9,
   "metadata": {
    "collapsed": false
   },
   "outputs": [
    {
     "data": {
      "text/plain": [
       "(218972, 800)"
      ]
     },
     "execution_count": 9,
     "metadata": {},
     "output_type": "execute_result"
    }
   ],
   "source": [
    "words_vector.shape"
   ]
  },
  {
   "cell_type": "code",
   "execution_count": 10,
   "metadata": {
    "collapsed": false
   },
   "outputs": [
    {
     "data": {
      "text/plain": [
       "(array([0, 0, 0, 0, 0, 0, 0, 0, 0, 0, 0], dtype=int32),\n",
       " array([  6,  72, 114, 579, 594, 700, 702, 738, 756, 784, 787], dtype=int32))"
      ]
     },
     "execution_count": 10,
     "metadata": {},
     "output_type": "execute_result"
    }
   ],
   "source": [
    "words_vector[0].nonzero()"
   ]
  },
  {
   "cell_type": "code",
   "execution_count": 11,
   "metadata": {
    "collapsed": false
   },
   "outputs": [],
   "source": [
    "#tf_transformer = TfidfTransformer(use_idf=True).fit(words_vector)\n",
    "#urls_tf = tf_transformer.transform(words_vector)"
   ]
  },
  {
   "cell_type": "code",
   "execution_count": 12,
   "metadata": {
    "collapsed": false
   },
   "outputs": [],
   "source": [
    "#print(urls_tf.shape)\n",
    "#urls_tf[0]"
   ]
  },
  {
   "cell_type": "code",
   "execution_count": 13,
   "metadata": {
    "collapsed": false,
    "scrolled": true
   },
   "outputs": [
    {
     "name": "stdout",
     "output_type": "stream",
     "text": [
      "pos:  6\n",
      "0.301511344578\n",
      "pos:  72\n",
      "0.301511344578\n",
      "pos:  114\n",
      "-0.301511344578\n",
      "pos:  579\n",
      "-0.301511344578\n",
      "pos:  594\n",
      "-0.301511344578\n",
      "pos:  700\n",
      "0.301511344578\n",
      "pos:  702\n",
      "0.301511344578\n",
      "pos:  738\n",
      "-0.301511344578\n",
      "pos:  756\n",
      "0.301511344578\n",
      "pos:  784\n",
      "-0.301511344578\n",
      "pos:  787\n",
      "-0.301511344578\n"
     ]
    }
   ],
   "source": [
    "for i in words_vector[0].toarray().nonzero()[1]:\n",
    "    print('pos: ', i)\n",
    "    print(words_vector[0].toarray()[0,i])\n",
    "#    print('feature: ', count_vectorizer.get_feature_names()[i])"
   ]
  },
  {
   "cell_type": "markdown",
   "metadata": {},
   "source": [
    "### Separação do conjunto"
   ]
  },
  {
   "cell_type": "code",
   "execution_count": 14,
   "metadata": {
    "collapsed": false
   },
   "outputs": [],
   "source": [
    "url_train,url_test,label_train,label_test = train_test_split(words_vector, Y, test_size=0.3,random_state=random_state)"
   ]
  },
  {
   "cell_type": "code",
   "execution_count": 15,
   "metadata": {
    "collapsed": false
   },
   "outputs": [
    {
     "name": "stdout",
     "output_type": "stream",
     "text": [
      "(153280, 800)\n",
      "(153280,)\n"
     ]
    }
   ],
   "source": [
    "print(url_train.shape)\n",
    "print(label_train.shape) "
   ]
  },
  {
   "cell_type": "markdown",
   "metadata": {},
   "source": [
    "### Classificação e teste"
   ]
  },
  {
   "cell_type": "code",
   "execution_count": null,
   "metadata": {
    "collapsed": false,
    "scrolled": true
   },
   "outputs": [
    {
     "name": "stdout",
     "output_type": "stream",
     "text": [
      "building tree 2 of 1000\n",
      "building tree 1 of 1000building tree 3 of 1000building tree 4 of 1000\n",
      "\n",
      "\n",
      "building tree 5 of 1000\n",
      "building tree 6 of 1000\n",
      "building tree 7 of 1000\n",
      "building tree 8 of 1000\n",
      "building tree 9 of 1000\n",
      "building tree 10 of 1000\n",
      "building tree 11 of 1000\n",
      "building tree 12 of 1000\n",
      "building tree 13 of 1000\n",
      "building tree 14 of 1000\n",
      "building tree 15 of 1000\n",
      "building tree 16 of 1000\n",
      "building tree 17 of 1000\n",
      "building tree 18 of 1000\n",
      "building tree 19 of 1000\n",
      "building tree 20 of 1000\n",
      "building tree 21 of 1000\n",
      "building tree 22 of 1000\n",
      "building tree 23 of 1000\n",
      "building tree 24 of 1000\n"
     ]
    }
   ],
   "source": [
    "#0.47 com log2\n",
    "classifier_model_f = RandomForestClassifier(n_estimators=1000, n_jobs=-1, max_features='log2',\n",
    "                                            random_state=random_state,verbose=3)\n",
    "classifier_model_f.fit(url_train,label_train)"
   ]
  },
  {
   "cell_type": "code",
   "execution_count": null,
   "metadata": {
    "collapsed": true
   },
   "outputs": [],
   "source": [
    "predictions = classifier_model_f.predict(url_test)"
   ]
  },
  {
   "cell_type": "markdown",
   "metadata": {},
   "source": [
    "### Relatório de classificação"
   ]
  },
  {
   "cell_type": "code",
   "execution_count": null,
   "metadata": {
    "collapsed": false
   },
   "outputs": [],
   "source": [
    "print(classification_report(label_test, predictions))"
   ]
  },
  {
   "cell_type": "code",
   "execution_count": null,
   "metadata": {
    "collapsed": false
   },
   "outputs": [],
   "source": [
    "model_accuracy = accuracy_score(label_test, predictions)\n",
    "model_accuracy"
   ]
  },
  {
   "cell_type": "code",
   "execution_count": null,
   "metadata": {
    "collapsed": true
   },
   "outputs": [],
   "source": []
  }
 ],
 "metadata": {
  "kernelspec": {
   "display_name": "Python 3",
   "language": "python",
   "name": "python3"
  },
  "language_info": {
   "codemirror_mode": {
    "name": "ipython",
    "version": 3
   },
   "file_extension": ".py",
   "mimetype": "text/x-python",
   "name": "python",
   "nbconvert_exporter": "python",
   "pygments_lexer": "ipython3",
   "version": "3.6.0"
  }
 },
 "nbformat": 4,
 "nbformat_minor": 2
}

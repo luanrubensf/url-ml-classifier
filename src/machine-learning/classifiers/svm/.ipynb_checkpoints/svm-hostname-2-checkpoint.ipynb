{
 "cells": [
  {
   "cell_type": "markdown",
   "metadata": {},
   "source": [
    "### SVM\n",
    "\n",
    "Implemantação do classificador utilizando SVM."
   ]
  },
  {
   "cell_type": "code",
   "execution_count": 1,
   "metadata": {
    "collapsed": false
   },
   "outputs": [],
   "source": [
    "import nltk\n",
    "import itertools\n",
    "\n",
    "import pandas as pd\n",
    "import matplotlib.pyplot as plt\n",
    "import numpy as np\n",
    "\n",
    "from sklearn.feature_extraction.text import CountVectorizer\n",
    "from string import ascii_lowercase\n",
    "\n",
    "from sklearn.feature_extraction.text import TfidfTransformer\n",
    "\n",
    "from sklearn.svm import LinearSVC\n",
    "from sklearn.svm import SVC\n",
    "\n",
    "from sklearn.model_selection import train_test_split\n",
    "\n",
    "from sklearn.pipeline import Pipeline\n",
    "\n",
    "from sklearn.metrics import classification_report\n",
    "\n",
    "from pymongo import MongoClient\n",
    "\n",
    "%matplotlib inline"
   ]
  },
  {
   "cell_type": "code",
   "execution_count": 2,
   "metadata": {
    "collapsed": false
   },
   "outputs": [
    {
     "name": "stdout",
     "output_type": "stream",
     "text": [
      "24208\n"
     ]
    },
    {
     "data": {
      "text/html": [
       "<div>\n",
       "<table border=\"1\" class=\"dataframe\">\n",
       "  <thead>\n",
       "    <tr style=\"text-align: right;\">\n",
       "      <th></th>\n",
       "      <th>_id</th>\n",
       "      <th>catdesc</th>\n",
       "      <th>category</th>\n",
       "      <th>hostname</th>\n",
       "      <th>normalized_hostname</th>\n",
       "      <th>normalized_hostname_url</th>\n",
       "      <th>normalized_url</th>\n",
       "      <th>service</th>\n",
       "      <th>url</th>\n",
       "    </tr>\n",
       "  </thead>\n",
       "  <tbody>\n",
       "    <tr>\n",
       "      <th>0</th>\n",
       "      <td>59a1e31988b032071ef8c495</td>\n",
       "      <td>Information Technology</td>\n",
       "      <td>Information Technology</td>\n",
       "      <td>sb.scorecardresearch.com</td>\n",
       "      <td>scorecardresearch</td>\n",
       "      <td>scorecardresearch</td>\n",
       "      <td></td>\n",
       "      <td>HTTPS</td>\n",
       "      <td>/</td>\n",
       "    </tr>\n",
       "    <tr>\n",
       "      <th>1</th>\n",
       "      <td>59a1e31a88b032071ef8c496</td>\n",
       "      <td>Information Technology</td>\n",
       "      <td>Information Technology</td>\n",
       "      <td>test.com</td>\n",
       "      <td>test</td>\n",
       "      <td>testpartneruidUPcbedebee</td>\n",
       "      <td>partneruidUPcbedebee</td>\n",
       "      <td>HTTP</td>\n",
       "      <td>/?partner_uid=UP47c5b905-0e1d-11e7-b092-00163e...</td>\n",
       "    </tr>\n",
       "    <tr>\n",
       "      <th>2</th>\n",
       "      <td>59a1e31a88b032071ef8c497</td>\n",
       "      <td>Information Technology</td>\n",
       "      <td>Information Technology</td>\n",
       "      <td>nexus-websocket-b.intercom.io</td>\n",
       "      <td>nexuswebsocketbintercom</td>\n",
       "      <td>nexuswebsocketbintercom</td>\n",
       "      <td></td>\n",
       "      <td>HTTPS</td>\n",
       "      <td>/</td>\n",
       "    </tr>\n",
       "    <tr>\n",
       "      <th>3</th>\n",
       "      <td>59a1e31a88b032071ef8c498</td>\n",
       "      <td>Malicious Websites</td>\n",
       "      <td>Malicious or Illegal</td>\n",
       "      <td>aorta.clickagy.com</td>\n",
       "      <td>aortaclickagy</td>\n",
       "      <td>aortaclickagypixelgifadvertiseridgtqxdqpglista...</td>\n",
       "      <td>pixelgifadvertiseridgtqxdqpglistaedjpnobncchcm...</td>\n",
       "      <td>HTTP</td>\n",
       "      <td>/pixel.gif?advertiser_id=1gt8qx97dqpg&amp;list=11a...</td>\n",
       "    </tr>\n",
       "    <tr>\n",
       "      <th>4</th>\n",
       "      <td>59a1e31a88b032071ef8c499</td>\n",
       "      <td>Information Technology</td>\n",
       "      <td>Information Technology</td>\n",
       "      <td>usersync.videoamp.com</td>\n",
       "      <td>usersyncvideoamp</td>\n",
       "      <td>usersyncvideoampusersyncpartneridpartneruserid...</td>\n",
       "      <td>usersyncpartneridpartneruseridredirecthttpsync...</td>\n",
       "      <td>HTTP</td>\n",
       "      <td>/usersync?partner_id=5797361&amp;partner_user_id=4...</td>\n",
       "    </tr>\n",
       "  </tbody>\n",
       "</table>\n",
       "</div>"
      ],
      "text/plain": [
       "                        _id                 catdesc                category  \\\n",
       "0  59a1e31988b032071ef8c495  Information Technology  Information Technology   \n",
       "1  59a1e31a88b032071ef8c496  Information Technology  Information Technology   \n",
       "2  59a1e31a88b032071ef8c497  Information Technology  Information Technology   \n",
       "3  59a1e31a88b032071ef8c498      Malicious Websites    Malicious or Illegal   \n",
       "4  59a1e31a88b032071ef8c499  Information Technology  Information Technology   \n",
       "\n",
       "                        hostname      normalized_hostname  \\\n",
       "0       sb.scorecardresearch.com        scorecardresearch   \n",
       "1                       test.com                     test   \n",
       "2  nexus-websocket-b.intercom.io  nexuswebsocketbintercom   \n",
       "3             aorta.clickagy.com            aortaclickagy   \n",
       "4          usersync.videoamp.com         usersyncvideoamp   \n",
       "\n",
       "                             normalized_hostname_url  \\\n",
       "0                                  scorecardresearch   \n",
       "1                           testpartneruidUPcbedebee   \n",
       "2                            nexuswebsocketbintercom   \n",
       "3  aortaclickagypixelgifadvertiseridgtqxdqpglista...   \n",
       "4  usersyncvideoampusersyncpartneridpartneruserid...   \n",
       "\n",
       "                                      normalized_url service  \\\n",
       "0                                                      HTTPS   \n",
       "1                               partneruidUPcbedebee    HTTP   \n",
       "2                                                      HTTPS   \n",
       "3  pixelgifadvertiseridgtqxdqpglistaedjpnobncchcm...    HTTP   \n",
       "4  usersyncpartneridpartneruseridredirecthttpsync...    HTTP   \n",
       "\n",
       "                                                 url  \n",
       "0                                                  /  \n",
       "1  /?partner_uid=UP47c5b905-0e1d-11e7-b092-00163e...  \n",
       "2                                                  /  \n",
       "3  /pixel.gif?advertiser_id=1gt8qx97dqpg&list=11a...  \n",
       "4  /usersync?partner_id=5797361&partner_user_id=4...  "
      ]
     },
     "execution_count": 2,
     "metadata": {},
     "output_type": "execute_result"
    }
   ],
   "source": [
    "'''\n",
    "Importação dos dados da base\n",
    "'''\n",
    "client = MongoClient()\n",
    "client = MongoClient('localhost', 27800)\n",
    "db = client.network_logs\n",
    "db_unique_hostnames = db.unique_hostnames\n",
    "\n",
    "df_hostnames = pd.DataFrame(list(db_unique_hostnames.find({})))\n",
    "\n",
    "print(len(df_hostnames))\n",
    "df_hostnames.head()"
   ]
  },
  {
   "cell_type": "code",
   "execution_count": 3,
   "metadata": {
    "collapsed": false
   },
   "outputs": [
    {
     "data": {
      "text/plain": [
       "17576"
      ]
     },
     "execution_count": 3,
     "metadata": {},
     "output_type": "execute_result"
    }
   ],
   "source": [
    "'''\n",
    "Criação do vocabulário\n",
    "'''\n",
    "keywords = [''.join(trig) for trig in itertools.product(ascii_lowercase, repeat = 3)]\n",
    "len(keywords)"
   ]
  },
  {
   "cell_type": "markdown",
   "metadata": {},
   "source": [
    "### Vetorização e frequência dos termos"
   ]
  },
  {
   "cell_type": "code",
   "execution_count": 4,
   "metadata": {
    "collapsed": true
   },
   "outputs": [],
   "source": [
    "count_vectorizer = CountVectorizer(analyzer='char', ngram_range=(3,3), vocabulary=keywords)\n",
    "words_vector = count_vectorizer.transform(df_hostnames['normalized_hostname'])\n",
    "tf_transformer = TfidfTransformer(use_idf=False).fit(words_vector)\n",
    "urls_tf = tf_transformer.transform(words_vector)"
   ]
  },
  {
   "cell_type": "markdown",
   "metadata": {},
   "source": [
    "### Separação do conjunto"
   ]
  },
  {
   "cell_type": "code",
   "execution_count": 5,
   "metadata": {
    "collapsed": true
   },
   "outputs": [],
   "source": [
    "labels = df_hostnames['category']\n",
    "url_train,url_test,label_train,label_test = train_test_split(urls_tf, labels, test_size=0.3)"
   ]
  },
  {
   "cell_type": "markdown",
   "metadata": {},
   "source": [
    "### Classificação e teste"
   ]
  },
  {
   "cell_type": "code",
   "execution_count": 6,
   "metadata": {
    "collapsed": true
   },
   "outputs": [],
   "source": [
    "classifier_model = LinearSVC().fit(url_train, label_train)"
   ]
  },
  {
   "cell_type": "code",
   "execution_count": 7,
   "metadata": {
    "collapsed": true
   },
   "outputs": [],
   "source": [
    "predictions = classifier_model.predict(url_test)"
   ]
  },
  {
   "cell_type": "markdown",
   "metadata": {},
   "source": [
    "### Relatório de classificação"
   ]
  },
  {
   "cell_type": "code",
   "execution_count": 8,
   "metadata": {
    "collapsed": false
   },
   "outputs": [
    {
     "name": "stdout",
     "output_type": "stream",
     "text": [
      "                                 precision    recall  f1-score   support\n",
      "\n",
      "                          Adult       0.00      0.00      0.00        23\n",
      "                    Advertising       0.52      0.58      0.55       289\n",
      "               Arts and Culture       0.48      0.23      0.31        52\n",
      "                       Business       0.34      0.41      0.37       653\n",
      "                Content Servers       0.82      0.71      0.76       374\n",
      "                 Domain Parking       0.25      0.07      0.11        14\n",
      "                      Education       0.59      0.54      0.56       224\n",
      "                  Entertainment       0.33      0.24      0.28       127\n",
      "       File Sharing and Storage       0.88      0.80      0.84       147\n",
      "            Finance and Banking       0.62      0.38      0.47        69\n",
      "Freeware and Software Downloads       0.64      0.37      0.46        63\n",
      "                          Games       0.68      0.66      0.67       183\n",
      "            Health and Wellness       0.48      0.38      0.43        52\n",
      "         Information Technology       0.59      0.78      0.67      1944\n",
      "          Internet Radio and TV       0.65      0.47      0.55        32\n",
      "                     Job Search       0.71      0.28      0.40        18\n",
      "           Malicious or Illegal       0.27      0.09      0.14        74\n",
      "            Meaningless Content       0.59      0.31      0.40       232\n",
      "                 News and Media       0.46      0.45      0.45       191\n",
      "  Newsgroups and Message Boards       0.50      0.15      0.23        20\n",
      "                  Organizations       0.74      0.70      0.72        88\n",
      "              Personal Vehicles       0.53      0.38      0.44        47\n",
      "    Personal Websites and Blogs       0.70      0.70      0.70       177\n",
      "                    Real Estate       0.70      0.37      0.48        19\n",
      "                      Reference       0.45      0.34      0.39        67\n",
      "          Restaurant and Dining       0.50      0.33      0.40         9\n",
      "     Search Engines and Portals       0.76      0.76      0.76       802\n",
      "                       Security       0.61      0.61      0.61        18\n",
      "                       Shopping       0.56      0.52      0.54       271\n",
      "              Social Networking       0.93      0.85      0.89       173\n",
      "         Society and Lifestyles       0.14      0.07      0.09        59\n",
      "                         Sports       0.73      0.37      0.49        51\n",
      "   Streaming Media and Download       0.88      0.84      0.86       314\n",
      "                         Travel       0.55      0.41      0.47        56\n",
      "                        Unrated       0.09      0.03      0.04       103\n",
      "                    Web Hosting       0.17      0.08      0.11       154\n",
      "              Web communication       0.72      0.67      0.69        51\n",
      "         Web-based Applications       0.55      0.26      0.35        23\n",
      "\n",
      "                    avg / total       0.59      0.60      0.59      7263\n",
      "\n"
     ]
    }
   ],
   "source": [
    "print(classification_report(label_test, predictions))"
   ]
  },
  {
   "cell_type": "markdown",
   "metadata": {},
   "source": [
    "### GridSearch"
   ]
  },
  {
   "cell_type": "code",
   "execution_count": 9,
   "metadata": {
    "collapsed": true
   },
   "outputs": [],
   "source": [
    "from sklearn.model_selection import GridSearchCV"
   ]
  },
  {
   "cell_type": "code",
   "execution_count": 10,
   "metadata": {
    "collapsed": false
   },
   "outputs": [],
   "source": [
    "#np.logspace(-9, 3, 13)"
   ]
  },
  {
   "cell_type": "code",
   "execution_count": 11,
   "metadata": {
    "collapsed": false
   },
   "outputs": [
    {
     "name": "stdout",
     "output_type": "stream",
     "text": [
      "[  1.00000000e-03   1.05357895e+00   2.10615789e+00   3.15873684e+00\n",
      "   4.21131579e+00   5.26389474e+00   6.31647368e+00   7.36905263e+00\n",
      "   8.42163158e+00   9.47421053e+00   1.05267895e+01   1.15793684e+01\n",
      "   1.26319474e+01   1.36845263e+01   1.47371053e+01   1.57896842e+01\n",
      "   1.68422632e+01   1.78948421e+01   1.89474211e+01   2.00000000e+01]\n",
      "[  1.00000000e-09   1.00000000e-08   1.00000000e-07   1.00000000e-06\n",
      "   1.00000000e-05   1.00000000e-04   1.00000000e-03   1.00000000e-02\n",
      "   1.00000000e-01   1.00000000e+00   1.00000000e+01   1.00000000e+02\n",
      "   1.00000000e+03]\n"
     ]
    }
   ],
   "source": [
    "'''\n",
    "Parâmetros para GridSearch\n",
    "'''\n",
    "\n",
    "#Gerar com linspace\n",
    "C_range = np.linspace(0.001, 20, num=20)\n",
    "\n",
    "#np.logspace(-1, 10, num=13)                     \n",
    "#np.linspace(0.001, 10, num=20)\n",
    "gamma_range = np.logspace(-9, 3, 13)\n",
    "\n",
    "print(C_range)\n",
    "print(gamma_range)\n",
    "\n",
    "param_grid = dict(C=C_range, gamma=gamma_range)"
   ]
  },
  {
   "cell_type": "code",
   "execution_count": 12,
   "metadata": {
    "collapsed": true
   },
   "outputs": [],
   "source": [
    "grid = GridSearchCV(SVC(max_iter=10000, cache_size=900),param_grid,refit=True,verbose=3, n_jobs=4)"
   ]
  },
  {
   "cell_type": "code",
   "execution_count": 13,
   "metadata": {
    "collapsed": false
   },
   "outputs": [
    {
     "name": "stdout",
     "output_type": "stream",
     "text": [
      "Fitting 3 folds for each of 260 candidates, totalling 780 fits\n",
      "[CV] C=0.001, gamma=1e-09 ............................................\n",
      "[CV] C=0.001, gamma=1e-09 ............................................\n",
      "[CV] C=0.001, gamma=1e-09 ............................................\n",
      "[CV] C=0.001, gamma=1e-08 ............................................\n",
      "[CV] .. C=0.001, gamma=1e-09, score=0.26522279424818035, total=  57.3s\n",
      "[CV] C=0.001, gamma=1e-08 ............................................\n",
      "[CV] .. C=0.001, gamma=1e-08, score=0.26399434928483134, total=  57.5s\n",
      "[CV] C=0.001, gamma=1e-08 ............................................\n",
      "[CV] .. C=0.001, gamma=1e-09, score=0.26399434928483134, total=  58.1s\n",
      "[CV] C=0.001, gamma=1e-07 ............................................\n",
      "[CV] .. C=0.001, gamma=1e-09, score=0.26464861037351745, total=  58.0s\n",
      "[CV] C=0.001, gamma=1e-07 ............................................\n",
      "[CV] .. C=0.001, gamma=1e-08, score=0.26464861037351745, total=  52.9s\n",
      "[CV] C=0.001, gamma=1e-07 ............................................\n",
      "[CV] .. C=0.001, gamma=1e-08, score=0.26522279424818035, total=  52.8s\n",
      "[CV] C=0.001, gamma=1e-06 ............................................\n",
      "[CV] .. C=0.001, gamma=1e-07, score=0.26399434928483134, total=  52.8s\n",
      "[CV] C=0.001, gamma=1e-06 ............................................\n",
      "[CV] .. C=0.001, gamma=1e-07, score=0.26464861037351745, total=  52.6s\n",
      "[CV] C=0.001, gamma=1e-06 ............................................\n",
      "[CV] .. C=0.001, gamma=1e-07, score=0.26522279424818035, total=  52.3s\n",
      "[CV] C=0.001, gamma=1e-05 ............................................\n",
      "[CV] .. C=0.001, gamma=1e-06, score=0.26399434928483134, total=  53.4s\n",
      "[CV] C=0.001, gamma=1e-05 ............................................\n",
      "[CV] .. C=0.001, gamma=1e-06, score=0.26464861037351745, total=  53.5s\n",
      "[CV] C=0.001, gamma=1e-05 ............................................\n",
      "[CV] .. C=0.001, gamma=1e-06, score=0.26522279424818035, total=  53.6s\n",
      "[CV] C=0.001, gamma=0.0001 ...........................................\n",
      "[CV] .. C=0.001, gamma=1e-05, score=0.26399434928483134, total=  53.1s\n",
      "[CV] C=0.001, gamma=0.0001 ...........................................\n",
      "[CV] .. C=0.001, gamma=1e-05, score=0.26464861037351745, total=  53.0s\n",
      "[CV] C=0.001, gamma=0.0001 ...........................................\n",
      "[CV] .. C=0.001, gamma=1e-05, score=0.26522279424818035, total=  53.2s\n",
      "[CV] C=0.001, gamma=0.001 ............................................\n",
      "[CV] . C=0.001, gamma=0.0001, score=0.26399434928483134, total=  53.4s\n",
      "[CV] C=0.001, gamma=0.001 ............................................\n",
      "[CV] . C=0.001, gamma=0.0001, score=0.26464861037351745, total=  53.1s\n",
      "[CV] C=0.001, gamma=0.001 ............................................\n",
      "[CV] . C=0.001, gamma=0.0001, score=0.26522279424818035, total=  53.2s\n",
      "[CV] C=0.001, gamma=0.01 .............................................\n",
      "[CV] .. C=0.001, gamma=0.001, score=0.26399434928483134, total=  53.4s\n",
      "[CV] C=0.001, gamma=0.01 .............................................\n",
      "[CV] .. C=0.001, gamma=0.001, score=0.26464861037351745, total=  53.6s\n",
      "[CV] C=0.001, gamma=0.01 .............................................\n",
      "[CV] .. C=0.001, gamma=0.001, score=0.26522279424818035, total=  53.4s\n",
      "[CV] C=0.001, gamma=0.1 ..............................................\n",
      "[CV] ... C=0.001, gamma=0.01, score=0.26399434928483134, total=  53.9s\n",
      "[CV] C=0.001, gamma=0.1 ..............................................\n",
      "[CV] ... C=0.001, gamma=0.01, score=0.26522279424818035, total=  53.8s\n",
      "[CV] C=0.001, gamma=0.1 ..............................................\n",
      "[CV] ... C=0.001, gamma=0.01, score=0.26464861037351745, total=  53.9s\n",
      "[CV] C=0.001, gamma=1.0 ..............................................\n"
     ]
    },
    {
     "name": "stderr",
     "output_type": "stream",
     "text": [
      "[Parallel(n_jobs=4)]: Done  24 tasks      | elapsed:  8.8min\n"
     ]
    },
    {
     "name": "stdout",
     "output_type": "stream",
     "text": [
      "[CV] .... C=0.001, gamma=0.1, score=0.26399434928483134, total=  53.4s\n",
      "[CV] C=0.001, gamma=1.0 ..............................................\n",
      "[CV] .... C=0.001, gamma=0.1, score=0.26464861037351745, total=  53.1s\n",
      "[CV] C=0.001, gamma=1.0 ..............................................\n",
      "[CV] .... C=0.001, gamma=0.1, score=0.26522279424818035, total=  53.0s\n",
      "[CV] C=0.001, gamma=10.0 .............................................\n",
      "[CV] .... C=0.001, gamma=1.0, score=0.26399434928483134, total=  54.4s\n",
      "[CV] C=0.001, gamma=10.0 .............................................\n",
      "[CV] .... C=0.001, gamma=1.0, score=0.26464861037351745, total=  54.3s\n",
      "[CV] C=0.001, gamma=10.0 .............................................\n",
      "[CV] .... C=0.001, gamma=1.0, score=0.26522279424818035, total=  54.4s\n",
      "[CV] C=0.001, gamma=100.0 ............................................\n",
      "[CV] ... C=0.001, gamma=10.0, score=0.26399434928483134, total=  54.4s\n",
      "[CV] C=0.001, gamma=100.0 ............................................\n",
      "[CV] ... C=0.001, gamma=10.0, score=0.26464861037351745, total=  54.6s\n",
      "[CV] C=0.001, gamma=100.0 ............................................\n",
      "[CV] ... C=0.001, gamma=10.0, score=0.26522279424818035, total=  53.9s\n",
      "[CV] C=0.001, gamma=1000.0 ...........................................\n",
      "[CV] .. C=0.001, gamma=100.0, score=0.26399434928483134, total= 1.2min\n",
      "[CV] C=0.001, gamma=1000.0 ...........................................\n",
      "[CV] .. C=0.001, gamma=100.0, score=0.26464861037351745, total= 1.2min\n",
      "[CV] C=0.001, gamma=1000.0 ...........................................\n",
      "[CV] .. C=0.001, gamma=100.0, score=0.26522279424818035, total= 1.2min\n",
      "[CV] C=1.05357894737, gamma=1e-09 ....................................\n",
      "[CV] . C=0.001, gamma=1000.0, score=0.26399434928483134, total= 1.1min\n",
      "[CV] C=1.05357894737, gamma=1e-09 ....................................\n",
      "[CV]  C=1.05357894737, gamma=1e-09, score=0.26399434928483134, total=  52.9s\n",
      "[CV] C=1.05357894737, gamma=1e-09 ....................................\n",
      "[CV] . C=0.001, gamma=1000.0, score=0.26464861037351745, total= 1.1min\n",
      "[CV] C=1.05357894737, gamma=1e-08 ....................................\n",
      "[CV] . C=0.001, gamma=1000.0, score=0.26522279424818035, total= 1.1min\n",
      "[CV] C=1.05357894737, gamma=1e-08 ....................................\n",
      "[CV]  C=1.05357894737, gamma=1e-09, score=0.26464861037351745, total=  52.4s\n",
      "[CV] C=1.05357894737, gamma=1e-08 ....................................\n",
      "[CV]  C=1.05357894737, gamma=1e-09, score=0.26522279424818035, total=  52.2s\n",
      "[CV] C=1.05357894737, gamma=1e-07 ....................................\n",
      "[CV]  C=1.05357894737, gamma=1e-08, score=0.26399434928483134, total=  51.8s\n",
      "[CV] C=1.05357894737, gamma=1e-07 ....................................\n",
      "[CV]  C=1.05357894737, gamma=1e-08, score=0.26464861037351745, total=  52.2s\n",
      "[CV] C=1.05357894737, gamma=1e-07 ....................................\n",
      "[CV]  C=1.05357894737, gamma=1e-08, score=0.26522279424818035, total=  52.1s\n",
      "[CV] C=1.05357894737, gamma=1e-06 ....................................\n",
      "[CV]  C=1.05357894737, gamma=1e-07, score=0.26399434928483134, total=  52.4s\n",
      "[CV] C=1.05357894737, gamma=1e-06 ....................................\n",
      "[CV]  C=1.05357894737, gamma=1e-07, score=0.26464861037351745, total=  52.5s\n",
      "[CV] C=1.05357894737, gamma=1e-06 ....................................\n",
      "[CV]  C=1.05357894737, gamma=1e-07, score=0.26522279424818035, total=  52.5s\n",
      "[CV] C=1.05357894737, gamma=1e-05 ....................................\n",
      "[CV]  C=1.05357894737, gamma=1e-06, score=0.26399434928483134, total=  53.2s\n",
      "[CV] C=1.05357894737, gamma=1e-05 ....................................\n",
      "[CV]  C=1.05357894737, gamma=1e-06, score=0.26464861037351745, total=  53.4s\n",
      "[CV] C=1.05357894737, gamma=1e-05 ....................................\n",
      "[CV]  C=1.05357894737, gamma=1e-06, score=0.26522279424818035, total=  52.8s\n",
      "[CV] C=1.05357894737, gamma=0.0001 ...................................\n",
      "[CV]  C=1.05357894737, gamma=1e-05, score=0.26399434928483134, total=  53.2s\n",
      "[CV] C=1.05357894737, gamma=0.0001 ...................................\n",
      "[CV]  C=1.05357894737, gamma=1e-05, score=0.26464861037351745, total=  52.7s\n",
      "[CV] C=1.05357894737, gamma=0.0001 ...................................\n",
      "[CV]  C=1.05357894737, gamma=1e-05, score=0.26522279424818035, total=  53.1s\n",
      "[CV] C=1.05357894737, gamma=0.001 ....................................\n",
      "[CV]  C=1.05357894737, gamma=0.0001, score=0.26399434928483134, total=  53.3s\n",
      "[CV] C=1.05357894737, gamma=0.001 ....................................\n",
      "[CV]  C=1.05357894737, gamma=0.0001, score=0.26464861037351745, total=  53.5s\n",
      "[CV] C=1.05357894737, gamma=0.001 ....................................\n",
      "[CV]  C=1.05357894737, gamma=0.0001, score=0.26522279424818035, total=  54.1s\n",
      "[CV] C=1.05357894737, gamma=0.01 .....................................\n",
      "[CV]  C=1.05357894737, gamma=0.001, score=0.26399434928483134, total= 1.0min\n",
      "[CV] C=1.05357894737, gamma=0.01 .....................................\n",
      "[CV]  C=1.05357894737, gamma=0.001, score=0.26464861037351745, total= 1.0min\n",
      "[CV] C=1.05357894737, gamma=0.01 .....................................\n",
      "[CV]  C=1.05357894737, gamma=0.001, score=0.26522279424818035, total= 1.0min\n",
      "[CV] C=1.05357894737, gamma=0.1 ......................................\n",
      "[CV]  C=1.05357894737, gamma=0.01, score=0.3780681617517217, total= 1.2min\n",
      "[CV] C=1.05357894737, gamma=0.1 ......................................\n",
      "[CV]  C=1.05357894737, gamma=0.01, score=0.3770578863515667, total= 1.2min\n",
      "[CV] C=1.05357894737, gamma=0.1 ......................................\n",
      "[CV]  C=1.05357894737, gamma=0.01, score=0.38309959169181607, total= 1.2min\n",
      "[CV] C=1.05357894737, gamma=1.0 ......................................\n",
      "[CV]  C=1.05357894737, gamma=0.1, score=0.4465830831714639, total= 1.2min\n",
      "[CV] C=1.05357894737, gamma=1.0 ......................................\n",
      "[CV]  C=1.05357894737, gamma=0.1, score=0.4489290139847761, total= 1.1min\n",
      "[CV] C=1.05357894737, gamma=1.0 ......................................\n",
      "[CV]  C=1.05357894737, gamma=0.1, score=0.45766021658086276, total= 1.2min\n",
      "[CV] C=1.05357894737, gamma=10.0 .....................................\n",
      "[CV]  C=1.05357894737, gamma=1.0, score=0.5361116016245806, total= 1.9min\n",
      "[CV] C=1.05357894737, gamma=10.0 .....................................\n",
      "[CV]  C=1.05357894737, gamma=1.0, score=0.5415117719950434, total= 1.9min\n",
      "[CV] C=1.05357894737, gamma=10.0 .....................................\n",
      "[CV]  C=1.05357894737, gamma=1.0, score=0.5512160482868809, total= 1.9min\n",
      "[CV] C=1.05357894737, gamma=100.0 ....................................\n",
      "[CV]  C=1.05357894737, gamma=10.0, score=0.265230443227971, total= 3.2min\n",
      "[CV] C=1.05357894737, gamma=100.0 ....................................\n",
      "[CV]  C=1.05357894737, gamma=10.0, score=0.2675306231137937, total= 3.2min\n",
      "[CV] C=1.05357894737, gamma=100.0 ....................................\n",
      "[CV]  C=1.05357894737, gamma=10.0, score=0.2664188351920694, total= 3.2min\n",
      "[CV] C=1.05357894737, gamma=1000.0 ...................................\n",
      "[CV]  C=1.05357894737, gamma=100.0, score=0.26399434928483134, total= 3.2min\n",
      "[CV] C=1.05357894737, gamma=1000.0 ...................................\n"
     ]
    },
    {
     "name": "stderr",
     "output_type": "stream",
     "text": [
      "/Users/luanrubensf/anaconda/lib/python3.6/site-packages/sklearn/svm/base.py:218: ConvergenceWarning: Solver terminated early (max_iter=10000).  Consider pre-processing your data with StandardScaler or MinMaxScaler.\n",
      "  % self.max_iter, ConvergenceWarning)\n"
     ]
    },
    {
     "name": "stdout",
     "output_type": "stream",
     "text": [
      "[CV]  C=1.05357894737, gamma=100.0, score=0.26482563285537264, total= 3.2min\n",
      "[CV] C=1.05357894737, gamma=1000.0 ...................................\n"
     ]
    },
    {
     "name": "stderr",
     "output_type": "stream",
     "text": [
      "/Users/luanrubensf/anaconda/lib/python3.6/site-packages/sklearn/svm/base.py:218: ConvergenceWarning: Solver terminated early (max_iter=10000).  Consider pre-processing your data with StandardScaler or MinMaxScaler.\n",
      "  % self.max_iter, ConvergenceWarning)\n"
     ]
    },
    {
     "name": "stdout",
     "output_type": "stream",
     "text": [
      "[CV]  C=1.05357894737, gamma=1000.0, score=0.26399434928483134, total= 3.0min\n",
      "[CV] C=2.10615789474, gamma=1e-09 ....................................\n",
      "[CV]  C=1.05357894737, gamma=100.0, score=0.2654003195455352, total= 3.2min\n",
      "[CV] C=2.10615789474, gamma=1e-09 ....................................\n"
     ]
    },
    {
     "name": "stderr",
     "output_type": "stream",
     "text": [
      "/Users/luanrubensf/anaconda/lib/python3.6/site-packages/sklearn/svm/base.py:218: ConvergenceWarning: Solver terminated early (max_iter=10000).  Consider pre-processing your data with StandardScaler or MinMaxScaler.\n",
      "  % self.max_iter, ConvergenceWarning)\n"
     ]
    },
    {
     "name": "stdout",
     "output_type": "stream",
     "text": [
      "[CV]  C=1.05357894737, gamma=1000.0, score=0.26482563285537264, total= 3.0min\n",
      "[CV] C=2.10615789474, gamma=1e-09 ....................................\n",
      "[CV]  C=2.10615789474, gamma=1e-09, score=0.26399434928483134, total=  52.8s\n",
      "[CV] C=2.10615789474, gamma=1e-08 ....................................\n",
      "[CV]  C=2.10615789474, gamma=1e-09, score=0.26464861037351745, total=  52.5s\n",
      "[CV] C=2.10615789474, gamma=1e-08 ....................................\n"
     ]
    },
    {
     "name": "stderr",
     "output_type": "stream",
     "text": [
      "/Users/luanrubensf/anaconda/lib/python3.6/site-packages/sklearn/svm/base.py:218: ConvergenceWarning: Solver terminated early (max_iter=10000).  Consider pre-processing your data with StandardScaler or MinMaxScaler.\n",
      "  % self.max_iter, ConvergenceWarning)\n"
     ]
    },
    {
     "name": "stdout",
     "output_type": "stream",
     "text": [
      "[CV]  C=2.10615789474, gamma=1e-09, score=0.26522279424818035, total=  51.8s\n",
      "[CV] C=2.10615789474, gamma=1e-08 ....................................\n",
      "[CV]  C=1.05357894737, gamma=1000.0, score=0.2654003195455352, total= 3.0min\n",
      "[CV] C=2.10615789474, gamma=1e-07 ....................................\n",
      "[CV]  C=2.10615789474, gamma=1e-08, score=0.26399434928483134, total=  52.2s\n",
      "[CV] C=2.10615789474, gamma=1e-07 ....................................\n",
      "[CV]  C=2.10615789474, gamma=1e-08, score=0.26464861037351745, total=  52.5s\n",
      "[CV] C=2.10615789474, gamma=1e-07 ....................................\n",
      "[CV]  C=2.10615789474, gamma=1e-08, score=0.26522279424818035, total=  52.1s\n",
      "[CV] C=2.10615789474, gamma=1e-06 ....................................\n",
      "[CV]  C=2.10615789474, gamma=1e-07, score=0.26399434928483134, total=  52.3s\n",
      "[CV] C=2.10615789474, gamma=1e-06 ....................................\n",
      "[CV]  C=2.10615789474, gamma=1e-07, score=0.26464861037351745, total=  52.3s\n",
      "[CV] C=2.10615789474, gamma=1e-06 ....................................\n",
      "[CV]  C=2.10615789474, gamma=1e-07, score=0.26522279424818035, total=  52.6s\n",
      "[CV] C=2.10615789474, gamma=1e-05 ....................................\n",
      "[CV]  C=2.10615789474, gamma=1e-06, score=0.26399434928483134, total=  53.5s\n",
      "[CV] C=2.10615789474, gamma=1e-05 ....................................\n",
      "[CV]  C=2.10615789474, gamma=1e-06, score=0.26464861037351745, total=  57.1s\n",
      "[CV] C=2.10615789474, gamma=1e-05 ....................................\n",
      "[CV]  C=2.10615789474, gamma=1e-06, score=0.26522279424818035, total=  57.1s\n",
      "[CV] C=2.10615789474, gamma=0.0001 ...................................\n",
      "[CV]  C=2.10615789474, gamma=1e-05, score=0.26399434928483134, total=  57.6s\n",
      "[CV] C=2.10615789474, gamma=0.0001 ...................................\n",
      "[CV]  C=2.10615789474, gamma=1e-05, score=0.26464861037351745, total=  54.3s\n",
      "[CV] C=2.10615789474, gamma=0.0001 ...................................\n",
      "[CV]  C=2.10615789474, gamma=1e-05, score=0.26522279424818035, total=  53.4s\n",
      "[CV] C=2.10615789474, gamma=0.001 ....................................\n",
      "[CV]  C=2.10615789474, gamma=0.0001, score=0.26399434928483134, total=  54.2s\n",
      "[CV] C=2.10615789474, gamma=0.001 ....................................\n",
      "[CV]  C=2.10615789474, gamma=0.0001, score=0.26464861037351745, total=  53.9s\n",
      "[CV] C=2.10615789474, gamma=0.001 ....................................\n",
      "[CV]  C=2.10615789474, gamma=0.0001, score=0.26522279424818035, total=  53.7s\n",
      "[CV] C=2.10615789474, gamma=0.01 .....................................\n",
      "[CV]  C=2.10615789474, gamma=0.001, score=0.26399434928483134, total= 1.1min\n",
      "[CV] C=2.10615789474, gamma=0.01 .....................................\n",
      "[CV]  C=2.10615789474, gamma=0.001, score=0.26482563285537264, total= 1.1min\n",
      "[CV] C=2.10615789474, gamma=0.01 .....................................\n",
      "[CV]  C=2.10615789474, gamma=0.001, score=0.26522279424818035, total= 1.1min\n",
      "[CV] C=2.10615789474, gamma=0.1 ......................................\n",
      "[CV]  C=2.10615789474, gamma=0.01, score=0.3996115133321561, total= 1.1min\n",
      "[CV] C=2.10615789474, gamma=0.1 ......................................\n",
      "[CV]  C=2.10615789474, gamma=0.01, score=0.40449637103912195, total= 1.1min\n",
      "[CV] C=2.10615789474, gamma=0.1 ......................................\n",
      "[CV]  C=2.10615789474, gamma=0.01, score=0.40813065861885317, total= 1.2min\n",
      "[CV] C=2.10615789474, gamma=1.0 ......................................\n",
      "[CV]  C=2.10615789474, gamma=0.1, score=0.488433692389193, total= 1.2min\n",
      "[CV] C=2.10615789474, gamma=1.0 ......................................\n",
      "[CV]  C=2.10615789474, gamma=0.1, score=0.48911311736590546, total= 1.1min\n",
      "[CV] C=2.10615789474, gamma=1.0 ......................................\n",
      "[CV]  C=2.10615789474, gamma=0.1, score=0.5015089650275164, total= 1.1min\n",
      "[CV] C=2.10615789474, gamma=10.0 .....................................\n",
      "[CV]  C=2.10615789474, gamma=1.0, score=0.5721349108246513, total= 2.1min\n",
      "[CV] C=2.10615789474, gamma=10.0 .....................................\n",
      "[CV]  C=2.10615789474, gamma=1.0, score=0.5785094707027792, total= 2.1min\n",
      "[CV] C=2.10615789474, gamma=10.0 .....................................\n",
      "[CV]  C=2.10615789474, gamma=1.0, score=0.5934670690573407, total= 2.1min\n",
      "[CV] C=2.10615789474, gamma=100.0 ....................................\n"
     ]
    },
    {
     "name": "stderr",
     "output_type": "stream",
     "text": [
      "/Users/luanrubensf/anaconda/lib/python3.6/site-packages/sklearn/svm/base.py:218: ConvergenceWarning: Solver terminated early (max_iter=10000).  Consider pre-processing your data with StandardScaler or MinMaxScaler.\n",
      "  % self.max_iter, ConvergenceWarning)\n"
     ]
    },
    {
     "name": "stdout",
     "output_type": "stream",
     "text": [
      "[CV]  C=2.10615789474, gamma=10.0, score=0.26787921596327036, total= 3.3min\n",
      "[CV] C=2.10615789474, gamma=100.0 ....................................\n"
     ]
    },
    {
     "name": "stderr",
     "output_type": "stream",
     "text": [
      "/Users/luanrubensf/anaconda/lib/python3.6/site-packages/sklearn/svm/base.py:218: ConvergenceWarning: Solver terminated early (max_iter=10000).  Consider pre-processing your data with StandardScaler or MinMaxScaler.\n",
      "  % self.max_iter, ConvergenceWarning)\n",
      "/Users/luanrubensf/anaconda/lib/python3.6/site-packages/sklearn/svm/base.py:218: ConvergenceWarning: Solver terminated early (max_iter=10000).  Consider pre-processing your data with StandardScaler or MinMaxScaler.\n",
      "  % self.max_iter, ConvergenceWarning)\n"
     ]
    },
    {
     "name": "stdout",
     "output_type": "stream",
     "text": [
      "[CV]  C=2.10615789474, gamma=10.0, score=0.2697822623473181, total= 3.2min\n",
      "[CV] C=2.10615789474, gamma=100.0 ....................................\n",
      "[CV]  C=2.10615789474, gamma=10.0, score=0.2707260784661814, total= 3.2min\n",
      "[CV] C=2.10615789474, gamma=1000.0 ...................................\n"
     ]
    },
    {
     "name": "stderr",
     "output_type": "stream",
     "text": [
      "/Users/luanrubensf/anaconda/lib/python3.6/site-packages/sklearn/svm/base.py:218: ConvergenceWarning: Solver terminated early (max_iter=10000).  Consider pre-processing your data with StandardScaler or MinMaxScaler.\n",
      "  % self.max_iter, ConvergenceWarning)\n"
     ]
    },
    {
     "name": "stdout",
     "output_type": "stream",
     "text": [
      "[CV]  C=2.10615789474, gamma=100.0, score=0.26399434928483134, total= 3.2min\n",
      "[CV] C=2.10615789474, gamma=1000.0 ...................................\n"
     ]
    },
    {
     "name": "stderr",
     "output_type": "stream",
     "text": [
      "/Users/luanrubensf/anaconda/lib/python3.6/site-packages/sklearn/svm/base.py:218: ConvergenceWarning: Solver terminated early (max_iter=10000).  Consider pre-processing your data with StandardScaler or MinMaxScaler.\n",
      "  % self.max_iter, ConvergenceWarning)\n"
     ]
    },
    {
     "name": "stdout",
     "output_type": "stream",
     "text": [
      "[CV]  C=2.10615789474, gamma=100.0, score=0.26482563285537264, total= 3.3min\n",
      "[CV] C=2.10615789474, gamma=1000.0 ...................................\n"
     ]
    },
    {
     "name": "stderr",
     "output_type": "stream",
     "text": [
      "/Users/luanrubensf/anaconda/lib/python3.6/site-packages/sklearn/svm/base.py:218: ConvergenceWarning: Solver terminated early (max_iter=10000).  Consider pre-processing your data with StandardScaler or MinMaxScaler.\n",
      "  % self.max_iter, ConvergenceWarning)\n",
      "/Users/luanrubensf/anaconda/lib/python3.6/site-packages/sklearn/svm/base.py:218: ConvergenceWarning: Solver terminated early (max_iter=10000).  Consider pre-processing your data with StandardScaler or MinMaxScaler.\n",
      "  % self.max_iter, ConvergenceWarning)\n"
     ]
    },
    {
     "name": "stdout",
     "output_type": "stream",
     "text": [
      "[CV]  C=2.10615789474, gamma=1000.0, score=0.26399434928483134, total= 3.1min\n",
      "[CV] C=3.15873684211, gamma=1e-09 ....................................\n",
      "[CV]  C=2.10615789474, gamma=100.0, score=0.2654003195455352, total= 3.3min\n",
      "[CV] C=3.15873684211, gamma=1e-09 ....................................\n"
     ]
    },
    {
     "name": "stderr",
     "output_type": "stream",
     "text": [
      "/Users/luanrubensf/anaconda/lib/python3.6/site-packages/sklearn/svm/base.py:218: ConvergenceWarning: Solver terminated early (max_iter=10000).  Consider pre-processing your data with StandardScaler or MinMaxScaler.\n",
      "  % self.max_iter, ConvergenceWarning)\n"
     ]
    },
    {
     "name": "stdout",
     "output_type": "stream",
     "text": [
      "[CV]  C=2.10615789474, gamma=1000.0, score=0.26482563285537264, total= 3.1min\n",
      "[CV] C=3.15873684211, gamma=1e-09 ....................................\n",
      "[CV]  C=3.15873684211, gamma=1e-09, score=0.26399434928483134, total=  52.2s\n",
      "[CV] C=3.15873684211, gamma=1e-08 ....................................\n",
      "[CV]  C=3.15873684211, gamma=1e-09, score=0.26464861037351745, total=  52.3s\n",
      "[CV] C=3.15873684211, gamma=1e-08 ....................................\n"
     ]
    },
    {
     "name": "stderr",
     "output_type": "stream",
     "text": [
      "/Users/luanrubensf/anaconda/lib/python3.6/site-packages/sklearn/svm/base.py:218: ConvergenceWarning: Solver terminated early (max_iter=10000).  Consider pre-processing your data with StandardScaler or MinMaxScaler.\n",
      "  % self.max_iter, ConvergenceWarning)\n"
     ]
    },
    {
     "name": "stdout",
     "output_type": "stream",
     "text": [
      "[CV]  C=3.15873684211, gamma=1e-09, score=0.26522279424818035, total=  51.9s\n",
      "[CV] C=3.15873684211, gamma=1e-08 ....................................\n",
      "[CV]  C=3.15873684211, gamma=1e-08, score=0.26399434928483134, total=  52.1s\n",
      "[CV] C=3.15873684211, gamma=1e-07 ....................................\n"
     ]
    },
    {
     "name": "stderr",
     "output_type": "stream",
     "text": [
      "[Parallel(n_jobs=4)]: Done 120 tasks      | elapsed: 57.6min\n"
     ]
    },
    {
     "name": "stdout",
     "output_type": "stream",
     "text": [
      "[CV]  C=2.10615789474, gamma=1000.0, score=0.2654003195455352, total= 3.1min\n",
      "[CV] C=3.15873684211, gamma=1e-07 ....................................\n",
      "[CV]  C=3.15873684211, gamma=1e-08, score=0.26464861037351745, total=  52.1s\n",
      "[CV] C=3.15873684211, gamma=1e-07 ....................................\n",
      "[CV]  C=3.15873684211, gamma=1e-08, score=0.26522279424818035, total=  52.5s\n",
      "[CV] C=3.15873684211, gamma=1e-06 ....................................\n",
      "[CV]  C=3.15873684211, gamma=1e-07, score=0.26399434928483134, total=  52.8s\n",
      "[CV] C=3.15873684211, gamma=1e-06 ....................................\n",
      "[CV]  C=3.15873684211, gamma=1e-07, score=0.26464861037351745, total=  52.8s\n",
      "[CV] C=3.15873684211, gamma=1e-06 ....................................\n",
      "[CV]  C=3.15873684211, gamma=1e-07, score=0.26522279424818035, total=  52.8s\n",
      "[CV] C=3.15873684211, gamma=1e-05 ....................................\n",
      "[CV]  C=3.15873684211, gamma=1e-06, score=0.26399434928483134, total=  52.9s\n",
      "[CV] C=3.15873684211, gamma=1e-05 ....................................\n",
      "[CV]  C=3.15873684211, gamma=1e-06, score=0.26464861037351745, total=  53.1s\n",
      "[CV] C=3.15873684211, gamma=1e-05 ....................................\n",
      "[CV]  C=3.15873684211, gamma=1e-06, score=0.26522279424818035, total=  53.2s\n",
      "[CV] C=3.15873684211, gamma=0.0001 ...................................\n",
      "[CV]  C=3.15873684211, gamma=1e-05, score=0.26399434928483134, total=  53.4s\n",
      "[CV] C=3.15873684211, gamma=0.0001 ...................................\n",
      "[CV]  C=3.15873684211, gamma=1e-05, score=0.26464861037351745, total=  53.0s\n",
      "[CV] C=3.15873684211, gamma=0.0001 ...................................\n",
      "[CV]  C=3.15873684211, gamma=1e-05, score=0.26522279424818035, total=  53.0s\n",
      "[CV] C=3.15873684211, gamma=0.001 ....................................\n",
      "[CV]  C=3.15873684211, gamma=0.0001, score=0.26399434928483134, total=  54.4s\n",
      "[CV] C=3.15873684211, gamma=0.001 ....................................\n",
      "[CV]  C=3.15873684211, gamma=0.0001, score=0.26464861037351745, total=  54.4s\n",
      "[CV] C=3.15873684211, gamma=0.001 ....................................\n",
      "[CV]  C=3.15873684211, gamma=0.0001, score=0.26522279424818035, total=  54.3s\n",
      "[CV] C=3.15873684211, gamma=0.01 .....................................\n",
      "[CV]  C=3.15873684211, gamma=0.001, score=0.3263288009888752, total= 1.1min\n",
      "[CV] C=3.15873684211, gamma=0.01 .....................................\n",
      "[CV]  C=3.15873684211, gamma=0.001, score=0.3331563108514781, total= 1.1min\n",
      "[CV] C=3.15873684211, gamma=0.01 .....................................\n",
      "[CV]  C=3.15873684211, gamma=0.001, score=0.32398366767264336, total= 1.1min\n",
      "[CV] C=3.15873684211, gamma=0.1 ......................................\n",
      "[CV]  C=3.15873684211, gamma=0.01, score=0.407557831538054, total= 1.1min\n",
      "[CV] C=3.15873684211, gamma=0.1 ......................................\n",
      "[CV]  C=3.15873684211, gamma=0.01, score=0.4142326075411577, total= 1.1min\n",
      "[CV] C=3.15873684211, gamma=0.1 ......................................\n",
      "[CV]  C=3.15873684211, gamma=0.01, score=0.4159417717024676, total= 1.1min\n",
      "[CV] C=3.15873684211, gamma=1.0 ......................................\n",
      "[CV]  C=3.15873684211, gamma=0.1, score=0.5186297015716052, total= 1.2min\n",
      "[CV] C=3.15873684211, gamma=1.0 ......................................\n",
      "[CV]  C=3.15873684211, gamma=0.1, score=0.5231014338821031, total= 1.1min\n",
      "[CV] C=3.15873684211, gamma=1.0 ......................................\n",
      "[CV]  C=3.15873684211, gamma=0.1, score=0.5306231137937156, total= 1.1min\n",
      "[CV] C=3.15873684211, gamma=10.0 .....................................\n",
      "[CV]  C=3.15873684211, gamma=1.0, score=0.5756666078050503, total= 2.1min\n",
      "[CV] C=3.15873684211, gamma=10.0 .....................................\n",
      "[CV]  C=3.15873684211, gamma=1.0, score=0.5813418304124623, total= 2.1min\n",
      "[CV] C=3.15873684211, gamma=10.0 .....................................\n",
      "[CV]  C=3.15873684211, gamma=1.0, score=0.5966625244097283, total= 2.2min\n",
      "[CV] C=3.15873684211, gamma=100.0 ....................................\n"
     ]
    },
    {
     "name": "stderr",
     "output_type": "stream",
     "text": [
      "/Users/luanrubensf/anaconda/lib/python3.6/site-packages/sklearn/svm/base.py:218: ConvergenceWarning: Solver terminated early (max_iter=10000).  Consider pre-processing your data with StandardScaler or MinMaxScaler.\n",
      "  % self.max_iter, ConvergenceWarning)\n"
     ]
    },
    {
     "name": "stdout",
     "output_type": "stream",
     "text": [
      "[CV]  C=3.15873684211, gamma=10.0, score=0.26787921596327036, total= 3.2min\n",
      "[CV] C=3.15873684211, gamma=100.0 ....................................\n"
     ]
    },
    {
     "name": "stderr",
     "output_type": "stream",
     "text": [
      "/Users/luanrubensf/anaconda/lib/python3.6/site-packages/sklearn/svm/base.py:218: ConvergenceWarning: Solver terminated early (max_iter=10000).  Consider pre-processing your data with StandardScaler or MinMaxScaler.\n",
      "  % self.max_iter, ConvergenceWarning)\n",
      "/Users/luanrubensf/anaconda/lib/python3.6/site-packages/sklearn/svm/base.py:218: ConvergenceWarning: Solver terminated early (max_iter=10000).  Consider pre-processing your data with StandardScaler or MinMaxScaler.\n",
      "  % self.max_iter, ConvergenceWarning)\n"
     ]
    },
    {
     "name": "stdout",
     "output_type": "stream",
     "text": [
      "[CV]  C=3.15873684211, gamma=10.0, score=0.2697822623473181, total= 3.3min\n",
      "[CV] C=3.15873684211, gamma=100.0 ....................................\n",
      "[CV]  C=3.15873684211, gamma=10.0, score=0.2707260784661814, total= 3.2min\n",
      "[CV] C=3.15873684211, gamma=1000.0 ...................................\n"
     ]
    },
    {
     "name": "stderr",
     "output_type": "stream",
     "text": [
      "/Users/luanrubensf/anaconda/lib/python3.6/site-packages/sklearn/svm/base.py:218: ConvergenceWarning: Solver terminated early (max_iter=10000).  Consider pre-processing your data with StandardScaler or MinMaxScaler.\n",
      "  % self.max_iter, ConvergenceWarning)\n"
     ]
    },
    {
     "name": "stdout",
     "output_type": "stream",
     "text": [
      "[CV]  C=3.15873684211, gamma=100.0, score=0.26399434928483134, total= 3.2min\n",
      "[CV] C=3.15873684211, gamma=1000.0 ...................................\n"
     ]
    },
    {
     "name": "stderr",
     "output_type": "stream",
     "text": [
      "/Users/luanrubensf/anaconda/lib/python3.6/site-packages/sklearn/svm/base.py:218: ConvergenceWarning: Solver terminated early (max_iter=10000).  Consider pre-processing your data with StandardScaler or MinMaxScaler.\n",
      "  % self.max_iter, ConvergenceWarning)\n"
     ]
    },
    {
     "name": "stdout",
     "output_type": "stream",
     "text": [
      "[CV]  C=3.15873684211, gamma=100.0, score=0.26482563285537264, total= 3.3min\n",
      "[CV] C=3.15873684211, gamma=1000.0 ...................................\n"
     ]
    },
    {
     "name": "stderr",
     "output_type": "stream",
     "text": [
      "/Users/luanrubensf/anaconda/lib/python3.6/site-packages/sklearn/svm/base.py:218: ConvergenceWarning: Solver terminated early (max_iter=10000).  Consider pre-processing your data with StandardScaler or MinMaxScaler.\n",
      "  % self.max_iter, ConvergenceWarning)\n",
      "/Users/luanrubensf/anaconda/lib/python3.6/site-packages/sklearn/svm/base.py:218: ConvergenceWarning: Solver terminated early (max_iter=10000).  Consider pre-processing your data with StandardScaler or MinMaxScaler.\n",
      "  % self.max_iter, ConvergenceWarning)\n"
     ]
    },
    {
     "name": "stdout",
     "output_type": "stream",
     "text": [
      "[CV]  C=3.15873684211, gamma=1000.0, score=0.26399434928483134, total= 3.1min\n",
      "[CV] C=4.21131578947, gamma=1e-09 ....................................\n"
     ]
    },
    {
     "name": "stderr",
     "output_type": "stream",
     "text": [
      "/Users/luanrubensf/anaconda/lib/python3.6/site-packages/sklearn/svm/base.py:218: ConvergenceWarning: Solver terminated early (max_iter=10000).  Consider pre-processing your data with StandardScaler or MinMaxScaler.\n",
      "  % self.max_iter, ConvergenceWarning)\n"
     ]
    },
    {
     "name": "stdout",
     "output_type": "stream",
     "text": [
      "[CV]  C=3.15873684211, gamma=100.0, score=0.2654003195455352, total= 3.3min\n",
      "[CV] C=4.21131578947, gamma=1e-09 ....................................\n",
      "[CV]  C=3.15873684211, gamma=1000.0, score=0.26482563285537264, total= 3.1min\n",
      "[CV] C=4.21131578947, gamma=1e-09 ....................................\n",
      "[CV]  C=4.21131578947, gamma=1e-09, score=0.26399434928483134, total=  52.2s\n",
      "[CV] C=4.21131578947, gamma=1e-08 ....................................\n",
      "[CV]  C=4.21131578947, gamma=1e-09, score=0.26464861037351745, total=  52.2s\n",
      "[CV] C=4.21131578947, gamma=1e-08 ....................................\n"
     ]
    },
    {
     "name": "stderr",
     "output_type": "stream",
     "text": [
      "/Users/luanrubensf/anaconda/lib/python3.6/site-packages/sklearn/svm/base.py:218: ConvergenceWarning: Solver terminated early (max_iter=10000).  Consider pre-processing your data with StandardScaler or MinMaxScaler.\n",
      "  % self.max_iter, ConvergenceWarning)\n"
     ]
    },
    {
     "name": "stdout",
     "output_type": "stream",
     "text": [
      "[CV]  C=4.21131578947, gamma=1e-09, score=0.26522279424818035, total=  51.7s\n",
      "[CV] C=4.21131578947, gamma=1e-08 ....................................\n",
      "[CV]  C=4.21131578947, gamma=1e-08, score=0.26399434928483134, total=  52.4s\n",
      "[CV] C=4.21131578947, gamma=1e-07 ....................................\n",
      "[CV]  C=3.15873684211, gamma=1000.0, score=0.2654003195455352, total= 3.1min\n",
      "[CV] C=4.21131578947, gamma=1e-07 ....................................\n",
      "[CV]  C=4.21131578947, gamma=1e-08, score=0.26464861037351745, total=  52.7s\n",
      "[CV] C=4.21131578947, gamma=1e-07 ....................................\n",
      "[CV]  C=4.21131578947, gamma=1e-08, score=0.26522279424818035, total=  52.0s\n",
      "[CV] C=4.21131578947, gamma=1e-06 ....................................\n",
      "[CV]  C=4.21131578947, gamma=1e-07, score=0.26399434928483134, total=  52.3s\n",
      "[CV] C=4.21131578947, gamma=1e-06 ....................................\n",
      "[CV]  C=4.21131578947, gamma=1e-07, score=0.26464861037351745, total=  52.3s\n",
      "[CV] C=4.21131578947, gamma=1e-06 ....................................\n",
      "[CV]  C=4.21131578947, gamma=1e-07, score=0.26522279424818035, total=  52.2s\n",
      "[CV] C=4.21131578947, gamma=1e-05 ....................................\n",
      "[CV]  C=4.21131578947, gamma=1e-06, score=0.26399434928483134, total=  52.6s\n",
      "[CV] C=4.21131578947, gamma=1e-05 ....................................\n",
      "[CV]  C=4.21131578947, gamma=1e-06, score=0.26464861037351745, total=  53.1s\n",
      "[CV] C=4.21131578947, gamma=1e-05 ....................................\n",
      "[CV]  C=4.21131578947, gamma=1e-06, score=0.26522279424818035, total=  52.9s\n",
      "[CV] C=4.21131578947, gamma=0.0001 ...................................\n",
      "[CV]  C=4.21131578947, gamma=1e-05, score=0.26399434928483134, total=  53.1s\n",
      "[CV] C=4.21131578947, gamma=0.0001 ...................................\n",
      "[CV]  C=4.21131578947, gamma=1e-05, score=0.26464861037351745, total=  52.8s\n",
      "[CV] C=4.21131578947, gamma=0.0001 ...................................\n",
      "[CV]  C=4.21131578947, gamma=1e-05, score=0.26522279424818035, total=  53.2s\n",
      "[CV] C=4.21131578947, gamma=0.001 ....................................\n",
      "[CV]  C=4.21131578947, gamma=0.0001, score=0.26399434928483134, total=  55.1s\n",
      "[CV] C=4.21131578947, gamma=0.001 ....................................\n",
      "[CV]  C=4.21131578947, gamma=0.0001, score=0.26464861037351745, total=  55.1s\n",
      "[CV] C=4.21131578947, gamma=0.001 ....................................\n",
      "[CV]  C=4.21131578947, gamma=0.0001, score=0.26522279424818035, total=  55.4s\n",
      "[CV] C=4.21131578947, gamma=0.01 .....................................\n",
      "[CV]  C=4.21131578947, gamma=0.001, score=0.33727706162811233, total= 1.1min\n",
      "[CV] C=4.21131578947, gamma=0.01 .....................................\n",
      "[CV]  C=4.21131578947, gamma=0.001, score=0.33882103027084437, total= 1.1min\n",
      "[CV] C=4.21131578947, gamma=0.01 .....................................\n",
      "[CV]  C=4.21131578947, gamma=0.001, score=0.33960589383987216, total= 1.1min\n",
      "[CV] C=4.21131578947, gamma=0.1 ......................................\n",
      "[CV]  C=4.21131578947, gamma=0.01, score=0.4139148861027724, total= 1.1min\n",
      "[CV] C=4.21131578947, gamma=0.1 ......................................\n",
      "[CV]  C=4.21131578947, gamma=0.01, score=0.4184811471056824, total= 1.1min\n",
      "[CV] C=4.21131578947, gamma=0.1 ......................................\n",
      "[CV]  C=4.21131578947, gamma=0.01, score=0.42446298597550153, total= 1.1min\n",
      "[CV] C=4.21131578947, gamma=1.0 ......................................\n",
      "[CV]  C=4.21131578947, gamma=0.1, score=0.5398198834539997, total= 1.2min\n",
      "[CV] C=4.21131578947, gamma=1.0 ......................................\n",
      "[CV]  C=4.21131578947, gamma=0.1, score=0.5425739068861746, total= 1.1min\n",
      "[CV] C=4.21131578947, gamma=1.0 ......................................\n",
      "[CV]  C=4.21131578947, gamma=0.1, score=0.5549440795313332, total= 1.2min\n",
      "[CV] C=4.21131578947, gamma=10.0 .....................................\n",
      "[CV]  C=4.21131578947, gamma=1.0, score=0.5739007593148507, total= 2.1min\n",
      "[CV] C=4.21131578947, gamma=10.0 .....................................\n",
      "[CV]  C=4.21131578947, gamma=1.0, score=0.5802796955213312, total= 2.1min\n",
      "[CV] C=4.21131578947, gamma=10.0 .....................................\n",
      "[CV]  C=4.21131578947, gamma=1.0, score=0.5954198473282443, total= 2.2min\n",
      "[CV] C=4.21131578947, gamma=100.0 ....................................\n"
     ]
    },
    {
     "name": "stderr",
     "output_type": "stream",
     "text": [
      "/Users/luanrubensf/anaconda/lib/python3.6/site-packages/sklearn/svm/base.py:218: ConvergenceWarning: Solver terminated early (max_iter=10000).  Consider pre-processing your data with StandardScaler or MinMaxScaler.\n",
      "  % self.max_iter, ConvergenceWarning)\n"
     ]
    },
    {
     "name": "stdout",
     "output_type": "stream",
     "text": [
      "[CV]  C=4.21131578947, gamma=10.0, score=0.26787921596327036, total= 3.2min\n",
      "[CV] C=4.21131578947, gamma=100.0 ....................................\n"
     ]
    },
    {
     "name": "stderr",
     "output_type": "stream",
     "text": [
      "/Users/luanrubensf/anaconda/lib/python3.6/site-packages/sklearn/svm/base.py:218: ConvergenceWarning: Solver terminated early (max_iter=10000).  Consider pre-processing your data with StandardScaler or MinMaxScaler.\n",
      "  % self.max_iter, ConvergenceWarning)\n",
      "/Users/luanrubensf/anaconda/lib/python3.6/site-packages/sklearn/svm/base.py:218: ConvergenceWarning: Solver terminated early (max_iter=10000).  Consider pre-processing your data with StandardScaler or MinMaxScaler.\n",
      "  % self.max_iter, ConvergenceWarning)\n"
     ]
    },
    {
     "name": "stdout",
     "output_type": "stream",
     "text": [
      "[CV]  C=4.21131578947, gamma=10.0, score=0.2697822623473181, total= 3.2min\n",
      "[CV] C=4.21131578947, gamma=100.0 ....................................\n"
     ]
    },
    {
     "name": "stderr",
     "output_type": "stream",
     "text": [
      "/Users/luanrubensf/anaconda/lib/python3.6/site-packages/sklearn/svm/base.py:218: ConvergenceWarning: Solver terminated early (max_iter=10000).  Consider pre-processing your data with StandardScaler or MinMaxScaler.\n",
      "  % self.max_iter, ConvergenceWarning)\n"
     ]
    },
    {
     "name": "stdout",
     "output_type": "stream",
     "text": [
      "[CV]  C=4.21131578947, gamma=10.0, score=0.2707260784661814, total= 3.2min\n",
      "[CV] C=4.21131578947, gamma=1000.0 ...................................\n",
      "[CV]  C=4.21131578947, gamma=100.0, score=0.26399434928483134, total= 3.2min\n",
      "[CV] C=4.21131578947, gamma=1000.0 ...................................\n"
     ]
    },
    {
     "name": "stderr",
     "output_type": "stream",
     "text": [
      "/Users/luanrubensf/anaconda/lib/python3.6/site-packages/sklearn/svm/base.py:218: ConvergenceWarning: Solver terminated early (max_iter=10000).  Consider pre-processing your data with StandardScaler or MinMaxScaler.\n",
      "  % self.max_iter, ConvergenceWarning)\n"
     ]
    },
    {
     "name": "stdout",
     "output_type": "stream",
     "text": [
      "[CV]  C=4.21131578947, gamma=100.0, score=0.26482563285537264, total= 3.3min\n",
      "[CV] C=4.21131578947, gamma=1000.0 ...................................\n"
     ]
    },
    {
     "name": "stderr",
     "output_type": "stream",
     "text": [
      "/Users/luanrubensf/anaconda/lib/python3.6/site-packages/sklearn/svm/base.py:218: ConvergenceWarning: Solver terminated early (max_iter=10000).  Consider pre-processing your data with StandardScaler or MinMaxScaler.\n",
      "  % self.max_iter, ConvergenceWarning)\n",
      "/Users/luanrubensf/anaconda/lib/python3.6/site-packages/sklearn/svm/base.py:218: ConvergenceWarning: Solver terminated early (max_iter=10000).  Consider pre-processing your data with StandardScaler or MinMaxScaler.\n",
      "  % self.max_iter, ConvergenceWarning)\n",
      "/Users/luanrubensf/anaconda/lib/python3.6/site-packages/sklearn/svm/base.py:218: ConvergenceWarning: Solver terminated early (max_iter=10000).  Consider pre-processing your data with StandardScaler or MinMaxScaler.\n",
      "  % self.max_iter, ConvergenceWarning)\n"
     ]
    },
    {
     "name": "stdout",
     "output_type": "stream",
     "text": [
      "[CV]  C=4.21131578947, gamma=100.0, score=0.2654003195455352, total= 3.3min\n",
      "[CV] C=5.26389473684, gamma=1e-09 ....................................\n",
      "[CV]  C=4.21131578947, gamma=1000.0, score=0.26399434928483134, total= 3.1min\n",
      "[CV] C=5.26389473684, gamma=1e-09 ....................................\n",
      "[CV]  C=4.21131578947, gamma=1000.0, score=0.26482563285537264, total= 3.1min\n",
      "[CV] C=5.26389473684, gamma=1e-09 ....................................\n",
      "[CV]  C=5.26389473684, gamma=1e-09, score=0.26399434928483134, total=  52.3s\n",
      "[CV] C=5.26389473684, gamma=1e-08 ....................................\n",
      "[CV]  C=5.26389473684, gamma=1e-09, score=0.26464861037351745, total=  52.3s\n",
      "[CV] C=5.26389473684, gamma=1e-08 ....................................\n"
     ]
    },
    {
     "name": "stderr",
     "output_type": "stream",
     "text": [
      "/Users/luanrubensf/anaconda/lib/python3.6/site-packages/sklearn/svm/base.py:218: ConvergenceWarning: Solver terminated early (max_iter=10000).  Consider pre-processing your data with StandardScaler or MinMaxScaler.\n",
      "  % self.max_iter, ConvergenceWarning)\n"
     ]
    },
    {
     "name": "stdout",
     "output_type": "stream",
     "text": [
      "[CV]  C=5.26389473684, gamma=1e-09, score=0.26522279424818035, total=  52.0s\n",
      "[CV] C=5.26389473684, gamma=1e-08 ....................................\n",
      "[CV]  C=4.21131578947, gamma=1000.0, score=0.2654003195455352, total= 3.1min\n",
      "[CV] C=5.26389473684, gamma=1e-07 ....................................\n",
      "[CV]  C=5.26389473684, gamma=1e-08, score=0.26399434928483134, total=  52.4s\n",
      "[CV] C=5.26389473684, gamma=1e-07 ....................................\n",
      "[CV]  C=5.26389473684, gamma=1e-08, score=0.26464861037351745, total=  52.3s\n",
      "[CV] C=5.26389473684, gamma=1e-07 ....................................\n",
      "[CV]  C=5.26389473684, gamma=1e-08, score=0.26522279424818035, total=  51.9s\n",
      "[CV] C=5.26389473684, gamma=1e-06 ....................................\n",
      "[CV]  C=5.26389473684, gamma=1e-07, score=0.26399434928483134, total=  52.4s\n",
      "[CV] C=5.26389473684, gamma=1e-06 ....................................\n",
      "[CV]  C=5.26389473684, gamma=1e-07, score=0.26464861037351745, total=  52.3s\n",
      "[CV] C=5.26389473684, gamma=1e-06 ....................................\n",
      "[CV]  C=5.26389473684, gamma=1e-07, score=0.26522279424818035, total=  52.3s\n",
      "[CV] C=5.26389473684, gamma=1e-05 ....................................\n",
      "[CV]  C=5.26389473684, gamma=1e-06, score=0.26399434928483134, total=  53.0s\n",
      "[CV] C=5.26389473684, gamma=1e-05 ....................................\n",
      "[CV]  C=5.26389473684, gamma=1e-06, score=0.26464861037351745, total=  52.7s\n",
      "[CV] C=5.26389473684, gamma=1e-05 ....................................\n",
      "[CV]  C=5.26389473684, gamma=1e-06, score=0.26522279424818035, total=  52.9s\n",
      "[CV] C=5.26389473684, gamma=0.0001 ...................................\n",
      "[CV]  C=5.26389473684, gamma=1e-05, score=0.26399434928483134, total=  53.5s\n",
      "[CV] C=5.26389473684, gamma=0.0001 ...................................\n",
      "[CV]  C=5.26389473684, gamma=1e-05, score=0.26464861037351745, total=  52.7s\n",
      "[CV] C=5.26389473684, gamma=0.0001 ...................................\n",
      "[CV]  C=5.26389473684, gamma=1e-05, score=0.26522279424818035, total=  53.0s\n",
      "[CV] C=5.26389473684, gamma=0.001 ....................................\n",
      "[CV]  C=5.26389473684, gamma=0.0001, score=0.26399434928483134, total=  56.4s\n",
      "[CV] C=5.26389473684, gamma=0.001 ....................................\n",
      "[CV]  C=5.26389473684, gamma=0.0001, score=0.26464861037351745, total=  56.3s\n",
      "[CV] C=5.26389473684, gamma=0.001 ....................................\n",
      "[CV]  C=5.26389473684, gamma=0.0001, score=0.26522279424818035, total=  56.3s\n",
      "[CV] C=5.26389473684, gamma=0.01 .....................................\n",
      "[CV]  C=5.26389473684, gamma=0.001, score=0.34239802224969096, total= 1.1min\n",
      "[CV] C=5.26389473684, gamma=0.01 .....................................\n",
      "[CV]  C=5.26389473684, gamma=0.001, score=0.34076827757125155, total= 1.1min\n",
      "[CV] C=5.26389473684, gamma=0.01 .....................................\n",
      "[CV]  C=5.26389473684, gamma=0.001, score=0.34333392508432453, total= 1.1min\n",
      "[CV] C=5.26389473684, gamma=0.1 ......................................\n",
      "[CV]  C=5.26389473684, gamma=0.01, score=0.4195656012714109, total= 1.1min\n",
      "[CV] C=5.26389473684, gamma=0.1 ......................................\n",
      "[CV]  C=5.26389473684, gamma=0.01, score=0.4275092936802974, total= 1.1min\n",
      "[CV] C=5.26389473684, gamma=0.1 ......................................\n",
      "[CV]  C=5.26389473684, gamma=0.01, score=0.4329842002485354, total= 1.1min\n",
      "[CV] C=5.26389473684, gamma=1.0 ......................................\n",
      "[CV]  C=5.26389473684, gamma=0.1, score=0.553946671375596, total= 1.2min\n",
      "[CV] C=5.26389473684, gamma=1.0 ......................................\n",
      "[CV]  C=5.26389473684, gamma=0.1, score=0.5570897503983006, total= 1.2min\n",
      "[CV] C=5.26389473684, gamma=1.0 ......................................\n",
      "[CV]  C=5.26389473684, gamma=0.1, score=0.5696786792117877, total= 1.2min\n",
      "[CV] C=5.26389473684, gamma=10.0 .....................................\n",
      "[CV]  C=5.26389473684, gamma=1.0, score=0.5742539290128907, total= 2.1min\n",
      "[CV] C=5.26389473684, gamma=10.0 .....................................\n",
      "[CV]  C=5.26389473684, gamma=1.0, score=0.5802796955213312, total= 2.1min\n",
      "[CV] C=5.26389473684, gamma=10.0 .....................................\n",
      "[CV]  C=5.26389473684, gamma=1.0, score=0.5954198473282443, total= 2.2min\n",
      "[CV] C=5.26389473684, gamma=100.0 ....................................\n"
     ]
    },
    {
     "name": "stderr",
     "output_type": "stream",
     "text": [
      "/Users/luanrubensf/anaconda/lib/python3.6/site-packages/sklearn/svm/base.py:218: ConvergenceWarning: Solver terminated early (max_iter=10000).  Consider pre-processing your data with StandardScaler or MinMaxScaler.\n",
      "  % self.max_iter, ConvergenceWarning)\n"
     ]
    },
    {
     "name": "stdout",
     "output_type": "stream",
     "text": [
      "[CV]  C=5.26389473684, gamma=10.0, score=0.26787921596327036, total= 3.2min\n",
      "[CV] C=5.26389473684, gamma=100.0 ....................................\n"
     ]
    },
    {
     "name": "stderr",
     "output_type": "stream",
     "text": [
      "/Users/luanrubensf/anaconda/lib/python3.6/site-packages/sklearn/svm/base.py:218: ConvergenceWarning: Solver terminated early (max_iter=10000).  Consider pre-processing your data with StandardScaler or MinMaxScaler.\n",
      "  % self.max_iter, ConvergenceWarning)\n",
      "/Users/luanrubensf/anaconda/lib/python3.6/site-packages/sklearn/svm/base.py:218: ConvergenceWarning: Solver terminated early (max_iter=10000).  Consider pre-processing your data with StandardScaler or MinMaxScaler.\n",
      "  % self.max_iter, ConvergenceWarning)\n",
      "/Users/luanrubensf/anaconda/lib/python3.6/site-packages/sklearn/svm/base.py:218: ConvergenceWarning: Solver terminated early (max_iter=10000).  Consider pre-processing your data with StandardScaler or MinMaxScaler.\n",
      "  % self.max_iter, ConvergenceWarning)\n"
     ]
    },
    {
     "name": "stdout",
     "output_type": "stream",
     "text": [
      "[CV]  C=5.26389473684, gamma=10.0, score=0.2697822623473181, total= 3.2min\n",
      "[CV] C=5.26389473684, gamma=100.0 ....................................\n",
      "[CV]  C=5.26389473684, gamma=10.0, score=0.2707260784661814, total= 3.2min\n",
      "[CV] C=5.26389473684, gamma=1000.0 ...................................\n",
      "[CV]  C=5.26389473684, gamma=100.0, score=0.26399434928483134, total= 3.3min\n",
      "[CV] C=5.26389473684, gamma=1000.0 ...................................\n"
     ]
    },
    {
     "name": "stderr",
     "output_type": "stream",
     "text": [
      "/Users/luanrubensf/anaconda/lib/python3.6/site-packages/sklearn/svm/base.py:218: ConvergenceWarning: Solver terminated early (max_iter=10000).  Consider pre-processing your data with StandardScaler or MinMaxScaler.\n",
      "  % self.max_iter, ConvergenceWarning)\n"
     ]
    },
    {
     "name": "stdout",
     "output_type": "stream",
     "text": [
      "[CV]  C=5.26389473684, gamma=100.0, score=0.26482563285537264, total= 3.3min\n",
      "[CV] C=5.26389473684, gamma=1000.0 ...................................\n"
     ]
    },
    {
     "name": "stderr",
     "output_type": "stream",
     "text": [
      "/Users/luanrubensf/anaconda/lib/python3.6/site-packages/sklearn/svm/base.py:218: ConvergenceWarning: Solver terminated early (max_iter=10000).  Consider pre-processing your data with StandardScaler or MinMaxScaler.\n",
      "  % self.max_iter, ConvergenceWarning)\n",
      "/Users/luanrubensf/anaconda/lib/python3.6/site-packages/sklearn/svm/base.py:218: ConvergenceWarning: Solver terminated early (max_iter=10000).  Consider pre-processing your data with StandardScaler or MinMaxScaler.\n",
      "  % self.max_iter, ConvergenceWarning)\n",
      "/Users/luanrubensf/anaconda/lib/python3.6/site-packages/sklearn/svm/base.py:218: ConvergenceWarning: Solver terminated early (max_iter=10000).  Consider pre-processing your data with StandardScaler or MinMaxScaler.\n",
      "  % self.max_iter, ConvergenceWarning)\n"
     ]
    },
    {
     "name": "stdout",
     "output_type": "stream",
     "text": [
      "[CV]  C=5.26389473684, gamma=1000.0, score=0.26399434928483134, total= 3.1min\n",
      "[CV] C=6.31647368421, gamma=1e-09 ....................................\n",
      "[CV]  C=5.26389473684, gamma=100.0, score=0.2654003195455352, total= 3.3min\n",
      "[CV] C=6.31647368421, gamma=1e-09 ....................................\n",
      "[CV]  C=5.26389473684, gamma=1000.0, score=0.26482563285537264, total= 3.1min\n",
      "[CV] C=6.31647368421, gamma=1e-09 ....................................\n",
      "[CV]  C=6.31647368421, gamma=1e-09, score=0.26399434928483134, total=  52.3s\n",
      "[CV] C=6.31647368421, gamma=1e-08 ....................................\n",
      "[CV]  C=6.31647368421, gamma=1e-09, score=0.26464861037351745, total=  52.4s\n",
      "[CV] C=6.31647368421, gamma=1e-08 ....................................\n"
     ]
    },
    {
     "name": "stderr",
     "output_type": "stream",
     "text": [
      "/Users/luanrubensf/anaconda/lib/python3.6/site-packages/sklearn/svm/base.py:218: ConvergenceWarning: Solver terminated early (max_iter=10000).  Consider pre-processing your data with StandardScaler or MinMaxScaler.\n",
      "  % self.max_iter, ConvergenceWarning)\n"
     ]
    },
    {
     "name": "stdout",
     "output_type": "stream",
     "text": [
      "[CV]  C=6.31647368421, gamma=1e-09, score=0.26522279424818035, total=  52.4s\n",
      "[CV] C=6.31647368421, gamma=1e-08 ....................................\n",
      "[CV]  C=5.26389473684, gamma=1000.0, score=0.2654003195455352, total= 3.1min\n",
      "[CV] C=6.31647368421, gamma=1e-07 ....................................\n",
      "[CV]  C=6.31647368421, gamma=1e-08, score=0.26399434928483134, total=  52.3s\n",
      "[CV] C=6.31647368421, gamma=1e-07 ....................................\n",
      "[CV]  C=6.31647368421, gamma=1e-08, score=0.26464861037351745, total=  52.0s\n",
      "[CV] C=6.31647368421, gamma=1e-07 ....................................\n",
      "[CV]  C=6.31647368421, gamma=1e-08, score=0.26522279424818035, total=  52.2s\n",
      "[CV] C=6.31647368421, gamma=1e-06 ....................................\n",
      "[CV]  C=6.31647368421, gamma=1e-07, score=0.26399434928483134, total=  52.1s\n",
      "[CV] C=6.31647368421, gamma=1e-06 ....................................\n",
      "[CV]  C=6.31647368421, gamma=1e-07, score=0.26464861037351745, total=  52.2s\n",
      "[CV] C=6.31647368421, gamma=1e-06 ....................................\n",
      "[CV]  C=6.31647368421, gamma=1e-07, score=0.26522279424818035, total=  51.9s\n",
      "[CV] C=6.31647368421, gamma=1e-05 ....................................\n",
      "[CV]  C=6.31647368421, gamma=1e-06, score=0.26399434928483134, total=  52.6s\n",
      "[CV] C=6.31647368421, gamma=1e-05 ....................................\n",
      "[CV]  C=6.31647368421, gamma=1e-06, score=0.26464861037351745, total=  53.3s\n",
      "[CV] C=6.31647368421, gamma=1e-05 ....................................\n",
      "[CV]  C=6.31647368421, gamma=1e-06, score=0.26522279424818035, total=  52.9s\n",
      "[CV] C=6.31647368421, gamma=0.0001 ...................................\n",
      "[CV]  C=6.31647368421, gamma=1e-05, score=0.26399434928483134, total=  53.5s\n",
      "[CV] C=6.31647368421, gamma=0.0001 ...................................\n",
      "[CV]  C=6.31647368421, gamma=1e-05, score=0.26464861037351745, total=  53.2s\n",
      "[CV] C=6.31647368421, gamma=0.0001 ...................................\n",
      "[CV]  C=6.31647368421, gamma=1e-05, score=0.26522279424818035, total=  53.5s\n",
      "[CV] C=6.31647368421, gamma=0.001 ....................................\n",
      "[CV]  C=6.31647368421, gamma=0.0001, score=0.26399434928483134, total=  57.6s\n",
      "[CV] C=6.31647368421, gamma=0.001 ....................................\n",
      "[CV]  C=6.31647368421, gamma=0.0001, score=0.26464861037351745, total=  56.9s\n",
      "[CV] C=6.31647368421, gamma=0.001 ....................................\n",
      "[CV]  C=6.31647368421, gamma=0.0001, score=0.26522279424818035, total=  56.8s\n",
      "[CV] C=6.31647368421, gamma=0.01 .....................................\n",
      "[CV]  C=6.31647368421, gamma=0.001, score=0.35405262228500795, total= 1.1min\n",
      "[CV] C=6.31647368421, gamma=0.01 .....................................\n",
      "[CV]  C=6.31647368421, gamma=0.001, score=0.354753053637812, total= 1.1min\n",
      "[CV] C=6.31647368421, gamma=0.01 .....................................\n",
      "[CV]  C=6.31647368421, gamma=0.001, score=0.35824605006213384, total= 1.2min\n",
      "[CV] C=6.31647368421, gamma=0.1 ......................................\n",
      "[CV]  C=6.31647368421, gamma=0.01, score=0.42945435281652833, total= 1.1min\n",
      "[CV] C=6.31647368421, gamma=0.1 ......................................\n",
      "[CV]  C=6.31647368421, gamma=0.01, score=0.4351212604000708, total= 1.1min\n",
      "[CV] C=6.31647368421, gamma=0.1 ......................................\n",
      "[CV]  C=6.31647368421, gamma=0.01, score=0.44061778803479495, total= 1.1min\n",
      "[CV] C=6.31647368421, gamma=1.0 ......................................\n",
      "[CV]  C=6.31647368421, gamma=0.1, score=0.5592442168461946, total= 1.2min\n",
      "[CV] C=6.31647368421, gamma=1.0 ......................................\n",
      "[CV]  C=6.31647368421, gamma=0.1, score=0.5632855372632324, total= 1.2min\n",
      "[CV] C=6.31647368421, gamma=1.0 ......................................\n",
      "[CV]  C=6.31647368421, gamma=0.1, score=0.5760695899165631, total= 1.2min\n",
      "[CV] C=6.31647368421, gamma=10.0 .....................................\n",
      "[CV]  C=6.31647368421, gamma=1.0, score=0.5740773441638708, total= 2.1min\n",
      "[CV] C=6.31647368421, gamma=10.0 .....................................\n",
      "[CV]  C=6.31647368421, gamma=1.0, score=0.580102673039476, total= 2.1min\n",
      "[CV] C=6.31647368421, gamma=10.0 .....................................\n",
      "[CV]  C=6.31647368421, gamma=1.0, score=0.5950647967335345, total= 2.2min\n",
      "[CV] C=6.31647368421, gamma=100.0 ....................................\n"
     ]
    },
    {
     "name": "stderr",
     "output_type": "stream",
     "text": [
      "/Users/luanrubensf/anaconda/lib/python3.6/site-packages/sklearn/svm/base.py:218: ConvergenceWarning: Solver terminated early (max_iter=10000).  Consider pre-processing your data with StandardScaler or MinMaxScaler.\n",
      "  % self.max_iter, ConvergenceWarning)\n"
     ]
    },
    {
     "name": "stdout",
     "output_type": "stream",
     "text": [
      "[CV]  C=6.31647368421, gamma=10.0, score=0.26787921596327036, total= 3.2min\n",
      "[CV] C=6.31647368421, gamma=100.0 ....................................\n"
     ]
    },
    {
     "name": "stderr",
     "output_type": "stream",
     "text": [
      "/Users/luanrubensf/anaconda/lib/python3.6/site-packages/sklearn/svm/base.py:218: ConvergenceWarning: Solver terminated early (max_iter=10000).  Consider pre-processing your data with StandardScaler or MinMaxScaler.\n",
      "  % self.max_iter, ConvergenceWarning)\n",
      "/Users/luanrubensf/anaconda/lib/python3.6/site-packages/sklearn/svm/base.py:218: ConvergenceWarning: Solver terminated early (max_iter=10000).  Consider pre-processing your data with StandardScaler or MinMaxScaler.\n",
      "  % self.max_iter, ConvergenceWarning)\n",
      "/Users/luanrubensf/anaconda/lib/python3.6/site-packages/sklearn/svm/base.py:218: ConvergenceWarning: Solver terminated early (max_iter=10000).  Consider pre-processing your data with StandardScaler or MinMaxScaler.\n",
      "  % self.max_iter, ConvergenceWarning)\n"
     ]
    },
    {
     "name": "stdout",
     "output_type": "stream",
     "text": [
      "[CV]  C=6.31647368421, gamma=10.0, score=0.2697822623473181, total= 3.2min\n",
      "[CV] C=6.31647368421, gamma=100.0 ....................................\n",
      "[CV]  C=6.31647368421, gamma=10.0, score=0.2707260784661814, total= 3.2min\n",
      "[CV] C=6.31647368421, gamma=1000.0 ...................................\n",
      "[CV]  C=6.31647368421, gamma=100.0, score=0.26399434928483134, total= 3.2min\n",
      "[CV] C=6.31647368421, gamma=1000.0 ...................................\n"
     ]
    },
    {
     "name": "stderr",
     "output_type": "stream",
     "text": [
      "/Users/luanrubensf/anaconda/lib/python3.6/site-packages/sklearn/svm/base.py:218: ConvergenceWarning: Solver terminated early (max_iter=10000).  Consider pre-processing your data with StandardScaler or MinMaxScaler.\n",
      "  % self.max_iter, ConvergenceWarning)\n"
     ]
    },
    {
     "name": "stdout",
     "output_type": "stream",
     "text": [
      "[CV]  C=6.31647368421, gamma=100.0, score=0.26482563285537264, total= 3.3min\n",
      "[CV] C=6.31647368421, gamma=1000.0 ...................................\n"
     ]
    },
    {
     "name": "stderr",
     "output_type": "stream",
     "text": [
      "/Users/luanrubensf/anaconda/lib/python3.6/site-packages/sklearn/svm/base.py:218: ConvergenceWarning: Solver terminated early (max_iter=10000).  Consider pre-processing your data with StandardScaler or MinMaxScaler.\n",
      "  % self.max_iter, ConvergenceWarning)\n",
      "/Users/luanrubensf/anaconda/lib/python3.6/site-packages/sklearn/svm/base.py:218: ConvergenceWarning: Solver terminated early (max_iter=10000).  Consider pre-processing your data with StandardScaler or MinMaxScaler.\n",
      "  % self.max_iter, ConvergenceWarning)\n",
      "/Users/luanrubensf/anaconda/lib/python3.6/site-packages/sklearn/svm/base.py:218: ConvergenceWarning: Solver terminated early (max_iter=10000).  Consider pre-processing your data with StandardScaler or MinMaxScaler.\n",
      "  % self.max_iter, ConvergenceWarning)\n"
     ]
    },
    {
     "name": "stdout",
     "output_type": "stream",
     "text": [
      "[CV]  C=6.31647368421, gamma=1000.0, score=0.26399434928483134, total= 3.1min\n",
      "[CV] C=7.36905263158, gamma=1e-09 ....................................\n",
      "[CV]  C=6.31647368421, gamma=100.0, score=0.2654003195455352, total= 3.3min\n",
      "[CV] C=7.36905263158, gamma=1e-09 ....................................\n",
      "[CV]  C=6.31647368421, gamma=1000.0, score=0.26482563285537264, total= 3.1min\n",
      "[CV] C=7.36905263158, gamma=1e-09 ....................................\n",
      "[CV]  C=7.36905263158, gamma=1e-09, score=0.26399434928483134, total=  52.3s\n",
      "[CV] C=7.36905263158, gamma=1e-08 ....................................\n",
      "[CV]  C=7.36905263158, gamma=1e-09, score=0.26464861037351745, total=  52.4s\n",
      "[CV] C=7.36905263158, gamma=1e-08 ....................................\n"
     ]
    },
    {
     "name": "stderr",
     "output_type": "stream",
     "text": [
      "/Users/luanrubensf/anaconda/lib/python3.6/site-packages/sklearn/svm/base.py:218: ConvergenceWarning: Solver terminated early (max_iter=10000).  Consider pre-processing your data with StandardScaler or MinMaxScaler.\n",
      "  % self.max_iter, ConvergenceWarning)\n"
     ]
    },
    {
     "name": "stdout",
     "output_type": "stream",
     "text": [
      "[CV]  C=7.36905263158, gamma=1e-09, score=0.26522279424818035, total=  51.7s\n",
      "[CV] C=7.36905263158, gamma=1e-08 ....................................\n",
      "[CV]  C=6.31647368421, gamma=1000.0, score=0.2654003195455352, total= 3.1min\n",
      "[CV] C=7.36905263158, gamma=1e-07 ....................................\n",
      "[CV]  C=7.36905263158, gamma=1e-08, score=0.26399434928483134, total=  52.2s\n",
      "[CV] C=7.36905263158, gamma=1e-07 ....................................\n",
      "[CV]  C=7.36905263158, gamma=1e-08, score=0.26464861037351745, total=  52.6s\n",
      "[CV] C=7.36905263158, gamma=1e-07 ....................................\n",
      "[CV]  C=7.36905263158, gamma=1e-08, score=0.26522279424818035, total=  52.3s\n",
      "[CV] C=7.36905263158, gamma=1e-06 ....................................\n",
      "[CV]  C=7.36905263158, gamma=1e-07, score=0.26399434928483134, total=  52.5s\n",
      "[CV] C=7.36905263158, gamma=1e-06 ....................................\n"
     ]
    },
    {
     "name": "stderr",
     "output_type": "stream",
     "text": [
      "[Parallel(n_jobs=4)]: Done 280 tasks      | elapsed: 142.2min\n"
     ]
    },
    {
     "name": "stdout",
     "output_type": "stream",
     "text": [
      "[CV]  C=7.36905263158, gamma=1e-07, score=0.26464861037351745, total=  52.4s\n",
      "[CV] C=7.36905263158, gamma=1e-06 ....................................\n",
      "[CV]  C=7.36905263158, gamma=1e-07, score=0.26522279424818035, total=  52.3s\n",
      "[CV] C=7.36905263158, gamma=1e-05 ....................................\n",
      "[CV]  C=7.36905263158, gamma=1e-06, score=0.26399434928483134, total=  53.3s\n",
      "[CV] C=7.36905263158, gamma=1e-05 ....................................\n",
      "[CV]  C=7.36905263158, gamma=1e-06, score=0.26464861037351745, total=  53.3s\n",
      "[CV] C=7.36905263158, gamma=1e-05 ....................................\n",
      "[CV]  C=7.36905263158, gamma=1e-06, score=0.26522279424818035, total=  53.6s\n",
      "[CV] C=7.36905263158, gamma=0.0001 ...................................\n",
      "[CV]  C=7.36905263158, gamma=1e-05, score=0.26399434928483134, total=  53.6s\n",
      "[CV] C=7.36905263158, gamma=0.0001 ...................................\n",
      "[CV]  C=7.36905263158, gamma=1e-05, score=0.26464861037351745, total=  53.4s\n",
      "[CV] C=7.36905263158, gamma=0.0001 ...................................\n",
      "[CV]  C=7.36905263158, gamma=1e-05, score=0.26522279424818035, total=  53.0s\n",
      "[CV] C=7.36905263158, gamma=0.001 ....................................\n",
      "[CV]  C=7.36905263158, gamma=0.0001, score=0.26399434928483134, total=  58.3s\n",
      "[CV] C=7.36905263158, gamma=0.001 ....................................\n",
      "[CV]  C=7.36905263158, gamma=0.0001, score=0.26464861037351745, total=  57.8s\n",
      "[CV] C=7.36905263158, gamma=0.001 ....................................\n",
      "[CV]  C=7.36905263158, gamma=0.0001, score=0.26522279424818035, total=  58.0s\n",
      "[CV] C=7.36905263158, gamma=0.01 .....................................\n",
      "[CV]  C=7.36905263158, gamma=0.001, score=0.35970333745364647, total= 1.1min\n",
      "[CV] C=7.36905263158, gamma=0.01 .....................................\n",
      "[CV]  C=7.36905263158, gamma=0.001, score=0.36112586298459903, total= 1.1min\n",
      "[CV] C=7.36905263158, gamma=0.01 .....................................\n",
      "[CV]  C=7.36905263158, gamma=0.001, score=0.36552458725368364, total= 1.2min\n",
      "[CV] C=7.36905263158, gamma=0.1 ......................................\n",
      "[CV]  C=7.36905263158, gamma=0.01, score=0.4358114073812467, total= 1.1min\n",
      "[CV] C=7.36905263158, gamma=0.1 ......................................\n",
      "[CV]  C=7.36905263158, gamma=0.01, score=0.4399008674101611, total= 1.1min\n",
      "[CV] C=7.36905263158, gamma=0.1 ......................................\n",
      "[CV]  C=7.36905263158, gamma=0.01, score=0.4477187999289899, total= 1.1min\n",
      "[CV] C=7.36905263158, gamma=1.0 ......................................\n",
      "[CV]  C=7.36905263158, gamma=0.1, score=0.565071516863853, total= 1.2min\n",
      "[CV] C=7.36905263158, gamma=1.0 ......................................\n",
      "[CV]  C=7.36905263158, gamma=0.1, score=0.5701894140555851, total= 1.2min\n",
      "[CV] C=7.36905263158, gamma=1.0 ......................................\n",
      "[CV]  C=7.36905263158, gamma=0.1, score=0.5812178235398544, total= 1.2min\n",
      "[CV] C=7.36905263158, gamma=10.0 .....................................\n",
      "[CV]  C=7.36905263158, gamma=1.0, score=0.5740773441638708, total= 2.1min\n",
      "[CV] C=7.36905263158, gamma=10.0 .....................................\n",
      "[CV]  C=7.36905263158, gamma=1.0, score=0.5797486280757657, total= 2.1min\n",
      "[CV] C=7.36905263158, gamma=10.0 .....................................\n",
      "[CV]  C=7.36905263158, gamma=1.0, score=0.5948872714361797, total= 2.2min\n",
      "[CV] C=7.36905263158, gamma=100.0 ....................................\n"
     ]
    },
    {
     "name": "stderr",
     "output_type": "stream",
     "text": [
      "/Users/luanrubensf/anaconda/lib/python3.6/site-packages/sklearn/svm/base.py:218: ConvergenceWarning: Solver terminated early (max_iter=10000).  Consider pre-processing your data with StandardScaler or MinMaxScaler.\n",
      "  % self.max_iter, ConvergenceWarning)\n"
     ]
    },
    {
     "name": "stdout",
     "output_type": "stream",
     "text": [
      "[CV]  C=7.36905263158, gamma=10.0, score=0.26787921596327036, total= 3.2min\n",
      "[CV] C=7.36905263158, gamma=100.0 ....................................\n"
     ]
    },
    {
     "name": "stderr",
     "output_type": "stream",
     "text": [
      "/Users/luanrubensf/anaconda/lib/python3.6/site-packages/sklearn/svm/base.py:218: ConvergenceWarning: Solver terminated early (max_iter=10000).  Consider pre-processing your data with StandardScaler or MinMaxScaler.\n",
      "  % self.max_iter, ConvergenceWarning)\n",
      "/Users/luanrubensf/anaconda/lib/python3.6/site-packages/sklearn/svm/base.py:218: ConvergenceWarning: Solver terminated early (max_iter=10000).  Consider pre-processing your data with StandardScaler or MinMaxScaler.\n",
      "  % self.max_iter, ConvergenceWarning)\n",
      "/Users/luanrubensf/anaconda/lib/python3.6/site-packages/sklearn/svm/base.py:218: ConvergenceWarning: Solver terminated early (max_iter=10000).  Consider pre-processing your data with StandardScaler or MinMaxScaler.\n",
      "  % self.max_iter, ConvergenceWarning)\n"
     ]
    },
    {
     "name": "stdout",
     "output_type": "stream",
     "text": [
      "[CV]  C=7.36905263158, gamma=10.0, score=0.2697822623473181, total= 3.2min\n",
      "[CV] C=7.36905263158, gamma=100.0 ....................................\n",
      "[CV]  C=7.36905263158, gamma=10.0, score=0.2707260784661814, total= 3.2min\n",
      "[CV] C=7.36905263158, gamma=1000.0 ...................................\n",
      "[CV]  C=7.36905263158, gamma=100.0, score=0.26399434928483134, total= 3.3min\n",
      "[CV] C=7.36905263158, gamma=1000.0 ...................................\n"
     ]
    },
    {
     "name": "stderr",
     "output_type": "stream",
     "text": [
      "/Users/luanrubensf/anaconda/lib/python3.6/site-packages/sklearn/svm/base.py:218: ConvergenceWarning: Solver terminated early (max_iter=10000).  Consider pre-processing your data with StandardScaler or MinMaxScaler.\n",
      "  % self.max_iter, ConvergenceWarning)\n"
     ]
    },
    {
     "name": "stdout",
     "output_type": "stream",
     "text": [
      "[CV]  C=7.36905263158, gamma=100.0, score=0.26482563285537264, total= 3.3min\n",
      "[CV] C=7.36905263158, gamma=1000.0 ...................................\n"
     ]
    },
    {
     "name": "stderr",
     "output_type": "stream",
     "text": [
      "/Users/luanrubensf/anaconda/lib/python3.6/site-packages/sklearn/svm/base.py:218: ConvergenceWarning: Solver terminated early (max_iter=10000).  Consider pre-processing your data with StandardScaler or MinMaxScaler.\n",
      "  % self.max_iter, ConvergenceWarning)\n",
      "/Users/luanrubensf/anaconda/lib/python3.6/site-packages/sklearn/svm/base.py:218: ConvergenceWarning: Solver terminated early (max_iter=10000).  Consider pre-processing your data with StandardScaler or MinMaxScaler.\n",
      "  % self.max_iter, ConvergenceWarning)\n",
      "/Users/luanrubensf/anaconda/lib/python3.6/site-packages/sklearn/svm/base.py:218: ConvergenceWarning: Solver terminated early (max_iter=10000).  Consider pre-processing your data with StandardScaler or MinMaxScaler.\n",
      "  % self.max_iter, ConvergenceWarning)\n"
     ]
    },
    {
     "name": "stdout",
     "output_type": "stream",
     "text": [
      "[CV]  C=7.36905263158, gamma=1000.0, score=0.26399434928483134, total= 3.1min\n",
      "[CV] C=8.42163157895, gamma=1e-09 ....................................\n",
      "[CV]  C=7.36905263158, gamma=100.0, score=0.2654003195455352, total= 3.3min\n",
      "[CV] C=8.42163157895, gamma=1e-09 ....................................\n",
      "[CV]  C=7.36905263158, gamma=1000.0, score=0.26482563285537264, total= 3.1min\n",
      "[CV] C=8.42163157895, gamma=1e-09 ....................................\n",
      "[CV]  C=8.42163157895, gamma=1e-09, score=0.26399434928483134, total=  52.3s\n",
      "[CV] C=8.42163157895, gamma=1e-08 ....................................\n",
      "[CV]  C=8.42163157895, gamma=1e-09, score=0.26464861037351745, total=  52.2s\n",
      "[CV] C=8.42163157895, gamma=1e-08 ....................................\n"
     ]
    },
    {
     "name": "stderr",
     "output_type": "stream",
     "text": [
      "/Users/luanrubensf/anaconda/lib/python3.6/site-packages/sklearn/svm/base.py:218: ConvergenceWarning: Solver terminated early (max_iter=10000).  Consider pre-processing your data with StandardScaler or MinMaxScaler.\n",
      "  % self.max_iter, ConvergenceWarning)\n"
     ]
    },
    {
     "name": "stdout",
     "output_type": "stream",
     "text": [
      "[CV]  C=8.42163157895, gamma=1e-09, score=0.26522279424818035, total=  52.0s\n",
      "[CV] C=8.42163157895, gamma=1e-08 ....................................\n",
      "[CV]  C=7.36905263158, gamma=1000.0, score=0.2654003195455352, total= 3.1min\n",
      "[CV] C=8.42163157895, gamma=1e-07 ....................................\n",
      "[CV]  C=8.42163157895, gamma=1e-08, score=0.26399434928483134, total=  52.4s\n",
      "[CV] C=8.42163157895, gamma=1e-07 ....................................\n",
      "[CV]  C=8.42163157895, gamma=1e-08, score=0.26464861037351745, total=  55.0s\n",
      "[CV] C=8.42163157895, gamma=1e-07 ....................................\n",
      "[CV]  C=8.42163157895, gamma=1e-08, score=0.26522279424818035, total=  55.3s\n",
      "[CV] C=8.42163157895, gamma=1e-06 ....................................\n",
      "[CV]  C=8.42163157895, gamma=1e-07, score=0.26399434928483134, total=  52.2s\n",
      "[CV] C=8.42163157895, gamma=1e-06 ....................................\n",
      "[CV]  C=8.42163157895, gamma=1e-07, score=0.26464861037351745, total=  52.5s\n",
      "[CV] C=8.42163157895, gamma=1e-06 ....................................\n",
      "[CV]  C=8.42163157895, gamma=1e-07, score=0.26522279424818035, total=  52.8s\n",
      "[CV] C=8.42163157895, gamma=1e-05 ....................................\n",
      "[CV]  C=8.42163157895, gamma=1e-06, score=0.26399434928483134, total=  53.5s\n",
      "[CV] C=8.42163157895, gamma=1e-05 ....................................\n",
      "[CV]  C=8.42163157895, gamma=1e-06, score=0.26464861037351745, total=  53.2s\n",
      "[CV] C=8.42163157895, gamma=1e-05 ....................................\n",
      "[CV]  C=8.42163157895, gamma=1e-06, score=0.26522279424818035, total=  53.4s\n",
      "[CV] C=8.42163157895, gamma=0.0001 ...................................\n",
      "[CV]  C=8.42163157895, gamma=1e-05, score=0.26399434928483134, total=  53.4s\n",
      "[CV] C=8.42163157895, gamma=0.0001 ...................................\n",
      "[CV]  C=8.42163157895, gamma=1e-05, score=0.26464861037351745, total=  53.8s\n",
      "[CV] C=8.42163157895, gamma=0.0001 ...................................\n",
      "[CV]  C=8.42163157895, gamma=1e-05, score=0.26522279424818035, total=  53.2s\n",
      "[CV] C=8.42163157895, gamma=0.001 ....................................\n",
      "[CV]  C=8.42163157895, gamma=0.0001, score=0.26399434928483134, total=  58.7s\n",
      "[CV] C=8.42163157895, gamma=0.001 ....................................\n",
      "[CV]  C=8.42163157895, gamma=0.0001, score=0.26464861037351745, total=  58.6s\n",
      "[CV] C=8.42163157895, gamma=0.001 ....................................\n",
      "[CV]  C=8.42163157895, gamma=0.0001, score=0.26522279424818035, total=  58.9s\n",
      "[CV] C=8.42163157895, gamma=0.01 .....................................\n",
      "[CV]  C=8.42163157895, gamma=0.001, score=0.36623697686738477, total= 1.1min\n",
      "[CV] C=8.42163157895, gamma=0.01 .....................................\n",
      "[CV]  C=8.42163157895, gamma=0.001, score=0.3674986723313861, total= 1.1min\n",
      "[CV] C=8.42163157895, gamma=0.01 .....................................\n",
      "[CV]  C=8.42163157895, gamma=0.001, score=0.377596307473815, total= 1.2min\n",
      "[CV] C=8.42163157895, gamma=0.1 ......................................\n",
      "[CV]  C=8.42163157895, gamma=0.01, score=0.44181529224792515, total= 1.1min\n",
      "[CV] C=8.42163157895, gamma=0.1 ......................................\n",
      "[CV]  C=8.42163157895, gamma=0.01, score=0.4439723844928306, total= 1.1min\n",
      "[CV] C=8.42163157895, gamma=0.1 ......................................\n",
      "[CV]  C=8.42163157895, gamma=0.01, score=0.45304455884963607, total= 1.1min\n",
      "[CV] C=8.42163157895, gamma=1.0 ......................................\n",
      "[CV]  C=8.42163157895, gamma=0.1, score=0.5712519865795515, total= 1.2min\n",
      "[CV] C=8.42163157895, gamma=1.0 ......................................\n",
      "[CV]  C=8.42163157895, gamma=0.1, score=0.5747919985838201, total= 1.2min\n",
      "[CV] C=8.42163157895, gamma=1.0 ......................................\n",
      "[CV]  C=8.42163157895, gamma=0.1, score=0.5865435824605006, total= 1.2min\n",
      "[CV] C=8.42163157895, gamma=10.0 .....................................\n",
      "[CV]  C=8.42163157895, gamma=1.0, score=0.5742539290128907, total= 2.1min\n",
      "[CV] C=8.42163157895, gamma=10.0 .....................................\n",
      "[CV]  C=8.42163157895, gamma=1.0, score=0.5797486280757657, total= 2.1min\n",
      "[CV] C=8.42163157895, gamma=10.0 .....................................\n",
      "[CV]  C=8.42163157895, gamma=1.0, score=0.5948872714361797, total= 2.2min\n",
      "[CV] C=8.42163157895, gamma=100.0 ....................................\n"
     ]
    },
    {
     "name": "stderr",
     "output_type": "stream",
     "text": [
      "/Users/luanrubensf/anaconda/lib/python3.6/site-packages/sklearn/svm/base.py:218: ConvergenceWarning: Solver terminated early (max_iter=10000).  Consider pre-processing your data with StandardScaler or MinMaxScaler.\n",
      "  % self.max_iter, ConvergenceWarning)\n"
     ]
    },
    {
     "name": "stdout",
     "output_type": "stream",
     "text": [
      "[CV]  C=8.42163157895, gamma=10.0, score=0.26787921596327036, total= 3.3min\n",
      "[CV] C=8.42163157895, gamma=100.0 ....................................\n"
     ]
    },
    {
     "name": "stderr",
     "output_type": "stream",
     "text": [
      "/Users/luanrubensf/anaconda/lib/python3.6/site-packages/sklearn/svm/base.py:218: ConvergenceWarning: Solver terminated early (max_iter=10000).  Consider pre-processing your data with StandardScaler or MinMaxScaler.\n",
      "  % self.max_iter, ConvergenceWarning)\n",
      "/Users/luanrubensf/anaconda/lib/python3.6/site-packages/sklearn/svm/base.py:218: ConvergenceWarning: Solver terminated early (max_iter=10000).  Consider pre-processing your data with StandardScaler or MinMaxScaler.\n",
      "  % self.max_iter, ConvergenceWarning)\n",
      "/Users/luanrubensf/anaconda/lib/python3.6/site-packages/sklearn/svm/base.py:218: ConvergenceWarning: Solver terminated early (max_iter=10000).  Consider pre-processing your data with StandardScaler or MinMaxScaler.\n",
      "  % self.max_iter, ConvergenceWarning)\n"
     ]
    },
    {
     "name": "stdout",
     "output_type": "stream",
     "text": [
      "[CV]  C=8.42163157895, gamma=10.0, score=0.2697822623473181, total= 3.3min\n",
      "[CV] C=8.42163157895, gamma=100.0 ....................................\n",
      "[CV]  C=8.42163157895, gamma=10.0, score=0.2707260784661814, total= 3.3min\n",
      "[CV] C=8.42163157895, gamma=1000.0 ...................................\n",
      "[CV]  C=8.42163157895, gamma=100.0, score=0.26399434928483134, total= 3.3min\n",
      "[CV] C=8.42163157895, gamma=1000.0 ...................................\n"
     ]
    },
    {
     "name": "stderr",
     "output_type": "stream",
     "text": [
      "/Users/luanrubensf/anaconda/lib/python3.6/site-packages/sklearn/svm/base.py:218: ConvergenceWarning: Solver terminated early (max_iter=10000).  Consider pre-processing your data with StandardScaler or MinMaxScaler.\n",
      "  % self.max_iter, ConvergenceWarning)\n"
     ]
    },
    {
     "name": "stdout",
     "output_type": "stream",
     "text": [
      "[CV]  C=8.42163157895, gamma=100.0, score=0.26482563285537264, total= 3.3min\n",
      "[CV] C=8.42163157895, gamma=1000.0 ...................................\n"
     ]
    },
    {
     "name": "stderr",
     "output_type": "stream",
     "text": [
      "/Users/luanrubensf/anaconda/lib/python3.6/site-packages/sklearn/svm/base.py:218: ConvergenceWarning: Solver terminated early (max_iter=10000).  Consider pre-processing your data with StandardScaler or MinMaxScaler.\n",
      "  % self.max_iter, ConvergenceWarning)\n",
      "/Users/luanrubensf/anaconda/lib/python3.6/site-packages/sklearn/svm/base.py:218: ConvergenceWarning: Solver terminated early (max_iter=10000).  Consider pre-processing your data with StandardScaler or MinMaxScaler.\n",
      "  % self.max_iter, ConvergenceWarning)\n",
      "/Users/luanrubensf/anaconda/lib/python3.6/site-packages/sklearn/svm/base.py:218: ConvergenceWarning: Solver terminated early (max_iter=10000).  Consider pre-processing your data with StandardScaler or MinMaxScaler.\n",
      "  % self.max_iter, ConvergenceWarning)\n"
     ]
    },
    {
     "name": "stdout",
     "output_type": "stream",
     "text": [
      "[CV]  C=8.42163157895, gamma=100.0, score=0.2654003195455352, total= 3.3min\n",
      "[CV] C=9.47421052632, gamma=1e-09 ....................................\n",
      "[CV]  C=8.42163157895, gamma=1000.0, score=0.26399434928483134, total= 3.1min\n",
      "[CV] C=9.47421052632, gamma=1e-09 ....................................\n",
      "[CV]  C=8.42163157895, gamma=1000.0, score=0.26482563285537264, total= 3.1min\n",
      "[CV] C=9.47421052632, gamma=1e-09 ....................................\n",
      "[CV]  C=9.47421052632, gamma=1e-09, score=0.26399434928483134, total=  52.4s\n",
      "[CV] C=9.47421052632, gamma=1e-08 ....................................\n",
      "[CV]  C=9.47421052632, gamma=1e-09, score=0.26464861037351745, total=  52.5s\n",
      "[CV] C=9.47421052632, gamma=1e-08 ....................................\n"
     ]
    },
    {
     "name": "stderr",
     "output_type": "stream",
     "text": [
      "/Users/luanrubensf/anaconda/lib/python3.6/site-packages/sklearn/svm/base.py:218: ConvergenceWarning: Solver terminated early (max_iter=10000).  Consider pre-processing your data with StandardScaler or MinMaxScaler.\n",
      "  % self.max_iter, ConvergenceWarning)\n"
     ]
    },
    {
     "name": "stdout",
     "output_type": "stream",
     "text": [
      "[CV]  C=9.47421052632, gamma=1e-09, score=0.26522279424818035, total=  51.9s\n",
      "[CV] C=9.47421052632, gamma=1e-08 ....................................\n",
      "[CV]  C=8.42163157895, gamma=1000.0, score=0.2654003195455352, total= 3.1min\n",
      "[CV] C=9.47421052632, gamma=1e-07 ....................................\n",
      "[CV]  C=9.47421052632, gamma=1e-08, score=0.26399434928483134, total=  52.4s\n",
      "[CV] C=9.47421052632, gamma=1e-07 ....................................\n",
      "[CV]  C=9.47421052632, gamma=1e-08, score=0.26464861037351745, total=  52.4s\n",
      "[CV] C=9.47421052632, gamma=1e-07 ....................................\n",
      "[CV]  C=9.47421052632, gamma=1e-08, score=0.26522279424818035, total=  52.1s\n",
      "[CV] C=9.47421052632, gamma=1e-06 ....................................\n",
      "[CV]  C=9.47421052632, gamma=1e-07, score=0.26399434928483134, total=  52.6s\n",
      "[CV] C=9.47421052632, gamma=1e-06 ....................................\n",
      "[CV]  C=9.47421052632, gamma=1e-07, score=0.26464861037351745, total=  52.8s\n",
      "[CV] C=9.47421052632, gamma=1e-06 ....................................\n",
      "[CV]  C=9.47421052632, gamma=1e-07, score=0.26522279424818035, total=  52.6s\n",
      "[CV] C=9.47421052632, gamma=1e-05 ....................................\n",
      "[CV]  C=9.47421052632, gamma=1e-06, score=0.26399434928483134, total=  53.5s\n",
      "[CV] C=9.47421052632, gamma=1e-05 ....................................\n",
      "[CV]  C=9.47421052632, gamma=1e-06, score=0.26464861037351745, total=  52.8s\n",
      "[CV] C=9.47421052632, gamma=1e-05 ....................................\n",
      "[CV]  C=9.47421052632, gamma=1e-06, score=0.26522279424818035, total=  52.8s\n",
      "[CV] C=9.47421052632, gamma=0.0001 ...................................\n",
      "[CV]  C=9.47421052632, gamma=1e-05, score=0.26399434928483134, total=  53.3s\n",
      "[CV] C=9.47421052632, gamma=0.0001 ...................................\n",
      "[CV]  C=9.47421052632, gamma=1e-05, score=0.26464861037351745, total=  53.2s\n",
      "[CV] C=9.47421052632, gamma=0.0001 ...................................\n",
      "[CV]  C=9.47421052632, gamma=1e-05, score=0.26522279424818035, total=  53.0s\n",
      "[CV] C=9.47421052632, gamma=0.001 ....................................\n",
      "[CV]  C=9.47421052632, gamma=0.0001, score=0.26399434928483134, total=  59.5s\n",
      "[CV] C=9.47421052632, gamma=0.001 ....................................\n",
      "[CV]  C=9.47421052632, gamma=0.0001, score=0.26464861037351745, total=  59.4s\n",
      "[CV] C=9.47421052632, gamma=0.001 ....................................\n",
      "[CV]  C=9.47421052632, gamma=0.0001, score=0.26522279424818035, total=  59.3s\n",
      "[CV] C=9.47421052632, gamma=0.01 .....................................\n",
      "[CV]  C=9.47421052632, gamma=0.001, score=0.3748896344693625, total= 1.6min\n",
      "[CV] C=9.47421052632, gamma=0.01 .....................................\n",
      "[CV]  C=9.47421052632, gamma=0.001, score=0.36909187466808285, total= 1.7min\n",
      "[CV] C=9.47421052632, gamma=0.01 .....................................\n",
      "[CV]  C=9.47421052632, gamma=0.001, score=0.3816793893129771, total= 1.8min\n",
      "[CV] C=9.47421052632, gamma=0.1 ......................................\n",
      "[CV]  C=9.47421052632, gamma=0.01, score=0.44746600741656367, total= 1.7min\n",
      "[CV] C=9.47421052632, gamma=0.1 ......................................\n",
      "[CV]  C=9.47421052632, gamma=0.01, score=0.4491060364666313, total= 1.4min\n",
      "[CV] C=9.47421052632, gamma=0.1 ......................................\n",
      "[CV]  C=9.47421052632, gamma=0.01, score=0.458725368364992, total= 1.5min\n",
      "[CV] C=9.47421052632, gamma=1.0 ......................................\n",
      "[CV]  C=9.47421052632, gamma=0.1, score=0.5744305138619107, total= 1.7min\n",
      "[CV] C=9.47421052632, gamma=1.0 ......................................\n",
      "[CV]  C=9.47421052632, gamma=0.1, score=0.5772703133297928, total= 1.6min\n",
      "[CV] C=9.47421052632, gamma=1.0 ......................................\n",
      "[CV]  C=9.47421052632, gamma=0.1, score=0.590094088407598, total= 1.5min\n",
      "[CV] C=9.47421052632, gamma=10.0 .....................................\n",
      "[CV]  C=9.47421052632, gamma=1.0, score=0.5742539290128907, total= 2.7min\n",
      "[CV] C=9.47421052632, gamma=10.0 .....................................\n",
      "[CV]  C=9.47421052632, gamma=1.0, score=0.5797486280757657, total= 2.6min\n",
      "[CV] C=9.47421052632, gamma=10.0 .....................................\n",
      "[CV]  C=9.47421052632, gamma=1.0, score=0.5948872714361797, total= 2.7min\n",
      "[CV] C=9.47421052632, gamma=100.0 ....................................\n"
     ]
    },
    {
     "name": "stderr",
     "output_type": "stream",
     "text": [
      "/Users/luanrubensf/anaconda/lib/python3.6/site-packages/sklearn/svm/base.py:218: ConvergenceWarning: Solver terminated early (max_iter=10000).  Consider pre-processing your data with StandardScaler or MinMaxScaler.\n",
      "  % self.max_iter, ConvergenceWarning)\n"
     ]
    },
    {
     "name": "stdout",
     "output_type": "stream",
     "text": [
      "[CV]  C=9.47421052632, gamma=10.0, score=0.26787921596327036, total= 4.0min\n",
      "[CV] C=9.47421052632, gamma=100.0 ....................................\n"
     ]
    },
    {
     "name": "stderr",
     "output_type": "stream",
     "text": [
      "/Users/luanrubensf/anaconda/lib/python3.6/site-packages/sklearn/svm/base.py:218: ConvergenceWarning: Solver terminated early (max_iter=10000).  Consider pre-processing your data with StandardScaler or MinMaxScaler.\n",
      "  % self.max_iter, ConvergenceWarning)\n",
      "/Users/luanrubensf/anaconda/lib/python3.6/site-packages/sklearn/svm/base.py:218: ConvergenceWarning: Solver terminated early (max_iter=10000).  Consider pre-processing your data with StandardScaler or MinMaxScaler.\n",
      "  % self.max_iter, ConvergenceWarning)\n",
      "/Users/luanrubensf/anaconda/lib/python3.6/site-packages/sklearn/svm/base.py:218: ConvergenceWarning: Solver terminated early (max_iter=10000).  Consider pre-processing your data with StandardScaler or MinMaxScaler.\n",
      "  % self.max_iter, ConvergenceWarning)\n"
     ]
    },
    {
     "name": "stdout",
     "output_type": "stream",
     "text": [
      "[CV]  C=9.47421052632, gamma=10.0, score=0.2697822623473181, total= 4.1min\n",
      "[CV] C=9.47421052632, gamma=100.0 ....................................\n",
      "[CV]  C=9.47421052632, gamma=10.0, score=0.2707260784661814, total= 4.1min\n",
      "[CV] C=9.47421052632, gamma=1000.0 ...................................\n",
      "[CV]  C=9.47421052632, gamma=100.0, score=0.26399434928483134, total= 4.1min\n",
      "[CV] C=9.47421052632, gamma=1000.0 ...................................\n"
     ]
    },
    {
     "name": "stderr",
     "output_type": "stream",
     "text": [
      "/Users/luanrubensf/anaconda/lib/python3.6/site-packages/sklearn/svm/base.py:218: ConvergenceWarning: Solver terminated early (max_iter=10000).  Consider pre-processing your data with StandardScaler or MinMaxScaler.\n",
      "  % self.max_iter, ConvergenceWarning)\n"
     ]
    },
    {
     "name": "stdout",
     "output_type": "stream",
     "text": [
      "[CV]  C=9.47421052632, gamma=100.0, score=0.26482563285537264, total= 4.1min\n",
      "[CV] C=9.47421052632, gamma=1000.0 ...................................\n"
     ]
    },
    {
     "name": "stderr",
     "output_type": "stream",
     "text": [
      "/Users/luanrubensf/anaconda/lib/python3.6/site-packages/sklearn/svm/base.py:218: ConvergenceWarning: Solver terminated early (max_iter=10000).  Consider pre-processing your data with StandardScaler or MinMaxScaler.\n",
      "  % self.max_iter, ConvergenceWarning)\n",
      "/Users/luanrubensf/anaconda/lib/python3.6/site-packages/sklearn/svm/base.py:218: ConvergenceWarning: Solver terminated early (max_iter=10000).  Consider pre-processing your data with StandardScaler or MinMaxScaler.\n",
      "  % self.max_iter, ConvergenceWarning)\n",
      "/Users/luanrubensf/anaconda/lib/python3.6/site-packages/sklearn/svm/base.py:218: ConvergenceWarning: Solver terminated early (max_iter=10000).  Consider pre-processing your data with StandardScaler or MinMaxScaler.\n",
      "  % self.max_iter, ConvergenceWarning)\n"
     ]
    },
    {
     "name": "stdout",
     "output_type": "stream",
     "text": [
      "[CV]  C=9.47421052632, gamma=1000.0, score=0.26399434928483134, total= 4.0min\n",
      "[CV] C=10.5267894737, gamma=1e-09 ....................................\n",
      "[CV]  C=9.47421052632, gamma=100.0, score=0.2654003195455352, total= 4.3min\n",
      "[CV] C=10.5267894737, gamma=1e-09 ....................................\n",
      "[CV]  C=9.47421052632, gamma=1000.0, score=0.26482563285537264, total= 4.1min\n",
      "[CV] C=10.5267894737, gamma=1e-09 ....................................\n",
      "[CV]  C=10.5267894737, gamma=1e-09, score=0.26399434928483134, total= 1.3min\n",
      "[CV] C=10.5267894737, gamma=1e-08 ....................................\n"
     ]
    },
    {
     "name": "stderr",
     "output_type": "stream",
     "text": [
      "/Users/luanrubensf/anaconda/lib/python3.6/site-packages/sklearn/svm/base.py:218: ConvergenceWarning: Solver terminated early (max_iter=10000).  Consider pre-processing your data with StandardScaler or MinMaxScaler.\n",
      "  % self.max_iter, ConvergenceWarning)\n"
     ]
    },
    {
     "name": "stdout",
     "output_type": "stream",
     "text": [
      "[CV]  C=10.5267894737, gamma=1e-09, score=0.26464861037351745, total= 1.3min\n",
      "[CV] C=10.5267894737, gamma=1e-08 ....................................\n",
      "[CV]  C=10.5267894737, gamma=1e-09, score=0.26522279424818035, total= 1.3min\n",
      "[CV] C=10.5267894737, gamma=1e-08 ....................................\n",
      "[CV]  C=9.47421052632, gamma=1000.0, score=0.2654003195455352, total= 4.4min\n",
      "[CV] C=10.5267894737, gamma=1e-07 ....................................\n",
      "[CV]  C=10.5267894737, gamma=1e-08, score=0.26399434928483134, total= 1.3min\n",
      "[CV] C=10.5267894737, gamma=1e-07 ....................................\n",
      "[CV]  C=10.5267894737, gamma=1e-08, score=0.26464861037351745, total= 1.3min\n",
      "[CV] C=10.5267894737, gamma=1e-07 ....................................\n",
      "[CV]  C=10.5267894737, gamma=1e-08, score=0.26522279424818035, total= 1.3min\n",
      "[CV] C=10.5267894737, gamma=1e-06 ....................................\n",
      "[CV]  C=10.5267894737, gamma=1e-07, score=0.26399434928483134, total= 1.3min\n",
      "[CV] C=10.5267894737, gamma=1e-06 ....................................\n",
      "[CV]  C=10.5267894737, gamma=1e-07, score=0.26464861037351745, total= 1.5min\n",
      "[CV] C=10.5267894737, gamma=1e-06 ....................................\n",
      "[CV]  C=10.5267894737, gamma=1e-07, score=0.26522279424818035, total= 1.4min\n",
      "[CV] C=10.5267894737, gamma=1e-05 ....................................\n",
      "[CV]  C=10.5267894737, gamma=1e-06, score=0.26399434928483134, total= 1.4min\n",
      "[CV] C=10.5267894737, gamma=1e-05 ....................................\n",
      "[CV]  C=10.5267894737, gamma=1e-06, score=0.26464861037351745, total= 1.1min\n",
      "[CV] C=10.5267894737, gamma=1e-05 ....................................\n",
      "[CV]  C=10.5267894737, gamma=1e-06, score=0.26522279424818035, total= 1.0min\n",
      "[CV] C=10.5267894737, gamma=0.0001 ...................................\n",
      "[CV]  C=10.5267894737, gamma=1e-05, score=0.26399434928483134, total= 1.0min\n",
      "[CV] C=10.5267894737, gamma=0.0001 ...................................\n",
      "[CV]  C=10.5267894737, gamma=1e-05, score=0.26464861037351745, total= 1.0min\n",
      "[CV] C=10.5267894737, gamma=0.0001 ...................................\n",
      "[CV]  C=10.5267894737, gamma=1e-05, score=0.26522279424818035, total= 1.1min\n",
      "[CV] C=10.5267894737, gamma=0.001 ....................................\n",
      "[CV]  C=10.5267894737, gamma=0.0001, score=0.26399434928483134, total= 1.3min\n",
      "[CV] C=10.5267894737, gamma=0.001 ....................................\n",
      "[CV]  C=10.5267894737, gamma=0.0001, score=0.26464861037351745, total= 1.3min\n",
      "[CV] C=10.5267894737, gamma=0.001 ....................................\n",
      "[CV]  C=10.5267894737, gamma=0.0001, score=0.26522279424818035, total= 1.3min\n",
      "[CV] C=10.5267894737, gamma=0.01 .....................................\n",
      "[CV]  C=10.5267894737, gamma=0.001, score=0.3789510859968215, total= 1.4min\n",
      "[CV] C=10.5267894737, gamma=0.01 .....................................\n",
      "[CV]  C=10.5267894737, gamma=0.001, score=0.37741193131527706, total= 1.4min\n",
      "[CV] C=10.5267894737, gamma=0.01 .....................................\n",
      "[CV]  C=10.5267894737, gamma=0.01, score=0.4525869680381423, total= 1.3min\n",
      "[CV] C=10.5267894737, gamma=0.1 ......................................\n",
      "[CV]  C=10.5267894737, gamma=0.001, score=0.38327711698917094, total= 1.4min\n",
      "[CV] C=10.5267894737, gamma=0.1 ......................................\n",
      "[CV]  C=10.5267894737, gamma=0.01, score=0.45353159851301117, total= 1.2min\n",
      "[CV] C=10.5267894737, gamma=0.1 ......................................\n",
      "[CV]  C=10.5267894737, gamma=0.01, score=0.4661814308538967, total= 1.4min\n",
      "[CV] C=10.5267894737, gamma=1.0 ......................................\n",
      "[CV]  C=10.5267894737, gamma=0.1, score=0.5753134381070104, total= 1.6min\n",
      "[CV] C=10.5267894737, gamma=1.0 ......................................\n",
      "[CV]  C=10.5267894737, gamma=0.1, score=0.580102673039476, total= 1.6min\n",
      "[CV] C=10.5267894737, gamma=1.0 ......................................\n",
      "[CV]  C=10.5267894737, gamma=0.1, score=0.5904491390023078, total= 1.8min\n",
      "[CV] C=10.5267894737, gamma=10.0 .....................................\n",
      "[CV]  C=10.5267894737, gamma=1.0, score=0.5740773441638708, total= 3.1min\n",
      "[CV] C=10.5267894737, gamma=10.0 .....................................\n",
      "[CV]  C=10.5267894737, gamma=1.0, score=0.5795716055939104, total= 3.0min\n",
      "[CV] C=10.5267894737, gamma=10.0 .....................................\n",
      "[CV]  C=10.5267894737, gamma=1.0, score=0.5948872714361797, total= 3.0min\n",
      "[CV] C=10.5267894737, gamma=100.0 ....................................\n"
     ]
    },
    {
     "name": "stderr",
     "output_type": "stream",
     "text": [
      "/Users/luanrubensf/anaconda/lib/python3.6/site-packages/sklearn/svm/base.py:218: ConvergenceWarning: Solver terminated early (max_iter=10000).  Consider pre-processing your data with StandardScaler or MinMaxScaler.\n",
      "  % self.max_iter, ConvergenceWarning)\n"
     ]
    },
    {
     "name": "stdout",
     "output_type": "stream",
     "text": [
      "[CV]  C=10.5267894737, gamma=10.0, score=0.26787921596327036, total= 4.3min\n",
      "[CV] C=10.5267894737, gamma=100.0 ....................................\n"
     ]
    },
    {
     "name": "stderr",
     "output_type": "stream",
     "text": [
      "/Users/luanrubensf/anaconda/lib/python3.6/site-packages/sklearn/svm/base.py:218: ConvergenceWarning: Solver terminated early (max_iter=10000).  Consider pre-processing your data with StandardScaler or MinMaxScaler.\n",
      "  % self.max_iter, ConvergenceWarning)\n",
      "/Users/luanrubensf/anaconda/lib/python3.6/site-packages/sklearn/svm/base.py:218: ConvergenceWarning: Solver terminated early (max_iter=10000).  Consider pre-processing your data with StandardScaler or MinMaxScaler.\n",
      "  % self.max_iter, ConvergenceWarning)\n",
      "/Users/luanrubensf/anaconda/lib/python3.6/site-packages/sklearn/svm/base.py:218: ConvergenceWarning: Solver terminated early (max_iter=10000).  Consider pre-processing your data with StandardScaler or MinMaxScaler.\n",
      "  % self.max_iter, ConvergenceWarning)\n"
     ]
    },
    {
     "name": "stdout",
     "output_type": "stream",
     "text": [
      "[CV]  C=10.5267894737, gamma=10.0, score=0.2697822623473181, total= 4.3min\n",
      "[CV] C=10.5267894737, gamma=100.0 ....................................\n",
      "[CV]  C=10.5267894737, gamma=10.0, score=0.2707260784661814, total= 4.2min\n",
      "[CV] C=10.5267894737, gamma=1000.0 ...................................\n",
      "[CV]  C=10.5267894737, gamma=100.0, score=0.26399434928483134, total= 4.3min\n",
      "[CV] C=10.5267894737, gamma=1000.0 ...................................\n"
     ]
    },
    {
     "name": "stderr",
     "output_type": "stream",
     "text": [
      "/Users/luanrubensf/anaconda/lib/python3.6/site-packages/sklearn/svm/base.py:218: ConvergenceWarning: Solver terminated early (max_iter=10000).  Consider pre-processing your data with StandardScaler or MinMaxScaler.\n",
      "  % self.max_iter, ConvergenceWarning)\n"
     ]
    },
    {
     "name": "stdout",
     "output_type": "stream",
     "text": [
      "[CV]  C=10.5267894737, gamma=100.0, score=0.26482563285537264, total= 3.7min\n",
      "[CV] C=10.5267894737, gamma=1000.0 ...................................\n"
     ]
    },
    {
     "name": "stderr",
     "output_type": "stream",
     "text": [
      "/Users/luanrubensf/anaconda/lib/python3.6/site-packages/sklearn/svm/base.py:218: ConvergenceWarning: Solver terminated early (max_iter=10000).  Consider pre-processing your data with StandardScaler or MinMaxScaler.\n",
      "  % self.max_iter, ConvergenceWarning)\n",
      "/Users/luanrubensf/anaconda/lib/python3.6/site-packages/sklearn/svm/base.py:218: ConvergenceWarning: Solver terminated early (max_iter=10000).  Consider pre-processing your data with StandardScaler or MinMaxScaler.\n",
      "  % self.max_iter, ConvergenceWarning)\n",
      "/Users/luanrubensf/anaconda/lib/python3.6/site-packages/sklearn/svm/base.py:218: ConvergenceWarning: Solver terminated early (max_iter=10000).  Consider pre-processing your data with StandardScaler or MinMaxScaler.\n",
      "  % self.max_iter, ConvergenceWarning)\n"
     ]
    },
    {
     "name": "stdout",
     "output_type": "stream",
     "text": [
      "[CV]  C=10.5267894737, gamma=1000.0, score=0.26399434928483134, total= 3.2min\n",
      "[CV]  C=10.5267894737, gamma=100.0, score=0.2654003195455352, total= 3.4min\n",
      "[CV] C=11.5793684211, gamma=1e-09 ....................................\n",
      "[CV] C=11.5793684211, gamma=1e-09 ....................................\n",
      "[CV]  C=10.5267894737, gamma=1000.0, score=0.26482563285537264, total= 3.2min\n",
      "[CV] C=11.5793684211, gamma=1e-09 ....................................\n"
     ]
    },
    {
     "name": "stderr",
     "output_type": "stream",
     "text": [
      "/Users/luanrubensf/anaconda/lib/python3.6/site-packages/sklearn/svm/base.py:218: ConvergenceWarning: Solver terminated early (max_iter=10000).  Consider pre-processing your data with StandardScaler or MinMaxScaler.\n",
      "  % self.max_iter, ConvergenceWarning)\n"
     ]
    },
    {
     "name": "stdout",
     "output_type": "stream",
     "text": [
      "[CV]  C=11.5793684211, gamma=1e-09, score=0.26399434928483134, total=  53.7s\n",
      "[CV] C=11.5793684211, gamma=1e-08 ....................................\n",
      "[CV]  C=11.5793684211, gamma=1e-09, score=0.26464861037351745, total=  53.8s\n",
      "[CV] C=11.5793684211, gamma=1e-08 ....................................\n",
      "[CV]  C=11.5793684211, gamma=1e-09, score=0.26522279424818035, total=  53.0s\n",
      "[CV] C=11.5793684211, gamma=1e-08 ....................................\n",
      "[CV]  C=10.5267894737, gamma=1000.0, score=0.2654003195455352, total= 3.2min\n",
      "[CV] C=11.5793684211, gamma=1e-07 ....................................\n",
      "[CV]  C=11.5793684211, gamma=1e-08, score=0.26399434928483134, total=  57.4s\n",
      "[CV] C=11.5793684211, gamma=1e-07 ....................................\n",
      "[CV]  C=11.5793684211, gamma=1e-08, score=0.26464861037351745, total=  57.7s\n",
      "[CV] C=11.5793684211, gamma=1e-07 ....................................\n",
      "[CV]  C=11.5793684211, gamma=1e-08, score=0.26522279424818035, total=  58.1s\n",
      "[CV] C=11.5793684211, gamma=1e-06 ....................................\n",
      "[CV]  C=11.5793684211, gamma=1e-07, score=0.26399434928483134, total= 1.1min\n",
      "[CV] C=11.5793684211, gamma=1e-06 ....................................\n",
      "[CV]  C=11.5793684211, gamma=1e-07, score=0.26464861037351745, total= 1.0min\n",
      "[CV] C=11.5793684211, gamma=1e-06 ....................................\n",
      "[CV]  C=11.5793684211, gamma=1e-07, score=0.26522279424818035, total= 1.0min\n",
      "[CV] C=11.5793684211, gamma=1e-05 ....................................\n",
      "[CV]  C=11.5793684211, gamma=1e-06, score=0.26399434928483134, total= 1.0min\n",
      "[CV] C=11.5793684211, gamma=1e-05 ....................................\n",
      "[CV]  C=11.5793684211, gamma=1e-06, score=0.26464861037351745, total= 1.1min\n",
      "[CV] C=11.5793684211, gamma=1e-05 ....................................\n",
      "[CV]  C=11.5793684211, gamma=1e-06, score=0.26522279424818035, total= 1.1min\n",
      "[CV] C=11.5793684211, gamma=0.0001 ...................................\n",
      "[CV]  C=11.5793684211, gamma=1e-05, score=0.26399434928483134, total= 1.1min\n",
      "[CV] C=11.5793684211, gamma=0.0001 ...................................\n",
      "[CV]  C=11.5793684211, gamma=1e-05, score=0.26464861037351745, total= 1.1min\n",
      "[CV] C=11.5793684211, gamma=0.0001 ...................................\n",
      "[CV]  C=11.5793684211, gamma=1e-05, score=0.26522279424818035, total= 1.0min\n",
      "[CV] C=11.5793684211, gamma=0.001 ....................................\n",
      "[CV]  C=11.5793684211, gamma=0.0001, score=0.26399434928483134, total= 1.2min\n",
      "[CV] C=11.5793684211, gamma=0.001 ....................................\n",
      "[CV]  C=11.5793684211, gamma=0.0001, score=0.26464861037351745, total= 1.2min\n",
      "[CV] C=11.5793684211, gamma=0.001 ....................................\n",
      "[CV]  C=11.5793684211, gamma=0.0001, score=0.26522279424818035, total= 1.2min\n",
      "[CV] C=11.5793684211, gamma=0.01 .....................................\n",
      "[CV]  C=11.5793684211, gamma=0.001, score=0.3861910648066396, total= 1.3min\n",
      "[CV] C=11.5793684211, gamma=0.01 .....................................\n",
      "[CV]  C=11.5793684211, gamma=0.001, score=0.38449283058948486, total= 1.4min\n",
      "[CV] C=11.5793684211, gamma=0.01 .....................................\n",
      "[CV]  C=11.5793684211, gamma=0.001, score=0.3878927747203977, total= 1.4min\n",
      "[CV] C=11.5793684211, gamma=0.1 ......................................\n",
      "[CV]  C=11.5793684211, gamma=0.01, score=0.45788451350874093, total= 1.4min\n",
      "[CV] C=11.5793684211, gamma=0.1 ......................................\n",
      "[CV]  C=11.5793684211, gamma=0.01, score=0.45884227296866703, total= 1.3min\n",
      "[CV] C=11.5793684211, gamma=0.1 ......................................\n",
      "[CV]  C=11.5793684211, gamma=0.01, score=0.472749866856027, total= 1.4min\n",
      "[CV] C=11.5793684211, gamma=1.0 ......................................\n",
      "[CV]  C=11.5793684211, gamma=0.1, score=0.5786685502383896, total= 1.5min\n",
      "[CV] C=11.5793684211, gamma=1.0 ......................................\n",
      "[CV]  C=11.5793684211, gamma=0.1, score=0.5816958753761727, total= 1.5min\n",
      "[CV] C=11.5793684211, gamma=1.0 ......................................\n",
      "[CV]  C=11.5793684211, gamma=0.1, score=0.590094088407598, total= 1.4min\n",
      "[CV] C=11.5793684211, gamma=10.0 .....................................\n",
      "[CV]  C=11.5793684211, gamma=1.0, score=0.5740773441638708, total= 2.8min\n",
      "[CV] C=11.5793684211, gamma=10.0 .....................................\n",
      "[CV]  C=11.5793684211, gamma=1.0, score=0.5795716055939104, total= 2.8min\n",
      "[CV] C=11.5793684211, gamma=10.0 .....................................\n",
      "[CV]  C=11.5793684211, gamma=1.0, score=0.5948872714361797, total= 2.8min\n",
      "[CV] C=11.5793684211, gamma=100.0 ....................................\n"
     ]
    },
    {
     "name": "stderr",
     "output_type": "stream",
     "text": [
      "/Users/luanrubensf/anaconda/lib/python3.6/site-packages/sklearn/svm/base.py:218: ConvergenceWarning: Solver terminated early (max_iter=10000).  Consider pre-processing your data with StandardScaler or MinMaxScaler.\n",
      "  % self.max_iter, ConvergenceWarning)\n"
     ]
    },
    {
     "name": "stdout",
     "output_type": "stream",
     "text": [
      "[CV]  C=11.5793684211, gamma=10.0, score=0.26787921596327036, total= 4.4min\n",
      "[CV] C=11.5793684211, gamma=100.0 ....................................\n"
     ]
    },
    {
     "name": "stderr",
     "output_type": "stream",
     "text": [
      "/Users/luanrubensf/anaconda/lib/python3.6/site-packages/sklearn/svm/base.py:218: ConvergenceWarning: Solver terminated early (max_iter=10000).  Consider pre-processing your data with StandardScaler or MinMaxScaler.\n",
      "  % self.max_iter, ConvergenceWarning)\n",
      "/Users/luanrubensf/anaconda/lib/python3.6/site-packages/sklearn/svm/base.py:218: ConvergenceWarning: Solver terminated early (max_iter=10000).  Consider pre-processing your data with StandardScaler or MinMaxScaler.\n",
      "  % self.max_iter, ConvergenceWarning)\n",
      "/Users/luanrubensf/anaconda/lib/python3.6/site-packages/sklearn/svm/base.py:218: ConvergenceWarning: Solver terminated early (max_iter=10000).  Consider pre-processing your data with StandardScaler or MinMaxScaler.\n",
      "  % self.max_iter, ConvergenceWarning)\n"
     ]
    },
    {
     "name": "stdout",
     "output_type": "stream",
     "text": [
      "[CV]  C=11.5793684211, gamma=10.0, score=0.2697822623473181, total= 4.4min\n",
      "[CV] C=11.5793684211, gamma=100.0 ....................................\n",
      "[CV]  C=11.5793684211, gamma=10.0, score=0.2707260784661814, total= 4.4min\n",
      "[CV] C=11.5793684211, gamma=1000.0 ...................................\n",
      "[CV]  C=11.5793684211, gamma=100.0, score=0.26399434928483134, total= 4.4min\n",
      "[CV] C=11.5793684211, gamma=1000.0 ...................................\n"
     ]
    },
    {
     "name": "stderr",
     "output_type": "stream",
     "text": [
      "/Users/luanrubensf/anaconda/lib/python3.6/site-packages/sklearn/svm/base.py:218: ConvergenceWarning: Solver terminated early (max_iter=10000).  Consider pre-processing your data with StandardScaler or MinMaxScaler.\n",
      "  % self.max_iter, ConvergenceWarning)\n"
     ]
    },
    {
     "name": "stdout",
     "output_type": "stream",
     "text": [
      "[CV]  C=11.5793684211, gamma=100.0, score=0.26482563285537264, total= 4.1min\n",
      "[CV] C=11.5793684211, gamma=1000.0 ...................................\n"
     ]
    },
    {
     "name": "stderr",
     "output_type": "stream",
     "text": [
      "/Users/luanrubensf/anaconda/lib/python3.6/site-packages/sklearn/svm/base.py:218: ConvergenceWarning: Solver terminated early (max_iter=10000).  Consider pre-processing your data with StandardScaler or MinMaxScaler.\n",
      "  % self.max_iter, ConvergenceWarning)\n",
      "/Users/luanrubensf/anaconda/lib/python3.6/site-packages/sklearn/svm/base.py:218: ConvergenceWarning: Solver terminated early (max_iter=10000).  Consider pre-processing your data with StandardScaler or MinMaxScaler.\n",
      "  % self.max_iter, ConvergenceWarning)\n",
      "/Users/luanrubensf/anaconda/lib/python3.6/site-packages/sklearn/svm/base.py:218: ConvergenceWarning: Solver terminated early (max_iter=10000).  Consider pre-processing your data with StandardScaler or MinMaxScaler.\n",
      "  % self.max_iter, ConvergenceWarning)\n"
     ]
    },
    {
     "name": "stdout",
     "output_type": "stream",
     "text": [
      "[CV]  C=11.5793684211, gamma=1000.0, score=0.26399434928483134, total= 3.7min\n",
      "[CV] C=12.6319473684, gamma=1e-09 ....................................\n",
      "[CV]  C=11.5793684211, gamma=100.0, score=0.2654003195455352, total= 4.0min\n",
      "[CV] C=12.6319473684, gamma=1e-09 ....................................\n",
      "[CV]  C=11.5793684211, gamma=1000.0, score=0.26482563285537264, total= 3.8min\n",
      "[CV] C=12.6319473684, gamma=1e-09 ....................................\n"
     ]
    },
    {
     "name": "stderr",
     "output_type": "stream",
     "text": [
      "/Users/luanrubensf/anaconda/lib/python3.6/site-packages/sklearn/svm/base.py:218: ConvergenceWarning: Solver terminated early (max_iter=10000).  Consider pre-processing your data with StandardScaler or MinMaxScaler.\n",
      "  % self.max_iter, ConvergenceWarning)\n"
     ]
    },
    {
     "name": "stdout",
     "output_type": "stream",
     "text": [
      "[CV]  C=12.6319473684, gamma=1e-09, score=0.26399434928483134, total= 1.2min\n",
      "[CV] C=12.6319473684, gamma=1e-08 ....................................\n",
      "[CV]  C=12.6319473684, gamma=1e-09, score=0.26464861037351745, total= 1.2min\n",
      "[CV] C=12.6319473684, gamma=1e-08 ....................................\n",
      "[CV]  C=12.6319473684, gamma=1e-09, score=0.26522279424818035, total= 1.1min\n",
      "[CV] C=12.6319473684, gamma=1e-08 ....................................\n",
      "[CV]  C=11.5793684211, gamma=1000.0, score=0.2654003195455352, total= 4.0min\n",
      "[CV] C=12.6319473684, gamma=1e-07 ....................................\n",
      "[CV]  C=12.6319473684, gamma=1e-08, score=0.26399434928483134, total= 1.1min\n",
      "[CV] C=12.6319473684, gamma=1e-07 ....................................\n",
      "[CV]  C=12.6319473684, gamma=1e-08, score=0.26464861037351745, total= 1.1min\n",
      "[CV] C=12.6319473684, gamma=1e-07 ....................................\n",
      "[CV]  C=12.6319473684, gamma=1e-08, score=0.26522279424818035, total= 1.1min\n",
      "[CV] C=12.6319473684, gamma=1e-06 ....................................\n",
      "[CV]  C=12.6319473684, gamma=1e-07, score=0.26399434928483134, total= 1.0min\n",
      "[CV] C=12.6319473684, gamma=1e-06 ....................................\n",
      "[CV]  C=12.6319473684, gamma=1e-07, score=0.26464861037351745, total= 1.0min\n",
      "[CV] C=12.6319473684, gamma=1e-06 ....................................\n",
      "[CV]  C=12.6319473684, gamma=1e-07, score=0.26522279424818035, total= 1.0min\n",
      "[CV] C=12.6319473684, gamma=1e-05 ....................................\n",
      "[CV]  C=12.6319473684, gamma=1e-06, score=0.26399434928483134, total= 1.0min\n",
      "[CV] C=12.6319473684, gamma=1e-05 ....................................\n",
      "[CV]  C=12.6319473684, gamma=1e-06, score=0.26464861037351745, total=  60.0s\n",
      "[CV] C=12.6319473684, gamma=1e-05 ....................................\n",
      "[CV]  C=12.6319473684, gamma=1e-06, score=0.26522279424818035, total=  57.9s\n",
      "[CV] C=12.6319473684, gamma=0.0001 ...................................\n",
      "[CV]  C=12.6319473684, gamma=1e-05, score=0.26399434928483134, total=  59.9s\n",
      "[CV] C=12.6319473684, gamma=0.0001 ...................................\n",
      "[CV]  C=12.6319473684, gamma=1e-05, score=0.26464861037351745, total= 1.0min\n",
      "[CV] C=12.6319473684, gamma=0.0001 ...................................\n",
      "[CV]  C=12.6319473684, gamma=1e-05, score=0.26522279424818035, total=  58.9s\n",
      "[CV] C=12.6319473684, gamma=0.001 ....................................\n",
      "[CV]  C=12.6319473684, gamma=0.0001, score=0.26399434928483134, total= 1.1min\n",
      "[CV] C=12.6319473684, gamma=0.001 ....................................\n",
      "[CV]  C=12.6319473684, gamma=0.0001, score=0.26464861037351745, total= 1.1min\n",
      "[CV] C=12.6319473684, gamma=0.001 ....................................\n",
      "[CV]  C=12.6319473684, gamma=0.0001, score=0.26522279424818035, total= 1.1min\n",
      "[CV] C=12.6319473684, gamma=0.01 .....................................\n",
      "[CV]  C=12.6319473684, gamma=0.001, score=0.3911354405791983, total= 1.2min\n",
      "[CV] C=12.6319473684, gamma=0.01 .....................................\n",
      "[CV]  C=12.6319473684, gamma=0.001, score=0.388210302708444, total= 1.2min\n",
      "[CV] C=12.6319473684, gamma=0.01 .....................................\n",
      "[CV]  C=12.6319473684, gamma=0.01, score=0.4633586438283595, total= 1.1min\n",
      "[CV] C=12.6319473684, gamma=0.1 ......................................\n",
      "[CV]  C=12.6319473684, gamma=0.001, score=0.3907331794780756, total= 1.2min\n",
      "[CV] C=12.6319473684, gamma=0.1 ......................................\n",
      "[CV]  C=12.6319473684, gamma=0.01, score=0.4618516551602053, total= 1.1min\n",
      "[CV] C=12.6319473684, gamma=0.1 ......................................\n",
      "[CV]  C=12.6319473684, gamma=0.01, score=0.4780756257766732, total= 1.1min\n",
      "[CV] C=12.6319473684, gamma=1.0 ......................................\n",
      "[CV]  C=12.6319473684, gamma=0.1, score=0.5793748896344694, total= 1.3min\n",
      "[CV] C=12.6319473684, gamma=1.0 ......................................\n",
      "[CV]  C=12.6319473684, gamma=0.1, score=0.5827580102673039, total= 1.3min\n",
      "[CV] C=12.6319473684, gamma=1.0 ......................................\n",
      "[CV]  C=12.6319473684, gamma=0.1, score=0.5913367654890822, total= 1.3min\n",
      "[CV] C=12.6319473684, gamma=10.0 .....................................\n",
      "[CV]  C=12.6319473684, gamma=1.0, score=0.5740773441638708, total= 2.2min\n",
      "[CV] C=12.6319473684, gamma=10.0 .....................................\n",
      "[CV]  C=12.6319473684, gamma=1.0, score=0.5795716055939104, total= 2.2min\n",
      "[CV] C=12.6319473684, gamma=10.0 .....................................\n",
      "[CV]  C=12.6319473684, gamma=1.0, score=0.5948872714361797, total= 2.2min\n",
      "[CV] C=12.6319473684, gamma=100.0 ....................................\n"
     ]
    },
    {
     "name": "stderr",
     "output_type": "stream",
     "text": [
      "/Users/luanrubensf/anaconda/lib/python3.6/site-packages/sklearn/svm/base.py:218: ConvergenceWarning: Solver terminated early (max_iter=10000).  Consider pre-processing your data with StandardScaler or MinMaxScaler.\n",
      "  % self.max_iter, ConvergenceWarning)\n"
     ]
    },
    {
     "name": "stdout",
     "output_type": "stream",
     "text": [
      "[CV]  C=12.6319473684, gamma=10.0, score=0.26787921596327036, total= 3.3min\n",
      "[CV] C=12.6319473684, gamma=100.0 ....................................\n"
     ]
    },
    {
     "name": "stderr",
     "output_type": "stream",
     "text": [
      "/Users/luanrubensf/anaconda/lib/python3.6/site-packages/sklearn/svm/base.py:218: ConvergenceWarning: Solver terminated early (max_iter=10000).  Consider pre-processing your data with StandardScaler or MinMaxScaler.\n",
      "  % self.max_iter, ConvergenceWarning)\n",
      "/Users/luanrubensf/anaconda/lib/python3.6/site-packages/sklearn/svm/base.py:218: ConvergenceWarning: Solver terminated early (max_iter=10000).  Consider pre-processing your data with StandardScaler or MinMaxScaler.\n",
      "  % self.max_iter, ConvergenceWarning)\n",
      "/Users/luanrubensf/anaconda/lib/python3.6/site-packages/sklearn/svm/base.py:218: ConvergenceWarning: Solver terminated early (max_iter=10000).  Consider pre-processing your data with StandardScaler or MinMaxScaler.\n",
      "  % self.max_iter, ConvergenceWarning)\n"
     ]
    },
    {
     "name": "stdout",
     "output_type": "stream",
     "text": [
      "[CV]  C=12.6319473684, gamma=10.0, score=0.2697822623473181, total= 3.3min\n",
      "[CV] C=12.6319473684, gamma=100.0 ....................................\n",
      "[CV]  C=12.6319473684, gamma=10.0, score=0.2707260784661814, total= 3.3min\n",
      "[CV] C=12.6319473684, gamma=1000.0 ...................................\n",
      "[CV]  C=12.6319473684, gamma=100.0, score=0.26399434928483134, total= 3.3min\n",
      "[CV] C=12.6319473684, gamma=1000.0 ...................................\n"
     ]
    },
    {
     "name": "stderr",
     "output_type": "stream",
     "text": [
      "/Users/luanrubensf/anaconda/lib/python3.6/site-packages/sklearn/svm/base.py:218: ConvergenceWarning: Solver terminated early (max_iter=10000).  Consider pre-processing your data with StandardScaler or MinMaxScaler.\n",
      "  % self.max_iter, ConvergenceWarning)\n"
     ]
    },
    {
     "name": "stdout",
     "output_type": "stream",
     "text": [
      "[CV]  C=12.6319473684, gamma=100.0, score=0.26482563285537264, total= 3.4min\n",
      "[CV] C=12.6319473684, gamma=1000.0 ...................................\n"
     ]
    },
    {
     "name": "stderr",
     "output_type": "stream",
     "text": [
      "/Users/luanrubensf/anaconda/lib/python3.6/site-packages/sklearn/svm/base.py:218: ConvergenceWarning: Solver terminated early (max_iter=10000).  Consider pre-processing your data with StandardScaler or MinMaxScaler.\n",
      "  % self.max_iter, ConvergenceWarning)\n",
      "/Users/luanrubensf/anaconda/lib/python3.6/site-packages/sklearn/svm/base.py:218: ConvergenceWarning: Solver terminated early (max_iter=10000).  Consider pre-processing your data with StandardScaler or MinMaxScaler.\n",
      "  % self.max_iter, ConvergenceWarning)\n",
      "/Users/luanrubensf/anaconda/lib/python3.6/site-packages/sklearn/svm/base.py:218: ConvergenceWarning: Solver terminated early (max_iter=10000).  Consider pre-processing your data with StandardScaler or MinMaxScaler.\n",
      "  % self.max_iter, ConvergenceWarning)\n"
     ]
    },
    {
     "name": "stdout",
     "output_type": "stream",
     "text": [
      "[CV]  C=12.6319473684, gamma=100.0, score=0.2654003195455352, total= 3.4min\n",
      "[CV] C=13.6845263158, gamma=1e-09 ....................................\n"
     ]
    },
    {
     "name": "stderr",
     "output_type": "stream",
     "text": [
      "[Parallel(n_jobs=4)]: Done 504 tasks      | elapsed: 279.6min\n"
     ]
    },
    {
     "name": "stdout",
     "output_type": "stream",
     "text": [
      "[CV]  C=12.6319473684, gamma=1000.0, score=0.26399434928483134, total= 3.2min\n",
      "[CV] C=13.6845263158, gamma=1e-09 ....................................\n",
      "[CV]  C=12.6319473684, gamma=1000.0, score=0.26482563285537264, total= 3.2min\n",
      "[CV] C=13.6845263158, gamma=1e-09 ....................................\n"
     ]
    },
    {
     "name": "stderr",
     "output_type": "stream",
     "text": [
      "/Users/luanrubensf/anaconda/lib/python3.6/site-packages/sklearn/svm/base.py:218: ConvergenceWarning: Solver terminated early (max_iter=10000).  Consider pre-processing your data with StandardScaler or MinMaxScaler.\n",
      "  % self.max_iter, ConvergenceWarning)\n"
     ]
    },
    {
     "name": "stdout",
     "output_type": "stream",
     "text": [
      "[CV]  C=13.6845263158, gamma=1e-09, score=0.26399434928483134, total=  53.3s\n",
      "[CV] C=13.6845263158, gamma=1e-08 ....................................\n",
      "[CV]  C=13.6845263158, gamma=1e-09, score=0.26464861037351745, total=  53.8s\n",
      "[CV] C=13.6845263158, gamma=1e-08 ....................................\n",
      "[CV]  C=13.6845263158, gamma=1e-09, score=0.26522279424818035, total=  53.4s\n",
      "[CV] C=13.6845263158, gamma=1e-08 ....................................\n",
      "[CV]  C=12.6319473684, gamma=1000.0, score=0.2654003195455352, total= 3.2min\n",
      "[CV] C=13.6845263158, gamma=1e-07 ....................................\n",
      "[CV]  C=13.6845263158, gamma=1e-08, score=0.26399434928483134, total=  53.6s\n",
      "[CV] C=13.6845263158, gamma=1e-07 ....................................\n",
      "[CV]  C=13.6845263158, gamma=1e-08, score=0.26464861037351745, total=  53.9s\n",
      "[CV] C=13.6845263158, gamma=1e-07 ....................................\n",
      "[CV]  C=13.6845263158, gamma=1e-08, score=0.26522279424818035, total=  53.7s\n",
      "[CV] C=13.6845263158, gamma=1e-06 ....................................\n",
      "[CV]  C=13.6845263158, gamma=1e-07, score=0.26399434928483134, total=  53.3s\n",
      "[CV] C=13.6845263158, gamma=1e-06 ....................................\n",
      "[CV]  C=13.6845263158, gamma=1e-07, score=0.26464861037351745, total=  53.8s\n",
      "[CV] C=13.6845263158, gamma=1e-06 ....................................\n",
      "[CV]  C=13.6845263158, gamma=1e-07, score=0.26522279424818035, total=  54.0s\n",
      "[CV] C=13.6845263158, gamma=1e-05 ....................................\n",
      "[CV]  C=13.6845263158, gamma=1e-06, score=0.26399434928483134, total=  55.0s\n",
      "[CV] C=13.6845263158, gamma=1e-05 ....................................\n",
      "[CV]  C=13.6845263158, gamma=1e-06, score=0.26464861037351745, total=  54.6s\n",
      "[CV] C=13.6845263158, gamma=1e-05 ....................................\n",
      "[CV]  C=13.6845263158, gamma=1e-06, score=0.26522279424818035, total=  53.9s\n",
      "[CV] C=13.6845263158, gamma=0.0001 ...................................\n",
      "[CV]  C=13.6845263158, gamma=1e-05, score=0.26399434928483134, total=  55.0s\n",
      "[CV] C=13.6845263158, gamma=0.0001 ...................................\n",
      "[CV]  C=13.6845263158, gamma=1e-05, score=0.26464861037351745, total=  54.8s\n",
      "[CV] C=13.6845263158, gamma=0.0001 ...................................\n",
      "[CV]  C=13.6845263158, gamma=1e-05, score=0.26522279424818035, total=  54.7s\n",
      "[CV] C=13.6845263158, gamma=0.001 ....................................\n",
      "[CV]  C=13.6845263158, gamma=0.0001, score=0.26399434928483134, total= 1.1min\n",
      "[CV] C=13.6845263158, gamma=0.001 ....................................\n",
      "[CV]  C=13.6845263158, gamma=0.0001, score=0.26464861037351745, total= 1.1min\n",
      "[CV] C=13.6845263158, gamma=0.001 ....................................\n",
      "[CV]  C=13.6845263158, gamma=0.0001, score=0.26522279424818035, total= 1.1min\n",
      "[CV] C=13.6845263158, gamma=0.01 .....................................\n",
      "[CV]  C=13.6845263158, gamma=0.001, score=0.3930778739184178, total= 1.2min\n",
      "[CV] C=13.6845263158, gamma=0.01 .....................................\n",
      "[CV]  C=13.6845263158, gamma=0.001, score=0.3921047973092583, total= 1.2min\n",
      "[CV] C=13.6845263158, gamma=0.01 .....................................\n",
      "[CV]  C=13.6845263158, gamma=0.001, score=0.3960589383987218, total= 1.2min\n",
      "[CV] C=13.6845263158, gamma=0.1 ......................................\n",
      "[CV]  C=13.6845263158, gamma=0.01, score=0.46794984990287836, total= 1.1min\n",
      "[CV] C=13.6845263158, gamma=0.1 ......................................\n",
      "[CV]  C=13.6845263158, gamma=0.01, score=0.4668082846521508, total= 1.1min\n",
      "[CV] C=13.6845263158, gamma=0.1 ......................................\n",
      "[CV]  C=13.6845263158, gamma=0.01, score=0.4830463341026096, total= 1.1min\n",
      "[CV] C=13.6845263158, gamma=1.0 ......................................\n",
      "[CV]  C=13.6845263158, gamma=0.1, score=0.5781387956913296, total= 1.3min\n",
      "[CV] C=13.6845263158, gamma=1.0 ......................................\n",
      "[CV]  C=13.6845263158, gamma=0.1, score=0.581872897858028, total= 1.3min\n",
      "[CV] C=13.6845263158, gamma=1.0 ......................................\n",
      "[CV]  C=13.6845263158, gamma=0.1, score=0.5918693413811468, total= 1.3min\n",
      "[CV] C=13.6845263158, gamma=10.0 .....................................\n",
      "[CV]  C=13.6845263158, gamma=1.0, score=0.5740773441638708, total= 2.2min\n",
      "[CV] C=13.6845263158, gamma=10.0 .....................................\n",
      "[CV]  C=13.6845263158, gamma=1.0, score=0.5795716055939104, total= 2.2min\n",
      "[CV] C=13.6845263158, gamma=10.0 .....................................\n",
      "[CV]  C=13.6845263158, gamma=1.0, score=0.5948872714361797, total= 2.2min\n",
      "[CV] C=13.6845263158, gamma=100.0 ....................................\n"
     ]
    },
    {
     "name": "stderr",
     "output_type": "stream",
     "text": [
      "/Users/luanrubensf/anaconda/lib/python3.6/site-packages/sklearn/svm/base.py:218: ConvergenceWarning: Solver terminated early (max_iter=10000).  Consider pre-processing your data with StandardScaler or MinMaxScaler.\n",
      "  % self.max_iter, ConvergenceWarning)\n"
     ]
    },
    {
     "name": "stdout",
     "output_type": "stream",
     "text": [
      "[CV]  C=13.6845263158, gamma=10.0, score=0.26787921596327036, total= 3.3min\n",
      "[CV] C=13.6845263158, gamma=100.0 ....................................\n"
     ]
    },
    {
     "name": "stderr",
     "output_type": "stream",
     "text": [
      "/Users/luanrubensf/anaconda/lib/python3.6/site-packages/sklearn/svm/base.py:218: ConvergenceWarning: Solver terminated early (max_iter=10000).  Consider pre-processing your data with StandardScaler or MinMaxScaler.\n",
      "  % self.max_iter, ConvergenceWarning)\n",
      "/Users/luanrubensf/anaconda/lib/python3.6/site-packages/sklearn/svm/base.py:218: ConvergenceWarning: Solver terminated early (max_iter=10000).  Consider pre-processing your data with StandardScaler or MinMaxScaler.\n",
      "  % self.max_iter, ConvergenceWarning)\n",
      "/Users/luanrubensf/anaconda/lib/python3.6/site-packages/sklearn/svm/base.py:218: ConvergenceWarning: Solver terminated early (max_iter=10000).  Consider pre-processing your data with StandardScaler or MinMaxScaler.\n",
      "  % self.max_iter, ConvergenceWarning)\n"
     ]
    },
    {
     "name": "stdout",
     "output_type": "stream",
     "text": [
      "[CV]  C=13.6845263158, gamma=10.0, score=0.2697822623473181, total= 3.7min\n",
      "[CV] C=13.6845263158, gamma=100.0 ....................................\n",
      "[CV]  C=13.6845263158, gamma=10.0, score=0.2707260784661814, total= 3.7min\n",
      "[CV] C=13.6845263158, gamma=1000.0 ...................................\n",
      "[CV]  C=13.6845263158, gamma=100.0, score=0.26399434928483134, total= 3.8min\n",
      "[CV] C=13.6845263158, gamma=1000.0 ...................................\n"
     ]
    },
    {
     "name": "stderr",
     "output_type": "stream",
     "text": [
      "/Users/luanrubensf/anaconda/lib/python3.6/site-packages/sklearn/svm/base.py:218: ConvergenceWarning: Solver terminated early (max_iter=10000).  Consider pre-processing your data with StandardScaler or MinMaxScaler.\n",
      "  % self.max_iter, ConvergenceWarning)\n"
     ]
    },
    {
     "name": "stdout",
     "output_type": "stream",
     "text": [
      "[CV]  C=13.6845263158, gamma=100.0, score=0.26482563285537264, total= 4.1min\n",
      "[CV] C=13.6845263158, gamma=1000.0 ...................................\n"
     ]
    },
    {
     "name": "stderr",
     "output_type": "stream",
     "text": [
      "/Users/luanrubensf/anaconda/lib/python3.6/site-packages/sklearn/svm/base.py:218: ConvergenceWarning: Solver terminated early (max_iter=10000).  Consider pre-processing your data with StandardScaler or MinMaxScaler.\n",
      "  % self.max_iter, ConvergenceWarning)\n",
      "/Users/luanrubensf/anaconda/lib/python3.6/site-packages/sklearn/svm/base.py:218: ConvergenceWarning: Solver terminated early (max_iter=10000).  Consider pre-processing your data with StandardScaler or MinMaxScaler.\n",
      "  % self.max_iter, ConvergenceWarning)\n",
      "/Users/luanrubensf/anaconda/lib/python3.6/site-packages/sklearn/svm/base.py:218: ConvergenceWarning: Solver terminated early (max_iter=10000).  Consider pre-processing your data with StandardScaler or MinMaxScaler.\n",
      "  % self.max_iter, ConvergenceWarning)\n"
     ]
    },
    {
     "name": "stdout",
     "output_type": "stream",
     "text": [
      "[CV]  C=13.6845263158, gamma=1000.0, score=0.26399434928483134, total= 3.9min\n",
      "[CV] C=14.7371052632, gamma=1e-09 ....................................\n",
      "[CV]  C=13.6845263158, gamma=100.0, score=0.2654003195455352, total= 4.2min\n",
      "[CV] C=14.7371052632, gamma=1e-09 ....................................\n",
      "[CV]  C=13.6845263158, gamma=1000.0, score=0.26482563285537264, total= 3.9min\n",
      "[CV] C=14.7371052632, gamma=1e-09 ....................................\n"
     ]
    },
    {
     "name": "stderr",
     "output_type": "stream",
     "text": [
      "/Users/luanrubensf/anaconda/lib/python3.6/site-packages/sklearn/svm/base.py:218: ConvergenceWarning: Solver terminated early (max_iter=10000).  Consider pre-processing your data with StandardScaler or MinMaxScaler.\n",
      "  % self.max_iter, ConvergenceWarning)\n"
     ]
    },
    {
     "name": "stdout",
     "output_type": "stream",
     "text": [
      "[CV]  C=14.7371052632, gamma=1e-09, score=0.26399434928483134, total= 1.2min\n",
      "[CV] C=14.7371052632, gamma=1e-08 ....................................\n",
      "[CV]  C=13.6845263158, gamma=1000.0, score=0.2654003195455352, total= 3.9min\n",
      "[CV] C=14.7371052632, gamma=1e-08 ....................................\n",
      "[CV]  C=14.7371052632, gamma=1e-09, score=0.26464861037351745, total= 1.2min\n",
      "[CV] C=14.7371052632, gamma=1e-08 ....................................\n",
      "[CV]  C=14.7371052632, gamma=1e-09, score=0.26522279424818035, total= 1.2min\n",
      "[CV] C=14.7371052632, gamma=1e-07 ....................................\n",
      "[CV]  C=14.7371052632, gamma=1e-08, score=0.26399434928483134, total= 1.1min\n",
      "[CV] C=14.7371052632, gamma=1e-07 ....................................\n",
      "[CV]  C=14.7371052632, gamma=1e-08, score=0.26464861037351745, total= 1.1min\n",
      "[CV] C=14.7371052632, gamma=1e-07 ....................................\n",
      "[CV]  C=14.7371052632, gamma=1e-08, score=0.26522279424818035, total= 1.1min\n",
      "[CV] C=14.7371052632, gamma=1e-06 ....................................\n",
      "[CV]  C=14.7371052632, gamma=1e-07, score=0.26399434928483134, total= 1.1min\n",
      "[CV] C=14.7371052632, gamma=1e-06 ....................................\n",
      "[CV]  C=14.7371052632, gamma=1e-07, score=0.26464861037351745, total= 1.2min\n",
      "[CV] C=14.7371052632, gamma=1e-06 ....................................\n",
      "[CV]  C=14.7371052632, gamma=1e-07, score=0.26522279424818035, total= 1.2min\n",
      "[CV] C=14.7371052632, gamma=1e-05 ....................................\n",
      "[CV]  C=14.7371052632, gamma=1e-06, score=0.26399434928483134, total= 1.2min\n",
      "[CV] C=14.7371052632, gamma=1e-05 ....................................\n",
      "[CV]  C=14.7371052632, gamma=1e-06, score=0.26464861037351745, total= 1.2min\n",
      "[CV] C=14.7371052632, gamma=1e-05 ....................................\n",
      "[CV]  C=14.7371052632, gamma=1e-06, score=0.26522279424818035, total= 1.2min\n",
      "[CV] C=14.7371052632, gamma=0.0001 ...................................\n",
      "[CV]  C=14.7371052632, gamma=1e-05, score=0.26399434928483134, total= 1.2min\n",
      "[CV] C=14.7371052632, gamma=0.0001 ...................................\n",
      "[CV]  C=14.7371052632, gamma=1e-05, score=0.26464861037351745, total= 1.2min\n",
      "[CV] C=14.7371052632, gamma=0.0001 ...................................\n",
      "[CV]  C=14.7371052632, gamma=1e-05, score=0.26522279424818035, total= 1.2min\n",
      "[CV] C=14.7371052632, gamma=0.001 ....................................\n",
      "[CV]  C=14.7371052632, gamma=0.0001, score=0.26399434928483134, total= 1.7min\n",
      "[CV] C=14.7371052632, gamma=0.001 ....................................\n",
      "[CV]  C=14.7371052632, gamma=0.0001, score=0.26464861037351745, total= 1.6min\n",
      "[CV] C=14.7371052632, gamma=0.001 ....................................\n",
      "[CV]  C=14.7371052632, gamma=0.0001, score=0.26522279424818035, total= 1.6min\n",
      "[CV] C=14.7371052632, gamma=0.01 .....................................\n",
      "[CV]  C=14.7371052632, gamma=0.001, score=0.39590323150273704, total= 1.6min\n",
      "[CV] C=14.7371052632, gamma=0.01 .....................................\n",
      "[CV]  C=14.7371052632, gamma=0.001, score=0.39546822446450697, total= 1.6min\n",
      "[CV] C=14.7371052632, gamma=0.01 .....................................\n",
      "[CV]  C=14.7371052632, gamma=0.01, score=0.47201130143033726, total= 1.6min\n",
      "[CV] C=14.7371052632, gamma=0.1 ......................................\n",
      "[CV]  C=14.7371052632, gamma=0.001, score=0.3996094443458193, total= 1.6min\n",
      "[CV] C=14.7371052632, gamma=0.1 ......................................\n",
      "[CV]  C=14.7371052632, gamma=0.01, score=0.4721189591078067, total= 1.6min\n",
      "[CV] C=14.7371052632, gamma=0.1 ......................................\n",
      "[CV]  C=14.7371052632, gamma=0.01, score=0.4860642641576425, total= 1.5min\n",
      "[CV] C=14.7371052632, gamma=1.0 ......................................\n",
      "[CV]  C=14.7371052632, gamma=0.1, score=0.5793748896344694, total= 1.7min\n",
      "[CV] C=14.7371052632, gamma=1.0 ......................................\n",
      "[CV]  C=14.7371052632, gamma=0.1, score=0.581872897858028, total= 1.6min\n",
      "[CV] C=14.7371052632, gamma=1.0 ......................................\n",
      "[CV]  C=14.7371052632, gamma=0.1, score=0.593112018462631, total= 1.7min\n",
      "[CV] C=14.7371052632, gamma=10.0 .....................................\n",
      "[CV]  C=14.7371052632, gamma=1.0, score=0.5740773441638708, total= 2.8min\n",
      "[CV] C=14.7371052632, gamma=10.0 .....................................\n",
      "[CV]  C=14.7371052632, gamma=1.0, score=0.5795716055939104, total= 2.8min\n",
      "[CV] C=14.7371052632, gamma=10.0 .....................................\n",
      "[CV]  C=14.7371052632, gamma=1.0, score=0.5948872714361797, total= 2.9min\n",
      "[CV] C=14.7371052632, gamma=100.0 ....................................\n"
     ]
    },
    {
     "name": "stderr",
     "output_type": "stream",
     "text": [
      "/Users/luanrubensf/anaconda/lib/python3.6/site-packages/sklearn/svm/base.py:218: ConvergenceWarning: Solver terminated early (max_iter=10000).  Consider pre-processing your data with StandardScaler or MinMaxScaler.\n",
      "  % self.max_iter, ConvergenceWarning)\n"
     ]
    },
    {
     "name": "stdout",
     "output_type": "stream",
     "text": [
      "[CV]  C=14.7371052632, gamma=10.0, score=0.26787921596327036, total= 4.7min\n",
      "[CV] C=14.7371052632, gamma=100.0 ....................................\n"
     ]
    },
    {
     "name": "stderr",
     "output_type": "stream",
     "text": [
      "/Users/luanrubensf/anaconda/lib/python3.6/site-packages/sklearn/svm/base.py:218: ConvergenceWarning: Solver terminated early (max_iter=10000).  Consider pre-processing your data with StandardScaler or MinMaxScaler.\n",
      "  % self.max_iter, ConvergenceWarning)\n",
      "/Users/luanrubensf/anaconda/lib/python3.6/site-packages/sklearn/svm/base.py:218: ConvergenceWarning: Solver terminated early (max_iter=10000).  Consider pre-processing your data with StandardScaler or MinMaxScaler.\n",
      "  % self.max_iter, ConvergenceWarning)\n",
      "/Users/luanrubensf/anaconda/lib/python3.6/site-packages/sklearn/svm/base.py:218: ConvergenceWarning: Solver terminated early (max_iter=10000).  Consider pre-processing your data with StandardScaler or MinMaxScaler.\n",
      "  % self.max_iter, ConvergenceWarning)\n"
     ]
    },
    {
     "name": "stdout",
     "output_type": "stream",
     "text": [
      "[CV]  C=14.7371052632, gamma=10.0, score=0.2697822623473181, total= 4.7min\n",
      "[CV] C=14.7371052632, gamma=100.0 ....................................\n",
      "[CV]  C=14.7371052632, gamma=10.0, score=0.2707260784661814, total= 4.7min\n",
      "[CV] C=14.7371052632, gamma=1000.0 ...................................\n",
      "[CV]  C=14.7371052632, gamma=100.0, score=0.26399434928483134, total= 4.7min\n",
      "[CV] C=14.7371052632, gamma=1000.0 ...................................\n"
     ]
    },
    {
     "name": "stderr",
     "output_type": "stream",
     "text": [
      "/Users/luanrubensf/anaconda/lib/python3.6/site-packages/sklearn/svm/base.py:218: ConvergenceWarning: Solver terminated early (max_iter=10000).  Consider pre-processing your data with StandardScaler or MinMaxScaler.\n",
      "  % self.max_iter, ConvergenceWarning)\n"
     ]
    },
    {
     "name": "stdout",
     "output_type": "stream",
     "text": [
      "[CV]  C=14.7371052632, gamma=100.0, score=0.26482563285537264, total= 4.2min\n",
      "[CV] C=14.7371052632, gamma=1000.0 ...................................\n"
     ]
    },
    {
     "name": "stderr",
     "output_type": "stream",
     "text": [
      "/Users/luanrubensf/anaconda/lib/python3.6/site-packages/sklearn/svm/base.py:218: ConvergenceWarning: Solver terminated early (max_iter=10000).  Consider pre-processing your data with StandardScaler or MinMaxScaler.\n",
      "  % self.max_iter, ConvergenceWarning)\n",
      "/Users/luanrubensf/anaconda/lib/python3.6/site-packages/sklearn/svm/base.py:218: ConvergenceWarning: Solver terminated early (max_iter=10000).  Consider pre-processing your data with StandardScaler or MinMaxScaler.\n",
      "  % self.max_iter, ConvergenceWarning)\n",
      "/Users/luanrubensf/anaconda/lib/python3.6/site-packages/sklearn/svm/base.py:218: ConvergenceWarning: Solver terminated early (max_iter=10000).  Consider pre-processing your data with StandardScaler or MinMaxScaler.\n",
      "  % self.max_iter, ConvergenceWarning)\n"
     ]
    },
    {
     "name": "stdout",
     "output_type": "stream",
     "text": [
      "[CV]  C=14.7371052632, gamma=1000.0, score=0.26399434928483134, total= 3.9min\n",
      "[CV] C=15.7896842105, gamma=1e-09 ....................................\n",
      "[CV]  C=14.7371052632, gamma=100.0, score=0.2654003195455352, total= 4.2min\n",
      "[CV] C=15.7896842105, gamma=1e-09 ....................................\n",
      "[CV]  C=14.7371052632, gamma=1000.0, score=0.26482563285537264, total= 4.0min\n",
      "[CV] C=15.7896842105, gamma=1e-09 ....................................\n"
     ]
    },
    {
     "name": "stderr",
     "output_type": "stream",
     "text": [
      "/Users/luanrubensf/anaconda/lib/python3.6/site-packages/sklearn/svm/base.py:218: ConvergenceWarning: Solver terminated early (max_iter=10000).  Consider pre-processing your data with StandardScaler or MinMaxScaler.\n",
      "  % self.max_iter, ConvergenceWarning)\n"
     ]
    },
    {
     "name": "stdout",
     "output_type": "stream",
     "text": [
      "[CV]  C=15.7896842105, gamma=1e-09, score=0.26399434928483134, total= 1.1min\n",
      "[CV] C=15.7896842105, gamma=1e-08 ....................................\n",
      "[CV]  C=14.7371052632, gamma=1000.0, score=0.2654003195455352, total= 4.0min\n",
      "[CV] C=15.7896842105, gamma=1e-08 ....................................\n",
      "[CV]  C=15.7896842105, gamma=1e-09, score=0.26464861037351745, total= 1.1min\n",
      "[CV] C=15.7896842105, gamma=1e-08 ....................................\n",
      "[CV]  C=15.7896842105, gamma=1e-09, score=0.26522279424818035, total= 1.1min\n",
      "[CV] C=15.7896842105, gamma=1e-07 ....................................\n",
      "[CV]  C=15.7896842105, gamma=1e-08, score=0.26399434928483134, total= 1.1min\n",
      "[CV] C=15.7896842105, gamma=1e-07 ....................................\n",
      "[CV]  C=15.7896842105, gamma=1e-08, score=0.26464861037351745, total= 1.1min\n",
      "[CV] C=15.7896842105, gamma=1e-07 ....................................\n",
      "[CV]  C=15.7896842105, gamma=1e-08, score=0.26522279424818035, total= 1.1min\n",
      "[CV] C=15.7896842105, gamma=1e-06 ....................................\n",
      "[CV]  C=15.7896842105, gamma=1e-07, score=0.26399434928483134, total= 1.1min\n",
      "[CV] C=15.7896842105, gamma=1e-06 ....................................\n",
      "[CV]  C=15.7896842105, gamma=1e-07, score=0.26464861037351745, total= 1.3min\n",
      "[CV] C=15.7896842105, gamma=1e-06 ....................................\n",
      "[CV]  C=15.7896842105, gamma=1e-07, score=0.26522279424818035, total= 1.3min\n",
      "[CV] C=15.7896842105, gamma=1e-05 ....................................\n",
      "[CV]  C=15.7896842105, gamma=1e-06, score=0.26399434928483134, total= 1.4min\n",
      "[CV] C=15.7896842105, gamma=1e-05 ....................................\n",
      "[CV]  C=15.7896842105, gamma=1e-06, score=0.26464861037351745, total= 1.4min\n",
      "[CV] C=15.7896842105, gamma=1e-05 ....................................\n",
      "[CV]  C=15.7896842105, gamma=1e-06, score=0.26522279424818035, total= 1.4min\n",
      "[CV] C=15.7896842105, gamma=0.0001 ...................................\n",
      "[CV]  C=15.7896842105, gamma=1e-05, score=0.26399434928483134, total= 1.4min\n",
      "[CV] C=15.7896842105, gamma=0.0001 ...................................\n",
      "[CV]  C=15.7896842105, gamma=1e-05, score=0.26464861037351745, total= 1.4min\n",
      "[CV] C=15.7896842105, gamma=0.0001 ...................................\n",
      "[CV]  C=15.7896842105, gamma=1e-05, score=0.26522279424818035, total= 1.3min\n",
      "[CV] C=15.7896842105, gamma=0.001 ....................................\n",
      "[CV]  C=15.7896842105, gamma=0.0001, score=0.26399434928483134, total= 1.6min\n",
      "[CV] C=15.7896842105, gamma=0.001 ....................................\n",
      "[CV]  C=15.7896842105, gamma=0.0001, score=0.26464861037351745, total= 1.6min\n",
      "[CV] C=15.7896842105, gamma=0.001 ....................................\n",
      "[CV]  C=15.7896842105, gamma=0.0001, score=0.26522279424818035, total= 1.6min\n",
      "[CV] C=15.7896842105, gamma=0.01 .....................................\n",
      "[CV]  C=15.7896842105, gamma=0.001, score=0.3967861557478368, total= 1.8min\n",
      "[CV] C=15.7896842105, gamma=0.01 .....................................\n",
      "[CV]  C=15.7896842105, gamma=0.001, score=0.39989378651088686, total= 1.6min\n",
      "[CV] C=15.7896842105, gamma=0.01 .....................................\n",
      "[CV]  C=15.7896842105, gamma=0.001, score=0.4040475767796911, total= 1.6min\n",
      "[CV] C=15.7896842105, gamma=0.1 ......................................\n",
      "[CV]  C=15.7896842105, gamma=0.01, score=0.47748543174995584, total= 1.6min\n",
      "[CV] C=15.7896842105, gamma=0.1 ......................................\n",
      "[CV]  C=15.7896842105, gamma=0.01, score=0.4758364312267658, total= 1.6min\n",
      "[CV] C=15.7896842105, gamma=0.1 ......................................\n",
      "[CV]  C=15.7896842105, gamma=0.01, score=0.48943724480738504, total= 1.8min\n",
      "[CV] C=15.7896842105, gamma=1.0 ......................................\n",
      "[CV]  C=15.7896842105, gamma=0.1, score=0.5783153805403496, total= 2.0min\n",
      "[CV] C=15.7896842105, gamma=1.0 ......................................\n",
      "[CV]  C=15.7896842105, gamma=0.1, score=0.5825809877854488, total= 2.0min\n",
      "[CV] C=15.7896842105, gamma=1.0 ......................................\n",
      "[CV]  C=15.7896842105, gamma=0.1, score=0.5918693413811468, total= 2.0min\n",
      "[CV] C=15.7896842105, gamma=10.0 .....................................\n",
      "[CV]  C=15.7896842105, gamma=1.0, score=0.5740773441638708, total= 3.3min\n",
      "[CV] C=15.7896842105, gamma=10.0 .....................................\n",
      "[CV]  C=15.7896842105, gamma=1.0, score=0.5795716055939104, total= 3.3min\n",
      "[CV] C=15.7896842105, gamma=10.0 .....................................\n",
      "[CV]  C=15.7896842105, gamma=1.0, score=0.5948872714361797, total= 3.3min\n",
      "[CV] C=15.7896842105, gamma=100.0 ....................................\n"
     ]
    },
    {
     "name": "stderr",
     "output_type": "stream",
     "text": [
      "/Users/luanrubensf/anaconda/lib/python3.6/site-packages/sklearn/svm/base.py:218: ConvergenceWarning: Solver terminated early (max_iter=10000).  Consider pre-processing your data with StandardScaler or MinMaxScaler.\n",
      "  % self.max_iter, ConvergenceWarning)\n"
     ]
    },
    {
     "name": "stdout",
     "output_type": "stream",
     "text": [
      "[CV]  C=15.7896842105, gamma=10.0, score=0.26787921596327036, total= 4.8min\n",
      "[CV] C=15.7896842105, gamma=100.0 ....................................\n"
     ]
    },
    {
     "name": "stderr",
     "output_type": "stream",
     "text": [
      "/Users/luanrubensf/anaconda/lib/python3.6/site-packages/sklearn/svm/base.py:218: ConvergenceWarning: Solver terminated early (max_iter=10000).  Consider pre-processing your data with StandardScaler or MinMaxScaler.\n",
      "  % self.max_iter, ConvergenceWarning)\n",
      "/Users/luanrubensf/anaconda/lib/python3.6/site-packages/sklearn/svm/base.py:218: ConvergenceWarning: Solver terminated early (max_iter=10000).  Consider pre-processing your data with StandardScaler or MinMaxScaler.\n",
      "  % self.max_iter, ConvergenceWarning)\n",
      "/Users/luanrubensf/anaconda/lib/python3.6/site-packages/sklearn/svm/base.py:218: ConvergenceWarning: Solver terminated early (max_iter=10000).  Consider pre-processing your data with StandardScaler or MinMaxScaler.\n",
      "  % self.max_iter, ConvergenceWarning)\n"
     ]
    },
    {
     "name": "stdout",
     "output_type": "stream",
     "text": [
      "[CV]  C=15.7896842105, gamma=10.0, score=0.2697822623473181, total= 5.1min\n",
      "[CV] C=15.7896842105, gamma=100.0 ....................................\n",
      "[CV]  C=15.7896842105, gamma=10.0, score=0.2707260784661814, total= 5.1min\n",
      "[CV] C=15.7896842105, gamma=1000.0 ...................................\n",
      "[CV]  C=15.7896842105, gamma=100.0, score=0.26399434928483134, total= 5.1min\n",
      "[CV] C=15.7896842105, gamma=1000.0 ...................................\n"
     ]
    },
    {
     "name": "stderr",
     "output_type": "stream",
     "text": [
      "/Users/luanrubensf/anaconda/lib/python3.6/site-packages/sklearn/svm/base.py:218: ConvergenceWarning: Solver terminated early (max_iter=10000).  Consider pre-processing your data with StandardScaler or MinMaxScaler.\n",
      "  % self.max_iter, ConvergenceWarning)\n"
     ]
    },
    {
     "name": "stdout",
     "output_type": "stream",
     "text": [
      "[CV]  C=15.7896842105, gamma=100.0, score=0.26482563285537264, total= 5.2min\n",
      "[CV] C=15.7896842105, gamma=1000.0 ...................................\n"
     ]
    },
    {
     "name": "stderr",
     "output_type": "stream",
     "text": [
      "/Users/luanrubensf/anaconda/lib/python3.6/site-packages/sklearn/svm/base.py:218: ConvergenceWarning: Solver terminated early (max_iter=10000).  Consider pre-processing your data with StandardScaler or MinMaxScaler.\n",
      "  % self.max_iter, ConvergenceWarning)\n",
      "/Users/luanrubensf/anaconda/lib/python3.6/site-packages/sklearn/svm/base.py:218: ConvergenceWarning: Solver terminated early (max_iter=10000).  Consider pre-processing your data with StandardScaler or MinMaxScaler.\n",
      "  % self.max_iter, ConvergenceWarning)\n",
      "/Users/luanrubensf/anaconda/lib/python3.6/site-packages/sklearn/svm/base.py:218: ConvergenceWarning: Solver terminated early (max_iter=10000).  Consider pre-processing your data with StandardScaler or MinMaxScaler.\n",
      "  % self.max_iter, ConvergenceWarning)\n"
     ]
    },
    {
     "name": "stdout",
     "output_type": "stream",
     "text": [
      "[CV]  C=15.7896842105, gamma=1000.0, score=0.26399434928483134, total= 4.7min\n",
      "[CV] C=16.8422631579, gamma=1e-09 ....................................\n",
      "[CV]  C=15.7896842105, gamma=100.0, score=0.2654003195455352, total= 5.0min\n",
      "[CV] C=16.8422631579, gamma=1e-09 ....................................\n",
      "[CV]  C=15.7896842105, gamma=1000.0, score=0.26482563285537264, total= 4.8min\n",
      "[CV] C=16.8422631579, gamma=1e-09 ....................................\n"
     ]
    },
    {
     "name": "stderr",
     "output_type": "stream",
     "text": [
      "/Users/luanrubensf/anaconda/lib/python3.6/site-packages/sklearn/svm/base.py:218: ConvergenceWarning: Solver terminated early (max_iter=10000).  Consider pre-processing your data with StandardScaler or MinMaxScaler.\n",
      "  % self.max_iter, ConvergenceWarning)\n"
     ]
    },
    {
     "name": "stdout",
     "output_type": "stream",
     "text": [
      "[CV]  C=15.7896842105, gamma=1000.0, score=0.2654003195455352, total= 5.1min\n",
      "[CV] C=16.8422631579, gamma=1e-08 ....................................\n",
      "[CV]  C=16.8422631579, gamma=1e-09, score=0.26399434928483134, total= 1.5min\n",
      "[CV] C=16.8422631579, gamma=1e-08 ....................................\n",
      "[CV]  C=16.8422631579, gamma=1e-09, score=0.26464861037351745, total= 1.5min\n",
      "[CV] C=16.8422631579, gamma=1e-08 ....................................\n",
      "[CV]  C=16.8422631579, gamma=1e-09, score=0.26522279424818035, total= 1.5min\n",
      "[CV] C=16.8422631579, gamma=1e-07 ....................................\n",
      "[CV]  C=16.8422631579, gamma=1e-08, score=0.26399434928483134, total= 1.5min\n",
      "[CV] C=16.8422631579, gamma=1e-07 ....................................\n",
      "[CV]  C=16.8422631579, gamma=1e-08, score=0.26464861037351745, total= 1.5min\n",
      "[CV] C=16.8422631579, gamma=1e-07 ....................................\n",
      "[CV]  C=16.8422631579, gamma=1e-08, score=0.26522279424818035, total= 1.4min\n",
      "[CV] C=16.8422631579, gamma=1e-06 ....................................\n",
      "[CV]  C=16.8422631579, gamma=1e-07, score=0.26399434928483134, total= 1.4min\n",
      "[CV] C=16.8422631579, gamma=1e-06 ....................................\n",
      "[CV]  C=16.8422631579, gamma=1e-07, score=0.26464861037351745, total=  54.3s\n",
      "[CV] C=16.8422631579, gamma=1e-06 ....................................\n",
      "[CV]  C=16.8422631579, gamma=1e-07, score=0.26522279424818035, total=  54.5s\n",
      "[CV] C=16.8422631579, gamma=1e-05 ....................................\n",
      "[CV]  C=16.8422631579, gamma=1e-06, score=0.26399434928483134, total=  55.4s\n",
      "[CV] C=16.8422631579, gamma=1e-05 ....................................\n",
      "[CV]  C=16.8422631579, gamma=1e-06, score=0.26464861037351745, total=  55.3s\n",
      "[CV] C=16.8422631579, gamma=1e-05 ....................................\n",
      "[CV]  C=16.8422631579, gamma=1e-06, score=0.26522279424818035, total= 1.4min\n",
      "[CV] C=16.8422631579, gamma=0.0001 ...................................\n",
      "[CV]  C=16.8422631579, gamma=1e-05, score=0.26399434928483134, total= 1.4min\n",
      "[CV] C=16.8422631579, gamma=0.0001 ...................................\n",
      "[CV]  C=16.8422631579, gamma=1e-05, score=0.26464861037351745, total= 1.4min\n",
      "[CV] C=16.8422631579, gamma=0.0001 ...................................\n",
      "[CV]  C=16.8422631579, gamma=1e-05, score=0.26522279424818035, total= 1.4min\n",
      "[CV] C=16.8422631579, gamma=0.001 ....................................\n",
      "[CV]  C=16.8422631579, gamma=0.0001, score=0.26399434928483134, total= 1.3min\n",
      "[CV] C=16.8422631579, gamma=0.001 ....................................\n",
      "[CV]  C=16.8422631579, gamma=0.0001, score=0.26464861037351745, total= 1.3min\n",
      "[CV] C=16.8422631579, gamma=0.001 ....................................\n",
      "[CV]  C=16.8422631579, gamma=0.0001, score=0.26522279424818035, total= 1.3min\n",
      "[CV] C=16.8422631579, gamma=0.01 .....................................\n",
      "[CV]  C=16.8422631579, gamma=0.001, score=0.39784566484195655, total= 1.3min\n",
      "[CV] C=16.8422631579, gamma=0.01 .....................................\n",
      "[CV]  C=16.8422631579, gamma=0.001, score=0.40272614622057, total= 1.2min\n",
      "[CV] C=16.8422631579, gamma=0.01 .....................................\n",
      "[CV]  C=16.8422631579, gamma=0.001, score=0.405645304455885, total= 1.2min\n",
      "[CV] C=16.8422631579, gamma=0.1 ......................................\n",
      "[CV]  C=16.8422631579, gamma=0.01, score=0.4826063923715345, total= 1.2min\n",
      "[CV] C=16.8422631579, gamma=0.1 ......................................\n",
      "[CV]  C=16.8422631579, gamma=0.01, score=0.4815011506461321, total= 1.2min\n",
      "[CV] C=16.8422631579, gamma=0.1 ......................................\n"
     ]
    },
    {
     "name": "stderr",
     "output_type": "stream",
     "text": [
      "/Users/luanrubensf/anaconda/lib/python3.6/site-packages/sklearn/svm/base.py:218: ConvergenceWarning: Solver terminated early (max_iter=10000).  Consider pre-processing your data with StandardScaler or MinMaxScaler.\n",
      "  % self.max_iter, ConvergenceWarning)\n",
      "/Users/luanrubensf/anaconda/lib/python3.6/site-packages/sklearn/svm/base.py:218: ConvergenceWarning: Solver terminated early (max_iter=10000).  Consider pre-processing your data with StandardScaler or MinMaxScaler.\n",
      "  % self.max_iter, ConvergenceWarning)\n",
      "/Users/luanrubensf/anaconda/lib/python3.6/site-packages/sklearn/svm/base.py:218: ConvergenceWarning: Solver terminated early (max_iter=10000).  Consider pre-processing your data with StandardScaler or MinMaxScaler.\n",
      "  % self.max_iter, ConvergenceWarning)\n"
     ]
    },
    {
     "name": "stdout",
     "output_type": "stream",
     "text": [
      "[CV]  C=16.8422631579, gamma=0.01, score=0.49227764956506304, total= 1.4min\n",
      "[CV] C=16.8422631579, gamma=1.0 ......................................\n",
      "[CV]  C=16.8422631579, gamma=0.1, score=0.5763729472011302, total= 1.6min\n",
      "[CV] C=16.8422631579, gamma=1.0 ......................................\n",
      "[CV]  C=16.8422631579, gamma=0.1, score=0.5802796955213312, total= 1.6min\n",
      "[CV] C=16.8422631579, gamma=1.0 ......................................\n",
      "[CV]  C=16.8422631579, gamma=0.1, score=0.591691816083792, total= 1.5min\n",
      "[CV] C=16.8422631579, gamma=10.0 .....................................\n",
      "[CV]  C=16.8422631579, gamma=1.0, score=0.5740773441638708, total= 2.7min\n",
      "[CV] C=16.8422631579, gamma=10.0 .....................................\n",
      "[CV]  C=16.8422631579, gamma=1.0, score=0.5795716055939104, total= 2.6min\n",
      "[CV] C=16.8422631579, gamma=10.0 .....................................\n",
      "[CV]  C=16.8422631579, gamma=1.0, score=0.5948872714361797, total= 2.6min\n",
      "[CV] C=16.8422631579, gamma=100.0 ....................................\n"
     ]
    },
    {
     "name": "stderr",
     "output_type": "stream",
     "text": [
      "/Users/luanrubensf/anaconda/lib/python3.6/site-packages/sklearn/svm/base.py:218: ConvergenceWarning: Solver terminated early (max_iter=10000).  Consider pre-processing your data with StandardScaler or MinMaxScaler.\n",
      "  % self.max_iter, ConvergenceWarning)\n"
     ]
    },
    {
     "name": "stdout",
     "output_type": "stream",
     "text": [
      "[CV]  C=16.8422631579, gamma=10.0, score=0.26787921596327036, total= 3.7min\n",
      "[CV] C=16.8422631579, gamma=100.0 ....................................\n"
     ]
    },
    {
     "name": "stderr",
     "output_type": "stream",
     "text": [
      "/Users/luanrubensf/anaconda/lib/python3.6/site-packages/sklearn/svm/base.py:218: ConvergenceWarning: Solver terminated early (max_iter=10000).  Consider pre-processing your data with StandardScaler or MinMaxScaler.\n",
      "  % self.max_iter, ConvergenceWarning)\n",
      "/Users/luanrubensf/anaconda/lib/python3.6/site-packages/sklearn/svm/base.py:218: ConvergenceWarning: Solver terminated early (max_iter=10000).  Consider pre-processing your data with StandardScaler or MinMaxScaler.\n",
      "  % self.max_iter, ConvergenceWarning)\n",
      "/Users/luanrubensf/anaconda/lib/python3.6/site-packages/sklearn/svm/base.py:218: ConvergenceWarning: Solver terminated early (max_iter=10000).  Consider pre-processing your data with StandardScaler or MinMaxScaler.\n",
      "  % self.max_iter, ConvergenceWarning)\n"
     ]
    },
    {
     "name": "stdout",
     "output_type": "stream",
     "text": [
      "[CV]  C=16.8422631579, gamma=10.0, score=0.2697822623473181, total= 3.3min\n",
      "[CV] C=16.8422631579, gamma=100.0 ....................................\n",
      "[CV]  C=16.8422631579, gamma=10.0, score=0.2707260784661814, total= 3.4min\n",
      "[CV] C=16.8422631579, gamma=1000.0 ...................................\n",
      "[CV]  C=16.8422631579, gamma=100.0, score=0.26399434928483134, total= 3.4min\n",
      "[CV] C=16.8422631579, gamma=1000.0 ...................................\n"
     ]
    },
    {
     "name": "stderr",
     "output_type": "stream",
     "text": [
      "/Users/luanrubensf/anaconda/lib/python3.6/site-packages/sklearn/svm/base.py:218: ConvergenceWarning: Solver terminated early (max_iter=10000).  Consider pre-processing your data with StandardScaler or MinMaxScaler.\n",
      "  % self.max_iter, ConvergenceWarning)\n"
     ]
    },
    {
     "name": "stdout",
     "output_type": "stream",
     "text": [
      "[CV]  C=16.8422631579, gamma=100.0, score=0.26482563285537264, total= 3.4min\n",
      "[CV] C=16.8422631579, gamma=1000.0 ...................................\n"
     ]
    },
    {
     "name": "stderr",
     "output_type": "stream",
     "text": [
      "/Users/luanrubensf/anaconda/lib/python3.6/site-packages/sklearn/svm/base.py:218: ConvergenceWarning: Solver terminated early (max_iter=10000).  Consider pre-processing your data with StandardScaler or MinMaxScaler.\n",
      "  % self.max_iter, ConvergenceWarning)\n",
      "/Users/luanrubensf/anaconda/lib/python3.6/site-packages/sklearn/svm/base.py:218: ConvergenceWarning: Solver terminated early (max_iter=10000).  Consider pre-processing your data with StandardScaler or MinMaxScaler.\n",
      "  % self.max_iter, ConvergenceWarning)\n",
      "/Users/luanrubensf/anaconda/lib/python3.6/site-packages/sklearn/svm/base.py:218: ConvergenceWarning: Solver terminated early (max_iter=10000).  Consider pre-processing your data with StandardScaler or MinMaxScaler.\n",
      "  % self.max_iter, ConvergenceWarning)\n"
     ]
    },
    {
     "name": "stdout",
     "output_type": "stream",
     "text": [
      "[CV]  C=16.8422631579, gamma=1000.0, score=0.26399434928483134, total= 3.1min\n",
      "[CV] C=17.8948421053, gamma=1e-09 ....................................\n",
      "[CV]  C=16.8422631579, gamma=100.0, score=0.2654003195455352, total= 3.3min\n",
      "[CV] C=17.8948421053, gamma=1e-09 ....................................\n",
      "[CV]  C=16.8422631579, gamma=1000.0, score=0.26482563285537264, total= 3.1min\n",
      "[CV] C=17.8948421053, gamma=1e-09 ....................................\n"
     ]
    },
    {
     "name": "stderr",
     "output_type": "stream",
     "text": [
      "/Users/luanrubensf/anaconda/lib/python3.6/site-packages/sklearn/svm/base.py:218: ConvergenceWarning: Solver terminated early (max_iter=10000).  Consider pre-processing your data with StandardScaler or MinMaxScaler.\n",
      "  % self.max_iter, ConvergenceWarning)\n"
     ]
    },
    {
     "name": "stdout",
     "output_type": "stream",
     "text": [
      "[CV]  C=16.8422631579, gamma=1000.0, score=0.2654003195455352, total= 3.2min\n",
      "[CV] C=17.8948421053, gamma=1e-08 ....................................\n",
      "[CV]  C=17.8948421053, gamma=1e-09, score=0.26399434928483134, total=  53.4s\n",
      "[CV] C=17.8948421053, gamma=1e-08 ....................................\n",
      "[CV]  C=17.8948421053, gamma=1e-09, score=0.26464861037351745, total=  53.7s\n",
      "[CV] C=17.8948421053, gamma=1e-08 ....................................\n",
      "[CV]  C=17.8948421053, gamma=1e-09, score=0.26522279424818035, total=  53.3s\n",
      "[CV] C=17.8948421053, gamma=1e-07 ....................................\n",
      "[CV]  C=17.8948421053, gamma=1e-08, score=0.26399434928483134, total=  52.7s\n",
      "[CV] C=17.8948421053, gamma=1e-07 ....................................\n",
      "[CV]  C=17.8948421053, gamma=1e-08, score=0.26464861037351745, total=  52.8s\n",
      "[CV] C=17.8948421053, gamma=1e-07 ....................................\n",
      "[CV]  C=17.8948421053, gamma=1e-08, score=0.26522279424818035, total=  52.9s\n",
      "[CV] C=17.8948421053, gamma=1e-06 ....................................\n",
      "[CV]  C=17.8948421053, gamma=1e-07, score=0.26399434928483134, total=  52.9s\n",
      "[CV] C=17.8948421053, gamma=1e-06 ....................................\n",
      "[CV]  C=17.8948421053, gamma=1e-07, score=0.26464861037351745, total=  52.5s\n",
      "[CV] C=17.8948421053, gamma=1e-06 ....................................\n",
      "[CV]  C=17.8948421053, gamma=1e-07, score=0.26522279424818035, total=  52.3s\n",
      "[CV] C=17.8948421053, gamma=1e-05 ....................................\n",
      "[CV]  C=17.8948421053, gamma=1e-06, score=0.26399434928483134, total=  53.2s\n",
      "[CV] C=17.8948421053, gamma=1e-05 ....................................\n",
      "[CV]  C=17.8948421053, gamma=1e-06, score=0.26464861037351745, total=  52.7s\n",
      "[CV] C=17.8948421053, gamma=1e-05 ....................................\n",
      "[CV]  C=17.8948421053, gamma=1e-06, score=0.26522279424818035, total=  57.5s\n",
      "[CV] C=17.8948421053, gamma=0.0001 ...................................\n",
      "[CV]  C=17.8948421053, gamma=1e-05, score=0.26399434928483134, total=  58.2s\n",
      "[CV] C=17.8948421053, gamma=0.0001 ...................................\n",
      "[CV]  C=17.8948421053, gamma=1e-05, score=0.26464861037351745, total=  57.6s\n",
      "[CV] C=17.8948421053, gamma=0.0001 ...................................\n",
      "[CV]  C=17.8948421053, gamma=1e-05, score=0.26522279424818035, total=  56.2s\n",
      "[CV] C=17.8948421053, gamma=0.001 ....................................\n",
      "[CV]  C=17.8948421053, gamma=0.0001, score=0.26399434928483134, total= 1.1min\n",
      "[CV] C=17.8948421053, gamma=0.001 ....................................\n",
      "[CV]  C=17.8948421053, gamma=0.0001, score=0.26464861037351745, total= 1.1min\n",
      "[CV] C=17.8948421053, gamma=0.001 ....................................\n",
      "[CV]  C=17.8948421053, gamma=0.0001, score=0.26522279424818035, total= 1.1min\n",
      "[CV] C=17.8948421053, gamma=0.01 .....................................\n",
      "[CV]  C=17.8948421053, gamma=0.001, score=0.3976690799929366, total= 1.2min\n",
      "[CV] C=17.8948421053, gamma=0.01 .....................................\n",
      "[CV]  C=17.8948421053, gamma=0.001, score=0.4029031687024252, total= 1.2min\n",
      "[CV] C=17.8948421053, gamma=0.01 .....................................\n",
      "[CV]  C=17.8948421053, gamma=0.01, score=0.48649125904997353, total= 1.1min\n",
      "[CV] C=17.8948421053, gamma=0.1 ......................................\n",
      "[CV]  C=17.8948421053, gamma=0.001, score=0.4070655068347239, total= 1.2min\n",
      "[CV] C=17.8948421053, gamma=0.1 ......................................\n",
      "[CV]  C=17.8948421053, gamma=0.01, score=0.48539564524694634, total= 1.1min\n",
      "[CV] C=17.8948421053, gamma=0.1 ......................................\n"
     ]
    },
    {
     "name": "stderr",
     "output_type": "stream",
     "text": [
      "/Users/luanrubensf/anaconda/lib/python3.6/site-packages/sklearn/svm/base.py:218: ConvergenceWarning: Solver terminated early (max_iter=10000).  Consider pre-processing your data with StandardScaler or MinMaxScaler.\n",
      "  % self.max_iter, ConvergenceWarning)\n",
      "/Users/luanrubensf/anaconda/lib/python3.6/site-packages/sklearn/svm/base.py:218: ConvergenceWarning: Solver terminated early (max_iter=10000).  Consider pre-processing your data with StandardScaler or MinMaxScaler.\n",
      "  % self.max_iter, ConvergenceWarning)\n",
      "/Users/luanrubensf/anaconda/lib/python3.6/site-packages/sklearn/svm/base.py:218: ConvergenceWarning: Solver terminated early (max_iter=10000).  Consider pre-processing your data with StandardScaler or MinMaxScaler.\n",
      "  % self.max_iter, ConvergenceWarning)\n"
     ]
    },
    {
     "name": "stdout",
     "output_type": "stream",
     "text": [
      "[CV]  C=17.8948421053, gamma=0.01, score=0.4983135096751287, total= 1.1min\n",
      "[CV] C=17.8948421053, gamma=1.0 ......................................\n",
      "[CV]  C=17.8948421053, gamma=0.1, score=0.5756666078050503, total= 1.3min\n",
      "[CV] C=17.8948421053, gamma=1.0 ......................................\n",
      "[CV]  C=17.8948421053, gamma=0.1, score=0.5811648079306072, total= 1.2min\n",
      "[CV] C=17.8948421053, gamma=1.0 ......................................\n",
      "[CV]  C=17.8948421053, gamma=0.1, score=0.5911592401917273, total= 1.2min\n",
      "[CV] C=17.8948421053, gamma=10.0 .....................................\n",
      "[CV]  C=17.8948421053, gamma=1.0, score=0.5740773441638708, total= 2.1min\n",
      "[CV] C=17.8948421053, gamma=10.0 .....................................\n",
      "[CV]  C=17.8948421053, gamma=1.0, score=0.5795716055939104, total= 2.1min\n",
      "[CV] C=17.8948421053, gamma=10.0 .....................................\n",
      "[CV]  C=17.8948421053, gamma=1.0, score=0.5948872714361797, total= 2.2min\n",
      "[CV] C=17.8948421053, gamma=100.0 ....................................\n"
     ]
    },
    {
     "name": "stderr",
     "output_type": "stream",
     "text": [
      "/Users/luanrubensf/anaconda/lib/python3.6/site-packages/sklearn/svm/base.py:218: ConvergenceWarning: Solver terminated early (max_iter=10000).  Consider pre-processing your data with StandardScaler or MinMaxScaler.\n",
      "  % self.max_iter, ConvergenceWarning)\n"
     ]
    },
    {
     "name": "stdout",
     "output_type": "stream",
     "text": [
      "[CV]  C=17.8948421053, gamma=10.0, score=0.26787921596327036, total= 3.2min\n",
      "[CV] C=17.8948421053, gamma=100.0 ....................................\n"
     ]
    },
    {
     "name": "stderr",
     "output_type": "stream",
     "text": [
      "/Users/luanrubensf/anaconda/lib/python3.6/site-packages/sklearn/svm/base.py:218: ConvergenceWarning: Solver terminated early (max_iter=10000).  Consider pre-processing your data with StandardScaler or MinMaxScaler.\n",
      "  % self.max_iter, ConvergenceWarning)\n",
      "/Users/luanrubensf/anaconda/lib/python3.6/site-packages/sklearn/svm/base.py:218: ConvergenceWarning: Solver terminated early (max_iter=10000).  Consider pre-processing your data with StandardScaler or MinMaxScaler.\n",
      "  % self.max_iter, ConvergenceWarning)\n",
      "/Users/luanrubensf/anaconda/lib/python3.6/site-packages/sklearn/svm/base.py:218: ConvergenceWarning: Solver terminated early (max_iter=10000).  Consider pre-processing your data with StandardScaler or MinMaxScaler.\n",
      "  % self.max_iter, ConvergenceWarning)\n"
     ]
    },
    {
     "name": "stdout",
     "output_type": "stream",
     "text": [
      "[CV]  C=17.8948421053, gamma=10.0, score=0.2697822623473181, total= 3.2min\n",
      "[CV] C=17.8948421053, gamma=100.0 ....................................\n",
      "[CV]  C=17.8948421053, gamma=10.0, score=0.2707260784661814, total= 3.3min\n",
      "[CV] C=17.8948421053, gamma=1000.0 ...................................\n",
      "[CV]  C=17.8948421053, gamma=100.0, score=0.26399434928483134, total= 3.3min\n",
      "[CV] C=17.8948421053, gamma=1000.0 ...................................\n"
     ]
    },
    {
     "name": "stderr",
     "output_type": "stream",
     "text": [
      "/Users/luanrubensf/anaconda/lib/python3.6/site-packages/sklearn/svm/base.py:218: ConvergenceWarning: Solver terminated early (max_iter=10000).  Consider pre-processing your data with StandardScaler or MinMaxScaler.\n",
      "  % self.max_iter, ConvergenceWarning)\n"
     ]
    },
    {
     "name": "stdout",
     "output_type": "stream",
     "text": [
      "[CV]  C=17.8948421053, gamma=100.0, score=0.26482563285537264, total= 3.3min\n",
      "[CV] C=17.8948421053, gamma=1000.0 ...................................\n"
     ]
    },
    {
     "name": "stderr",
     "output_type": "stream",
     "text": [
      "/Users/luanrubensf/anaconda/lib/python3.6/site-packages/sklearn/svm/base.py:218: ConvergenceWarning: Solver terminated early (max_iter=10000).  Consider pre-processing your data with StandardScaler or MinMaxScaler.\n",
      "  % self.max_iter, ConvergenceWarning)\n",
      "/Users/luanrubensf/anaconda/lib/python3.6/site-packages/sklearn/svm/base.py:218: ConvergenceWarning: Solver terminated early (max_iter=10000).  Consider pre-processing your data with StandardScaler or MinMaxScaler.\n",
      "  % self.max_iter, ConvergenceWarning)\n",
      "/Users/luanrubensf/anaconda/lib/python3.6/site-packages/sklearn/svm/base.py:218: ConvergenceWarning: Solver terminated early (max_iter=10000).  Consider pre-processing your data with StandardScaler or MinMaxScaler.\n",
      "  % self.max_iter, ConvergenceWarning)\n"
     ]
    },
    {
     "name": "stdout",
     "output_type": "stream",
     "text": [
      "[CV]  C=17.8948421053, gamma=1000.0, score=0.26399434928483134, total= 3.1min\n",
      "[CV] C=18.9474210526, gamma=1e-09 ....................................\n",
      "[CV]  C=17.8948421053, gamma=100.0, score=0.2654003195455352, total= 3.3min\n",
      "[CV] C=18.9474210526, gamma=1e-09 ....................................\n",
      "[CV]  C=17.8948421053, gamma=1000.0, score=0.26482563285537264, total= 3.1min\n",
      "[CV] C=18.9474210526, gamma=1e-09 ....................................\n"
     ]
    },
    {
     "name": "stderr",
     "output_type": "stream",
     "text": [
      "/Users/luanrubensf/anaconda/lib/python3.6/site-packages/sklearn/svm/base.py:218: ConvergenceWarning: Solver terminated early (max_iter=10000).  Consider pre-processing your data with StandardScaler or MinMaxScaler.\n",
      "  % self.max_iter, ConvergenceWarning)\n"
     ]
    },
    {
     "name": "stdout",
     "output_type": "stream",
     "text": [
      "[CV]  C=17.8948421053, gamma=1000.0, score=0.2654003195455352, total= 3.1min\n",
      "[CV] C=18.9474210526, gamma=1e-08 ....................................\n",
      "[CV]  C=18.9474210526, gamma=1e-09, score=0.26399434928483134, total=  52.7s\n",
      "[CV] C=18.9474210526, gamma=1e-08 ....................................\n",
      "[CV]  C=18.9474210526, gamma=1e-09, score=0.26522279424818035, total=  52.5s\n",
      "[CV] C=18.9474210526, gamma=1e-08 ....................................\n",
      "[CV]  C=18.9474210526, gamma=1e-09, score=0.26464861037351745, total=  52.9s\n",
      "[CV] C=18.9474210526, gamma=1e-07 ....................................\n",
      "[CV]  C=18.9474210526, gamma=1e-08, score=0.26399434928483134, total=  51.8s\n",
      "[CV] C=18.9474210526, gamma=1e-07 ....................................\n",
      "[CV]  C=18.9474210526, gamma=1e-08, score=0.26464861037351745, total=  52.2s\n",
      "[CV] C=18.9474210526, gamma=1e-07 ....................................\n",
      "[CV]  C=18.9474210526, gamma=1e-08, score=0.26522279424818035, total=  51.9s\n",
      "[CV] C=18.9474210526, gamma=1e-06 ....................................\n",
      "[CV]  C=18.9474210526, gamma=1e-07, score=0.26399434928483134, total=  52.1s\n",
      "[CV] C=18.9474210526, gamma=1e-06 ....................................\n",
      "[CV]  C=18.9474210526, gamma=1e-07, score=0.26464861037351745, total=  52.1s\n",
      "[CV] C=18.9474210526, gamma=1e-06 ....................................\n",
      "[CV]  C=18.9474210526, gamma=1e-07, score=0.26522279424818035, total=  52.2s\n",
      "[CV] C=18.9474210526, gamma=1e-05 ....................................\n",
      "[CV]  C=18.9474210526, gamma=1e-06, score=0.26399434928483134, total=  52.9s\n",
      "[CV] C=18.9474210526, gamma=1e-05 ....................................\n",
      "[CV]  C=18.9474210526, gamma=1e-06, score=0.26464861037351745, total=  52.9s\n",
      "[CV] C=18.9474210526, gamma=1e-05 ....................................\n",
      "[CV]  C=18.9474210526, gamma=1e-06, score=0.26522279424818035, total=  52.7s\n",
      "[CV] C=18.9474210526, gamma=0.0001 ...................................\n",
      "[CV]  C=18.9474210526, gamma=1e-05, score=0.26399434928483134, total=  53.7s\n",
      "[CV] C=18.9474210526, gamma=0.0001 ...................................\n",
      "[CV]  C=18.9474210526, gamma=1e-05, score=0.26464861037351745, total=  53.6s\n",
      "[CV] C=18.9474210526, gamma=0.0001 ...................................\n",
      "[CV]  C=18.9474210526, gamma=1e-05, score=0.26522279424818035, total=  53.7s\n",
      "[CV] C=18.9474210526, gamma=0.001 ....................................\n",
      "[CV]  C=18.9474210526, gamma=0.0001, score=0.26399434928483134, total= 1.1min\n",
      "[CV] C=18.9474210526, gamma=0.001 ....................................\n",
      "[CV]  C=18.9474210526, gamma=0.0001, score=0.26482563285537264, total= 1.1min\n",
      "[CV] C=18.9474210526, gamma=0.001 ....................................\n",
      "[CV]  C=18.9474210526, gamma=0.0001, score=0.26522279424818035, total= 1.1min\n",
      "[CV] C=18.9474210526, gamma=0.01 .....................................\n",
      "[CV]  C=18.9474210526, gamma=0.001, score=0.39872858908705633, total= 1.1min\n",
      "[CV] C=18.9474210526, gamma=0.01 .....................................\n",
      "[CV]  C=18.9474210526, gamma=0.001, score=0.4032572136661356, total= 1.1min\n",
      "[CV] C=18.9474210526, gamma=0.01 .....................................\n",
      "[CV]  C=18.9474210526, gamma=0.001, score=0.40671045624001423, total= 1.1min\n",
      "[CV] C=18.9474210526, gamma=0.1 ......................................\n",
      "[CV]  C=18.9474210526, gamma=0.01, score=0.48931661663429277, total= 1.1min\n",
      "[CV] C=18.9474210526, gamma=0.1 ......................................\n",
      "[CV]  C=18.9474210526, gamma=0.01, score=0.4882280049566295, total= 1.1min\n",
      "[CV] C=18.9474210526, gamma=0.1 ......................................\n"
     ]
    },
    {
     "name": "stderr",
     "output_type": "stream",
     "text": [
      "/Users/luanrubensf/anaconda/lib/python3.6/site-packages/sklearn/svm/base.py:218: ConvergenceWarning: Solver terminated early (max_iter=10000).  Consider pre-processing your data with StandardScaler or MinMaxScaler.\n",
      "  % self.max_iter, ConvergenceWarning)\n",
      "/Users/luanrubensf/anaconda/lib/python3.6/site-packages/sklearn/svm/base.py:218: ConvergenceWarning: Solver terminated early (max_iter=10000).  Consider pre-processing your data with StandardScaler or MinMaxScaler.\n",
      "  % self.max_iter, ConvergenceWarning)\n",
      "/Users/luanrubensf/anaconda/lib/python3.6/site-packages/sklearn/svm/base.py:218: ConvergenceWarning: Solver terminated early (max_iter=10000).  Consider pre-processing your data with StandardScaler or MinMaxScaler.\n",
      "  % self.max_iter, ConvergenceWarning)\n"
     ]
    },
    {
     "name": "stdout",
     "output_type": "stream",
     "text": [
      "[CV]  C=18.9474210526, gamma=0.01, score=0.5018640156222262, total= 1.1min\n",
      "[CV] C=18.9474210526, gamma=1.0 ......................................\n",
      "[CV]  C=18.9474210526, gamma=0.1, score=0.5808107629668968, total= 1.2min\n",
      "[CV] C=18.9474210526, gamma=1.0 ......................................\n",
      "[CV]  C=18.9474210526, gamma=0.1, score=0.5751368532579905, total= 1.2min\n",
      "[CV] C=18.9474210526, gamma=1.0 ......................................\n",
      "[CV]  C=18.9474210526, gamma=0.1, score=0.591691816083792, total= 1.2min\n",
      "[CV] C=18.9474210526, gamma=10.0 .....................................\n",
      "[CV]  C=18.9474210526, gamma=1.0, score=0.5740773441638708, total= 2.1min\n",
      "[CV] C=18.9474210526, gamma=10.0 .....................................\n",
      "[CV]  C=18.9474210526, gamma=1.0, score=0.5795716055939104, total= 2.1min\n",
      "[CV] C=18.9474210526, gamma=10.0 .....................................\n",
      "[CV]  C=18.9474210526, gamma=1.0, score=0.5948872714361797, total= 2.1min\n",
      "[CV] C=18.9474210526, gamma=100.0 ....................................\n"
     ]
    },
    {
     "name": "stderr",
     "output_type": "stream",
     "text": [
      "/Users/luanrubensf/anaconda/lib/python3.6/site-packages/sklearn/svm/base.py:218: ConvergenceWarning: Solver terminated early (max_iter=10000).  Consider pre-processing your data with StandardScaler or MinMaxScaler.\n",
      "  % self.max_iter, ConvergenceWarning)\n"
     ]
    },
    {
     "name": "stdout",
     "output_type": "stream",
     "text": [
      "[CV]  C=18.9474210526, gamma=10.0, score=0.26787921596327036, total= 3.2min\n",
      "[CV] C=18.9474210526, gamma=100.0 ....................................\n"
     ]
    },
    {
     "name": "stderr",
     "output_type": "stream",
     "text": [
      "/Users/luanrubensf/anaconda/lib/python3.6/site-packages/sklearn/svm/base.py:218: ConvergenceWarning: Solver terminated early (max_iter=10000).  Consider pre-processing your data with StandardScaler or MinMaxScaler.\n",
      "  % self.max_iter, ConvergenceWarning)\n",
      "/Users/luanrubensf/anaconda/lib/python3.6/site-packages/sklearn/svm/base.py:218: ConvergenceWarning: Solver terminated early (max_iter=10000).  Consider pre-processing your data with StandardScaler or MinMaxScaler.\n",
      "  % self.max_iter, ConvergenceWarning)\n",
      "/Users/luanrubensf/anaconda/lib/python3.6/site-packages/sklearn/svm/base.py:218: ConvergenceWarning: Solver terminated early (max_iter=10000).  Consider pre-processing your data with StandardScaler or MinMaxScaler.\n",
      "  % self.max_iter, ConvergenceWarning)\n"
     ]
    },
    {
     "name": "stdout",
     "output_type": "stream",
     "text": [
      "[CV]  C=18.9474210526, gamma=10.0, score=0.2697822623473181, total= 3.2min\n",
      "[CV] C=18.9474210526, gamma=100.0 ....................................\n",
      "[CV]  C=18.9474210526, gamma=10.0, score=0.2707260784661814, total= 3.2min\n",
      "[CV] C=18.9474210526, gamma=1000.0 ...................................\n",
      "[CV]  C=18.9474210526, gamma=100.0, score=0.26399434928483134, total= 3.3min\n",
      "[CV] C=18.9474210526, gamma=1000.0 ...................................\n"
     ]
    },
    {
     "name": "stderr",
     "output_type": "stream",
     "text": [
      "/Users/luanrubensf/anaconda/lib/python3.6/site-packages/sklearn/svm/base.py:218: ConvergenceWarning: Solver terminated early (max_iter=10000).  Consider pre-processing your data with StandardScaler or MinMaxScaler.\n",
      "  % self.max_iter, ConvergenceWarning)\n"
     ]
    },
    {
     "name": "stdout",
     "output_type": "stream",
     "text": [
      "[CV]  C=18.9474210526, gamma=100.0, score=0.26482563285537264, total= 3.3min\n",
      "[CV] C=18.9474210526, gamma=1000.0 ...................................\n"
     ]
    },
    {
     "name": "stderr",
     "output_type": "stream",
     "text": [
      "/Users/luanrubensf/anaconda/lib/python3.6/site-packages/sklearn/svm/base.py:218: ConvergenceWarning: Solver terminated early (max_iter=10000).  Consider pre-processing your data with StandardScaler or MinMaxScaler.\n",
      "  % self.max_iter, ConvergenceWarning)\n",
      "/Users/luanrubensf/anaconda/lib/python3.6/site-packages/sklearn/svm/base.py:218: ConvergenceWarning: Solver terminated early (max_iter=10000).  Consider pre-processing your data with StandardScaler or MinMaxScaler.\n",
      "  % self.max_iter, ConvergenceWarning)\n",
      "/Users/luanrubensf/anaconda/lib/python3.6/site-packages/sklearn/svm/base.py:218: ConvergenceWarning: Solver terminated early (max_iter=10000).  Consider pre-processing your data with StandardScaler or MinMaxScaler.\n",
      "  % self.max_iter, ConvergenceWarning)\n"
     ]
    },
    {
     "name": "stdout",
     "output_type": "stream",
     "text": [
      "[CV]  C=18.9474210526, gamma=100.0, score=0.2654003195455352, total= 3.3min\n",
      "[CV] C=20.0, gamma=1e-09 .............................................\n",
      "[CV]  C=18.9474210526, gamma=1000.0, score=0.26399434928483134, total= 3.1min\n",
      "[CV] C=20.0, gamma=1e-09 .............................................\n",
      "[CV]  C=18.9474210526, gamma=1000.0, score=0.26482563285537264, total= 3.1min\n",
      "[CV] C=20.0, gamma=1e-09 .............................................\n"
     ]
    },
    {
     "name": "stderr",
     "output_type": "stream",
     "text": [
      "/Users/luanrubensf/anaconda/lib/python3.6/site-packages/sklearn/svm/base.py:218: ConvergenceWarning: Solver terminated early (max_iter=10000).  Consider pre-processing your data with StandardScaler or MinMaxScaler.\n",
      "  % self.max_iter, ConvergenceWarning)\n"
     ]
    },
    {
     "name": "stdout",
     "output_type": "stream",
     "text": [
      "[CV]  C=18.9474210526, gamma=1000.0, score=0.2654003195455352, total= 3.1min\n",
      "[CV] C=20.0, gamma=1e-08 .............................................\n",
      "[CV] ... C=20.0, gamma=1e-09, score=0.26399434928483134, total=  52.3s\n",
      "[CV] C=20.0, gamma=1e-08 .............................................\n",
      "[CV] ... C=20.0, gamma=1e-09, score=0.26464861037351745, total=  52.0s\n",
      "[CV] C=20.0, gamma=1e-08 .............................................\n",
      "[CV] ... C=20.0, gamma=1e-09, score=0.26522279424818035, total=  51.9s\n",
      "[CV] C=20.0, gamma=1e-07 .............................................\n",
      "[CV] ... C=20.0, gamma=1e-08, score=0.26399434928483134, total=  52.5s\n",
      "[CV] C=20.0, gamma=1e-07 .............................................\n",
      "[CV] ... C=20.0, gamma=1e-08, score=0.26464861037351745, total=  52.5s\n",
      "[CV] C=20.0, gamma=1e-07 .............................................\n",
      "[CV] ... C=20.0, gamma=1e-08, score=0.26522279424818035, total=  52.1s\n",
      "[CV] C=20.0, gamma=1e-06 .............................................\n",
      "[CV] ... C=20.0, gamma=1e-07, score=0.26399434928483134, total=  52.1s\n",
      "[CV] C=20.0, gamma=1e-06 .............................................\n",
      "[CV] ... C=20.0, gamma=1e-07, score=0.26522279424818035, total=  52.6s\n",
      "[CV] C=20.0, gamma=1e-06 .............................................\n",
      "[CV] ... C=20.0, gamma=1e-07, score=0.26464861037351745, total=  52.9s\n",
      "[CV] C=20.0, gamma=1e-05 .............................................\n",
      "[CV] ... C=20.0, gamma=1e-06, score=0.26399434928483134, total=  53.0s\n",
      "[CV] C=20.0, gamma=1e-05 .............................................\n",
      "[CV] ... C=20.0, gamma=1e-06, score=0.26464861037351745, total=  53.0s\n",
      "[CV] C=20.0, gamma=1e-05 .............................................\n",
      "[CV] ... C=20.0, gamma=1e-06, score=0.26522279424818035, total=  53.4s\n",
      "[CV] C=20.0, gamma=0.0001 ............................................\n",
      "[CV] ... C=20.0, gamma=1e-05, score=0.26399434928483134, total=  54.3s\n",
      "[CV] C=20.0, gamma=0.0001 ............................................\n",
      "[CV] ... C=20.0, gamma=1e-05, score=0.26464861037351745, total=  54.0s\n",
      "[CV] C=20.0, gamma=0.0001 ............................................\n",
      "[CV] ... C=20.0, gamma=1e-05, score=0.26522279424818035, total=  53.7s\n",
      "[CV] C=20.0, gamma=0.001 .............................................\n",
      "[CV] .. C=20.0, gamma=0.0001, score=0.26399434928483134, total= 1.1min\n",
      "[CV] .. C=20.0, gamma=0.0001, score=0.26482563285537264, total= 1.1min\n",
      "[CV] C=20.0, gamma=0.001 .............................................\n",
      "[CV] C=20.0, gamma=0.001 .............................................\n",
      "[CV] .. C=20.0, gamma=0.0001, score=0.26522279424818035, total= 1.1min\n",
      "[CV] C=20.0, gamma=0.01 ..............................................\n",
      "[CV] .... C=20.0, gamma=0.001, score=0.3992583436341162, total= 1.1min\n",
      "[CV] C=20.0, gamma=0.01 ..............................................\n",
      "[CV] ..... C=20.0, gamma=0.001, score=0.403611258629846, total= 1.1min\n",
      "[CV] C=20.0, gamma=0.01 ..............................................\n",
      "[CV] .... C=20.0, gamma=0.001, score=0.4077756080241434, total= 1.1min\n",
      "[CV] C=20.0, gamma=0.1 ...............................................\n",
      "[CV] ..... C=20.0, gamma=0.01, score=0.4914356348225322, total= 1.1min\n",
      "[CV] C=20.0, gamma=0.1 ...............................................\n",
      "[CV] ..... C=20.0, gamma=0.01, score=0.4921224995574438, total= 1.1min\n",
      "[CV] C=20.0, gamma=0.1 ...............................................\n"
     ]
    },
    {
     "name": "stderr",
     "output_type": "stream",
     "text": [
      "/Users/luanrubensf/anaconda/lib/python3.6/site-packages/sklearn/svm/base.py:218: ConvergenceWarning: Solver terminated early (max_iter=10000).  Consider pre-processing your data with StandardScaler or MinMaxScaler.\n",
      "  % self.max_iter, ConvergenceWarning)\n",
      "/Users/luanrubensf/anaconda/lib/python3.6/site-packages/sklearn/svm/base.py:218: ConvergenceWarning: Solver terminated early (max_iter=10000).  Consider pre-processing your data with StandardScaler or MinMaxScaler.\n",
      "  % self.max_iter, ConvergenceWarning)\n",
      "/Users/luanrubensf/anaconda/lib/python3.6/site-packages/sklearn/svm/base.py:218: ConvergenceWarning: Solver terminated early (max_iter=10000).  Consider pre-processing your data with StandardScaler or MinMaxScaler.\n",
      "  % self.max_iter, ConvergenceWarning)\n"
     ]
    },
    {
     "name": "stdout",
     "output_type": "stream",
     "text": [
      "[CV] ..... C=20.0, gamma=0.01, score=0.5054145215693236, total= 1.1min\n",
      "[CV] C=20.0, gamma=1.0 ...............................................\n",
      "[CV] ...... C=20.0, gamma=0.1, score=0.5761963623521101, total= 1.2min\n",
      "[CV] C=20.0, gamma=1.0 ...............................................\n",
      "[CV] ...... C=20.0, gamma=0.1, score=0.5799256505576208, total= 1.2min\n",
      "[CV] C=20.0, gamma=1.0 ...............................................\n",
      "[CV] ....... C=20.0, gamma=0.1, score=0.591514290786437, total= 1.2min\n",
      "[CV] C=20.0, gamma=10.0 ..............................................\n",
      "[CV] ...... C=20.0, gamma=1.0, score=0.5740773441638708, total= 2.1min\n",
      "[CV] C=20.0, gamma=10.0 ..............................................\n",
      "[CV] ...... C=20.0, gamma=1.0, score=0.5797486280757657, total= 2.1min\n",
      "[CV] C=20.0, gamma=10.0 ..............................................\n",
      "[CV] ...... C=20.0, gamma=1.0, score=0.5948872714361797, total= 2.2min\n",
      "[CV] C=20.0, gamma=100.0 .............................................\n"
     ]
    },
    {
     "name": "stderr",
     "output_type": "stream",
     "text": [
      "/Users/luanrubensf/anaconda/lib/python3.6/site-packages/sklearn/svm/base.py:218: ConvergenceWarning: Solver terminated early (max_iter=10000).  Consider pre-processing your data with StandardScaler or MinMaxScaler.\n",
      "  % self.max_iter, ConvergenceWarning)\n"
     ]
    },
    {
     "name": "stdout",
     "output_type": "stream",
     "text": [
      "[CV] .... C=20.0, gamma=10.0, score=0.26787921596327036, total= 3.2min\n",
      "[CV] C=20.0, gamma=100.0 .............................................\n"
     ]
    },
    {
     "name": "stderr",
     "output_type": "stream",
     "text": [
      "/Users/luanrubensf/anaconda/lib/python3.6/site-packages/sklearn/svm/base.py:218: ConvergenceWarning: Solver terminated early (max_iter=10000).  Consider pre-processing your data with StandardScaler or MinMaxScaler.\n",
      "  % self.max_iter, ConvergenceWarning)\n",
      "/Users/luanrubensf/anaconda/lib/python3.6/site-packages/sklearn/svm/base.py:218: ConvergenceWarning: Solver terminated early (max_iter=10000).  Consider pre-processing your data with StandardScaler or MinMaxScaler.\n",
      "  % self.max_iter, ConvergenceWarning)\n",
      "/Users/luanrubensf/anaconda/lib/python3.6/site-packages/sklearn/svm/base.py:218: ConvergenceWarning: Solver terminated early (max_iter=10000).  Consider pre-processing your data with StandardScaler or MinMaxScaler.\n",
      "  % self.max_iter, ConvergenceWarning)\n"
     ]
    },
    {
     "name": "stdout",
     "output_type": "stream",
     "text": [
      "[CV] ..... C=20.0, gamma=10.0, score=0.2697822623473181, total= 3.2min\n",
      "[CV] C=20.0, gamma=100.0 .............................................\n",
      "[CV] ..... C=20.0, gamma=10.0, score=0.2707260784661814, total= 3.2min\n",
      "[CV] C=20.0, gamma=1000.0 ............................................\n",
      "[CV] ... C=20.0, gamma=100.0, score=0.26399434928483134, total= 3.3min\n",
      "[CV] C=20.0, gamma=1000.0 ............................................\n"
     ]
    },
    {
     "name": "stderr",
     "output_type": "stream",
     "text": [
      "/Users/luanrubensf/anaconda/lib/python3.6/site-packages/sklearn/svm/base.py:218: ConvergenceWarning: Solver terminated early (max_iter=10000).  Consider pre-processing your data with StandardScaler or MinMaxScaler.\n",
      "  % self.max_iter, ConvergenceWarning)\n"
     ]
    },
    {
     "name": "stdout",
     "output_type": "stream",
     "text": [
      "[CV] ... C=20.0, gamma=100.0, score=0.26482563285537264, total= 3.3min\n",
      "[CV] C=20.0, gamma=1000.0 ............................................\n"
     ]
    },
    {
     "name": "stderr",
     "output_type": "stream",
     "text": [
      "/Users/luanrubensf/anaconda/lib/python3.6/site-packages/sklearn/svm/base.py:218: ConvergenceWarning: Solver terminated early (max_iter=10000).  Consider pre-processing your data with StandardScaler or MinMaxScaler.\n",
      "  % self.max_iter, ConvergenceWarning)\n",
      "/Users/luanrubensf/anaconda/lib/python3.6/site-packages/sklearn/svm/base.py:218: ConvergenceWarning: Solver terminated early (max_iter=10000).  Consider pre-processing your data with StandardScaler or MinMaxScaler.\n",
      "  % self.max_iter, ConvergenceWarning)\n",
      "/Users/luanrubensf/anaconda/lib/python3.6/site-packages/sklearn/svm/base.py:218: ConvergenceWarning: Solver terminated early (max_iter=10000).  Consider pre-processing your data with StandardScaler or MinMaxScaler.\n",
      "  % self.max_iter, ConvergenceWarning)\n"
     ]
    },
    {
     "name": "stdout",
     "output_type": "stream",
     "text": [
      "[CV] .. C=20.0, gamma=1000.0, score=0.26399434928483134, total= 3.1min\n",
      "[CV] .... C=20.0, gamma=100.0, score=0.2654003195455352, total= 3.3min\n",
      "[CV] .. C=20.0, gamma=1000.0, score=0.26482563285537264, total= 3.1min\n"
     ]
    },
    {
     "name": "stderr",
     "output_type": "stream",
     "text": [
      "/Users/luanrubensf/anaconda/lib/python3.6/site-packages/sklearn/svm/base.py:218: ConvergenceWarning: Solver terminated early (max_iter=10000).  Consider pre-processing your data with StandardScaler or MinMaxScaler.\n",
      "  % self.max_iter, ConvergenceWarning)\n"
     ]
    },
    {
     "name": "stdout",
     "output_type": "stream",
     "text": [
      "[CV] ... C=20.0, gamma=1000.0, score=0.2654003195455352, total= 2.9min\n"
     ]
    },
    {
     "name": "stderr",
     "output_type": "stream",
     "text": [
      "[Parallel(n_jobs=4)]: Done 780 out of 780 | elapsed: 450.4min finished\n",
      "/Users/luanrubensf/anaconda/lib/python3.6/site-packages/sklearn/svm/base.py:218: ConvergenceWarning: Solver terminated early (max_iter=10000).  Consider pre-processing your data with StandardScaler or MinMaxScaler.\n",
      "  % self.max_iter, ConvergenceWarning)\n"
     ]
    },
    {
     "data": {
      "text/plain": [
       "GridSearchCV(cv=None, error_score='raise',\n",
       "       estimator=SVC(C=1.0, cache_size=900, class_weight=None, coef0=0.0,\n",
       "  decision_function_shape='ovr', degree=3, gamma='auto', kernel='rbf',\n",
       "  max_iter=10000, probability=False, random_state=None, shrinking=True,\n",
       "  tol=0.001, verbose=False),\n",
       "       fit_params=None, iid=True, n_jobs=4,\n",
       "       param_grid={'C': array([  1.00000e-03,   1.05358e+00,   2.10616e+00,   3.15874e+00,\n",
       "         4.21132e+00,   5.26389e+00,   6.31647e+00,   7.36905e+00,\n",
       "         8.42163e+00,   9.47421e+00,   1.05268e+01,   1.15794e+01,\n",
       "         1.26319e+01,   1.36845e+01,   1.47371e+01,   1.57897e+01,\n",
       "         1.6842...0000e-02,\n",
       "         1.00000e-01,   1.00000e+00,   1.00000e+01,   1.00000e+02,\n",
       "         1.00000e+03])},\n",
       "       pre_dispatch='2*n_jobs', refit=True, return_train_score=True,\n",
       "       scoring=None, verbose=3)"
      ]
     },
     "execution_count": 13,
     "metadata": {},
     "output_type": "execute_result"
    }
   ],
   "source": [
    "# May take awhile!\n",
    "grid.fit(url_train, label_train)"
   ]
  },
  {
   "cell_type": "code",
   "execution_count": 14,
   "metadata": {
    "collapsed": false
   },
   "outputs": [
    {
     "data": {
      "text/plain": [
       "{'C': 14.737105263157895, 'gamma': 0.10000000000000001}"
      ]
     },
     "execution_count": 14,
     "metadata": {},
     "output_type": "execute_result"
    }
   ],
   "source": [
    "grid.best_params_"
   ]
  },
  {
   "cell_type": "code",
   "execution_count": 15,
   "metadata": {
    "collapsed": false
   },
   "outputs": [
    {
     "data": {
      "text/plain": [
       "SVC(C=14.737105263157895, cache_size=900, class_weight=None, coef0=0.0,\n",
       "  decision_function_shape='ovr', degree=3, gamma=0.10000000000000001,\n",
       "  kernel='rbf', max_iter=10000, probability=False, random_state=None,\n",
       "  shrinking=True, tol=0.001, verbose=False)"
      ]
     },
     "execution_count": 15,
     "metadata": {},
     "output_type": "execute_result"
    }
   ],
   "source": [
    "grid.best_estimator_"
   ]
  },
  {
   "cell_type": "code",
   "execution_count": 16,
   "metadata": {
    "collapsed": false
   },
   "outputs": [],
   "source": [
    "grid_predictions = grid.predict(url_test)"
   ]
  },
  {
   "cell_type": "code",
   "execution_count": 17,
   "metadata": {
    "collapsed": false
   },
   "outputs": [
    {
     "name": "stdout",
     "output_type": "stream",
     "text": [
      "                                 precision    recall  f1-score   support\n",
      "\n",
      "                          Adult       0.20      0.04      0.07        23\n",
      "                    Advertising       0.56      0.60      0.58       289\n",
      "               Arts and Culture       0.44      0.21      0.29        52\n",
      "                       Business       0.30      0.44      0.36       653\n",
      "                Content Servers       0.83      0.73      0.78       374\n",
      "                 Domain Parking       0.50      0.14      0.22        14\n",
      "                      Education       0.65      0.50      0.56       224\n",
      "                  Entertainment       0.43      0.28      0.33       127\n",
      "       File Sharing and Storage       0.93      0.81      0.87       147\n",
      "            Finance and Banking       0.80      0.35      0.48        69\n",
      "Freeware and Software Downloads       0.63      0.35      0.45        63\n",
      "                          Games       0.79      0.66      0.72       183\n",
      "            Health and Wellness       0.59      0.38      0.47        52\n",
      "         Information Technology       0.57      0.81      0.67      1944\n",
      "          Internet Radio and TV       0.60      0.47      0.53        32\n",
      "                     Job Search       0.86      0.33      0.48        18\n",
      "           Malicious or Illegal       0.36      0.07      0.11        74\n",
      "            Meaningless Content       0.70      0.30      0.42       232\n",
      "                 News and Media       0.55      0.42      0.47       191\n",
      "  Newsgroups and Message Boards       0.43      0.15      0.22        20\n",
      "                  Organizations       0.74      0.67      0.70        88\n",
      "              Personal Vehicles       0.63      0.40      0.49        47\n",
      "    Personal Websites and Blogs       0.73      0.71      0.72       177\n",
      "                    Real Estate       0.67      0.32      0.43        19\n",
      "                      Reference       0.56      0.28      0.38        67\n",
      "          Restaurant and Dining       0.57      0.44      0.50         9\n",
      "     Search Engines and Portals       0.79      0.76      0.78       802\n",
      "                       Security       0.59      0.56      0.57        18\n",
      "                       Shopping       0.60      0.45      0.52       271\n",
      "              Social Networking       0.95      0.84      0.89       173\n",
      "         Society and Lifestyles       0.26      0.08      0.13        59\n",
      "                         Sports       0.82      0.45      0.58        51\n",
      "   Streaming Media and Download       0.91      0.85      0.88       314\n",
      "                         Travel       0.62      0.41      0.49        56\n",
      "                        Unrated       0.12      0.02      0.03       103\n",
      "                    Web Hosting       0.21      0.08      0.11       154\n",
      "              Web communication       0.79      0.59      0.67        51\n",
      "         Web-based Applications       0.90      0.39      0.55        23\n",
      "\n",
      "                    avg / total       0.62      0.61      0.60      7263\n",
      "\n"
     ]
    }
   ],
   "source": [
    "print(classification_report(label_test,grid_predictions))"
   ]
  },
  {
   "cell_type": "code",
   "execution_count": null,
   "metadata": {
    "collapsed": true
   },
   "outputs": [],
   "source": []
  }
 ],
 "metadata": {
  "kernelspec": {
   "display_name": "Python 3",
   "language": "python",
   "name": "python3"
  },
  "language_info": {
   "codemirror_mode": {
    "name": "ipython",
    "version": 3
   },
   "file_extension": ".py",
   "mimetype": "text/x-python",
   "name": "python",
   "nbconvert_exporter": "python",
   "pygments_lexer": "ipython3",
   "version": "3.6.0"
  }
 },
 "nbformat": 4,
 "nbformat_minor": 2
}

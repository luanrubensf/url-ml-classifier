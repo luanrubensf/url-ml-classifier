{
 "cells": [
  {
   "cell_type": "markdown",
   "metadata": {},
   "source": [
    "### SVM\n",
    "\n",
    "Implemantação do classificador utilizando SVM."
   ]
  },
  {
   "cell_type": "code",
   "execution_count": 1,
   "metadata": {
    "collapsed": false
   },
   "outputs": [],
   "source": [
    "import nltk\n",
    "import itertools\n",
    "\n",
    "import pandas as pd\n",
    "import matplotlib.pyplot as plt\n",
    "import numpy as np\n",
    "\n",
    "from sklearn.feature_extraction.text import CountVectorizer\n",
    "from string import ascii_lowercase\n",
    "\n",
    "from sklearn.feature_extraction.text import TfidfTransformer\n",
    "\n",
    "from sklearn.svm import LinearSVC\n",
    "from sklearn.svm import SVC\n",
    "\n",
    "from sklearn.model_selection import train_test_split\n",
    "\n",
    "from sklearn.pipeline import Pipeline\n",
    "\n",
    "from sklearn.metrics import classification_report\n",
    "\n",
    "from pymongo import MongoClient\n",
    "\n",
    "%matplotlib inline"
   ]
  },
  {
   "cell_type": "code",
   "execution_count": 2,
   "metadata": {
    "collapsed": false
   },
   "outputs": [
    {
     "name": "stdout",
     "output_type": "stream",
     "text": [
      "24208\n"
     ]
    },
    {
     "data": {
      "text/html": [
       "<div>\n",
       "<table border=\"1\" class=\"dataframe\">\n",
       "  <thead>\n",
       "    <tr style=\"text-align: right;\">\n",
       "      <th></th>\n",
       "      <th>_id</th>\n",
       "      <th>catdesc</th>\n",
       "      <th>category</th>\n",
       "      <th>hostname</th>\n",
       "      <th>normalized_hostname</th>\n",
       "      <th>normalized_hostname_url</th>\n",
       "      <th>normalized_url</th>\n",
       "      <th>service</th>\n",
       "      <th>url</th>\n",
       "    </tr>\n",
       "  </thead>\n",
       "  <tbody>\n",
       "    <tr>\n",
       "      <th>0</th>\n",
       "      <td>59a1e31988b032071ef8c495</td>\n",
       "      <td>Information Technology</td>\n",
       "      <td>Information Technology</td>\n",
       "      <td>sb.scorecardresearch.com</td>\n",
       "      <td>scorecardresearch</td>\n",
       "      <td>scorecardresearch</td>\n",
       "      <td></td>\n",
       "      <td>HTTPS</td>\n",
       "      <td>/</td>\n",
       "    </tr>\n",
       "    <tr>\n",
       "      <th>1</th>\n",
       "      <td>59a1e31a88b032071ef8c496</td>\n",
       "      <td>Information Technology</td>\n",
       "      <td>Information Technology</td>\n",
       "      <td>test.com</td>\n",
       "      <td>test</td>\n",
       "      <td>testpartneruidUPcbedebee</td>\n",
       "      <td>partneruidUPcbedebee</td>\n",
       "      <td>HTTP</td>\n",
       "      <td>/?partner_uid=UP47c5b905-0e1d-11e7-b092-00163e...</td>\n",
       "    </tr>\n",
       "    <tr>\n",
       "      <th>2</th>\n",
       "      <td>59a1e31a88b032071ef8c497</td>\n",
       "      <td>Information Technology</td>\n",
       "      <td>Information Technology</td>\n",
       "      <td>nexus-websocket-b.intercom.io</td>\n",
       "      <td>nexuswebsocketbintercom</td>\n",
       "      <td>nexuswebsocketbintercom</td>\n",
       "      <td></td>\n",
       "      <td>HTTPS</td>\n",
       "      <td>/</td>\n",
       "    </tr>\n",
       "    <tr>\n",
       "      <th>3</th>\n",
       "      <td>59a1e31a88b032071ef8c498</td>\n",
       "      <td>Malicious Websites</td>\n",
       "      <td>Malicious or Illegal</td>\n",
       "      <td>aorta.clickagy.com</td>\n",
       "      <td>aortaclickagy</td>\n",
       "      <td>aortaclickagypixelgifadvertiseridgtqxdqpglista...</td>\n",
       "      <td>pixelgifadvertiseridgtqxdqpglistaedjpnobncchcm...</td>\n",
       "      <td>HTTP</td>\n",
       "      <td>/pixel.gif?advertiser_id=1gt8qx97dqpg&amp;list=11a...</td>\n",
       "    </tr>\n",
       "    <tr>\n",
       "      <th>4</th>\n",
       "      <td>59a1e31a88b032071ef8c499</td>\n",
       "      <td>Information Technology</td>\n",
       "      <td>Information Technology</td>\n",
       "      <td>usersync.videoamp.com</td>\n",
       "      <td>usersyncvideoamp</td>\n",
       "      <td>usersyncvideoampusersyncpartneridpartneruserid...</td>\n",
       "      <td>usersyncpartneridpartneruseridredirecthttpsync...</td>\n",
       "      <td>HTTP</td>\n",
       "      <td>/usersync?partner_id=5797361&amp;partner_user_id=4...</td>\n",
       "    </tr>\n",
       "  </tbody>\n",
       "</table>\n",
       "</div>"
      ],
      "text/plain": [
       "                        _id                 catdesc                category  \\\n",
       "0  59a1e31988b032071ef8c495  Information Technology  Information Technology   \n",
       "1  59a1e31a88b032071ef8c496  Information Technology  Information Technology   \n",
       "2  59a1e31a88b032071ef8c497  Information Technology  Information Technology   \n",
       "3  59a1e31a88b032071ef8c498      Malicious Websites    Malicious or Illegal   \n",
       "4  59a1e31a88b032071ef8c499  Information Technology  Information Technology   \n",
       "\n",
       "                        hostname      normalized_hostname  \\\n",
       "0       sb.scorecardresearch.com        scorecardresearch   \n",
       "1                       test.com                     test   \n",
       "2  nexus-websocket-b.intercom.io  nexuswebsocketbintercom   \n",
       "3             aorta.clickagy.com            aortaclickagy   \n",
       "4          usersync.videoamp.com         usersyncvideoamp   \n",
       "\n",
       "                             normalized_hostname_url  \\\n",
       "0                                  scorecardresearch   \n",
       "1                           testpartneruidUPcbedebee   \n",
       "2                            nexuswebsocketbintercom   \n",
       "3  aortaclickagypixelgifadvertiseridgtqxdqpglista...   \n",
       "4  usersyncvideoampusersyncpartneridpartneruserid...   \n",
       "\n",
       "                                      normalized_url service  \\\n",
       "0                                                      HTTPS   \n",
       "1                               partneruidUPcbedebee    HTTP   \n",
       "2                                                      HTTPS   \n",
       "3  pixelgifadvertiseridgtqxdqpglistaedjpnobncchcm...    HTTP   \n",
       "4  usersyncpartneridpartneruseridredirecthttpsync...    HTTP   \n",
       "\n",
       "                                                 url  \n",
       "0                                                  /  \n",
       "1  /?partner_uid=UP47c5b905-0e1d-11e7-b092-00163e...  \n",
       "2                                                  /  \n",
       "3  /pixel.gif?advertiser_id=1gt8qx97dqpg&list=11a...  \n",
       "4  /usersync?partner_id=5797361&partner_user_id=4...  "
      ]
     },
     "execution_count": 2,
     "metadata": {},
     "output_type": "execute_result"
    }
   ],
   "source": [
    "'''\n",
    "Importação dos dados da base\n",
    "'''\n",
    "client = MongoClient()\n",
    "client = MongoClient('localhost', 27800)\n",
    "db = client.network_logs\n",
    "db_unique_hostnames = db.unique_hostnames\n",
    "\n",
    "df_hostnames = pd.DataFrame(list(db_unique_hostnames.find({})))\n",
    "\n",
    "print(len(df_hostnames))\n",
    "df_hostnames.head()"
   ]
  },
  {
   "cell_type": "code",
   "execution_count": 3,
   "metadata": {
    "collapsed": false
   },
   "outputs": [
    {
     "data": {
      "text/plain": [
       "17576"
      ]
     },
     "execution_count": 3,
     "metadata": {},
     "output_type": "execute_result"
    }
   ],
   "source": [
    "'''\n",
    "Criação do vocabulário\n",
    "'''\n",
    "keywords = [''.join(trig) for trig in itertools.product(ascii_lowercase, repeat = 3)]\n",
    "len(keywords)"
   ]
  },
  {
   "cell_type": "markdown",
   "metadata": {},
   "source": [
    "### Vetorização e frequência dos termos"
   ]
  },
  {
   "cell_type": "code",
   "execution_count": 4,
   "metadata": {
    "collapsed": true
   },
   "outputs": [],
   "source": [
    "count_vectorizer = CountVectorizer(analyzer='char', ngram_range=(3,3), vocabulary=keywords)\n",
    "words_vector = count_vectorizer.transform(df_hostnames['normalized_hostname'])\n",
    "tf_transformer = TfidfTransformer(use_idf=False).fit(words_vector)\n",
    "urls_tf = tf_transformer.transform(words_vector)"
   ]
  },
  {
   "cell_type": "markdown",
   "metadata": {},
   "source": [
    "### Separação do conjunto"
   ]
  },
  {
   "cell_type": "code",
   "execution_count": 5,
   "metadata": {
    "collapsed": true
   },
   "outputs": [],
   "source": [
    "labels = df_hostnames['category']\n",
    "url_train,url_test,label_train,label_test = train_test_split(urls_tf, labels, test_size=0.3)"
   ]
  },
  {
   "cell_type": "markdown",
   "metadata": {},
   "source": [
    "### Classificação e teste"
   ]
  },
  {
   "cell_type": "code",
   "execution_count": 6,
   "metadata": {
    "collapsed": false
   },
   "outputs": [],
   "source": [
    "#{'C': 4.4450000000000003, 'gamma': 1.0}\n",
    "classifier_model = SVC(C=8.1111111111, gamma=3.5).fit(url_train, label_train)"
   ]
  },
  {
   "cell_type": "code",
   "execution_count": 7,
   "metadata": {
    "collapsed": true
   },
   "outputs": [],
   "source": [
    "predictions = classifier_model.predict(url_test)"
   ]
  },
  {
   "cell_type": "markdown",
   "metadata": {},
   "source": [
    "### Relatório de classificação"
   ]
  },
  {
   "cell_type": "code",
   "execution_count": 8,
   "metadata": {
    "collapsed": false
   },
   "outputs": [
    {
     "name": "stdout",
     "output_type": "stream",
     "text": [
      "                                 precision    recall  f1-score   support\n",
      "\n",
      "                          Adult       0.00      0.00      0.00        18\n",
      "                    Advertising       0.85      0.18      0.30       257\n",
      "               Arts and Culture       1.00      0.07      0.14        54\n",
      "                       Business       0.73      0.11      0.19       704\n",
      "                Content Servers       0.95      0.57      0.71       379\n",
      "                 Domain Parking       0.00      0.00      0.00        14\n",
      "                      Education       0.88      0.07      0.12       224\n",
      "                  Entertainment       0.33      0.01      0.01       138\n",
      "       File Sharing and Storage       0.99      0.59      0.74       148\n",
      "            Finance and Banking       1.00      0.04      0.08        76\n",
      "Freeware and Software Downloads       0.67      0.03      0.05        80\n",
      "                          Games       0.86      0.16      0.27       158\n",
      "            Health and Wellness       0.00      0.00      0.00        50\n",
      "         Information Technology       0.33      0.98      0.50      1913\n",
      "          Internet Radio and TV       0.00      0.00      0.00        26\n",
      "                     Job Search       1.00      0.06      0.11        18\n",
      "           Malicious or Illegal       0.00      0.00      0.00        70\n",
      "            Meaningless Content       0.92      0.22      0.36       221\n",
      "                 News and Media       0.82      0.10      0.17       189\n",
      "  Newsgroups and Message Boards       1.00      0.05      0.09        21\n",
      "                  Organizations       0.80      0.04      0.08        93\n",
      "              Personal Vehicles       0.00      0.00      0.00        46\n",
      "    Personal Websites and Blogs       0.99      0.38      0.55       203\n",
      "                    Real Estate       1.00      0.06      0.11        18\n",
      "                      Reference       1.00      0.04      0.09        67\n",
      "          Restaurant and Dining       1.00      0.07      0.13        14\n",
      "     Search Engines and Portals       0.95      0.60      0.74       795\n",
      "                       Security       0.43      0.10      0.16        31\n",
      "                       Shopping       0.89      0.11      0.19       236\n",
      "              Social Networking       0.99      0.72      0.83       179\n",
      "         Society and Lifestyles       0.00      0.00      0.00        45\n",
      "                         Sports       1.00      0.06      0.11        54\n",
      "   Streaming Media and Download       1.00      0.76      0.86       311\n",
      "                         Travel       1.00      0.06      0.11        54\n",
      "                        Unrated       0.00      0.00      0.00       104\n",
      "                    Web Hosting       0.50      0.02      0.05       165\n",
      "              Web communication       1.00      0.12      0.22        65\n",
      "         Web-based Applications       1.00      0.08      0.15        25\n",
      "\n",
      "                    avg / total       0.68      0.47      0.41      7263\n",
      "\n"
     ]
    },
    {
     "name": "stderr",
     "output_type": "stream",
     "text": [
      "/Users/luanrubensf/anaconda/lib/python3.6/site-packages/sklearn/metrics/classification.py:1135: UndefinedMetricWarning: Precision and F-score are ill-defined and being set to 0.0 in labels with no predicted samples.\n",
      "  'precision', 'predicted', average, warn_for)\n"
     ]
    }
   ],
   "source": [
    "print(classification_report(label_test, predictions))"
   ]
  },
  {
   "cell_type": "code",
   "execution_count": 14,
   "metadata": {
    "collapsed": false
   },
   "outputs": [
    {
     "data": {
      "text/plain": [
       "132.5745073534124"
      ]
     },
     "execution_count": 14,
     "metadata": {},
     "output_type": "execute_result"
    }
   ],
   "source": [
    "17576 ** (1/2)"
   ]
  },
  {
   "cell_type": "code",
   "execution_count": null,
   "metadata": {
    "collapsed": true
   },
   "outputs": [],
   "source": []
  }
 ],
 "metadata": {
  "kernelspec": {
   "display_name": "Python 3",
   "language": "python",
   "name": "python3"
  },
  "language_info": {
   "codemirror_mode": {
    "name": "ipython",
    "version": 3
   },
   "file_extension": ".py",
   "mimetype": "text/x-python",
   "name": "python",
   "nbconvert_exporter": "python",
   "pygments_lexer": "ipython3",
   "version": "3.6.0"
  }
 },
 "nbformat": 4,
 "nbformat_minor": 2
}

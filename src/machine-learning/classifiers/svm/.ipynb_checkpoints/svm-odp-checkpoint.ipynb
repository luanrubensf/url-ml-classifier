{
 "cells": [
  {
   "cell_type": "markdown",
   "metadata": {},
   "source": [
    "### SVM\n",
    "\n",
    "Implemantação do classificador utilizando SVM."
   ]
  },
  {
   "cell_type": "code",
   "execution_count": 1,
   "metadata": {
    "collapsed": false
   },
   "outputs": [],
   "source": [
    "import nltk\n",
    "import itertools\n",
    "\n",
    "import pandas as pd\n",
    "import matplotlib.pyplot as plt\n",
    "import numpy as np\n",
    "\n",
    "from sklearn.feature_extraction.text import CountVectorizer\n",
    "from string import ascii_lowercase\n",
    "\n",
    "from sklearn.feature_extraction.text import TfidfTransformer\n",
    "\n",
    "# SVM\n",
    "from sklearn.svm import LinearSVC\n",
    "from sklearn.svm import SVC\n",
    "\n",
    "from sklearn.model_selection import train_test_split\n",
    "\n",
    "from sklearn.metrics import classification_report\n",
    "\n",
    "from pymongo import MongoClient\n",
    "\n",
    "%matplotlib inline"
   ]
  },
  {
   "cell_type": "code",
   "execution_count": 2,
   "metadata": {
    "collapsed": false
   },
   "outputs": [
    {
     "name": "stdout",
     "output_type": "stream",
     "text": [
      "1562978\n"
     ]
    },
    {
     "data": {
      "text/html": [
       "<div>\n",
       "<table border=\"1\" class=\"dataframe\">\n",
       "  <thead>\n",
       "    <tr style=\"text-align: right;\">\n",
       "      <th></th>\n",
       "      <th>_id</th>\n",
       "      <th>category</th>\n",
       "      <th>normalized_url</th>\n",
       "      <th>url</th>\n",
       "    </tr>\n",
       "  </thead>\n",
       "  <tbody>\n",
       "    <tr>\n",
       "      <th>0</th>\n",
       "      <td>59a2ed3d88b03213aca8fcd4</td>\n",
       "      <td>Adult</td>\n",
       "      <td>liquidgeneration</td>\n",
       "      <td>http://www.liquidgeneration.com/</td>\n",
       "    </tr>\n",
       "    <tr>\n",
       "      <th>1</th>\n",
       "      <td>59a2ed3e88b03213aca8fcd5</td>\n",
       "      <td>Adult</td>\n",
       "      <td>onlineanimeorg</td>\n",
       "      <td>http://www.onlineanime.org/</td>\n",
       "    </tr>\n",
       "    <tr>\n",
       "      <th>2</th>\n",
       "      <td>59a2ed3e88b03213aca8fcd6</td>\n",
       "      <td>Adult</td>\n",
       "      <td>ceresdtinekoisennosenfirst</td>\n",
       "      <td>http://www.ceres.dti.ne.jp/~nekoi/senno/senfir...</td>\n",
       "    </tr>\n",
       "    <tr>\n",
       "      <th>3</th>\n",
       "      <td>59a2ed3e88b03213aca8fcd7</td>\n",
       "      <td>Adult</td>\n",
       "      <td>galeonkmh</td>\n",
       "      <td>http://www.galeon.com/kmh/</td>\n",
       "    </tr>\n",
       "    <tr>\n",
       "      <th>4</th>\n",
       "      <td>59a2ed3e88b03213aca8fcd8</td>\n",
       "      <td>Adult</td>\n",
       "      <td>fanworkrecs</td>\n",
       "      <td>http://www.fanworkrecs.com/</td>\n",
       "    </tr>\n",
       "  </tbody>\n",
       "</table>\n",
       "</div>"
      ],
      "text/plain": [
       "                        _id category              normalized_url  \\\n",
       "0  59a2ed3d88b03213aca8fcd4    Adult            liquidgeneration   \n",
       "1  59a2ed3e88b03213aca8fcd5    Adult              onlineanimeorg   \n",
       "2  59a2ed3e88b03213aca8fcd6    Adult  ceresdtinekoisennosenfirst   \n",
       "3  59a2ed3e88b03213aca8fcd7    Adult                   galeonkmh   \n",
       "4  59a2ed3e88b03213aca8fcd8    Adult                 fanworkrecs   \n",
       "\n",
       "                                                 url  \n",
       "0                   http://www.liquidgeneration.com/  \n",
       "1                        http://www.onlineanime.org/  \n",
       "2  http://www.ceres.dti.ne.jp/~nekoi/senno/senfir...  \n",
       "3                         http://www.galeon.com/kmh/  \n",
       "4                        http://www.fanworkrecs.com/  "
      ]
     },
     "execution_count": 2,
     "metadata": {},
     "output_type": "execute_result"
    }
   ],
   "source": [
    "'''\n",
    "Importação dos dados da base\n",
    "'''\n",
    "client = MongoClient()\n",
    "client = MongoClient('localhost', 27800)\n",
    "db = client.odp_logs\n",
    "db_log_lines = db.log_lines\n",
    "\n",
    "df_log_lines = pd.DataFrame(list(db_log_lines.find({})))\n",
    "\n",
    "print(len(df_log_lines))\n",
    "df_log_lines.head()"
   ]
  },
  {
   "cell_type": "code",
   "execution_count": 3,
   "metadata": {
    "collapsed": false
   },
   "outputs": [
    {
     "data": {
      "text/plain": [
       "17576"
      ]
     },
     "execution_count": 3,
     "metadata": {},
     "output_type": "execute_result"
    }
   ],
   "source": [
    "'''\n",
    "Criação do vocabulário\n",
    "'''\n",
    "keywords = [''.join(trig) for trig in itertools.product(ascii_lowercase, repeat = 3)]\n",
    "len(keywords)"
   ]
  },
  {
   "cell_type": "markdown",
   "metadata": {},
   "source": [
    "### Vetorização e frequência dos termos"
   ]
  },
  {
   "cell_type": "code",
   "execution_count": 4,
   "metadata": {
    "collapsed": true
   },
   "outputs": [],
   "source": [
    "count_vectorizer = CountVectorizer(analyzer='char', ngram_range=(3,3), vocabulary=keywords)\n",
    "gamma_range = np.logspace(-9, 3, 13)\n",
    "tol_range =np.logspace(0, 1, 13)\n",
    "words_vector = count_vectorizer.transform(df_log_lines['normalized_url'])\n",
    "tf_transformer = TfidfTransformer(use_idf=False).fit(words_vector)\n",
    "urls_tf = tf_transformer.transform(words_vector)"
   ]
  },
  {
   "cell_type": "code",
   "execution_count": 5,
   "metadata": {
    "collapsed": false
   },
   "outputs": [
    {
     "name": "stdout",
     "output_type": "stream",
     "text": [
      "  (0, 76)\t0.353553390593\n",
      "  (0, 1998)\t0.353553390593\n",
      "  (0, 2149)\t0.353553390593\n",
      "  (0, 5697)\t0.353553390593\n",
      "  (0, 7438)\t0.353553390593\n",
      "  (0, 7518)\t0.353553390593\n",
      "  (0, 15091)\t0.353553390593\n",
      "  (0, 16804)\t0.353553390593\n",
      "ild\n",
      "lacywilder\n"
     ]
    }
   ],
   "source": [
    "print(urls_tf[6584])\n",
    "print(count_vectorizer.get_feature_names()[5697])\n",
    "print(df_log_lines['normalized_url'][6584])"
   ]
  },
  {
   "cell_type": "markdown",
   "metadata": {},
   "source": [
    "### Divisão dos dados"
   ]
  },
  {
   "cell_type": "code",
   "execution_count": 7,
   "metadata": {
    "collapsed": false
   },
   "outputs": [],
   "source": [
    "labels = df_log_lines['category']\n",
    "url_train,url_test,label_train,label_test = train_test_split(urls_tf, labels, test_size=0.3)"
   ]
  },
  {
   "cell_type": "markdown",
   "metadata": {},
   "source": [
    "### Classificação e teste"
   ]
  },
  {
   "cell_type": "code",
   "execution_count": 8,
   "metadata": {
    "collapsed": true
   },
   "outputs": [],
   "source": [
    "classifier_model = LinearSVC().fit(url_train, label_train)"
   ]
  },
  {
   "cell_type": "code",
   "execution_count": 9,
   "metadata": {
    "collapsed": true
   },
   "outputs": [],
   "source": [
    "predictions = classifier_model.predict(url_test)"
   ]
  },
  {
   "cell_type": "markdown",
   "metadata": {},
   "source": [
    "### Relatório da classificação"
   ]
  },
  {
   "cell_type": "code",
   "execution_count": 10,
   "metadata": {
    "collapsed": false
   },
   "outputs": [
    {
     "name": "stdout",
     "output_type": "stream",
     "text": [
      "             precision    recall  f1-score   support\n",
      "\n",
      "      Adult       0.70      0.52      0.60     10630\n",
      "       Arts       0.49      0.63      0.55     76114\n",
      "   Business       0.43      0.67      0.53     72138\n",
      "  Computers       0.52      0.38      0.44     35371\n",
      "      Games       0.67      0.53      0.59     16822\n",
      "     Health       0.58      0.37      0.45     18067\n",
      "       Home       0.76      0.44      0.56      8572\n",
      "       Kids       0.55      0.16      0.25     13896\n",
      "       News       0.52      0.17      0.25      2694\n",
      " Recreation       0.47      0.33      0.39     32048\n",
      "  Reference       0.53      0.43      0.48     17370\n",
      "    Science       0.55      0.44      0.49     33293\n",
      "   Shopping       0.43      0.23      0.30     28449\n",
      "    Society       0.51      0.59      0.55     73069\n",
      "     Sports       0.63      0.58      0.60     30361\n",
      "\n",
      "avg / total       0.52      0.51      0.50    468894\n",
      "\n"
     ]
    }
   ],
   "source": [
    "print(classification_report(label_test, predictions))"
   ]
  }
 ],
 "metadata": {
  "kernelspec": {
   "display_name": "Python 3",
   "language": "python",
   "name": "python3"
  },
  "language_info": {
   "codemirror_mode": {
    "name": "ipython",
    "version": 3
   },
   "file_extension": ".py",
   "mimetype": "text/x-python",
   "name": "python",
   "nbconvert_exporter": "python",
   "pygments_lexer": "ipython3",
   "version": "3.6.0"
  }
 },
 "nbformat": 4,
 "nbformat_minor": 2
}

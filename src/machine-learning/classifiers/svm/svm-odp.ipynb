{
 "cells": [
  {
   "cell_type": "markdown",
   "metadata": {},
   "source": [
    "### SVM\n",
    "\n",
    "Implemantação do classificador utilizando SVM."
   ]
  },
  {
   "cell_type": "code",
   "execution_count": 1,
   "metadata": {
    "collapsed": false
   },
   "outputs": [],
   "source": [
    "import nltk\n",
    "import itertools\n",
    "\n",
    "import pandas as pd\n",
    "import matplotlib.pyplot as plt\n",
    "import numpy as np\n",
    "\n",
    "from sklearn.feature_extraction.text import CountVectorizer\n",
    "from string import ascii_lowercase\n",
    "\n",
    "from sklearn.feature_extraction.text import TfidfTransformer\n",
    "\n",
    "# SVM\n",
    "from sklearn.svm import LinearSVC\n",
    "from sklearn.svm import SVC\n",
    "\n",
    "from sklearn.model_selection import train_test_split\n",
    "\n",
    "from sklearn.metrics import classification_report\n",
    "\n",
    "from pymongo import MongoClient\n",
    "\n",
    "%matplotlib inline"
   ]
  },
  {
   "cell_type": "code",
   "execution_count": 8,
   "metadata": {
    "collapsed": false
   },
   "outputs": [
    {
     "name": "stdout",
     "output_type": "stream",
     "text": [
      "1562978\n"
     ]
    },
    {
     "data": {
      "text/html": [
       "<div>\n",
       "<table border=\"1\" class=\"dataframe\">\n",
       "  <thead>\n",
       "    <tr style=\"text-align: right;\">\n",
       "      <th></th>\n",
       "      <th>_id</th>\n",
       "      <th>category</th>\n",
       "      <th>normalized_url</th>\n",
       "      <th>url</th>\n",
       "    </tr>\n",
       "  </thead>\n",
       "  <tbody>\n",
       "    <tr>\n",
       "      <th>0</th>\n",
       "      <td>59a2ed3d88b03213aca8fcd4</td>\n",
       "      <td>Adult</td>\n",
       "      <td>liquidgeneration</td>\n",
       "      <td>http://www.liquidgeneration.com/</td>\n",
       "    </tr>\n",
       "    <tr>\n",
       "      <th>1</th>\n",
       "      <td>59a2ed3e88b03213aca8fcd5</td>\n",
       "      <td>Adult</td>\n",
       "      <td>onlineanimeorg</td>\n",
       "      <td>http://www.onlineanime.org/</td>\n",
       "    </tr>\n",
       "    <tr>\n",
       "      <th>2</th>\n",
       "      <td>59a2ed3e88b03213aca8fcd6</td>\n",
       "      <td>Adult</td>\n",
       "      <td>ceresdtinekoisennosenfirst</td>\n",
       "      <td>http://www.ceres.dti.ne.jp/~nekoi/senno/senfir...</td>\n",
       "    </tr>\n",
       "    <tr>\n",
       "      <th>3</th>\n",
       "      <td>59a2ed3e88b03213aca8fcd7</td>\n",
       "      <td>Adult</td>\n",
       "      <td>galeonkmh</td>\n",
       "      <td>http://www.galeon.com/kmh/</td>\n",
       "    </tr>\n",
       "    <tr>\n",
       "      <th>4</th>\n",
       "      <td>59a2ed3e88b03213aca8fcd8</td>\n",
       "      <td>Adult</td>\n",
       "      <td>fanworkrecs</td>\n",
       "      <td>http://www.fanworkrecs.com/</td>\n",
       "    </tr>\n",
       "  </tbody>\n",
       "</table>\n",
       "</div>"
      ],
      "text/plain": [
       "                        _id category              normalized_url  \\\n",
       "0  59a2ed3d88b03213aca8fcd4    Adult            liquidgeneration   \n",
       "1  59a2ed3e88b03213aca8fcd5    Adult              onlineanimeorg   \n",
       "2  59a2ed3e88b03213aca8fcd6    Adult  ceresdtinekoisennosenfirst   \n",
       "3  59a2ed3e88b03213aca8fcd7    Adult                   galeonkmh   \n",
       "4  59a2ed3e88b03213aca8fcd8    Adult                 fanworkrecs   \n",
       "\n",
       "                                                 url  \n",
       "0                   http://www.liquidgeneration.com/  \n",
       "1                        http://www.onlineanime.org/  \n",
       "2  http://www.ceres.dti.ne.jp/~nekoi/senno/senfir...  \n",
       "3                         http://www.galeon.com/kmh/  \n",
       "4                        http://www.fanworkrecs.com/  "
      ]
     },
     "execution_count": 8,
     "metadata": {},
     "output_type": "execute_result"
    }
   ],
   "source": [
    "'''\n",
    "Importação dos dados da base\n",
    "'''\n",
    "df_log_lines = pd.read_csv('../../../data/odp_logs.csv')\n",
    "\n",
    "print(len(df_log_lines))\n",
    "df_log_lines.head()"
   ]
  },
  {
   "cell_type": "code",
   "execution_count": 15,
   "metadata": {
    "collapsed": false
   },
   "outputs": [
    {
     "data": {
      "text/plain": [
       "17576"
      ]
     },
     "execution_count": 15,
     "metadata": {},
     "output_type": "execute_result"
    }
   ],
   "source": [
    "'''\n",
    "Criação do vocabulário\n",
    "'''\n",
    "keywords = [''.join(trig) for trig in itertools.product(ascii_lowercase, repeat = 3)]\n",
    "len(keywords)"
   ]
  },
  {
   "cell_type": "code",
   "execution_count": 16,
   "metadata": {
    "collapsed": false
   },
   "outputs": [
    {
     "data": {
      "text/html": [
       "<div>\n",
       "<table border=\"1\" class=\"dataframe\">\n",
       "  <thead>\n",
       "    <tr style=\"text-align: right;\">\n",
       "      <th></th>\n",
       "      <th>_id</th>\n",
       "      <th>category</th>\n",
       "      <th>normalized_url</th>\n",
       "      <th>url</th>\n",
       "    </tr>\n",
       "  </thead>\n",
       "  <tbody>\n",
       "    <tr>\n",
       "      <th>776</th>\n",
       "      <td>59a2ed3f88b03213aca8ffdc</td>\n",
       "      <td>Adult</td>\n",
       "      <td>starandgartermagazine</td>\n",
       "      <td>http://www.starandgartermagazine.com</td>\n",
       "    </tr>\n",
       "    <tr>\n",
       "      <th>777</th>\n",
       "      <td>59a2ed3f88b03213aca8ffdd</td>\n",
       "      <td>Adult</td>\n",
       "      <td>NaN</td>\n",
       "      <td>http://www.c14.com/</td>\n",
       "    </tr>\n",
       "    <tr>\n",
       "      <th>778</th>\n",
       "      <td>59a2ed3f88b03213aca8ffde</td>\n",
       "      <td>Adult</td>\n",
       "      <td>moviebadgirls</td>\n",
       "      <td>http://www.moviebadgirls.com/</td>\n",
       "    </tr>\n",
       "    <tr>\n",
       "      <th>779</th>\n",
       "      <td>59a2ed3f88b03213aca8ffdf</td>\n",
       "      <td>Adult</td>\n",
       "      <td>gayvnawards</td>\n",
       "      <td>http://www.gayvnawards.com/</td>\n",
       "    </tr>\n",
       "    <tr>\n",
       "      <th>780</th>\n",
       "      <td>59a2ed3f88b03213aca8ffe0</td>\n",
       "      <td>Adult</td>\n",
       "      <td>cndb</td>\n",
       "      <td>http://www.cndb.com/</td>\n",
       "    </tr>\n",
       "    <tr>\n",
       "      <th>781</th>\n",
       "      <td>59a2ed3f88b03213aca8ffe1</td>\n",
       "      <td>Adult</td>\n",
       "      <td>iafd</td>\n",
       "      <td>http://www.iafd.com/</td>\n",
       "    </tr>\n",
       "    <tr>\n",
       "      <th>782</th>\n",
       "      <td>59a2ed3f88b03213aca8ffe2</td>\n",
       "      <td>Adult</td>\n",
       "      <td>brucelabruce</td>\n",
       "      <td>http://www.brucelabruce.com/</td>\n",
       "    </tr>\n",
       "    <tr>\n",
       "      <th>783</th>\n",
       "      <td>59a2ed3f88b03213aca8ffe3</td>\n",
       "      <td>Adult</td>\n",
       "      <td>greatdirectorsdirectorsdirectors</td>\n",
       "      <td>http://great-directors.com/directors/directors...</td>\n",
       "    </tr>\n",
       "    <tr>\n",
       "      <th>784</th>\n",
       "      <td>59a2ed3f88b03213aca8ffe4</td>\n",
       "      <td>Adult</td>\n",
       "      <td>fullmetal</td>\n",
       "      <td>http://www.fullmetal.com</td>\n",
       "    </tr>\n",
       "    <tr>\n",
       "      <th>785</th>\n",
       "      <td>59a2ed3f88b03213aca8ffe5</td>\n",
       "      <td>Adult</td>\n",
       "      <td>grupoifg</td>\n",
       "      <td>http://www.grupoifg.com/</td>\n",
       "    </tr>\n",
       "  </tbody>\n",
       "</table>\n",
       "</div>"
      ],
      "text/plain": [
       "                          _id category                    normalized_url  \\\n",
       "776  59a2ed3f88b03213aca8ffdc    Adult             starandgartermagazine   \n",
       "777  59a2ed3f88b03213aca8ffdd    Adult                               NaN   \n",
       "778  59a2ed3f88b03213aca8ffde    Adult                     moviebadgirls   \n",
       "779  59a2ed3f88b03213aca8ffdf    Adult                       gayvnawards   \n",
       "780  59a2ed3f88b03213aca8ffe0    Adult                              cndb   \n",
       "781  59a2ed3f88b03213aca8ffe1    Adult                              iafd   \n",
       "782  59a2ed3f88b03213aca8ffe2    Adult                      brucelabruce   \n",
       "783  59a2ed3f88b03213aca8ffe3    Adult  greatdirectorsdirectorsdirectors   \n",
       "784  59a2ed3f88b03213aca8ffe4    Adult                         fullmetal   \n",
       "785  59a2ed3f88b03213aca8ffe5    Adult                          grupoifg   \n",
       "\n",
       "                                                   url  \n",
       "776               http://www.starandgartermagazine.com  \n",
       "777                                http://www.c14.com/  \n",
       "778                      http://www.moviebadgirls.com/  \n",
       "779                        http://www.gayvnawards.com/  \n",
       "780                               http://www.cndb.com/  \n",
       "781                               http://www.iafd.com/  \n",
       "782                       http://www.brucelabruce.com/  \n",
       "783  http://great-directors.com/directors/directors...  \n",
       "784                           http://www.fullmetal.com  \n",
       "785                           http://www.grupoifg.com/  "
      ]
     },
     "execution_count": 16,
     "metadata": {},
     "output_type": "execute_result"
    }
   ],
   "source": [
    "df_log_lines[776:786]"
   ]
  },
  {
   "cell_type": "code",
   "execution_count": 36,
   "metadata": {
    "collapsed": false
   },
   "outputs": [
    {
     "name": "stdout",
     "output_type": "stream",
     "text": [
      "moviebadgirls\n"
     ]
    },
    {
     "data": {
      "text/plain": [
       "1560920"
      ]
     },
     "execution_count": 36,
     "metadata": {},
     "output_type": "execute_result"
    }
   ],
   "source": [
    "df_log_lines = df_log_lines.dropna()"
   ]
  },
  {
   "cell_type": "markdown",
   "metadata": {},
   "source": [
    "### Vetorização e frequência dos termos"
   ]
  },
  {
   "cell_type": "code",
   "execution_count": 7,
   "metadata": {
    "collapsed": false
   },
   "outputs": [],
   "source": [
    "count_vectorizer = CountVectorizer(analyzer='char', ngram_range=(3,3), vocabulary=keywords)\n",
    "words_vector = count_vectorizer.transform(df_log_lines['normalized_url'])\n",
    "tf_transformer = TfidfTransformer(use_idf=False).fit(words_vector)\n",
    "urls_tf = tf_transformer.transform(words_vector)"
   ]
  },
  {
   "cell_type": "markdown",
   "metadata": {},
   "source": [
    "### Divisão dos dados"
   ]
  },
  {
   "cell_type": "code",
   "execution_count": null,
   "metadata": {
    "collapsed": false
   },
   "outputs": [],
   "source": [
    "labels = df_log_lines['category']\n",
    "url_train,url_test,label_train,label_test = train_test_split(urls_tf, labels, test_size=0.3)"
   ]
  },
  {
   "cell_type": "markdown",
   "metadata": {},
   "source": [
    "### Classificação e teste"
   ]
  },
  {
   "cell_type": "code",
   "execution_count": null,
   "metadata": {
    "collapsed": true
   },
   "outputs": [],
   "source": [
    "classifier_model = LinearSVC().fit(url_train, label_train)"
   ]
  },
  {
   "cell_type": "code",
   "execution_count": null,
   "metadata": {
    "collapsed": true
   },
   "outputs": [],
   "source": [
    "predictions = classifier_model.predict(url_test)"
   ]
  },
  {
   "cell_type": "markdown",
   "metadata": {},
   "source": [
    "### Relatório da classificação"
   ]
  },
  {
   "cell_type": "code",
   "execution_count": null,
   "metadata": {
    "collapsed": false
   },
   "outputs": [],
   "source": [
    "print(classification_report(label_test, predictions))"
   ]
  }
 ],
 "metadata": {
  "kernelspec": {
   "display_name": "Python 3",
   "language": "python",
   "name": "python3"
  },
  "language_info": {
   "codemirror_mode": {
    "name": "ipython",
    "version": 3
   },
   "file_extension": ".py",
   "mimetype": "text/x-python",
   "name": "python",
   "nbconvert_exporter": "python",
   "pygments_lexer": "ipython3",
   "version": "3.6.0"
  }
 },
 "nbformat": 4,
 "nbformat_minor": 2
}

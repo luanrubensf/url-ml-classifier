{
 "cells": [
  {
   "cell_type": "markdown",
   "metadata": {},
   "source": [
    "Arquivo criado para vetorizar as URL's com base em todas as possibilidades de 3-gram, criando um voculário independente, sendo necessário criá-lo apenas uma vez. Caso sejam adicionados dados ao dataset, não é necessário gerar um novo vocabulário. \n",
    "\n",
    "Este arquivo foi criado somente para análise da solução, não contendo todo o código para o classificador proposto."
   ]
  },
  {
   "cell_type": "code",
   "execution_count": 1,
   "metadata": {
    "collapsed": true
   },
   "outputs": [],
   "source": [
    "import nltk\n",
    "import itertools\n",
    "from sklearn.feature_extraction.text import CountVectorizer\n",
    "from string import ascii_lowercase"
   ]
  },
  {
   "cell_type": "code",
   "execution_count": 2,
   "metadata": {
    "collapsed": true
   },
   "outputs": [],
   "source": [
    "my_array = ['facebook', 'youtube', 'portalsatc', 'whatsapp', 'twitter', 'globo']\n",
    "my_array_lb = ['Social Media', 'Social Media', 'Noticia', 'Social Media', 'Social Media', 'Noticia'];"
   ]
  },
  {
   "cell_type": "code",
   "execution_count": 3,
   "metadata": {
    "collapsed": false
   },
   "outputs": [
    {
     "data": {
      "text/plain": [
       "17576"
      ]
     },
     "execution_count": 3,
     "metadata": {},
     "output_type": "execute_result"
    }
   ],
   "source": [
    "keywords = [''.join(trig) for trig in itertools.product(ascii_lowercase, repeat = 3)]\n",
    "len(keywords)"
   ]
  },
  {
   "cell_type": "code",
   "execution_count": 4,
   "metadata": {
    "collapsed": false
   },
   "outputs": [],
   "source": [
    "count_vectorizer = CountVectorizer(analyzer='char', ngram_range=(3,3), vocabulary=keywords)"
   ]
  },
  {
   "cell_type": "code",
   "execution_count": 5,
   "metadata": {
    "collapsed": false
   },
   "outputs": [
    {
     "name": "stdout",
     "output_type": "stream",
     "text": [
      "  (0, 56)\t1\n",
      "  (0, 1054)\t1\n",
      "  (0, 1457)\t1\n",
      "  (0, 2744)\t1\n",
      "  (0, 3382)\t1\n",
      "  (0, 9838)\t1\n",
      "(1, 17576)\n"
     ]
    }
   ],
   "source": [
    "fb_vector = count_vectorizer.transform(['facebook'])\n",
    "print(fb_vector)\n",
    "print(fb_vector.shape)"
   ]
  },
  {
   "cell_type": "code",
   "execution_count": 6,
   "metadata": {
    "collapsed": false
   },
   "outputs": [
    {
     "name": "stdout",
     "output_type": "stream",
     "text": [
      "ace\n",
      "boo\n",
      "ceb\n",
      "ebo\n",
      "fac\n",
      "ook\n"
     ]
    }
   ],
   "source": [
    "#Features da palavra 'facebook'\n",
    "print(count_vectorizer.get_feature_names()[56])\n",
    "print(count_vectorizer.get_feature_names()[1054])\n",
    "print(count_vectorizer.get_feature_names()[1457])\n",
    "print(count_vectorizer.get_feature_names()[2744])\n",
    "print(count_vectorizer.get_feature_names()[3382])\n",
    "print(count_vectorizer.get_feature_names()[9838])"
   ]
  },
  {
   "cell_type": "code",
   "execution_count": 7,
   "metadata": {
    "collapsed": false
   },
   "outputs": [
    {
     "name": "stdout",
     "output_type": "stream",
     "text": [
      "sparsity: 0.03413746017296313\n"
     ]
    }
   ],
   "source": [
    "#sparsity da palavra 'facebook'\n",
    "sparsity = (100.0 * fb_vector.nnz / (fb_vector.shape[0] * fb_vector.shape[1]))\n",
    "print('sparsity: {}'.format(sparsity))"
   ]
  },
  {
   "cell_type": "code",
   "execution_count": 13,
   "metadata": {
    "collapsed": false
   },
   "outputs": [],
   "source": [
    "from sklearn.feature_extraction.text import TfidfTransformer\n",
    "\n",
    "tfidf_transformer = TfidfTransformer(use_idf=False).fit(fb_vector)"
   ]
  },
  {
   "cell_type": "code",
   "execution_count": 14,
   "metadata": {
    "collapsed": false
   },
   "outputs": [
    {
     "name": "stdout",
     "output_type": "stream",
     "text": [
      "  (0, 56)\t0.408248290464\n",
      "  (0, 1054)\t0.408248290464\n",
      "  (0, 1457)\t0.408248290464\n",
      "  (0, 2744)\t0.408248290464\n",
      "  (0, 3382)\t0.408248290464\n",
      "  (0, 9838)\t0.408248290464\n"
     ]
    }
   ],
   "source": [
    "tfidf4 = tfidf_transformer.transform(fb_vector)\n",
    "print(tfidf4)"
   ]
  },
  {
   "cell_type": "code",
   "execution_count": null,
   "metadata": {
    "collapsed": true
   },
   "outputs": [],
   "source": []
  }
 ],
 "metadata": {
  "kernelspec": {
   "display_name": "Python 3",
   "language": "python",
   "name": "python3"
  },
  "language_info": {
   "codemirror_mode": {
    "name": "ipython",
    "version": 3
   },
   "file_extension": ".py",
   "mimetype": "text/x-python",
   "name": "python",
   "nbconvert_exporter": "python",
   "pygments_lexer": "ipython3",
   "version": "3.6.0"
  }
 },
 "nbformat": 4,
 "nbformat_minor": 2
}

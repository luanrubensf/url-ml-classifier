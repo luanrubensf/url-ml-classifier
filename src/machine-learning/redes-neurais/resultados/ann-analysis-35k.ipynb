{
 "cells": [
  {
   "cell_type": "markdown",
   "metadata": {},
   "source": [
    "### Análise dos resultados do conjunto de 35k por classe\n",
    "\n",
    "Análise dos resuntados produzidos pela rede neural do conjunto com 35k amostras para cada classe."
   ]
  },
  {
   "cell_type": "code",
   "execution_count": 36,
   "metadata": {
    "collapsed": false
   },
   "outputs": [],
   "source": [
    "import itertools\n",
    "import pandas as pd\n",
    "import numpy as np\n",
    "import matplotlib.pyplot as plt\n",
    "\n",
    "from sklearn.metrics import (classification_report, accuracy_score, confusion_matrix, precision_score, \n",
    "recall_score)\n",
    "\n",
    "%run './../../top_k.ipynb'\n",
    "%run './../../plot_confusion_matrix.ipynb'\n",
    "\n",
    "%matplotlib inline"
   ]
  },
  {
   "cell_type": "code",
   "execution_count": 2,
   "metadata": {
    "collapsed": true
   },
   "outputs": [],
   "source": [
    "random_state = 47\n",
    "np.random.seed(seed=random_state)"
   ]
  },
  {
   "cell_type": "code",
   "execution_count": 3,
   "metadata": {
    "collapsed": true
   },
   "outputs": [],
   "source": [
    "labels = np.load('./label_30k_OnlyTri.npy')"
   ]
  },
  {
   "cell_type": "code",
   "execution_count": 4,
   "metadata": {
    "collapsed": false
   },
   "outputs": [],
   "source": [
    "saidas = np.load('./saida_30k_OnlyTri.npy')\n",
    "saidas = saidas[0,:,0,:]"
   ]
  },
  {
   "cell_type": "code",
   "execution_count": 5,
   "metadata": {
    "collapsed": false
   },
   "outputs": [
    {
     "name": "stdout",
     "output_type": "stream",
     "text": [
      "148679\n",
      "148679\n"
     ]
    }
   ],
   "source": [
    "print(len(labels))\n",
    "print(len(saidas))"
   ]
  },
  {
   "cell_type": "code",
   "execution_count": 6,
   "metadata": {
    "collapsed": false
   },
   "outputs": [
    {
     "name": "stdout",
     "output_type": "stream",
     "text": [
      "float64\n",
      "float64\n"
     ]
    }
   ],
   "source": [
    "print(labels.dtype)\n",
    "print(saidas.dtype)"
   ]
  },
  {
   "cell_type": "code",
   "execution_count": 7,
   "metadata": {
    "collapsed": false
   },
   "outputs": [
    {
     "name": "stdout",
     "output_type": "stream",
     "text": [
      "(148679, 14)\n",
      "(148679, 14)\n"
     ]
    }
   ],
   "source": [
    "print(labels.shape)\n",
    "print(saidas.shape)"
   ]
  },
  {
   "cell_type": "code",
   "execution_count": 8,
   "metadata": {
    "collapsed": false
   },
   "outputs": [
    {
     "data": {
      "text/plain": [
       "array([[ 0.,  0.,  0., ...,  0.,  0.,  1.],\n",
       "       [ 0.,  0.,  0., ...,  0.,  0.,  0.],\n",
       "       [ 0.,  0.,  0., ...,  0.,  0.,  0.],\n",
       "       ..., \n",
       "       [ 1.,  0.,  0., ...,  0.,  0.,  0.],\n",
       "       [ 0.,  0.,  0., ...,  0.,  0.,  0.],\n",
       "       [ 0.,  0.,  0., ...,  0.,  0.,  0.]])"
      ]
     },
     "execution_count": 8,
     "metadata": {},
     "output_type": "execute_result"
    }
   ],
   "source": [
    "labels"
   ]
  },
  {
   "cell_type": "code",
   "execution_count": 9,
   "metadata": {
    "collapsed": false
   },
   "outputs": [
    {
     "data": {
      "text/plain": [
       "array([[  1.32217593e-02,   3.24831530e-02,   5.00785783e-02, ...,\n",
       "          6.14386126e-02,   8.72280374e-02,   4.24244821e-01],\n",
       "       [  1.98791549e-01,   8.91868323e-02,   3.85190919e-03, ...,\n",
       "          1.37683116e-02,   4.83725592e-02,   2.41577234e-02],\n",
       "       [  9.42143597e-05,   8.08133977e-04,   7.22100012e-05, ...,\n",
       "          4.00737248e-04,   8.78384686e-04,   2.05789576e-04],\n",
       "       ..., \n",
       "       [  9.76213455e-01,   1.22172059e-02,   1.66620023e-03, ...,\n",
       "          3.20451660e-03,   7.43910437e-04,   1.55248359e-04],\n",
       "       [  3.54974046e-02,   1.77607566e-01,   1.61512077e-01, ...,\n",
       "          1.24535106e-01,   6.20456599e-02,   1.79245584e-02],\n",
       "       [  6.74222503e-03,   6.17859922e-02,   1.96201797e-03, ...,\n",
       "          1.97757105e-03,   4.90625724e-02,   1.97408162e-03]])"
      ]
     },
     "execution_count": 9,
     "metadata": {},
     "output_type": "execute_result"
    }
   ],
   "source": [
    "saidas"
   ]
  },
  {
   "cell_type": "code",
   "execution_count": 10,
   "metadata": {
    "collapsed": true
   },
   "outputs": [],
   "source": [
    "saidas_test = np.copy(saidas)"
   ]
  },
  {
   "cell_type": "code",
   "execution_count": 11,
   "metadata": {
    "collapsed": false
   },
   "outputs": [
    {
     "name": "stdout",
     "output_type": "stream",
     "text": [
      "[ 0.  0.  0.  0.  0.  0.  0.  0.  0.  0.  0.  0.  0.  1.]\n",
      "[ 0.01322176  0.03248315  0.05007858  0.05233556  0.05467195  0.07229044\n",
      "  0.03459746  0.00424479  0.03730391  0.03598392  0.03987703  0.06143861\n",
      "  0.08722804  0.42424482]\n",
      "13\n",
      "================================\n",
      "[ 0.  0.  0.  0.  0.  1.  0.  0.  0.  0.  0.  0.  0.  0.]\n",
      "[  6.55930126e-05   1.87709782e-04   1.35751443e-05   8.52950942e-03\n",
      "   3.92942457e-04   9.51394916e-01   7.77552850e-05   3.57188284e-02\n",
      "   5.68000833e-05   6.35632314e-05   3.05930246e-03   2.69105167e-05\n",
      "   1.92121064e-04   2.20538612e-04]\n",
      "5\n",
      "================================\n",
      "[ 1.  0.  0.  0.  0.  0.  0.  0.  0.  0.  0.  0.  0.  0.]\n",
      "[  9.93157566e-01   7.97594606e-04   5.44136623e-04   1.11134192e-04\n",
      "   6.16589037e-04   5.01563831e-04   4.33719310e-04   1.69352134e-04\n",
      "   2.72798527e-04   2.08814890e-04   8.54615064e-05   6.49233989e-04\n",
      "   8.76636070e-04   1.57542631e-03]\n",
      "0\n",
      "================================\n",
      "[ 0.  0.  1.  0.  0.  0.  0.  0.  0.  0.  0.  0.  0.  0.]\n",
      "[ 0.00349948  0.02129073  0.26043853  0.19502456  0.10394573  0.01246689\n",
      "  0.01167894  0.00706137  0.05946989  0.04178439  0.03340498  0.18054742\n",
      "  0.05640157  0.01298551]\n",
      "2\n",
      "================================\n",
      "[ 0.  0.  0.  0.  0.  0.  0.  0.  0.  0.  0.  0.  0.  1.]\n",
      "[ 0.16268156  0.00851113  0.07753047  0.01397405  0.00703856  0.00228136\n",
      "  0.02600756  0.01291742  0.00996514  0.01426192  0.02877518  0.05907541\n",
      "  0.0106323   0.5663479 ]\n",
      "13\n",
      "================================\n",
      "[ 0.  0.  0.  0.  0.  0.  0.  0.  0.  0.  0.  0.  0.  1.]\n",
      "[ 0.00961461  0.03401092  0.25041655  0.07106417  0.05291745  0.1293489\n",
      "  0.02488551  0.00648255  0.0498395   0.04396349  0.07484172  0.064064\n",
      "  0.10430674  0.08424386]\n",
      "2\n",
      "================================\n",
      "[ 0.  0.  0.  0.  0.  0.  1.  0.  0.  0.  0.  0.  0.  0.]\n",
      "[ 0.00260099  0.00819128  0.24092352  0.04646636  0.00318058  0.0608734\n",
      "  0.3468298   0.0348272   0.00893198  0.11346724  0.08932604  0.00341315\n",
      "  0.0395802   0.0013883 ]\n",
      "6\n",
      "================================\n"
     ]
    }
   ],
   "source": [
    "print(labels[0])\n",
    "print(saidas[0])\n",
    "print(saidas[0].argmax())\n",
    "print('================================')\n",
    "print(labels[15])\n",
    "print(saidas[15])\n",
    "print(saidas[15].argmax())\n",
    "print('================================')\n",
    "print(labels[16])\n",
    "print(saidas[16])\n",
    "print(saidas[16].argmax())\n",
    "print('================================')\n",
    "print(labels[976])\n",
    "print(saidas[976])\n",
    "print(saidas[976].argmax())\n",
    "print('================================')\n",
    "print(labels[890])\n",
    "print(saidas[890])\n",
    "print(saidas[890].argmax())\n",
    "print('================================')\n",
    "print(labels[10000])\n",
    "print(saidas[10000])\n",
    "print(saidas[10000].argmax())\n",
    "print('================================')\n",
    "print(labels[135670])\n",
    "print(saidas[135670])\n",
    "print(saidas[135670].argmax())\n",
    "print('================================')"
   ]
  },
  {
   "cell_type": "code",
   "execution_count": 12,
   "metadata": {
    "collapsed": false
   },
   "outputs": [],
   "source": [
    "for i in range(len(saidas)):\n",
    "    saidas[i,:] = saidas[i,:] == saidas[i,:].max()"
   ]
  },
  {
   "cell_type": "code",
   "execution_count": 13,
   "metadata": {
    "collapsed": false
   },
   "outputs": [
    {
     "data": {
      "text/plain": [
       "array([[ 0.,  0.,  0., ...,  0.,  0.,  1.],\n",
       "       [ 1.,  0.,  0., ...,  0.,  0.,  0.],\n",
       "       [ 0.,  0.,  0., ...,  0.,  0.,  0.],\n",
       "       ..., \n",
       "       [ 1.,  0.,  0., ...,  0.,  0.,  0.],\n",
       "       [ 0.,  1.,  0., ...,  0.,  0.,  0.],\n",
       "       [ 0.,  0.,  0., ...,  0.,  0.,  0.]])"
      ]
     },
     "execution_count": 13,
     "metadata": {},
     "output_type": "execute_result"
    }
   ],
   "source": [
    "saidas"
   ]
  },
  {
   "cell_type": "code",
   "execution_count": 14,
   "metadata": {
    "collapsed": false
   },
   "outputs": [
    {
     "name": "stdout",
     "output_type": "stream",
     "text": [
      "[ 0.  0.  0.  0.  0.  0.  0.  0.  0.  0.  0.  0.  0.  1.]\n",
      "13\n",
      "[ 0.  0.  0.  0.  0.  1.  0.  0.  0.  0.  0.  0.  0.  0.]\n",
      "5\n",
      "[ 1.  0.  0.  0.  0.  0.  0.  0.  0.  0.  0.  0.  0.  0.]\n",
      "0\n",
      "[ 0.  0.  1.  0.  0.  0.  0.  0.  0.  0.  0.  0.  0.  0.]\n",
      "2\n",
      "[ 0.  0.  0.  0.  0.  0.  0.  0.  0.  0.  0.  0.  0.  1.]\n",
      "13\n",
      "[ 0.  0.  1.  0.  0.  0.  0.  0.  0.  0.  0.  0.  0.  0.]\n",
      "2\n",
      "[ 0.  0.  0.  0.  0.  0.  1.  0.  0.  0.  0.  0.  0.  0.]\n",
      "6\n"
     ]
    }
   ],
   "source": [
    "print(saidas[0])\n",
    "print(saidas[0].argmax())\n",
    "print(saidas[15])\n",
    "print(saidas[15].argmax())\n",
    "print(saidas[16])\n",
    "print(saidas[16].argmax())\n",
    "print(saidas[976])\n",
    "print(saidas[976].argmax())\n",
    "print(saidas[890])\n",
    "print(saidas[890].argmax())\n",
    "print(saidas[10000])\n",
    "print(saidas[10000].argmax())\n",
    "print(saidas[135670])\n",
    "print(saidas[135670].argmax())"
   ]
  },
  {
   "cell_type": "code",
   "execution_count": 15,
   "metadata": {
    "collapsed": true
   },
   "outputs": [],
   "source": [
    "for i in range(len(saidas)):\n",
    "    if saidas[i].argmax() != saidas_test[i].argmax():\n",
    "        print('Diferente: ' + i)"
   ]
  },
  {
   "cell_type": "markdown",
   "metadata": {},
   "source": [
    "### Classification report"
   ]
  },
  {
   "cell_type": "code",
   "execution_count": 16,
   "metadata": {
    "collapsed": false
   },
   "outputs": [
    {
     "name": "stdout",
     "output_type": "stream",
     "text": [
      "             precision    recall  f1-score   support\n",
      "\n",
      "          0       0.67      0.65      0.66     10564\n",
      "          1       0.45      0.40      0.43     10820\n",
      "          2       0.32      0.44      0.38     10685\n",
      "          3       0.43      0.45      0.44     10816\n",
      "          4       0.59      0.58      0.58     10701\n",
      "          5       0.54      0.51      0.52     10957\n",
      "          6       0.71      0.56      0.63      8544\n",
      "          7       0.47      0.42      0.44     10688\n",
      "          8       0.41      0.38      0.39     10940\n",
      "          9       0.60      0.61      0.60     10800\n",
      "         10       0.54      0.41      0.47     10830\n",
      "         11       0.35      0.49      0.41     10756\n",
      "         12       0.45      0.42      0.43     10786\n",
      "         13       0.61      0.59      0.60     10792\n",
      "\n",
      "avg / total       0.51      0.49      0.50    148679\n",
      "\n"
     ]
    }
   ],
   "source": [
    "print(classification_report(labels, saidas))"
   ]
  },
  {
   "cell_type": "markdown",
   "metadata": {},
   "source": [
    "### Accuracy"
   ]
  },
  {
   "cell_type": "code",
   "execution_count": 17,
   "metadata": {
    "collapsed": false,
    "scrolled": false
   },
   "outputs": [
    {
     "name": "stdout",
     "output_type": "stream",
     "text": [
      "0.493452336914\n"
     ]
    }
   ],
   "source": [
    "print(accuracy_score(labels, saidas))"
   ]
  },
  {
   "cell_type": "markdown",
   "metadata": {},
   "source": [
    "### Precision"
   ]
  },
  {
   "cell_type": "code",
   "execution_count": 18,
   "metadata": {
    "collapsed": false,
    "scrolled": true
   },
   "outputs": [
    {
     "name": "stdout",
     "output_type": "stream",
     "text": [
      "0.493452336914\n"
     ]
    }
   ],
   "source": [
    "print(precision_score(labels, saidas, average='micro'))"
   ]
  },
  {
   "cell_type": "markdown",
   "metadata": {},
   "source": [
    "### Precision weighted"
   ]
  },
  {
   "cell_type": "code",
   "execution_count": 19,
   "metadata": {
    "collapsed": false
   },
   "outputs": [
    {
     "name": "stdout",
     "output_type": "stream",
     "text": [
      "0.50560156311\n"
     ]
    }
   ],
   "source": [
    "print(precision_score(labels, saidas, average='weighted'))"
   ]
  },
  {
   "cell_type": "markdown",
   "metadata": {},
   "source": [
    "### Top K "
   ]
  },
  {
   "cell_type": "code",
   "execution_count": 20,
   "metadata": {
    "collapsed": false,
    "scrolled": true
   },
   "outputs": [
    {
     "data": {
      "text/plain": [
       "72.04917977656562"
      ]
     },
     "execution_count": 20,
     "metadata": {},
     "output_type": "execute_result"
    }
   ],
   "source": [
    "top_k(labels, saidas_test, 3)"
   ]
  },
  {
   "cell_type": "markdown",
   "metadata": {},
   "source": [
    "### Recall"
   ]
  },
  {
   "cell_type": "code",
   "execution_count": 21,
   "metadata": {
    "collapsed": false,
    "scrolled": true
   },
   "outputs": [
    {
     "name": "stdout",
     "output_type": "stream",
     "text": [
      "0.493452336914\n"
     ]
    }
   ],
   "source": [
    "print(recall_score(labels, saidas, average='micro'))"
   ]
  },
  {
   "cell_type": "markdown",
   "metadata": {},
   "source": [
    "### Transformando em labels"
   ]
  },
  {
   "cell_type": "code",
   "execution_count": 22,
   "metadata": {
    "collapsed": true
   },
   "outputs": [],
   "source": [
    "dict_cat = {\n",
    "    0: 'Adult',\n",
    "    1: 'Arts',\n",
    "    2: 'Business',\n",
    "    3: 'Computers',\n",
    "    4: 'Games',\n",
    "    5: 'Health',\n",
    "    6: 'Home',\n",
    "    7: 'Kids',\n",
    "    8: 'Recreation',\n",
    "    9: 'Reference',\n",
    "    10: 'Science',\n",
    "    11: 'Shopping',\n",
    "    12: 'Society',\n",
    "    13: 'Sports'\n",
    "}\n",
    "\n",
    "def to_category_name(item):\n",
    "    return dict_cat[item]"
   ]
  },
  {
   "cell_type": "code",
   "execution_count": 23,
   "metadata": {
    "collapsed": false
   },
   "outputs": [],
   "source": [
    "saidas_label = np.zeros(shape=(saidas.shape[0]), dtype='object')\n",
    "labels_label = np.zeros(shape=(labels.shape[0]), dtype='object')\n",
    "\n",
    "for i in range(labels.shape[0]):\n",
    "    saidas_label[i] = to_category_name(saidas[i,:].argmax())\n",
    "    labels_label[i] = to_category_name(labels[i,:].argmax())"
   ]
  },
  {
   "cell_type": "code",
   "execution_count": 24,
   "metadata": {
    "collapsed": false
   },
   "outputs": [
    {
     "name": "stdout",
     "output_type": "stream",
     "text": [
      "['Sports' 'Adult' 'Home' ..., 'Adult' 'Arts' 'Health']\n",
      "['Sports' 'Recreation' 'Home' ..., 'Adult' 'Reference' 'Computers']\n"
     ]
    }
   ],
   "source": [
    "print(saidas_label)\n",
    "print(labels_label)"
   ]
  },
  {
   "cell_type": "code",
   "execution_count": 25,
   "metadata": {
    "collapsed": false
   },
   "outputs": [
    {
     "name": "stdout",
     "output_type": "stream",
     "text": [
      "13\n",
      "Sports\n",
      "13\n",
      "Sports\n"
     ]
    }
   ],
   "source": [
    "#Validando transformação\n",
    "pos = 0\n",
    "print(labels[pos].argmax())\n",
    "print(labels_label[pos])\n",
    "\n",
    "print(saidas[pos].argmax())\n",
    "print(saidas_label[pos])"
   ]
  },
  {
   "cell_type": "markdown",
   "metadata": {},
   "source": [
    "### Classification report"
   ]
  },
  {
   "cell_type": "code",
   "execution_count": 26,
   "metadata": {
    "collapsed": false
   },
   "outputs": [
    {
     "name": "stdout",
     "output_type": "stream",
     "text": [
      "             precision    recall  f1-score   support\n",
      "\n",
      "      Adult       0.67      0.65      0.66     10564\n",
      "       Arts       0.45      0.40      0.43     10820\n",
      "   Business       0.32      0.44      0.38     10685\n",
      "  Computers       0.43      0.45      0.44     10816\n",
      "      Games       0.59      0.58      0.58     10701\n",
      "     Health       0.54      0.51      0.52     10957\n",
      "       Home       0.71      0.56      0.63      8544\n",
      "       Kids       0.47      0.42      0.44     10688\n",
      " Recreation       0.41      0.38      0.39     10940\n",
      "  Reference       0.60      0.61      0.60     10800\n",
      "    Science       0.54      0.41      0.47     10830\n",
      "   Shopping       0.35      0.49      0.41     10756\n",
      "    Society       0.45      0.42      0.43     10786\n",
      "     Sports       0.61      0.59      0.60     10792\n",
      "\n",
      "avg / total       0.51      0.49      0.50    148679\n",
      "\n"
     ]
    }
   ],
   "source": [
    "print(classification_report(labels_label, saidas_label))"
   ]
  },
  {
   "cell_type": "markdown",
   "metadata": {},
   "source": [
    "### Accuracy"
   ]
  },
  {
   "cell_type": "code",
   "execution_count": 27,
   "metadata": {
    "collapsed": false
   },
   "outputs": [
    {
     "name": "stdout",
     "output_type": "stream",
     "text": [
      "0.493452336914\n"
     ]
    }
   ],
   "source": [
    "print(accuracy_score(labels_label, saidas_label))"
   ]
  },
  {
   "cell_type": "markdown",
   "metadata": {},
   "source": [
    "### Precision weighted"
   ]
  },
  {
   "cell_type": "code",
   "execution_count": 28,
   "metadata": {
    "collapsed": false
   },
   "outputs": [
    {
     "name": "stdout",
     "output_type": "stream",
     "text": [
      "0.50560156311\n"
     ]
    }
   ],
   "source": [
    "print(precision_score(labels_label, saidas_label, average='weighted'))"
   ]
  },
  {
   "cell_type": "markdown",
   "metadata": {},
   "source": [
    "### Precisão exata por classe"
   ]
  },
  {
   "cell_type": "code",
   "execution_count": 29,
   "metadata": {
    "collapsed": false,
    "scrolled": true
   },
   "outputs": [
    {
     "name": "stdout",
     "output_type": "stream",
     "text": [
      "[ 0.67287079  0.45097837  0.32471795  0.42575889  0.58630189  0.53642065\n",
      "  0.71035503  0.46677655  0.4056725   0.60172921  0.54193939  0.34829313\n",
      "  0.44654581  0.60522085]\n"
     ]
    }
   ],
   "source": [
    "print(precision_score(labels_label, saidas_label, average=None))"
   ]
  },
  {
   "cell_type": "markdown",
   "metadata": {},
   "source": [
    "### Recall exato por classe"
   ]
  },
  {
   "cell_type": "code",
   "execution_count": 31,
   "metadata": {
    "collapsed": false
   },
   "outputs": [
    {
     "name": "stdout",
     "output_type": "stream",
     "text": [
      "[ 0.65363499  0.40471349  0.44445484  0.45386464  0.57676853  0.50743817\n",
      "  0.56203184  0.42393338  0.37522852  0.60574074  0.41283472  0.49135366\n",
      "  0.42249212  0.59293921]\n"
     ]
    }
   ],
   "source": [
    "print(recall_score(labels_label, saidas_label, average=None))"
   ]
  },
  {
   "cell_type": "markdown",
   "metadata": {},
   "source": [
    "### Confusion Matrix"
   ]
  },
  {
   "cell_type": "code",
   "execution_count": 32,
   "metadata": {
    "collapsed": false
   },
   "outputs": [
    {
     "data": {
      "text/plain": [
       "(array(['Adult', 'Arts', 'Business', 'Computers', 'Games', 'Health', 'Home',\n",
       "        'Kids', 'Recreation', 'Reference', 'Science', 'Shopping', 'Society',\n",
       "        'Sports'], dtype=object),\n",
       " array([10564, 10820, 10685, 10816, 10701, 10957,  8544, 10688, 10940,\n",
       "        10800, 10830, 10756, 10786, 10792]))"
      ]
     },
     "execution_count": 32,
     "metadata": {},
     "output_type": "execute_result"
    }
   ],
   "source": [
    "class_counts = np.unique(labels_label, return_counts=True)\n",
    "class_counts"
   ]
  },
  {
   "cell_type": "code",
   "execution_count": 33,
   "metadata": {
    "collapsed": false
   },
   "outputs": [],
   "source": [
    "class_names = ['Adult', 'Arts', 'Business', 'Computers', 'Games', 'Health', 'Home',\n",
    "        'Kids', 'Recreation', 'Reference', 'Science', 'Shopping', 'Society',\n",
    "        'Sports']"
   ]
  },
  {
   "cell_type": "code",
   "execution_count": 34,
   "metadata": {
    "collapsed": true
   },
   "outputs": [],
   "source": [
    "cm = confusion_matrix(labels_label, saidas_label)"
   ]
  },
  {
   "cell_type": "code",
   "execution_count": 38,
   "metadata": {
    "collapsed": false
   },
   "outputs": [
    {
     "name": "stdout",
     "output_type": "stream",
     "text": [
      "Confusion matrix, without normalization\n",
      "[[6905  377  595  360  191  160   79  399  285   61   58  731  170  193]\n",
      " [ 414 4379  677  502  549  329  185  581  588  315  280 1049  616  356]\n",
      " [ 314  296 4749 1073  135  380  119  208  509  168  219 1953  223  339]\n",
      " [ 286  312 1652 4909  332  325   99  316  348  347  414  955  325  196]\n",
      " [ 218  506  404  591 6172  188   99  888  375  109  138  456  248  309]\n",
      " [ 172  296  786  440  195 5560  236  253  386  514  402  646  782  289]\n",
      " [ 142  331  390  299  165  344 4802  198  346  150  243  594  350  190]\n",
      " [ 404  599  314  355 1291  316  158 4531  641  353  608  294  532  292]\n",
      " [ 333  581  851  506  428  450  225  525 4105  247  250 1180  614  645]\n",
      " [ 126  230  454  430  104  465  118  316  266 6542  573  328  577  271]\n",
      " [ 187  317  857  744  171  539  182  687  368 1088 4471  389  611  219]\n",
      " [ 316  451 1747  553  212  303  188  138  657   93   79 5285  201  533]\n",
      " [ 249  684  609  473  296  726  213  464  579  629  407  558 4557  342]\n",
      " [ 196  351  540  295  286  280   57  203  666  256  108  756  399 6399]]\n"
     ]
    },
    {
     "data": {
      "image/png": "[encoded data removed]",
      "text/plain": [
       "<matplotlib.figure.Figure at 0x11ebdbbe0>"
      ]
     },
     "metadata": {},
     "output_type": "display_data"
    }
   ],
   "source": [
    "plt.figure(figsize=(6*2.5,4*2.5))\n",
    "plot_confusion_matrix(cm, classes=class_names,\n",
    "                      title='')"
   ]
  },
  {
   "cell_type": "code",
   "execution_count": null,
   "metadata": {
    "collapsed": true
   },
   "outputs": [],
   "source": []
  }
 ],
 "metadata": {
  "kernelspec": {
   "display_name": "Python 3",
   "language": "python",
   "name": "python3"
  },
  "language_info": {
   "codemirror_mode": {
    "name": "ipython",
    "version": 3
   },
   "file_extension": ".py",
   "mimetype": "text/x-python",
   "name": "python",
   "nbconvert_exporter": "python",
   "pygments_lexer": "ipython3",
   "version": "3.6.0"
  }
 },
 "nbformat": 4,
 "nbformat_minor": 2
}

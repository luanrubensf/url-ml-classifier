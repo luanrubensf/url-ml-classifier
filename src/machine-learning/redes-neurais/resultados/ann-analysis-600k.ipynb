{
 "cells": [
  {
   "cell_type": "markdown",
   "metadata": {},
   "source": [
    "### Analisando resultados do conjunto 600K\n",
    "\n",
    "Resultados do conjunto de 600k amostras para treinamento."
   ]
  },
  {
   "cell_type": "code",
   "execution_count": 77,
   "metadata": {
    "collapsed": true
   },
   "outputs": [],
   "source": [
    "%run './../../top_k.ipynb'\n",
    "%run './../../plot_confusion_matrix.ipynb'\n",
    "\n",
    "import pandas as pd\n",
    "import numpy as np\n",
    "\n",
    "from sklearn.metrics import classification_report, accuracy_score, confusion_matrix, recall_score, precision_score"
   ]
  },
  {
   "cell_type": "code",
   "execution_count": 36,
   "metadata": {
    "collapsed": true
   },
   "outputs": [],
   "source": [
    "random_state = 47\n",
    "np.random.seed(seed=random_state)"
   ]
  },
  {
   "cell_type": "code",
   "execution_count": 37,
   "metadata": {
    "collapsed": true
   },
   "outputs": [],
   "source": [
    "labels = np.load('./label_600k_OnlyTri.npy')"
   ]
  },
  {
   "cell_type": "code",
   "execution_count": 38,
   "metadata": {
    "collapsed": false
   },
   "outputs": [],
   "source": [
    "saidas = np.load('./saida_600k_OnlyTri.npy')\n",
    "saidas = saidas[0,:,0,:]"
   ]
  },
  {
   "cell_type": "code",
   "execution_count": 39,
   "metadata": {
    "collapsed": false
   },
   "outputs": [
    {
     "name": "stdout",
     "output_type": "stream",
     "text": [
      "468893\n",
      "468893\n"
     ]
    }
   ],
   "source": [
    "print(len(labels))\n",
    "print(len(saidas))"
   ]
  },
  {
   "cell_type": "code",
   "execution_count": 40,
   "metadata": {
    "collapsed": false
   },
   "outputs": [
    {
     "name": "stdout",
     "output_type": "stream",
     "text": [
      "float64\n",
      "float64\n"
     ]
    }
   ],
   "source": [
    "print(labels.dtype)\n",
    "print(saidas.dtype)"
   ]
  },
  {
   "cell_type": "code",
   "execution_count": 41,
   "metadata": {
    "collapsed": false
   },
   "outputs": [
    {
     "name": "stdout",
     "output_type": "stream",
     "text": [
      "(468893, 15)\n",
      "(468893, 15)\n"
     ]
    }
   ],
   "source": [
    "print(labels.shape)\n",
    "print(saidas.shape)"
   ]
  },
  {
   "cell_type": "code",
   "execution_count": 42,
   "metadata": {
    "collapsed": false
   },
   "outputs": [
    {
     "data": {
      "text/plain": [
       "array([[ 0.,  1.,  0., ...,  0.,  0.,  0.],\n",
       "       [ 0.,  1.,  0., ...,  0.,  0.,  0.],\n",
       "       [ 0.,  0.,  0., ...,  0.,  0.,  0.],\n",
       "       ..., \n",
       "       [ 0.,  0.,  0., ...,  1.,  0.,  0.],\n",
       "       [ 0.,  0.,  0., ...,  0.,  0.,  0.],\n",
       "       [ 0.,  0.,  0., ...,  0.,  0.,  0.]])"
      ]
     },
     "execution_count": 42,
     "metadata": {},
     "output_type": "execute_result"
    }
   ],
   "source": [
    "labels"
   ]
  },
  {
   "cell_type": "code",
   "execution_count": 43,
   "metadata": {
    "collapsed": false
   },
   "outputs": [
    {
     "data": {
      "text/plain": [
       "array([[  8.45266099e-04,   4.61540818e-01,   2.61160801e-03, ...,\n",
       "          3.17026192e-04,   3.32648963e-01,   4.18320578e-03],\n",
       "       [  1.64772442e-03,   9.41975117e-01,   2.01433012e-03, ...,\n",
       "          5.08473488e-03,   1.68472603e-02,   2.93597067e-03],\n",
       "       [  1.30626075e-02,   4.53365535e-01,   1.41009083e-02, ...,\n",
       "          2.31445711e-02,   1.27870485e-01,   3.24741937e-02],\n",
       "       ..., \n",
       "       [  3.65633680e-03,   8.42652470e-02,   4.30452168e-01, ...,\n",
       "          1.19526029e-01,   1.14114270e-01,   3.96839194e-02],\n",
       "       [  6.46665721e-05,   8.61461647e-03,   4.27212159e-04, ...,\n",
       "          3.37094622e-04,   3.83966342e-02,   1.34197832e-03],\n",
       "       [  1.92290433e-02,   7.89982527e-02,   4.07397971e-02, ...,\n",
       "          1.26239024e-02,   5.55706210e-02,   2.54335571e-02]])"
      ]
     },
     "execution_count": 43,
     "metadata": {},
     "output_type": "execute_result"
    }
   ],
   "source": [
    "saidas"
   ]
  },
  {
   "cell_type": "code",
   "execution_count": 44,
   "metadata": {
    "collapsed": true
   },
   "outputs": [],
   "source": [
    "saidas_test = np.copy(saidas)"
   ]
  },
  {
   "cell_type": "code",
   "execution_count": 45,
   "metadata": {
    "collapsed": false
   },
   "outputs": [
    {
     "name": "stdout",
     "output_type": "stream",
     "text": [
      "[ 0.  1.  0.  0.  0.  0.  0.  0.  0.  0.  0.  0.  0.  0.  0.]\n",
      "[  8.45266099e-04   4.61540818e-01   2.61160801e-03   6.99286861e-03\n",
      "   4.08147648e-03   9.43431780e-02   6.81767380e-03   6.99755456e-03\n",
      "   9.64546110e-04   3.25410254e-02   6.08803192e-03   3.90267447e-02\n",
      "   3.17026192e-04   3.32648963e-01   4.18320578e-03]\n",
      "1\n",
      "================================\n",
      "[ 0.  0.  0.  0.  0.  0.  0.  0.  0.  0.  0.  0.  0.  0.  1.]\n",
      "[ 0.00250011  0.02055619  0.07943619  0.03142896  0.00579616  0.01360447\n",
      "  0.0025398   0.00161432  0.0015887   0.02591401  0.01075962  0.00619937\n",
      "  0.04815132  0.0436355   0.70627528]\n",
      "14\n",
      "================================\n",
      "[ 0.  1.  0.  0.  0.  0.  0.  0.  0.  0.  0.  0.  0.  0.  0.]\n",
      "[ 0.01361735  0.27365518  0.06581937  0.02533847  0.02117884  0.00945179\n",
      "  0.00318893  0.02063312  0.00628976  0.02570834  0.01719441  0.02795564\n",
      "  0.03403247  0.40766773  0.04826857]\n",
      "13\n",
      "================================\n",
      "[ 0.  0.  0.  0.  1.  0.  0.  0.  0.  0.  0.  0.  0.  0.  0.]\n",
      "[  4.28979838e-04   1.23713849e-04   6.09543094e-05   3.59171710e-04\n",
      "   6.79853201e-01   1.04703850e-05   4.24368591e-05   3.17586243e-01\n",
      "   3.27666203e-05   2.67024356e-04   4.94642809e-05   5.61712004e-05\n",
      "   3.38474929e-04   8.04510928e-05   7.10576598e-04]\n",
      "4\n",
      "================================\n",
      "[ 0.  0.  0.  0.  0.  0.  0.  0.  0.  1.  0.  0.  0.  0.  0.]\n",
      "[ 0.01799135  0.14450046  0.13465002  0.12323944  0.04654552  0.01676345\n",
      "  0.0074225   0.0441683   0.00602407  0.07830768  0.01574185  0.08399643\n",
      "  0.10912228  0.14572293  0.02580378]\n",
      "13\n",
      "================================\n",
      "[ 0.  0.  1.  0.  0.  0.  0.  0.  0.  0.  0.  0.  0.  0.  0.]\n",
      "[ 0.01345021  0.04643711  0.47684246  0.0919021   0.01237079  0.01466183\n",
      "  0.00892054  0.00261899  0.00244364  0.08725086  0.02514984  0.04142015\n",
      "  0.05631027  0.06314265  0.05707845]\n",
      "2\n",
      "================================\n",
      "[ 0.  0.  0.  0.  0.  0.  0.  0.  0.  1.  0.  0.  0.  0.  0.]\n",
      "[  7.69710867e-03   7.51173556e-01   1.45583646e-03   1.59656666e-02\n",
      "   1.10552758e-02   3.09746694e-02   3.60956532e-03   7.19144824e-04\n",
      "   1.80985674e-03   2.20958684e-02   3.21083795e-03   3.60523053e-02\n",
      "   7.06744147e-04   1.08791038e-01   4.68256278e-03]\n",
      "1\n",
      "================================\n"
     ]
    }
   ],
   "source": [
    "print(labels[0])\n",
    "print(saidas[0])\n",
    "print(saidas[0].argmax())\n",
    "print('================================')\n",
    "print(labels[15])\n",
    "print(saidas[15])\n",
    "print(saidas[15].argmax())\n",
    "print('================================')\n",
    "print(labels[16])\n",
    "print(saidas[16])\n",
    "print(saidas[16].argmax())\n",
    "print('================================')\n",
    "print(labels[976])\n",
    "print(saidas[976])\n",
    "print(saidas[976].argmax())\n",
    "print('================================')\n",
    "print(labels[890])\n",
    "print(saidas[890])\n",
    "print(saidas[890].argmax())\n",
    "print('================================')\n",
    "print(labels[10000])\n",
    "print(saidas[10000])\n",
    "print(saidas[10000].argmax())\n",
    "print('================================')\n",
    "print(labels[135670])\n",
    "print(saidas[135670])\n",
    "print(saidas[135670].argmax())\n",
    "print('================================')"
   ]
  },
  {
   "cell_type": "code",
   "execution_count": 46,
   "metadata": {
    "collapsed": false
   },
   "outputs": [],
   "source": [
    "for i in range(len(saidas)):\n",
    "    saidas[i,:] = saidas[i,:] == saidas[i,:].max()"
   ]
  },
  {
   "cell_type": "code",
   "execution_count": 47,
   "metadata": {
    "collapsed": false
   },
   "outputs": [
    {
     "data": {
      "text/plain": [
       "array([[ 0.,  1.,  0., ...,  0.,  0.,  0.],\n",
       "       [ 0.,  1.,  0., ...,  0.,  0.,  0.],\n",
       "       [ 0.,  1.,  0., ...,  0.,  0.,  0.],\n",
       "       ..., \n",
       "       [ 0.,  0.,  1., ...,  0.,  0.,  0.],\n",
       "       [ 0.,  0.,  0., ...,  0.,  0.,  0.],\n",
       "       [ 0.,  0.,  0., ...,  0.,  0.,  0.]])"
      ]
     },
     "execution_count": 47,
     "metadata": {},
     "output_type": "execute_result"
    }
   ],
   "source": [
    "saidas"
   ]
  },
  {
   "cell_type": "code",
   "execution_count": 48,
   "metadata": {
    "collapsed": false
   },
   "outputs": [
    {
     "name": "stdout",
     "output_type": "stream",
     "text": [
      "[ 0.  1.  0.  0.  0.  0.  0.  0.  0.  0.  0.  0.  0.  0.  0.]\n",
      "1\n",
      "[ 0.  0.  0.  0.  0.  0.  0.  0.  0.  0.  0.  0.  0.  0.  1.]\n",
      "14\n",
      "[ 0.  0.  0.  0.  0.  0.  0.  0.  0.  0.  0.  0.  0.  1.  0.]\n",
      "13\n",
      "[ 0.  0.  0.  0.  1.  0.  0.  0.  0.  0.  0.  0.  0.  0.  0.]\n",
      "4\n",
      "[ 0.  0.  0.  0.  0.  0.  0.  0.  0.  0.  0.  0.  0.  1.  0.]\n",
      "13\n",
      "[ 0.  0.  1.  0.  0.  0.  0.  0.  0.  0.  0.  0.  0.  0.  0.]\n",
      "2\n",
      "[ 0.  1.  0.  0.  0.  0.  0.  0.  0.  0.  0.  0.  0.  0.  0.]\n",
      "1\n"
     ]
    }
   ],
   "source": [
    "print(saidas[0])\n",
    "print(saidas[0].argmax())\n",
    "print(saidas[15])\n",
    "print(saidas[15].argmax())\n",
    "print(saidas[16])\n",
    "print(saidas[16].argmax())\n",
    "print(saidas[976])\n",
    "print(saidas[976].argmax())\n",
    "print(saidas[890])\n",
    "print(saidas[890].argmax())\n",
    "print(saidas[10000])\n",
    "print(saidas[10000].argmax())\n",
    "print(saidas[135670])\n",
    "print(saidas[135670].argmax())"
   ]
  },
  {
   "cell_type": "code",
   "execution_count": 49,
   "metadata": {
    "collapsed": true
   },
   "outputs": [],
   "source": [
    "for i in range(len(saidas)):\n",
    "    if saidas[i].argmax() != saidas_test[i].argmax():\n",
    "        print('Diferente: ' + i)"
   ]
  },
  {
   "cell_type": "markdown",
   "metadata": {},
   "source": [
    "### Classification report"
   ]
  },
  {
   "cell_type": "code",
   "execution_count": 50,
   "metadata": {
    "collapsed": false
   },
   "outputs": [
    {
     "name": "stdout",
     "output_type": "stream",
     "text": [
      "             precision    recall  f1-score   support\n",
      "\n",
      "          0       0.78      0.47      0.58     10576\n",
      "          1       0.51      0.58      0.54     76404\n",
      "          2       0.41      0.75      0.53     72386\n",
      "          3       0.51      0.34      0.41     35350\n",
      "          4       0.70      0.47      0.57     16742\n",
      "          5       0.64      0.30      0.41     17994\n",
      "          6       0.84      0.39      0.53      8407\n",
      "          7       0.51      0.20      0.29     13915\n",
      "          8       0.47      0.07      0.13      2646\n",
      "          9       0.46      0.29      0.36     32193\n",
      "         10       0.53      0.48      0.50     17421\n",
      "         11       0.56      0.42      0.48     32951\n",
      "         12       0.41      0.26      0.32     28585\n",
      "         13       0.49      0.59      0.53     73048\n",
      "         14       0.69      0.52      0.59     30275\n",
      "\n",
      "avg / total       0.52      0.50      0.49    468893\n",
      "\n"
     ]
    }
   ],
   "source": [
    "print(classification_report(labels, saidas))"
   ]
  },
  {
   "cell_type": "markdown",
   "metadata": {},
   "source": [
    "### Accuracy"
   ]
  },
  {
   "cell_type": "code",
   "execution_count": 51,
   "metadata": {
    "collapsed": false
   },
   "outputs": [
    {
     "name": "stdout",
     "output_type": "stream",
     "text": [
      "0.495876457955\n"
     ]
    }
   ],
   "source": [
    "print(accuracy_score(labels, saidas))"
   ]
  },
  {
   "cell_type": "markdown",
   "metadata": {},
   "source": [
    "### Precision"
   ]
  },
  {
   "cell_type": "code",
   "execution_count": 52,
   "metadata": {
    "collapsed": false
   },
   "outputs": [
    {
     "name": "stdout",
     "output_type": "stream",
     "text": [
      "0.495876457955\n"
     ]
    }
   ],
   "source": [
    "print(precision_score(labels, saidas, average='micro'))"
   ]
  },
  {
   "cell_type": "markdown",
   "metadata": {},
   "source": [
    "### Precision weighted"
   ]
  },
  {
   "cell_type": "code",
   "execution_count": 53,
   "metadata": {
    "collapsed": false
   },
   "outputs": [
    {
     "name": "stdout",
     "output_type": "stream",
     "text": [
      "0.519999104239\n"
     ]
    }
   ],
   "source": [
    "print(precision_score(labels, saidas, average='weighted'))"
   ]
  },
  {
   "cell_type": "markdown",
   "metadata": {},
   "source": [
    "### Top K"
   ]
  },
  {
   "cell_type": "code",
   "execution_count": 54,
   "metadata": {
    "collapsed": false,
    "scrolled": true
   },
   "outputs": [
    {
     "data": {
      "text/plain": [
       "74.59868242861378"
      ]
     },
     "execution_count": 54,
     "metadata": {},
     "output_type": "execute_result"
    }
   ],
   "source": [
    "top_k(labels, saidas_test, 3)"
   ]
  },
  {
   "cell_type": "markdown",
   "metadata": {},
   "source": [
    "### Recall"
   ]
  },
  {
   "cell_type": "code",
   "execution_count": 55,
   "metadata": {
    "collapsed": false,
    "scrolled": true
   },
   "outputs": [
    {
     "name": "stdout",
     "output_type": "stream",
     "text": [
      "0.408103709202\n"
     ]
    }
   ],
   "source": [
    "print(recall_score(labels, saidas, average='macro'))"
   ]
  },
  {
   "cell_type": "markdown",
   "metadata": {},
   "source": [
    "### Transformando as classes para labels string"
   ]
  },
  {
   "cell_type": "code",
   "execution_count": 56,
   "metadata": {
    "collapsed": true
   },
   "outputs": [],
   "source": [
    "dict_cat = {\n",
    "    0: 'Adult',\n",
    "    1: 'Arts',\n",
    "    2: 'Business',\n",
    "    3: 'Computers',\n",
    "    4: 'Games',\n",
    "    5: 'Health',\n",
    "    6: 'Home',\n",
    "    7: 'Kids',\n",
    "    8: 'News',\n",
    "    9: 'Recreation',\n",
    "    10: 'Reference',\n",
    "    11: 'Science',\n",
    "    12: 'Shopping',\n",
    "    13: 'Society',\n",
    "    14: 'Sports'\n",
    "}\n",
    "\n",
    "def to_category_name(item):\n",
    "    return dict_cat[item]"
   ]
  },
  {
   "cell_type": "code",
   "execution_count": 57,
   "metadata": {
    "collapsed": false
   },
   "outputs": [],
   "source": [
    "saidas_label = np.zeros(shape=(saidas.shape[0]), dtype='object')\n",
    "labels_label = np.zeros(shape=(labels.shape[0]), dtype='object')\n",
    "\n",
    "for i in range(labels.shape[0]):\n",
    "    saidas_label[i] = to_category_name(saidas[i,:].argmax())\n",
    "    labels_label[i] = to_category_name(labels[i,:].argmax())"
   ]
  },
  {
   "cell_type": "code",
   "execution_count": 58,
   "metadata": {
    "collapsed": false
   },
   "outputs": [
    {
     "name": "stdout",
     "output_type": "stream",
     "text": [
      "['Arts' 'Arts' 'Arts' ..., 'Business' 'Games' 'Reference']\n",
      "['Arts' 'Arts' 'Games' ..., 'Shopping' 'Kids' 'Reference']\n"
     ]
    }
   ],
   "source": [
    "print(saidas_label)\n",
    "print(labels_label)"
   ]
  },
  {
   "cell_type": "code",
   "execution_count": 59,
   "metadata": {
    "collapsed": false
   },
   "outputs": [
    {
     "name": "stdout",
     "output_type": "stream",
     "text": [
      "11\n",
      "Science\n",
      "10\n",
      "Reference\n"
     ]
    }
   ],
   "source": [
    "#Validando transformação\n",
    "pos = 589\n",
    "print(labels[pos].argmax())\n",
    "print(labels_label[pos])\n",
    "\n",
    "print(saidas[pos].argmax())\n",
    "print(saidas_label[pos])"
   ]
  },
  {
   "cell_type": "markdown",
   "metadata": {},
   "source": [
    "### Classification report"
   ]
  },
  {
   "cell_type": "code",
   "execution_count": 60,
   "metadata": {
    "collapsed": false
   },
   "outputs": [
    {
     "name": "stdout",
     "output_type": "stream",
     "text": [
      "             precision    recall  f1-score   support\n",
      "\n",
      "      Adult       0.78      0.47      0.58     10576\n",
      "       Arts       0.51      0.58      0.54     76404\n",
      "   Business       0.41      0.75      0.53     72386\n",
      "  Computers       0.51      0.34      0.41     35350\n",
      "      Games       0.70      0.47      0.57     16742\n",
      "     Health       0.64      0.30      0.41     17994\n",
      "       Home       0.84      0.39      0.53      8407\n",
      "       Kids       0.51      0.20      0.29     13915\n",
      "       News       0.47      0.07      0.13      2646\n",
      " Recreation       0.46      0.29      0.36     32193\n",
      "  Reference       0.53      0.48      0.50     17421\n",
      "    Science       0.56      0.42      0.48     32951\n",
      "   Shopping       0.41      0.26      0.32     28585\n",
      "    Society       0.49      0.59      0.53     73048\n",
      "     Sports       0.69      0.52      0.59     30275\n",
      "\n",
      "avg / total       0.52      0.50      0.49    468893\n",
      "\n"
     ]
    }
   ],
   "source": [
    "print(classification_report(labels_label, saidas_label))"
   ]
  },
  {
   "cell_type": "markdown",
   "metadata": {},
   "source": [
    "### Precisão exata por classe"
   ]
  },
  {
   "cell_type": "code",
   "execution_count": 61,
   "metadata": {
    "collapsed": false
   },
   "outputs": [
    {
     "name": "stdout",
     "output_type": "stream",
     "text": [
      "[ 0.77907343  0.50613991  0.40813126  0.50740118  0.70263789  0.64204749\n",
      "  0.84259499  0.50876232  0.46919431  0.4622679   0.52731079  0.55565016\n",
      "  0.40966081  0.49089469  0.68591964]\n"
     ]
    }
   ],
   "source": [
    "print(precision_score(labels_label, saidas_label, average=None))"
   ]
  },
  {
   "cell_type": "markdown",
   "metadata": {},
   "source": [
    "### Recall exato por classe"
   ]
  },
  {
   "cell_type": "code",
   "execution_count": 62,
   "metadata": {
    "collapsed": false
   },
   "outputs": [
    {
     "name": "stdout",
     "output_type": "stream",
     "text": [
      "[ 0.46747352  0.58369981  0.74776891  0.34132956  0.47252419  0.29904413\n",
      "  0.38777209  0.20028746  0.07482993  0.28922437  0.47712531  0.41589026\n",
      "  0.25604338  0.5852727   0.52327002]\n"
     ]
    }
   ],
   "source": [
    "print(recall_score(labels_label, saidas_label, average=None))"
   ]
  },
  {
   "cell_type": "markdown",
   "metadata": {},
   "source": [
    "### Accuracy"
   ]
  },
  {
   "cell_type": "code",
   "execution_count": 63,
   "metadata": {
    "collapsed": false
   },
   "outputs": [
    {
     "name": "stdout",
     "output_type": "stream",
     "text": [
      "0.495876457955\n"
     ]
    }
   ],
   "source": [
    "print(accuracy_score(labels_label, saidas_label))"
   ]
  },
  {
   "cell_type": "markdown",
   "metadata": {},
   "source": [
    "### Precision weighted"
   ]
  },
  {
   "cell_type": "code",
   "execution_count": 64,
   "metadata": {
    "collapsed": false
   },
   "outputs": [
    {
     "name": "stdout",
     "output_type": "stream",
     "text": [
      "0.519999104239\n"
     ]
    }
   ],
   "source": [
    "print(precision_score(labels_label, saidas_label, average='weighted'))"
   ]
  },
  {
   "cell_type": "markdown",
   "metadata": {},
   "source": [
    "### Confusion Matrix"
   ]
  },
  {
   "cell_type": "code",
   "execution_count": 65,
   "metadata": {
    "collapsed": false
   },
   "outputs": [],
   "source": [
    "cm = confusion_matrix(labels_label, saidas_label)"
   ]
  },
  {
   "cell_type": "code",
   "execution_count": 66,
   "metadata": {
    "collapsed": false
   },
   "outputs": [
    {
     "data": {
      "text/plain": [
       "(array(['Adult', 'Arts', 'Business', 'Computers', 'Games', 'Health', 'Home',\n",
       "        'Kids', 'News', 'Recreation', 'Reference', 'Science', 'Shopping',\n",
       "        'Society', 'Sports'], dtype=object),\n",
       " array([10576, 76404, 72386, 35350, 16742, 17994,  8407, 13915,  2646,\n",
       "        32193, 17421, 32951, 28585, 73048, 30275]))"
      ]
     },
     "execution_count": 66,
     "metadata": {},
     "output_type": "execute_result"
    }
   ],
   "source": [
    "counts = np.unique(labels_label, return_counts=True)\n",
    "counts"
   ]
  },
  {
   "cell_type": "code",
   "execution_count": 67,
   "metadata": {
    "collapsed": false
   },
   "outputs": [],
   "source": [
    "class_names = ['Adult', 'Arts', 'Business', 'Computers', 'Games', 'Health', 'Home',\n",
    "       'Kids', 'News', 'Recreation', 'Reference', 'Science', 'Shopping',\n",
    "       'Society', 'Sports']"
   ]
  },
  {
   "cell_type": "code",
   "execution_count": 78,
   "metadata": {
    "collapsed": false
   },
   "outputs": [
    {
     "name": "stdout",
     "output_type": "stream",
     "text": [
      "Confusion matrix, without normalization\n",
      "[[ 4944  1469  2241   248    39    24     8   140     3   254    16    55\n",
      "    375   643   117]\n",
      " [  295 44597 11846  1691   449   274    80   482    40  1838   919  1429\n",
      "   1844  9560  1060]\n",
      " [  182  4631 54128  2282    76   390    48   181    29  1367   284   835\n",
      "   2967  3968  1018]\n",
      " [   82  3222 12507 12066   189   144    32   176    16   589   564  1417\n",
      "    668  3361   317]\n",
      " [   55  2915  2013   815  7911    24    11   327     2   410    54   186\n",
      "    260  1309   450]\n",
      " [   27  1599  3883   428    46  5381    52    98    10   394   558   781\n",
      "    365  4129   243]\n",
      " [   17  1121  1169   227    24   122  3260    56     3   296    57   306\n",
      "    314  1335   100]\n",
      " [  132  2341  1483   375  1832   169    38  2787     5   680   271  1188\n",
      "    158  2160   296]\n",
      " [    2   437   947   141     6    33     4     6   198    72    80    79\n",
      "     74   522    45]\n",
      " [  130  5300  7455   839   148   223    63   206    12  9311   229   667\n",
      "   1354  5144  1112]\n",
      " [   17  1141  2055   473    19   171    15   105    21   259  8312  1367\n",
      "    192  2931   343]\n",
      " [   44  2693  5560  1476    81   411    72   371    10   661  2113 13704\n",
      "    264  5176   315]\n",
      " [  124  3518 12976   602   116   211    77    98     5  1079    78   112\n",
      "   7319  1317   953]\n",
      " [  228  9903  9484  1646   186   713    99   355    37  1691  1828  2248\n",
      "    992 42753   885]\n",
      " [   67  3225  4877   471   137    91    10    90    31  1241   400   289\n",
      "    720  2784 15842]]\n"
     ]
    },
    {
     "data": {
      "image/png": "[encoded data removed]",
      "text/plain": [
       "<matplotlib.figure.Figure at 0x11d672550>"
      ]
     },
     "metadata": {},
     "output_type": "display_data"
    }
   ],
   "source": [
    "plt.figure(figsize=(6*2.5,4*2.5))\n",
    "plot_confusion_matrix(cm, classes=class_names,\n",
    "                      title='')\n",
    "plt.savefig('./ann-600k-cm.png')"
   ]
  },
  {
   "cell_type": "code",
   "execution_count": null,
   "metadata": {
    "collapsed": true
   },
   "outputs": [],
   "source": []
  }
 ],
 "metadata": {
  "kernelspec": {
   "display_name": "Python 3",
   "language": "python",
   "name": "python3"
  },
  "language_info": {
   "codemirror_mode": {
    "name": "ipython",
    "version": 3
   },
   "file_extension": ".py",
   "mimetype": "text/x-python",
   "name": "python",
   "nbconvert_exporter": "python",
   "pygments_lexer": "ipython3",
   "version": "3.6.0"
  }
 },
 "nbformat": 4,
 "nbformat_minor": 2
}

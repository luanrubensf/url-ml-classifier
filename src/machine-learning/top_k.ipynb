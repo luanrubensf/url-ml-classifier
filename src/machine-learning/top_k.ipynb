{
 "cells": [
  {
   "cell_type": "code",
   "execution_count": 1,
   "metadata": {
    "collapsed": true
   },
   "outputs": [],
   "source": [
    "def get_top_k(item, k):\n",
    "    values = []\n",
    "    item_copy = np.copy(item)\n",
    "    for i in range(k):\n",
    "        value = item_copy.argmax()\n",
    "        values.insert(len(values), value)\n",
    "        item_copy[value] = .0\n",
    "    return values"
   ]
  },
  {
   "cell_type": "code",
   "execution_count": 2,
   "metadata": {
    "collapsed": true
   },
   "outputs": [],
   "source": [
    "def get_top_k_metric(labels_p, predictions_p, k): \n",
    "    corrects = []\n",
    "    incorrects = []\n",
    "    for i in range(labels_p.shape[0]):\n",
    "        label = labels_p[i].argmax()\n",
    "        top_k = get_top_k(predictions_p[i], k)\n",
    "        if label in top_k:\n",
    "            corrects.insert(len(corrects), i)\n",
    "        else:\n",
    "            incorrects.insert(len(incorrects), i)\n",
    "    return corrects, incorrects"
   ]
  },
  {
   "cell_type": "code",
   "execution_count": 3,
   "metadata": {
    "collapsed": true
   },
   "outputs": [],
   "source": [
    "def top_k(labels_p, predicitons_p, k):\n",
    "    cor, inc = get_top_k_metric(labels_p, predicitons_p, k)\n",
    "    n_cor = len(cor)\n",
    "    n_inc = len(inc)\n",
    "    total = n_cor + n_inc\n",
    "    return n_cor * 100 / total"
   ]
  },
  {
   "cell_type": "code",
   "execution_count": null,
   "metadata": {
    "collapsed": true
   },
   "outputs": [],
   "source": []
  }
 ],
 "metadata": {
  "kernelspec": {
   "display_name": "Python 3",
   "language": "python",
   "name": "python3"
  },
  "language_info": {
   "codemirror_mode": {
    "name": "ipython",
    "version": 3
   },
   "file_extension": ".py",
   "mimetype": "text/x-python",
   "name": "python",
   "nbconvert_exporter": "python",
   "pygments_lexer": "ipython3",
   "version": "3.6.0"
  }
 },
 "nbformat": 4,
 "nbformat_minor": 2
}

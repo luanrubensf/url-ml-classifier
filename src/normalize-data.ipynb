{
 "cells": [
  {
   "cell_type": "code",
   "execution_count": 1,
   "metadata": {
    "collapsed": true
   },
   "outputs": [],
   "source": [
    "import pandas as pd\n",
    "\n",
    "from pymongo import MongoClient\n",
    "import matplotlib.pyplot as plt\n",
    "\n",
    "# Display plots inline and change default figure size\n",
    "%matplotlib inline"
   ]
  },
  {
   "cell_type": "code",
   "execution_count": 2,
   "metadata": {
    "collapsed": true
   },
   "outputs": [],
   "source": [
    "client = MongoClient()\n",
    "client = MongoClient('localhost', 27800)\n",
    "\n",
    "db_odp = client.odp_logs \n",
    "db_log_lines = db_odp.log_lines"
   ]
  },
  {
   "cell_type": "code",
   "execution_count": 3,
   "metadata": {
    "collapsed": false
   },
   "outputs": [],
   "source": [
    "df_odp_urls = pd.DataFrame(list(db_log_lines.find({})))"
   ]
  },
  {
   "cell_type": "code",
   "execution_count": 4,
   "metadata": {
    "collapsed": false
   },
   "outputs": [
    {
     "name": "stdout",
     "output_type": "stream",
     "text": [
      "1562978\n",
      "1560920\n"
     ]
    }
   ],
   "source": [
    "print(len(df_odp_urls))\n",
    "\n",
    "df_odp_urls = df_odp_urls[df_odp_urls['normalized_url'] != '']\n",
    "\n",
    "print(len(df_odp_urls))"
   ]
  },
  {
   "cell_type": "code",
   "execution_count": 5,
   "metadata": {
    "collapsed": false
   },
   "outputs": [
    {
     "data": {
      "text/html": [
       "<div>\n",
       "<table border=\"1\" class=\"dataframe\">\n",
       "  <thead>\n",
       "    <tr style=\"text-align: right;\">\n",
       "      <th></th>\n",
       "      <th>_id</th>\n",
       "      <th>category</th>\n",
       "      <th>normalized_url</th>\n",
       "      <th>url</th>\n",
       "    </tr>\n",
       "  </thead>\n",
       "  <tbody>\n",
       "    <tr>\n",
       "      <th>0</th>\n",
       "      <td>59a2ed3d88b03213aca8fcd4</td>\n",
       "      <td>Adult</td>\n",
       "      <td>liquidgeneration</td>\n",
       "      <td>http://www.liquidgeneration.com/</td>\n",
       "    </tr>\n",
       "    <tr>\n",
       "      <th>1</th>\n",
       "      <td>59a2ed3e88b03213aca8fcd5</td>\n",
       "      <td>Adult</td>\n",
       "      <td>onlineanimeorg</td>\n",
       "      <td>http://www.onlineanime.org/</td>\n",
       "    </tr>\n",
       "    <tr>\n",
       "      <th>2</th>\n",
       "      <td>59a2ed3e88b03213aca8fcd6</td>\n",
       "      <td>Adult</td>\n",
       "      <td>ceresdtinekoisennosenfirst</td>\n",
       "      <td>http://www.ceres.dti.ne.jp/~nekoi/senno/senfir...</td>\n",
       "    </tr>\n",
       "    <tr>\n",
       "      <th>3</th>\n",
       "      <td>59a2ed3e88b03213aca8fcd7</td>\n",
       "      <td>Adult</td>\n",
       "      <td>galeonkmh</td>\n",
       "      <td>http://www.galeon.com/kmh/</td>\n",
       "    </tr>\n",
       "    <tr>\n",
       "      <th>4</th>\n",
       "      <td>59a2ed3e88b03213aca8fcd8</td>\n",
       "      <td>Adult</td>\n",
       "      <td>fanworkrecs</td>\n",
       "      <td>http://www.fanworkrecs.com/</td>\n",
       "    </tr>\n",
       "  </tbody>\n",
       "</table>\n",
       "</div>"
      ],
      "text/plain": [
       "                        _id category              normalized_url  \\\n",
       "0  59a2ed3d88b03213aca8fcd4    Adult            liquidgeneration   \n",
       "1  59a2ed3e88b03213aca8fcd5    Adult              onlineanimeorg   \n",
       "2  59a2ed3e88b03213aca8fcd6    Adult  ceresdtinekoisennosenfirst   \n",
       "3  59a2ed3e88b03213aca8fcd7    Adult                   galeonkmh   \n",
       "4  59a2ed3e88b03213aca8fcd8    Adult                 fanworkrecs   \n",
       "\n",
       "                                                 url  \n",
       "0                   http://www.liquidgeneration.com/  \n",
       "1                        http://www.onlineanime.org/  \n",
       "2  http://www.ceres.dti.ne.jp/~nekoi/senno/senfir...  \n",
       "3                         http://www.galeon.com/kmh/  \n",
       "4                        http://www.fanworkrecs.com/  "
      ]
     },
     "execution_count": 5,
     "metadata": {},
     "output_type": "execute_result"
    }
   ],
   "source": [
    "df_odp_urls.head()"
   ]
  },
  {
   "cell_type": "code",
   "execution_count": 6,
   "metadata": {
    "collapsed": false
   },
   "outputs": [
    {
     "data": {
      "text/html": [
       "<div>\n",
       "<table border=\"1\" class=\"dataframe\">\n",
       "  <thead>\n",
       "    <tr style=\"text-align: right;\">\n",
       "      <th></th>\n",
       "      <th>_id</th>\n",
       "      <th>category</th>\n",
       "      <th>normalized_url</th>\n",
       "      <th>url</th>\n",
       "    </tr>\n",
       "  </thead>\n",
       "  <tbody>\n",
       "  </tbody>\n",
       "</table>\n",
       "</div>"
      ],
      "text/plain": [
       "Empty DataFrame\n",
       "Columns: [_id, category, normalized_url, url]\n",
       "Index: []"
      ]
     },
     "execution_count": 6,
     "metadata": {},
     "output_type": "execute_result"
    }
   ],
   "source": [
    "n_samples = 15000\n",
    "categories = df_odp_urls['category'].unique()\n",
    "\n",
    "df_final = pd.DataFrame(columns=df_odp_urls.columns)\n",
    "df_final"
   ]
  },
  {
   "cell_type": "code",
   "execution_count": 7,
   "metadata": {
    "collapsed": false
   },
   "outputs": [
    {
     "name": "stdout",
     "output_type": "stream",
     "text": [
      "15000\n",
      "30000\n",
      "45000\n",
      "60000\n",
      "75000\n",
      "90000\n",
      "105000\n",
      "120000\n",
      "128972\n",
      "143972\n",
      "158972\n",
      "173972\n",
      "188972\n",
      "203972\n",
      "218972\n"
     ]
    }
   ],
   "source": [
    "for cat in categories:\n",
    "    df_aux = df_odp_urls[df_odp_urls['category'] == cat]\n",
    "    if(len(df_aux) < n_samples):\n",
    "        df_final = pd.concat([df_final, df_aux])\n",
    "    else:\n",
    "        df_final = pd.concat([df_final, df_aux.sample(n=n_samples)])\n",
    "    print(len(df_final))\n",
    "    "
   ]
  },
  {
   "cell_type": "code",
   "execution_count": 8,
   "metadata": {
    "collapsed": false
   },
   "outputs": [
    {
     "name": "stdout",
     "output_type": "stream",
     "text": [
      "218972\n"
     ]
    },
    {
     "data": {
      "text/html": [
       "<div>\n",
       "<table border=\"1\" class=\"dataframe\">\n",
       "  <thead>\n",
       "    <tr style=\"text-align: right;\">\n",
       "      <th></th>\n",
       "      <th>_id</th>\n",
       "      <th>category</th>\n",
       "      <th>normalized_url</th>\n",
       "      <th>url</th>\n",
       "    </tr>\n",
       "  </thead>\n",
       "  <tbody>\n",
       "    <tr>\n",
       "      <th>30661</th>\n",
       "      <td>59a2ed6888b03213aca97499</td>\n",
       "      <td>Adult</td>\n",
       "      <td>gayprogrammes</td>\n",
       "      <td>http://www.gay-programmes.com/</td>\n",
       "    </tr>\n",
       "    <tr>\n",
       "      <th>12842</th>\n",
       "      <td>59a2ed4e88b03213aca92efe</td>\n",
       "      <td>Adult</td>\n",
       "      <td>watchsomepornsiteskinkylesbianpornoindex</td>\n",
       "      <td>http://www.watchsomeporn.com/sites8/kinkylesbi...</td>\n",
       "    </tr>\n",
       "    <tr>\n",
       "      <th>6141</th>\n",
       "      <td>59a2ed4588b03213aca914d1</td>\n",
       "      <td>Adult</td>\n",
       "      <td>mmsitescarnindex</td>\n",
       "      <td>http://www.mmsites.com/carn/2index.htm</td>\n",
       "    </tr>\n",
       "    <tr>\n",
       "      <th>16960</th>\n",
       "      <td>59a2ed5588b03213aca93f14</td>\n",
       "      <td>Adult</td>\n",
       "      <td>clubnikkidevon</td>\n",
       "      <td>http://www.club-nikki.com/devon/</td>\n",
       "    </tr>\n",
       "    <tr>\n",
       "      <th>32946</th>\n",
       "      <td>59a2ed6b88b03213aca97d86</td>\n",
       "      <td>Adult</td>\n",
       "      <td>hotelvenusbayside</td>\n",
       "      <td>http://www.hotelvenus.co.jp/bayside/</td>\n",
       "    </tr>\n",
       "  </tbody>\n",
       "</table>\n",
       "</div>"
      ],
      "text/plain": [
       "                            _id category  \\\n",
       "30661  59a2ed6888b03213aca97499    Adult   \n",
       "12842  59a2ed4e88b03213aca92efe    Adult   \n",
       "6141   59a2ed4588b03213aca914d1    Adult   \n",
       "16960  59a2ed5588b03213aca93f14    Adult   \n",
       "32946  59a2ed6b88b03213aca97d86    Adult   \n",
       "\n",
       "                                 normalized_url  \\\n",
       "30661                             gayprogrammes   \n",
       "12842  watchsomepornsiteskinkylesbianpornoindex   \n",
       "6141                           mmsitescarnindex   \n",
       "16960                            clubnikkidevon   \n",
       "32946                         hotelvenusbayside   \n",
       "\n",
       "                                                     url  \n",
       "30661                     http://www.gay-programmes.com/  \n",
       "12842  http://www.watchsomeporn.com/sites8/kinkylesbi...  \n",
       "6141              http://www.mmsites.com/carn/2index.htm  \n",
       "16960                   http://www.club-nikki.com/devon/  \n",
       "32946               http://www.hotelvenus.co.jp/bayside/  "
      ]
     },
     "execution_count": 8,
     "metadata": {},
     "output_type": "execute_result"
    }
   ],
   "source": [
    "print(len(df_final))\n",
    "df_final.head()"
   ]
  },
  {
   "cell_type": "code",
   "execution_count": 9,
   "metadata": {
    "collapsed": false
   },
   "outputs": [
    {
     "name": "stdout",
     "output_type": "stream",
     "text": [
      "15\n",
      "218972\n"
     ]
    },
    {
     "data": {
      "text/html": [
       "<div>\n",
       "<table border=\"1\" class=\"dataframe\">\n",
       "  <thead>\n",
       "    <tr style=\"text-align: right;\">\n",
       "      <th></th>\n",
       "      <th>_id</th>\n",
       "      <th>normalized_url</th>\n",
       "      <th>url</th>\n",
       "    </tr>\n",
       "    <tr>\n",
       "      <th>category</th>\n",
       "      <th></th>\n",
       "      <th></th>\n",
       "      <th></th>\n",
       "    </tr>\n",
       "  </thead>\n",
       "  <tbody>\n",
       "    <tr>\n",
       "      <th>Adult</th>\n",
       "      <td>15000</td>\n",
       "      <td>15000</td>\n",
       "      <td>15000</td>\n",
       "    </tr>\n",
       "    <tr>\n",
       "      <th>Arts</th>\n",
       "      <td>15000</td>\n",
       "      <td>15000</td>\n",
       "      <td>15000</td>\n",
       "    </tr>\n",
       "    <tr>\n",
       "      <th>Business</th>\n",
       "      <td>15000</td>\n",
       "      <td>15000</td>\n",
       "      <td>15000</td>\n",
       "    </tr>\n",
       "    <tr>\n",
       "      <th>Computers</th>\n",
       "      <td>15000</td>\n",
       "      <td>15000</td>\n",
       "      <td>15000</td>\n",
       "    </tr>\n",
       "    <tr>\n",
       "      <th>Games</th>\n",
       "      <td>15000</td>\n",
       "      <td>15000</td>\n",
       "      <td>15000</td>\n",
       "    </tr>\n",
       "    <tr>\n",
       "      <th>Health</th>\n",
       "      <td>15000</td>\n",
       "      <td>15000</td>\n",
       "      <td>15000</td>\n",
       "    </tr>\n",
       "    <tr>\n",
       "      <th>Home</th>\n",
       "      <td>15000</td>\n",
       "      <td>15000</td>\n",
       "      <td>15000</td>\n",
       "    </tr>\n",
       "    <tr>\n",
       "      <th>Kids</th>\n",
       "      <td>15000</td>\n",
       "      <td>15000</td>\n",
       "      <td>15000</td>\n",
       "    </tr>\n",
       "    <tr>\n",
       "      <th>News</th>\n",
       "      <td>8972</td>\n",
       "      <td>8972</td>\n",
       "      <td>8972</td>\n",
       "    </tr>\n",
       "    <tr>\n",
       "      <th>Recreation</th>\n",
       "      <td>15000</td>\n",
       "      <td>15000</td>\n",
       "      <td>15000</td>\n",
       "    </tr>\n",
       "    <tr>\n",
       "      <th>Reference</th>\n",
       "      <td>15000</td>\n",
       "      <td>15000</td>\n",
       "      <td>15000</td>\n",
       "    </tr>\n",
       "    <tr>\n",
       "      <th>Science</th>\n",
       "      <td>15000</td>\n",
       "      <td>15000</td>\n",
       "      <td>15000</td>\n",
       "    </tr>\n",
       "    <tr>\n",
       "      <th>Shopping</th>\n",
       "      <td>15000</td>\n",
       "      <td>15000</td>\n",
       "      <td>15000</td>\n",
       "    </tr>\n",
       "    <tr>\n",
       "      <th>Society</th>\n",
       "      <td>15000</td>\n",
       "      <td>15000</td>\n",
       "      <td>15000</td>\n",
       "    </tr>\n",
       "    <tr>\n",
       "      <th>Sports</th>\n",
       "      <td>15000</td>\n",
       "      <td>15000</td>\n",
       "      <td>15000</td>\n",
       "    </tr>\n",
       "  </tbody>\n",
       "</table>\n",
       "</div>"
      ],
      "text/plain": [
       "              _id  normalized_url    url\n",
       "category                                \n",
       "Adult       15000           15000  15000\n",
       "Arts        15000           15000  15000\n",
       "Business    15000           15000  15000\n",
       "Computers   15000           15000  15000\n",
       "Games       15000           15000  15000\n",
       "Health      15000           15000  15000\n",
       "Home        15000           15000  15000\n",
       "Kids        15000           15000  15000\n",
       "News         8972            8972   8972\n",
       "Recreation  15000           15000  15000\n",
       "Reference   15000           15000  15000\n",
       "Science     15000           15000  15000\n",
       "Shopping    15000           15000  15000\n",
       "Society     15000           15000  15000\n",
       "Sports      15000           15000  15000"
      ]
     },
     "execution_count": 9,
     "metadata": {},
     "output_type": "execute_result"
    }
   ],
   "source": [
    "pd.set_option('display.max_rows', None)\n",
    "print(df_final['category'].nunique())\n",
    "print(len(df_final))\n",
    "df_final.groupby('category').count()"
   ]
  },
  {
   "cell_type": "code",
   "execution_count": 10,
   "metadata": {
    "collapsed": false
   },
   "outputs": [
    {
     "data": {
      "text/plain": [
       "<matplotlib.axes._subplots.AxesSubplot at 0x11567c4a8>"
      ]
     },
     "execution_count": 10,
     "metadata": {},
     "output_type": "execute_result"
    },
    {
     "data": {
      "image/png": "[encoded data removed]",
      "text/plain": [
       "<matplotlib.figure.Figure at 0x115675400>"
      ]
     },
     "metadata": {},
     "output_type": "display_data"
    }
   ],
   "source": [
    "plt.figure(1,figsize=(25,10))\n",
    "df_final.groupby('category')['normalized_url'].count().plot.bar()"
   ]
  },
  {
   "cell_type": "code",
   "execution_count": 11,
   "metadata": {
    "collapsed": true
   },
   "outputs": [],
   "source": [
    "df_final.to_csv('./data/odp_reduzido_3.csv', index=False)"
   ]
  },
  {
   "cell_type": "code",
   "execution_count": null,
   "metadata": {
    "collapsed": true
   },
   "outputs": [],
   "source": []
  }
 ],
 "metadata": {
  "kernelspec": {
   "display_name": "Python 3",
   "language": "python",
   "name": "python3"
  },
  "language_info": {
   "codemirror_mode": {
    "name": "ipython",
    "version": 3
   },
   "file_extension": ".py",
   "mimetype": "text/x-python",
   "name": "python",
   "nbconvert_exporter": "python",
   "pygments_lexer": "ipython3",
   "version": "3.6.0"
  }
 },
 "nbformat": 4,
 "nbformat_minor": 2
}

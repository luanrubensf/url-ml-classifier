{
 "cells": [
  {
   "cell_type": "code",
   "execution_count": 1,
   "metadata": {
    "collapsed": true
   },
   "outputs": [],
   "source": [
    "import os\n",
    "import re\n",
    "\n",
    "import pandas as pd\n",
    "\n",
    "from pymongo import MongoClient"
   ]
  },
  {
   "cell_type": "code",
   "execution_count": 2,
   "metadata": {
    "collapsed": true
   },
   "outputs": [],
   "source": [
    "'''\n",
    "Configura a conexão com a base de dados mongoDB\n",
    "'''\n",
    "client = MongoClient()\n",
    "\n",
    "client = MongoClient('localhost', 27800)\n",
    "\n",
    "db = client.odp_logs\n",
    "\n",
    "db_log_lines = db.log_lines"
   ]
  },
  {
   "cell_type": "code",
   "execution_count": 3,
   "metadata": {
    "collapsed": false
   },
   "outputs": [],
   "source": [
    "'''\n",
    "Le as palavras a serem excluídas dos registros de log da rede\n",
    "'''\n",
    "web_words_content = []\n",
    "with open('./res/web_words.txt') as wwf:\n",
    "    for ww in wwf:\n",
    "        web_words_content.insert(len(web_words_content), ww.strip())"
   ]
  },
  {
   "cell_type": "code",
   "execution_count": 4,
   "metadata": {
    "collapsed": true
   },
   "outputs": [],
   "source": [
    "'''\n",
    "Le as palavras a serem excluídas como extensões das urls\n",
    "'''\n",
    "web_words_extensios = []\n",
    "with open('./res/extensions.txt') as wwf:\n",
    "    for ww in wwf:\n",
    "        web_words_extensios.insert(len(web_words_extensios), ww.strip())"
   ]
  },
  {
   "cell_type": "code",
   "execution_count": 5,
   "metadata": {
    "collapsed": true
   },
   "outputs": [],
   "source": [
    "'''\n",
    "Função criada para remover todos as caracteres que não sejam as letras do alfabeto\n",
    "'''\n",
    "def remove_special_characters(pstr):\n",
    "    return re.sub('[^A-Za-z]+', '', pstr)"
   ]
  },
  {
   "cell_type": "code",
   "execution_count": 6,
   "metadata": {
    "collapsed": true
   },
   "outputs": [],
   "source": [
    "def remove_extensions(url):\n",
    "    for ext in web_words_extensios:\n",
    "        url = url.replace(ext, '')\n",
    "    return url"
   ]
  },
  {
   "cell_type": "code",
   "execution_count": 7,
   "metadata": {
    "collapsed": true
   },
   "outputs": [],
   "source": [
    "'''\n",
    "Normaliza a parte do hostname, efetuando a split por ponto, removendo as palavras comuns (www, com, br, net, etc) \n",
    "e depois removendo números e caracteres especiais\n",
    "'''\n",
    "def normalize_hostname(url):\n",
    "    final_result = ''\n",
    "    url = url.replace('http://', '').replace('https://', '')\n",
    "    url_split = url.split('/')\n",
    "    \n",
    "    hostname_split = url_split[0].split('.')\n",
    "    \n",
    "    path_split = url_split[1:]\n",
    "\n",
    "    for hs in hostname_split:\n",
    "        normal_hs = remove_special_characters(hs)\n",
    "        if len(normal_hs) > 2 and normal_hs not in web_words_content:\n",
    "            final_result += normal_hs\n",
    "    \n",
    "    for path in path_split:\n",
    "        normal_path = remove_extensions(path)\n",
    "        normal_path = remove_special_characters(normal_path)\n",
    "        if len(normal_path) > 2:\n",
    "            final_result += normal_path\n",
    "    \n",
    "    return final_result\n"
   ]
  },
  {
   "cell_type": "code",
   "execution_count": 8,
   "metadata": {
    "collapsed": false
   },
   "outputs": [],
   "source": [
    "'''\n",
    "Busca o arquivo de log e insere na base\n",
    "'''\n",
    "\n",
    "filepath = '../../Logs/dmoz-urlclassifier-master/dmoz.csv'\n",
    "\n",
    "with open(filepath, 'r') as f:\n",
    "    for line in f:\n",
    "        splits = line.split(',')\n",
    "        category = splits[-1].rstrip()\n",
    "        url = splits[1]\n",
    "        \n",
    "        obj = {\n",
    "            'url': url,\n",
    "            'normalized_url': normalize_hostname(url),\n",
    "            'category': category\n",
    "        }\n",
    "        \n",
    "        db_log_lines.insert_one(obj)"
   ]
  },
  {
   "cell_type": "code",
   "execution_count": 9,
   "metadata": {
    "collapsed": true
   },
   "outputs": [],
   "source": [
    "#1562978"
   ]
  },
  {
   "cell_type": "code",
   "execution_count": null,
   "metadata": {
    "collapsed": true
   },
   "outputs": [],
   "source": []
  }
 ],
 "metadata": {
  "kernelspec": {
   "display_name": "Python 3",
   "language": "python",
   "name": "python3"
  },
  "language_info": {
   "codemirror_mode": {
    "name": "ipython",
    "version": 3
   },
   "file_extension": ".py",
   "mimetype": "text/x-python",
   "name": "python",
   "nbconvert_exporter": "python",
   "pygments_lexer": "ipython3",
   "version": "3.6.0"
  }
 },
 "nbformat": 4,
 "nbformat_minor": 2
}

{
 "cells": [
  {
   "cell_type": "markdown",
   "metadata": {},
   "source": [
    "## Atualização de dados\n",
    "\n",
    "Criado para atualizar as categorias dos dados, pois foi efetuado um agrupamento de categorias."
   ]
  },
  {
   "cell_type": "code",
   "execution_count": 1,
   "metadata": {
    "collapsed": false
   },
   "outputs": [],
   "source": [
    "import pandas as pd\n",
    "\n",
    "from pymongo import MongoClient\n",
    "from bson.objectid import ObjectId"
   ]
  },
  {
   "cell_type": "code",
   "execution_count": 2,
   "metadata": {
    "collapsed": false
   },
   "outputs": [],
   "source": [
    "de_para = {\n",
    "    'Advertising':'Advertising',\n",
    "    'Business':'Business',\n",
    "    'Brokerage and Trading':'Business',\n",
    "    'Education':'Education',\n",
    "    'Child Education':'Education',\n",
    "    'Arts and Culture':'Arts and Culture',\n",
    "    'Folklore':'Arts and Culture',\n",
    "    'Global Religion':'Arts and Culture',\n",
    "    'Alternative Beliefs':'Arts and Culture',\n",
    "    'Content Servers':'Content Servers',\n",
    "    'Dynamic Content':'Content Servers',\n",
    "    'Information Technology':'Information Technology',\n",
    "    'File Sharing and Storage':'File Sharing and Storage',\n",
    "    'Peer-to-peer File Sharing':'File Sharing and Storage',\n",
    "    'Entertainment':'Entertainment',\n",
    "    'Finance and Banking':'Finance and Banking',\n",
    "    'Gambling':'Finance and Banking',\n",
    "    'Freeware and Software Downloads':'Freeware and Software Downloads',\n",
    "    'Games':'Games',\n",
    "    'Health and Wellness':'Health and Wellness',\n",
    "    'Medicine':'Health and Wellness',\n",
    "    'News and Media':'News and Media',\n",
    "    'Search Engines and Portals':'Search Engines and Portals',\n",
    "    'Shopping':'Shopping',\n",
    "    'Auction':'Shopping',\n",
    "    'Weapons (Sales)':'Shopping',\n",
    "    'Lingerie and Swimsuit':'Shopping',\n",
    "    'Social Networking':'Social Networking',\n",
    "    'Dating':'Social Networking',\n",
    "    'Sports':'Sports',\n",
    "    'Sports Hunting and War Games':'Sports',\n",
    "    'Streaming Media and Download':'Streaming Media and Download',\n",
    "    'Travel':'Travel',\n",
    "    'Web Hosting':'Web Hosting',\n",
    "    'Pornography':'Adult',\n",
    "    'Other Adult Materials':'Adult',\n",
    "    'Explicit Violence':'Adult',\n",
    "    'Reference':'Reference',\n",
    "    'Advocacy Organizations':'Organizations',\n",
    "    'General Organizations':'Organizations',\n",
    "    'Government and Legal Organizations':'Organizations',\n",
    "    'Political Organizations':'Organizations',\n",
    "    'Armed Forces':'Organizations',\n",
    "    'Society and Lifestyles':'Society and Lifestyles',\n",
    "    'Meaningless Content':'Meaningless Content',\n",
    "    'Personal Websites and Blogs':'Personal Websites and Blogs',\n",
    "    'Illegal or Unethical':'Malicious or Illegal',\n",
    "    'Malicious Websites':'Malicious or Illegal',\n",
    "    'Hacking':'Malicious or Illegal',\n",
    "    'Spam URLs':'Malicious or Illegal',\n",
    "    'Phishing':'Malicious or Illegal',\n",
    "    'Proxy Avoidance':'Malicious or Illegal',\n",
    "    'Personal Vehicles':'Personal Vehicles',\n",
    "    'Web Chat':'Web communication',\n",
    "    'Instant Messaging':'Web communication',\n",
    "    'Internet Telephony':'Web communication',\n",
    "    'Web-based Email':'Web communication',\n",
    "    'Digital Postcards':'Web communication',\n",
    "    'Newsgroups and Message Boards':'Newsgroups and Message Boards',\n",
    "    'Information and Computer Security':'Security',\n",
    "    'Secure Websites':'Security',\n",
    "    'Web-based Applications':'Web-based Applications',\n",
    "    'Unrated':'Unrated',\n",
    "    'Restaurant and Dining':'Restaurant and Dining',\n",
    "    'Alcohol':'Restaurant and Dining',\n",
    "    'Real Estate':'Real Estate',\n",
    "    'Internet Radio and TV':'Internet Radio and TV',\n",
    "    'Domain Parking':'Domain Parking',\n",
    "    'Job Search': 'Job Search'       \n",
    "}\n"
   ]
  },
  {
   "cell_type": "code",
   "execution_count": 3,
   "metadata": {
    "collapsed": true
   },
   "outputs": [],
   "source": [
    "client = MongoClient()\n",
    "client = MongoClient('localhost', 27800)\n",
    "\n",
    "db = client.network_logs\n",
    "\n",
    "db_un_hostnames = db.unique_hostnames\n",
    "db_un_urls = db.unique_host_urls"
   ]
  },
  {
   "cell_type": "code",
   "execution_count": 4,
   "metadata": {
    "collapsed": true
   },
   "outputs": [],
   "source": [
    "def get_new_category(obj):\n",
    "    newCat = de_para[obj['catdesc']]\n",
    "    if newCat:\n",
    "        return newCat\n",
    "    return obj['catdesc']"
   ]
  },
  {
   "cell_type": "code",
   "execution_count": 5,
   "metadata": {
    "collapsed": false
   },
   "outputs": [],
   "source": [
    "hostnames = list(db_un_hostnames.find({}))\n",
    "\n",
    "for hostn in hostnames:\n",
    "    r_id = hostn['_id']\n",
    "    new_category = get_new_category(hostn)\n",
    "    db_un_hostnames.update_one({\n",
    "        '_id': ObjectId(r_id)\n",
    "        },\n",
    "            {\n",
    "          '$set': {\n",
    "            'category': new_category\n",
    "          }\n",
    "        }, \n",
    "        upsert=False)"
   ]
  },
  {
   "cell_type": "code",
   "execution_count": 6,
   "metadata": {
    "collapsed": false
   },
   "outputs": [
    {
     "name": "stdout",
     "output_type": "stream",
     "text": [
      "388133\n"
     ]
    }
   ],
   "source": [
    "urls = list(db_un_urls.find({}))\n",
    "\n",
    "for urls in urls:\n",
    "    r_id = urls['_id']\n",
    "    new_category = get_new_category(urls)\n",
    "    db_un_urls.update_one({\n",
    "        '_id': ObjectId(r_id)\n",
    "        },\n",
    "            {\n",
    "          '$set': {\n",
    "            'category': new_category\n",
    "          }\n",
    "        }, \n",
    "        upsert=False)"
   ]
  },
  {
   "cell_type": "code",
   "execution_count": null,
   "metadata": {
    "collapsed": true
   },
   "outputs": [],
   "source": []
  }
 ],
 "metadata": {
  "kernelspec": {
   "display_name": "Python 3",
   "language": "python",
   "name": "python3"
  },
  "language_info": {
   "codemirror_mode": {
    "name": "ipython",
    "version": 3
   },
   "file_extension": ".py",
   "mimetype": "text/x-python",
   "name": "python",
   "nbconvert_exporter": "python",
   "pygments_lexer": "ipython3",
   "version": "3.6.0"
  }
 },
 "nbformat": 4,
 "nbformat_minor": 2
}
